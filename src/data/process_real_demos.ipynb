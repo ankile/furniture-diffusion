{
 "cells": [
  {
   "cell_type": "code",
   "execution_count": 24,
   "metadata": {},
   "outputs": [],
   "source": [
    "import pickle\n",
    "from glob import glob\n",
    "import matplotlib.pyplot as plt\n",
    "from collections import Counter\n",
    "\n",
    "import numpy as np\n",
    "import zarr\n",
    "from tqdm import tqdm\n",
    "\n",
    "from pathlib import Path"
   ]
  },
  {
   "cell_type": "code",
   "execution_count": 11,
   "metadata": {},
   "outputs": [],
   "source": [
    "root = Path(\"~/code/furniture-diffusion/data/raw/lamp/\").expanduser()"
   ]
  },
  {
   "cell_type": "code",
   "execution_count": 13,
   "metadata": {},
   "outputs": [],
   "source": [
    "paths = list(root.rglob(\"*.pkl\"))"
   ]
  },
  {
   "cell_type": "code",
   "execution_count": 35,
   "metadata": {},
   "outputs": [
    {
     "data": {
      "text/plain": [
       "dict_keys(['furniture', 'observations', 'actions', 'rewards', 'skills'])"
      ]
     },
     "execution_count": 35,
     "metadata": {},
     "output_type": "execute_result"
    }
   ],
   "source": [
    "with open(paths[20], \"rb\") as f:\n",
    "    data = pickle.load(f)\n",
    "\n",
    "data.keys()"
   ]
  },
  {
   "cell_type": "code",
   "execution_count": 34,
   "metadata": {},
   "outputs": [
    {
     "data": {
      "text/plain": [
       "('lamp', 528, Counter({0: 526, 1: 2}), Counter({0: 521, 1: 7}))"
      ]
     },
     "execution_count": 34,
     "metadata": {},
     "output_type": "execute_result"
    }
   ],
   "source": [
    "data[\"furniture\"], len(data[\"actions\"]), Counter(data[\"rewards\"]), Counter(\n",
    "    data[\"skills\"]\n",
    ")"
   ]
  },
  {
   "cell_type": "code",
   "execution_count": 36,
   "metadata": {},
   "outputs": [
    {
     "data": {
      "text/plain": [
       "dict_keys(['color_image1', 'color_image2', 'robot_state'])"
      ]
     },
     "execution_count": 36,
     "metadata": {},
     "output_type": "execute_result"
    }
   ],
   "source": [
    "data[\"observations\"][0].keys()"
   ]
  },
  {
   "cell_type": "code",
   "execution_count": null,
   "metadata": {},
   "outputs": [],
   "source": [
    "def get_concatenated_observation(obs, obs_type):\n",
    "    robot_state = obs[\"robot_state\"]\n",
    "\n",
    "    if obs_type == \"state\":\n",
    "        parts_poses = obs[\"parts_poses\"]\n",
    "\n",
    "        # Add the observation to the overall list.\n",
    "        observation = np.concatenate((robot_state, parts_poses))\n",
    "    elif obs_type == \"feature\":\n",
    "        img1 = obs[\"image1\"]\n",
    "        img2 = obs[\"image2\"]\n",
    "\n",
    "        # Add the observation to the overall list.\n",
    "        observation = np.concatenate((robot_state, img1, img2))\n",
    "\n",
    "    else:\n",
    "        raise ValueError(f\"Invalid observation type: {obs_type}\")\n",
    "\n",
    "    return observation\n",
    "\n",
    "\n",
    "def process_demos(input_path, output_path):\n",
    "    file_paths = glob(f\"{input_path}/**/*.pkl\", recursive=True)\n",
    "    n_state_action_pairs = len(file_paths)\n",
    "\n",
    "    print(f\"Number of state-action pairs: {n_state_action_pairs}\")\n",
    "\n",
    "    obs_type = (\n",
    "        \"state\"\n",
    "        if \"state\" in input_path\n",
    "        else \"feature\"\n",
    "        if \"feature\" in input_path\n",
    "        else \"image\"\n",
    "    )\n",
    "\n",
    "    observations = []\n",
    "    actions = []\n",
    "    episode_ends = []\n",
    "\n",
    "    end_index = 0\n",
    "    for path in tqdm(file_paths):\n",
    "        with open(path, \"rb\") as f:\n",
    "            data = pickle.load(f)\n",
    "\n",
    "        for obs, action in zip(data[\"observations\"], data[\"actions\"]):\n",
    "            # Each observation is just a concatenation of the robot state and the object state.\n",
    "            # Collect the robot state.\n",
    "            observation = get_concatenated_observation(obs, obs_type)\n",
    "            observations.append(observation)\n",
    "\n",
    "            # Add the action to the overall list.\n",
    "            actions.append(action)\n",
    "\n",
    "            # Increment the end index.\n",
    "            end_index += 1\n",
    "\n",
    "        # Add the end index to the overall list.\n",
    "        episode_ends.append(end_index)\n",
    "\n",
    "    # Convert the lists to numpy arrays.\n",
    "    observations = np.array(observations)\n",
    "    actions = np.array(actions)\n",
    "    episode_ends = np.array(episode_ends)\n",
    "\n",
    "    # Save the data to a zarr file.\n",
    "    zarr.save(\n",
    "        f\"{output_path}/data.zarr\",\n",
    "        observations=observations,\n",
    "        actions=actions,\n",
    "        episode_ends=episode_ends,\n",
    "    )"
   ]
  }
 ],
 "metadata": {
  "kernelspec": {
   "display_name": "venv",
   "language": "python",
   "name": "python3"
  },
  "language_info": {
   "codemirror_mode": {
    "name": "ipython",
    "version": 3
   },
   "file_extension": ".py",
   "mimetype": "text/x-python",
   "name": "python",
   "nbconvert_exporter": "python",
   "pygments_lexer": "ipython3",
   "version": "3.12.0b3"
  },
  "orig_nbformat": 4
 },
 "nbformat": 4,
 "nbformat_minor": 2
}
