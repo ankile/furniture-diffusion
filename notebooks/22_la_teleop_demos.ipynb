{
 "cells": [
  {
   "cell_type": "code",
   "execution_count": 1,
   "metadata": {},
   "outputs": [],
   "source": [
    "%load_ext autoreload\n",
    "%autoreload 2"
   ]
  },
  {
   "cell_type": "code",
   "execution_count": 11,
   "metadata": {},
   "outputs": [],
   "source": [
    "import furniture_bench\n",
    "\n",
    "import os\n",
    "import pickle\n",
    "import numpy as np\n",
    "from pathlib import Path\n",
    "\n",
    "from src.visualization.render_mp4 import (\n",
    "    data_to_video,\n",
    "    unpickle_data,\n",
    "    create_mp4_jupyter,\n",
    "    mp4_from_pickle_jupyter,\n",
    ")\n",
    "from src.gym import get_env\n",
    "\n",
    "from tqdm import tqdm"
   ]
  },
  {
   "cell_type": "code",
   "execution_count": 3,
   "metadata": {},
   "outputs": [],
   "source": [
    "os.environ[\"DATA_DIR_RAW\"] = \"/data/scratch-oc40/pulkitag/ankile/furniture-data/\""
   ]
  },
  {
   "cell_type": "code",
   "execution_count": 4,
   "metadata": {},
   "outputs": [],
   "source": [
    "teleopdir = Path(os.environ[\"DATA_DIR_RAW\"]) / \"raw\" / \"sim\" / \"teleop\""
   ]
  },
  {
   "cell_type": "code",
   "execution_count": 5,
   "metadata": {},
   "outputs": [
    {
     "data": {
      "text/plain": [
       "60"
      ]
     },
     "execution_count": 5,
     "metadata": {},
     "output_type": "execute_result"
    }
   ],
   "source": [
    "pickles = list(teleopdir.rglob(\"*success.pkl\"))\n",
    "\n",
    "len(pickles)"
   ]
  },
  {
   "cell_type": "code",
   "execution_count": 5,
   "metadata": {},
   "outputs": [],
   "source": [
    "tmp_rollout_dir = Path(\".\") / \"tmp_rollout_dir\"\n",
    "tmp_rollout_dir.mkdir(exist_ok=True)"
   ]
  },
  {
   "cell_type": "code",
   "execution_count": 13,
   "metadata": {},
   "outputs": [
    {
     "name": "stdout",
     "output_type": "stream",
     "text": [
      "File saved as tmp_rollout_dir/video0.mp4\n"
     ]
    },
    {
     "data": {
      "text/html": [
       "<video controls src=\"tmp_rollout_dir/video0.mp4\" width=\"640\" height=\"480\"></video>"
      ],
      "text/plain": [
       "<IPython.core.display.HTML object>"
      ]
     },
     "metadata": {},
     "output_type": "display_data"
    },
    {
     "name": "stdout",
     "output_type": "stream",
     "text": [
      "File saved as tmp_rollout_dir/video1.mp4\n"
     ]
    },
    {
     "data": {
      "text/html": [
       "<video controls src=\"tmp_rollout_dir/video1.mp4\" width=\"640\" height=\"480\"></video>"
      ],
      "text/plain": [
       "<IPython.core.display.HTML object>"
      ]
     },
     "metadata": {},
     "output_type": "display_data"
    },
    {
     "name": "stdout",
     "output_type": "stream",
     "text": [
      "File saved as tmp_rollout_dir/video2.mp4\n"
     ]
    },
    {
     "data": {
      "text/html": [
       "<video controls src=\"tmp_rollout_dir/video2.mp4\" width=\"640\" height=\"480\"></video>"
      ],
      "text/plain": [
       "<IPython.core.display.HTML object>"
      ]
     },
     "metadata": {},
     "output_type": "display_data"
    },
    {
     "name": "stdout",
     "output_type": "stream",
     "text": [
      "File saved as tmp_rollout_dir/video3.mp4\n"
     ]
    },
    {
     "data": {
      "text/html": [
       "<video controls src=\"tmp_rollout_dir/video3.mp4\" width=\"640\" height=\"480\"></video>"
      ],
      "text/plain": [
       "<IPython.core.display.HTML object>"
      ]
     },
     "metadata": {},
     "output_type": "display_data"
    },
    {
     "name": "stdout",
     "output_type": "stream",
     "text": [
      "File saved as tmp_rollout_dir/video4.mp4\n"
     ]
    },
    {
     "data": {
      "text/html": [
       "<video controls src=\"tmp_rollout_dir/video4.mp4\" width=\"640\" height=\"480\"></video>"
      ],
      "text/plain": [
       "<IPython.core.display.HTML object>"
      ]
     },
     "metadata": {},
     "output_type": "display_data"
    },
    {
     "name": "stdout",
     "output_type": "stream",
     "text": [
      "File saved as tmp_rollout_dir/video5.mp4\n"
     ]
    },
    {
     "data": {
      "text/html": [
       "<video controls src=\"tmp_rollout_dir/video5.mp4\" width=\"640\" height=\"480\"></video>"
      ],
      "text/plain": [
       "<IPython.core.display.HTML object>"
      ]
     },
     "metadata": {},
     "output_type": "display_data"
    },
    {
     "name": "stdout",
     "output_type": "stream",
     "text": [
      "File saved as tmp_rollout_dir/video6.mp4\n"
     ]
    },
    {
     "data": {
      "text/html": [
       "<video controls src=\"tmp_rollout_dir/video6.mp4\" width=\"640\" height=\"480\"></video>"
      ],
      "text/plain": [
       "<IPython.core.display.HTML object>"
      ]
     },
     "metadata": {},
     "output_type": "display_data"
    },
    {
     "name": "stdout",
     "output_type": "stream",
     "text": [
      "File saved as tmp_rollout_dir/video7.mp4\n"
     ]
    },
    {
     "data": {
      "text/html": [
       "<video controls src=\"tmp_rollout_dir/video7.mp4\" width=\"640\" height=\"480\"></video>"
      ],
      "text/plain": [
       "<IPython.core.display.HTML object>"
      ]
     },
     "metadata": {},
     "output_type": "display_data"
    },
    {
     "name": "stdout",
     "output_type": "stream",
     "text": [
      "File saved as tmp_rollout_dir/video8.mp4\n"
     ]
    },
    {
     "data": {
      "text/html": [
       "<video controls src=\"tmp_rollout_dir/video8.mp4\" width=\"640\" height=\"480\"></video>"
      ],
      "text/plain": [
       "<IPython.core.display.HTML object>"
      ]
     },
     "metadata": {},
     "output_type": "display_data"
    },
    {
     "name": "stdout",
     "output_type": "stream",
     "text": [
      "File saved as tmp_rollout_dir/video9.mp4\n"
     ]
    },
    {
     "data": {
      "text/html": [
       "<video controls src=\"tmp_rollout_dir/video9.mp4\" width=\"640\" height=\"480\"></video>"
      ],
      "text/plain": [
       "<IPython.core.display.HTML object>"
      ]
     },
     "metadata": {},
     "output_type": "display_data"
    },
    {
     "name": "stdout",
     "output_type": "stream",
     "text": [
      "File saved as tmp_rollout_dir/video10.mp4\n"
     ]
    },
    {
     "data": {
      "text/html": [
       "<video controls src=\"tmp_rollout_dir/video10.mp4\" width=\"640\" height=\"480\"></video>"
      ],
      "text/plain": [
       "<IPython.core.display.HTML object>"
      ]
     },
     "metadata": {},
     "output_type": "display_data"
    },
    {
     "ename": "KeyboardInterrupt",
     "evalue": "",
     "output_type": "error",
     "traceback": [
      "\u001b[0;31m---------------------------------------------------------------------------\u001b[0m",
      "\u001b[0;31mKeyboardInterrupt\u001b[0m                         Traceback (most recent call last)",
      "Cell \u001b[0;32mIn[13], line 8\u001b[0m\n\u001b[1;32m      6\u001b[0m     \u001b[38;5;28;01mcontinue\u001b[39;00m\n\u001b[1;32m      7\u001b[0m ims \u001b[38;5;241m=\u001b[39m data_to_video(data)\n\u001b[0;32m----> 8\u001b[0m video_tag \u001b[38;5;241m=\u001b[39m \u001b[43mcreate_mp4_jupyter\u001b[49m\u001b[43m(\u001b[49m\u001b[43mims\u001b[49m\u001b[43m,\u001b[49m\u001b[43m \u001b[49m\u001b[43mtmp_rollout_dir\u001b[49m\u001b[43m \u001b[49m\u001b[38;5;241;43m/\u001b[39;49m\u001b[43m \u001b[49m\u001b[38;5;124;43mf\u001b[39;49m\u001b[38;5;124;43m\"\u001b[39;49m\u001b[38;5;124;43mvideo\u001b[39;49m\u001b[38;5;132;43;01m{\u001b[39;49;00m\u001b[43mi\u001b[49m\u001b[38;5;132;43;01m}\u001b[39;49;00m\u001b[38;5;124;43m.mp4\u001b[39;49m\u001b[38;5;124;43m\"\u001b[39;49m\u001b[43m)\u001b[49m\n\u001b[1;32m      9\u001b[0m display(video_tag)\n\u001b[1;32m     10\u001b[0m total \u001b[38;5;241m+\u001b[39m\u001b[38;5;241m=\u001b[39m \u001b[38;5;241m1\u001b[39m\n",
      "File \u001b[0;32m/data/scratch/ankile/furniture-diffusion/src/visualization/render_mp4.py:22\u001b[0m, in \u001b[0;36mcreate_mp4_jupyter\u001b[0;34m(np_images, filename, fps)\u001b[0m\n\u001b[1;32m     20\u001b[0m \u001b[38;5;28;01mwith\u001b[39;00m imageio\u001b[38;5;241m.\u001b[39mget_writer(filename, fps\u001b[38;5;241m=\u001b[39mfps) \u001b[38;5;28;01mas\u001b[39;00m writer:\n\u001b[1;32m     21\u001b[0m     \u001b[38;5;28;01mfor\u001b[39;00m img \u001b[38;5;129;01min\u001b[39;00m np_images:\n\u001b[0;32m---> 22\u001b[0m         \u001b[43mwriter\u001b[49m\u001b[38;5;241;43m.\u001b[39;49m\u001b[43mappend_data\u001b[49m\u001b[43m(\u001b[49m\u001b[43mimg\u001b[49m\u001b[43m)\u001b[49m\n\u001b[1;32m     23\u001b[0m \u001b[38;5;28mprint\u001b[39m(\u001b[38;5;124mf\u001b[39m\u001b[38;5;124m\"\u001b[39m\u001b[38;5;124mFile saved as \u001b[39m\u001b[38;5;132;01m{\u001b[39;00mfilename\u001b[38;5;132;01m}\u001b[39;00m\u001b[38;5;124m\"\u001b[39m)\n\u001b[1;32m     24\u001b[0m \u001b[38;5;66;03m# Display the video in the Jupyter Notebook\u001b[39;00m\n",
      "File \u001b[0;32m/data/scratch/ankile/miniconda3/envs/rlgpu/lib/python3.8/site-packages/imageio/core/format.py:590\u001b[0m, in \u001b[0;36mFormat.Writer.append_data\u001b[0;34m(self, im, meta)\u001b[0m\n\u001b[1;32m    588\u001b[0m im \u001b[38;5;241m=\u001b[39m asarray(im)\n\u001b[1;32m    589\u001b[0m \u001b[38;5;66;03m# Call\u001b[39;00m\n\u001b[0;32m--> 590\u001b[0m \u001b[38;5;28;01mreturn\u001b[39;00m \u001b[38;5;28;43mself\u001b[39;49m\u001b[38;5;241;43m.\u001b[39;49m\u001b[43m_append_data\u001b[49m\u001b[43m(\u001b[49m\u001b[43mim\u001b[49m\u001b[43m,\u001b[49m\u001b[43m \u001b[49m\u001b[43mtotal_meta\u001b[49m\u001b[43m)\u001b[49m\n",
      "File \u001b[0;32m/data/scratch/ankile/miniconda3/envs/rlgpu/lib/python3.8/site-packages/imageio/plugins/ffmpeg.py:600\u001b[0m, in \u001b[0;36mFfmpegFormat.Writer._append_data\u001b[0;34m(self, im, meta)\u001b[0m\n\u001b[1;32m    597\u001b[0m \u001b[38;5;28;01massert\u001b[39;00m \u001b[38;5;28mself\u001b[39m\u001b[38;5;241m.\u001b[39m_write_gen \u001b[38;5;129;01mis\u001b[39;00m \u001b[38;5;129;01mnot\u001b[39;00m \u001b[38;5;28;01mNone\u001b[39;00m  \u001b[38;5;66;03m# Check status\u001b[39;00m\n\u001b[1;32m    599\u001b[0m \u001b[38;5;66;03m# Write. Yes, we can send the data in as a numpy array\u001b[39;00m\n\u001b[0;32m--> 600\u001b[0m \u001b[38;5;28;43mself\u001b[39;49m\u001b[38;5;241;43m.\u001b[39;49m\u001b[43m_write_gen\u001b[49m\u001b[38;5;241;43m.\u001b[39;49m\u001b[43msend\u001b[49m\u001b[43m(\u001b[49m\u001b[43mim\u001b[49m\u001b[43m)\u001b[49m\n",
      "File \u001b[0;32m/data/scratch/ankile/miniconda3/envs/rlgpu/lib/python3.8/site-packages/imageio_ffmpeg/_io.py:627\u001b[0m, in \u001b[0;36mwrite_frames\u001b[0;34m(path, size, pix_fmt_in, pix_fmt_out, fps, quality, bitrate, codec, macro_block_size, ffmpeg_log_level, ffmpeg_timeout, input_params, output_params, audio_path, audio_codec)\u001b[0m\n\u001b[1;32m    619\u001b[0m \u001b[38;5;66;03m# framesize = size[0] * size[1] * depth * bpp\u001b[39;00m\n\u001b[1;32m    620\u001b[0m \u001b[38;5;66;03m# assert isinstance(bb, bytes), \"Frame must be send as bytes\"\u001b[39;00m\n\u001b[1;32m    621\u001b[0m \u001b[38;5;66;03m# assert len(bb) == framesize, \"Frame must have width*height*depth*bpp bytes\"\u001b[39;00m\n\u001b[0;32m   (...)\u001b[0m\n\u001b[1;32m    624\u001b[0m \n\u001b[1;32m    625\u001b[0m \u001b[38;5;66;03m# Write\u001b[39;00m\n\u001b[1;32m    626\u001b[0m \u001b[38;5;28;01mtry\u001b[39;00m:\n\u001b[0;32m--> 627\u001b[0m     \u001b[43mp\u001b[49m\u001b[38;5;241;43m.\u001b[39;49m\u001b[43mstdin\u001b[49m\u001b[38;5;241;43m.\u001b[39;49m\u001b[43mwrite\u001b[49m\u001b[43m(\u001b[49m\u001b[43mbb\u001b[49m\u001b[43m)\u001b[49m\n\u001b[1;32m    628\u001b[0m \u001b[38;5;28;01mexcept\u001b[39;00m \u001b[38;5;167;01mException\u001b[39;00m \u001b[38;5;28;01mas\u001b[39;00m err:\n\u001b[1;32m    629\u001b[0m     \u001b[38;5;66;03m# Show the command and stderr from pipe\u001b[39;00m\n\u001b[1;32m    630\u001b[0m     msg \u001b[38;5;241m=\u001b[39m (\n\u001b[1;32m    631\u001b[0m         \u001b[38;5;124m\"\u001b[39m\u001b[38;5;132;01m{0:}\u001b[39;00m\u001b[38;5;130;01m\\n\u001b[39;00m\u001b[38;5;130;01m\\n\u001b[39;00m\u001b[38;5;124mFFMPEG COMMAND:\u001b[39m\u001b[38;5;130;01m\\n\u001b[39;00m\u001b[38;5;132;01m{1:}\u001b[39;00m\u001b[38;5;130;01m\\n\u001b[39;00m\u001b[38;5;130;01m\\n\u001b[39;00m\u001b[38;5;124mFFMPEG STDERR \u001b[39m\u001b[38;5;124m\"\u001b[39m\n\u001b[1;32m    632\u001b[0m         \u001b[38;5;124m\"\u001b[39m\u001b[38;5;124mOUTPUT:\u001b[39m\u001b[38;5;130;01m\\n\u001b[39;00m\u001b[38;5;124m\"\u001b[39m\u001b[38;5;241m.\u001b[39mformat(err, cmd_str)\n\u001b[1;32m    633\u001b[0m     )\n",
      "\u001b[0;31mKeyboardInterrupt\u001b[0m: "
     ]
    }
   ],
   "source": [
    "total = 0\n",
    "\n",
    "for i, p in enumerate(pickles):\n",
    "    data = unpickle_data(p)\n",
    "    if not data[\"success\"]:\n",
    "        continue\n",
    "    ims = data_to_video(data)\n",
    "    video_tag = create_mp4_jupyter(ims, tmp_rollout_dir / f\"video{i}.mp4\")\n",
    "    display(video_tag)\n",
    "    total += 1\n",
    "\n",
    "print(f\"Total successes: {total}\")"
   ]
  },
  {
   "cell_type": "markdown",
   "metadata": {},
   "source": [
    "## Play back teleop demos in the sim"
   ]
  },
  {
   "cell_type": "markdown",
   "metadata": {},
   "source": [
    "### Teleop demo"
   ]
  },
  {
   "cell_type": "code",
   "execution_count": 12,
   "metadata": {},
   "outputs": [
    {
     "data": {
      "text/plain": [
       "dict_keys(['color_image1', 'color_image2', 'robot_state', 'parts_poses'])"
      ]
     },
     "execution_count": 12,
     "metadata": {},
     "output_type": "execute_result"
    }
   ],
   "source": [
    "data = unpickle_data(\n",
    "    \"/data/scratch/ankile/furniture-diffusion/data/raw/sim/one_leg/low/2024-01-18-14:40:50/2024-01-18-14:40:50.pkl\"\n",
    ")\n",
    "data = unpickle_data(\n",
    "    \"/data/scratch-oc40/pulkitag/ankile/furniture-data/raw/sim/scripted/one_leg/low/2024-01-12-16:21:52/2024-01-12-16:21:52_success.pkl\"\n",
    ")\n",
    "\n",
    "lamp = unpickle_data(\n",
    "    \"/data/scratch-oc40/pulkitag/ankile/furniture-data/raw/sim/lamp/low/2024-01-18-15:00:10/2024-01-18-15:00:10.pkl\"\n",
    ")\n",
    "\n",
    "data[\"observations\"][0].keys()"
   ]
  },
  {
   "cell_type": "code",
   "execution_count": 6,
   "metadata": {},
   "outputs": [
    {
     "name": "stdout",
     "output_type": "stream",
     "text": [
      "PyTorch version 2.0.1+cu117\n",
      "Device count 2\n",
      "/data/scratch/ankile/isaacgym/python/isaacgym/_bindings/src/gymtorch\n"
     ]
    },
    {
     "name": "stderr",
     "output_type": "stream",
     "text": [
      "Using /data/scratch/ankile/.cache as PyTorch extensions root...\n",
      "Emitting ninja build file /data/scratch/ankile/.cache/gymtorch/build.ninja...\n",
      "Building extension module gymtorch...\n",
      "Allowing ninja to set a default number of workers... (overridable by setting the environment variable MAX_JOBS=N)\n",
      "Loading extension module gymtorch...\n"
     ]
    }
   ],
   "source": [
    "env = get_env(\n",
    "    gpu_id=0,\n",
    "    # obs_type=\"image\",\n",
    "    furniture=\"lamp\",\n",
    "    num_envs=1,\n",
    "    randomness=\"low\",\n",
    "    resize_img=True,\n",
    "    act_rot_repr=\"quat\",\n",
    "    ctrl_mode=\"diffik\",\n",
    "    verbose=False,\n",
    ")"
   ]
  },
  {
   "cell_type": "code",
   "execution_count": 9,
   "metadata": {},
   "outputs": [],
   "source": [
    "def play_back_trajectory(actions, env, filename):\n",
    "    imgs1, imgs2 = [], []\n",
    "\n",
    "    obs = env.reset()\n",
    "    imgs1.append(obs[\"color_image1\"])\n",
    "    imgs2.append(obs[\"color_image2\"])\n",
    "\n",
    "    for action in tqdm(actions):\n",
    "        obs, _, _, _ = env.step(action)\n",
    "        imgs1.append(obs[\"color_image1\"])\n",
    "        imgs2.append(obs[\"color_image2\"])\n",
    "\n",
    "    imgs1 = np.array([img.cpu().numpy() for img in imgs1])\n",
    "    imgs2 = np.array([img.cpu().numpy() for img in imgs2])\n",
    "\n",
    "    imgs1 = imgs1.reshape(-1, 224, 224, 3)\n",
    "    imgs2 = imgs2.reshape(-1, 224, 224, 3)\n",
    "\n",
    "    imgs1.shape, imgs2.shape\n",
    "    images = np.concatenate([imgs1, imgs2], axis=2)\n",
    "\n",
    "    video_tag = create_mp4_jupyter(images, tmp_rollout_dir / filename)\n",
    "    display(video_tag)"
   ]
  },
  {
   "cell_type": "code",
   "execution_count": 13,
   "metadata": {},
   "outputs": [
    {
     "name": "stderr",
     "output_type": "stream",
     "text": [
      "INFO: Found collision-free init pose\n",
      " 92%|█████████▏| 645/701 [00:45<00:06,  8.93it/s]"
     ]
    }
   ],
   "source": [
    "play_back_trajectory(lamp[\"actions\"], env, \"scripted_demo_lamp_1.mp4\")"
   ]
  },
  {
   "cell_type": "code",
   "execution_count": 21,
   "metadata": {},
   "outputs": [
    {
     "ename": "FileNotFoundError",
     "evalue": "[Errno 2] No such file or directory: '/data/scratch/ankile/furniture-diffusion/data/raw/sim/one_leg/low/2024-01-18-14:40:50/2024-01-18-14:40:50.pkl'",
     "output_type": "error",
     "traceback": [
      "\u001b[0;31m---------------------------------------------------------------------------\u001b[0m",
      "\u001b[0;31mFileNotFoundError\u001b[0m                         Traceback (most recent call last)",
      "Cell \u001b[0;32mIn[21], line 1\u001b[0m\n\u001b[0;32m----> 1\u001b[0m data1 \u001b[38;5;241m=\u001b[39m \u001b[43munpickle_data\u001b[49m\u001b[43m(\u001b[49m\n\u001b[1;32m      2\u001b[0m \u001b[43m    \u001b[49m\u001b[38;5;124;43m\"\u001b[39;49m\u001b[38;5;124;43m/data/scratch/ankile/furniture-diffusion/data/raw/sim/one_leg/low/2024-01-18-14:40:50/2024-01-18-14:40:50.pkl\u001b[39;49m\u001b[38;5;124;43m\"\u001b[39;49m\n\u001b[1;32m      3\u001b[0m \u001b[43m)\u001b[49m\n\u001b[1;32m      5\u001b[0m ims1 \u001b[38;5;241m=\u001b[39m data_to_video(lamp)\n\u001b[1;32m      7\u001b[0m video_tag \u001b[38;5;241m=\u001b[39m create_mp4_jupyter(ims1, tmp_rollout_dir \u001b[38;5;241m/\u001b[39m \u001b[38;5;124m\"\u001b[39m\u001b[38;5;124mtest_lamp.mp4\u001b[39m\u001b[38;5;124m\"\u001b[39m)\n",
      "File \u001b[0;32m/data/scratch/ankile/furniture-diffusion/src/visualization/render_mp4.py:63\u001b[0m, in \u001b[0;36munpickle_data\u001b[0;34m(pickle_path)\u001b[0m\n\u001b[1;32m     62\u001b[0m \u001b[38;5;28;01mdef\u001b[39;00m \u001b[38;5;21munpickle_data\u001b[39m(pickle_path):\n\u001b[0;32m---> 63\u001b[0m     \u001b[38;5;28;01mwith\u001b[39;00m \u001b[38;5;28;43mopen\u001b[39;49m\u001b[43m(\u001b[49m\u001b[43mpickle_path\u001b[49m\u001b[43m,\u001b[49m\u001b[43m \u001b[49m\u001b[38;5;124;43m\"\u001b[39;49m\u001b[38;5;124;43mrb\u001b[39;49m\u001b[38;5;124;43m\"\u001b[39;49m\u001b[43m)\u001b[49m \u001b[38;5;28;01mas\u001b[39;00m f:\n\u001b[1;32m     64\u001b[0m         data \u001b[38;5;241m=\u001b[39m pickle\u001b[38;5;241m.\u001b[39mload(f)\n\u001b[1;32m     65\u001b[0m     \u001b[38;5;28;01mreturn\u001b[39;00m data\n",
      "\u001b[0;31mFileNotFoundError\u001b[0m: [Errno 2] No such file or directory: '/data/scratch/ankile/furniture-diffusion/data/raw/sim/one_leg/low/2024-01-18-14:40:50/2024-01-18-14:40:50.pkl'"
     ]
    }
   ],
   "source": [
    "data1 = unpickle_data(\n",
    "    \"/data/scratch/ankile/furniture-diffusion/data/raw/sim/one_leg/low/2024-01-18-14:40:50/2024-01-18-14:40:50.pkl\"\n",
    ")\n",
    "\n",
    "ims1 = data_to_video(lamp)\n",
    "\n",
    "video_tag = create_mp4_jupyter(ims1, tmp_rollout_dir / \"test_lamp.mp4\")\n",
    "display(video_tag)"
   ]
  },
  {
   "cell_type": "markdown",
   "metadata": {},
   "source": [
    "### Scripted demo"
   ]
  },
  {
   "cell_type": "code",
   "execution_count": 9,
   "metadata": {},
   "outputs": [],
   "source": [
    "import zarr\n",
    "\n",
    "z = zarr.open(\n",
    "    \"/data/scratch/ankile/furniture-data/processed/sim/image/lamp/data_batch_32.zarr\"\n",
    ")"
   ]
  },
  {
   "cell_type": "code",
   "execution_count": 22,
   "metadata": {},
   "outputs": [
    {
     "name": "stdout",
     "output_type": "stream",
     "text": [
      "The history saving thread hit an unexpected error (DatabaseError('database disk image is malformed')).History will not be written to the database.\n"
     ]
    },
    {
     "data": {
      "text/plain": [
       "(643, 8)"
      ]
     },
     "execution_count": 22,
     "metadata": {},
     "output_type": "execute_result"
    }
   ],
   "source": [
    "ep_num = 3\n",
    "\n",
    "start_idx = z[\"episode_ends\"][ep_num - 1]\n",
    "end_idx = z[\"episode_ends\"][ep_num]\n",
    "\n",
    "actions = z[\"action\"][start_idx:end_idx]\n",
    "\n",
    "actions.shape"
   ]
  },
  {
   "cell_type": "code",
   "execution_count": 23,
   "metadata": {},
   "outputs": [
    {
     "name": "stderr",
     "output_type": "stream",
     "text": [
      "INFO: Found collision-free init pose\n",
      "100%|██████████| 643/643 [00:55<00:00, 11.54it/s]\n"
     ]
    },
    {
     "name": "stdout",
     "output_type": "stream",
     "text": [
      "File saved as tmp_rollout_dir/scripted_demo_1.mp4\n"
     ]
    },
    {
     "data": {
      "text/html": [
       "<video controls src=\"tmp_rollout_dir/scripted_demo_1.mp4\" width=\"640\" height=\"480\"></video>"
      ],
      "text/plain": [
       "<IPython.core.display.HTML object>"
      ]
     },
     "metadata": {},
     "output_type": "display_data"
    }
   ],
   "source": [
    "play_back_trajectory(actions, env, \"scripted_demo_1.mp4\")"
   ]
  },
  {
   "cell_type": "code",
   "execution_count": 2,
   "metadata": {},
   "outputs": [],
   "source": [
    "import numpy as np\n",
    "from tqdm import tqdm\n",
    "import zarr\n",
    "import random"
   ]
  },
  {
   "cell_type": "code",
   "execution_count": 3,
   "metadata": {},
   "outputs": [],
   "source": [
    "chunk_size = (1_000, 224, 224, 3)  # Adjust based on your needs"
   ]
  },
  {
   "cell_type": "code",
   "execution_count": 4,
   "metadata": {},
   "outputs": [
    {
     "data": {
      "text/plain": [
       "((248613, 224, 224, 3), (248613, 224, 224, 3))"
      ]
     },
     "execution_count": 4,
     "metadata": {},
     "output_type": "execute_result"
    }
   ],
   "source": [
    "tmp = zarr.open(\n",
    "    \"/data/scratch/ankile/furniture-data/processed/sim/image/one_leg/data_batch_32.zarr\",\n",
    "    mode=\"r\",\n",
    ")\n",
    "\n",
    "tmp[\"color_image1\"].shape, tmp[\"color_image2\"].shape"
   ]
  },
  {
   "cell_type": "code",
   "execution_count": 5,
   "metadata": {},
   "outputs": [
    {
     "name": "stderr",
     "output_type": "stream",
     "text": [
      "100%|██████████| 243/243 [00:40<00:00,  6.01it/s]\n"
     ]
    }
   ],
   "source": [
    "np_img1 = np.zeros(tmp[\"color_image1\"].shape, dtype=np.uint8)\n",
    "\n",
    "for i in tqdm(range(0, tmp[\"color_image1\"].shape[0], 1024)):\n",
    "    np_img1[i : i + 1024] = tmp[\"color_image1\"][i : i + 1024]"
   ]
  },
  {
   "cell_type": "code",
   "execution_count": 6,
   "metadata": {},
   "outputs": [
    {
     "name": "stderr",
     "output_type": "stream",
     "text": [
      "100%|██████████| 243/243 [02:15<00:00,  1.79it/s]\n"
     ]
    }
   ],
   "source": [
    "np_img2 = np.zeros(tmp[\"color_image2\"].shape, dtype=np.uint8)\n",
    "\n",
    "for i in tqdm(range(0, tmp[\"color_image2\"].shape[0], 1024)):\n",
    "    np_img2[i : i + 1024] = tmp[\"color_image2\"][i : i + 1024]"
   ]
  },
  {
   "cell_type": "code",
   "execution_count": 7,
   "metadata": {},
   "outputs": [
    {
     "data": {
      "text/plain": [
       "((248613, 224, 224, 3), (248613, 224, 224, 3))"
      ]
     },
     "execution_count": 7,
     "metadata": {},
     "output_type": "execute_result"
    }
   ],
   "source": [
    "np_img1.shape, np_img2.shape"
   ]
  },
  {
   "cell_type": "code",
   "execution_count": 5,
   "metadata": {},
   "outputs": [
    {
     "data": {
      "text/plain": [
       "((369535, 224, 224, 3), (369535, 224, 224, 3))"
      ]
     },
     "execution_count": 5,
     "metadata": {},
     "output_type": "execute_result"
    }
   ],
   "source": [
    "np_img1.shape, np_img2.shape"
   ]
  },
  {
   "cell_type": "code",
   "execution_count": 7,
   "metadata": {},
   "outputs": [],
   "source": [
    "# Create a directory store\n",
    "store = zarr.DirectoryStore(\"stores/directory_store.zarr\")\n",
    "\n",
    "# Define chunk size\n",
    "chunk_size = (1_000, 224, 224, 3)  # Adjust based on your needs\n",
    "\n",
    "# Create Zarr arrays\n",
    "color_image1 = zarr.create(\n",
    "    shape=np_img1.shape,\n",
    "    chunks=chunk_size,\n",
    "    dtype=np_img1.dtype,\n",
    "    store=store,\n",
    "    path=\"color_image1\",\n",
    "    overwrite=True,\n",
    ")\n",
    "color_image2 = zarr.create(\n",
    "    shape=np_img2.shape,\n",
    "    chunks=chunk_size,\n",
    "    dtype=np_img2.dtype,\n",
    "    store=store,\n",
    "    path=\"color_image2\",\n",
    "    overwrite=True,\n",
    ")\n",
    "\n",
    "# Populate the arrays\n",
    "color_image1[:] = np_img1\n",
    "color_image2[:] = np_img2"
   ]
  },
  {
   "cell_type": "code",
   "execution_count": 2,
   "metadata": {},
   "outputs": [],
   "source": [
    "# Create a directory store\n",
    "store = zarr.DirectoryStore(\"stores/directory_store.zarr\")\n",
    "\n",
    "# Now wrap the store with LRU cache\n",
    "cached_store = zarr.LRUStoreCache(store, max_size=None)\n",
    "\n",
    "# Access the arrays using the cached store for later operations\n",
    "color_image1 = zarr.open_array(cached_store, path=\"color_image1\", mode=\"r\")\n",
    "color_image2 = zarr.open_array(cached_store, path=\"color_image2\", mode=\"r\")"
   ]
  },
  {
   "cell_type": "code",
   "execution_count": 3,
   "metadata": {},
   "outputs": [
    {
     "data": {
      "text/plain": [
       "<zarr.core.Array '/color_image1' (369535, 224, 224, 3) uint8 read-only>"
      ]
     },
     "execution_count": 3,
     "metadata": {},
     "output_type": "execute_result"
    }
   ],
   "source": [
    "color_image1"
   ]
  },
  {
   "cell_type": "code",
   "execution_count": 5,
   "metadata": {},
   "outputs": [
    {
     "name": "stderr",
     "output_type": "stream",
     "text": [
      "100%|██████████| 1000/1000 [00:47<00:00, 21.10it/s]\n"
     ]
    }
   ],
   "source": [
    "for i in tqdm(range(1_000)):\n",
    "    # Get just random chunks of 16 images\n",
    "    random_idx = random.randint(0, color_image1.shape[0] - 16)\n",
    "    color_image1[i : i + 16]\n",
    "    color_image2[i : i + 16]"
   ]
  },
  {
   "cell_type": "code",
   "execution_count": 6,
   "metadata": {},
   "outputs": [
    {
     "name": "stderr",
     "output_type": "stream",
     "text": [
      "100%|██████████| 361/361 [01:08<00:00,  5.24it/s]\n"
     ]
    }
   ],
   "source": [
    "# iterate over the arrays to test the cache\n",
    "for i in tqdm(range(0, color_image1.shape[0], 1024)):\n",
    "    color_image1[i : i + 1024]\n",
    "    color_image2[i : i + 1024]"
   ]
  },
  {
   "cell_type": "code",
   "execution_count": 7,
   "metadata": {},
   "outputs": [
    {
     "name": "stderr",
     "output_type": "stream",
     "text": [
      "100%|██████████| 1000/1000 [00:41<00:00, 24.06it/s]\n"
     ]
    }
   ],
   "source": [
    "# This time, hope it's much faster\n",
    "for i in tqdm(range(1_000)):\n",
    "    random_idx = random.randint(0, color_image1.shape[0] - 16)\n",
    "    color_image1[i : i + 16]\n",
    "    color_image2[i : i + 16]"
   ]
  },
  {
   "cell_type": "code",
   "execution_count": 6,
   "metadata": {},
   "outputs": [],
   "source": [
    "# Create a ZipStore\n",
    "zip_store = zarr.ZipStore(\"stores/zip_store.zip\", mode=\"w\")\n",
    "\n",
    "# Define chunk size\n",
    "\n",
    "# Create Zarr arrays within the ZipStore\n",
    "color_image1 = zarr.create(\n",
    "    shape=np_img1.shape,\n",
    "    chunks=chunk_size,\n",
    "    dtype=np_img1.dtype,\n",
    "    store=zip_store,\n",
    "    path=\"color_image1\",\n",
    ")\n",
    "color_image2 = zarr.create(\n",
    "    shape=np_img2.shape,\n",
    "    chunks=chunk_size,\n",
    "    dtype=np_img2.dtype,\n",
    "    store=zip_store,\n",
    "    path=\"color_image2\",\n",
    ")\n",
    "\n",
    "# Populate the arrays\n",
    "color_image1[:] = np_img1\n",
    "color_image2[:] = np_img2\n",
    "\n",
    "# It's important to close the ZipStore\n",
    "zip_store.close()"
   ]
  },
  {
   "cell_type": "code",
   "execution_count": 1,
   "metadata": {},
   "outputs": [],
   "source": [
    "import zarr\n",
    "import numpy as np\n",
    "from concurrent.futures import ThreadPoolExecutor\n",
    "\n",
    "\n",
    "def load_chunk(arr, chunk_slice):\n",
    "    return arr[chunk_slice]\n",
    "\n",
    "\n",
    "# Function to get all chunk slices for a given Zarr array\n",
    "def get_chunk_slices(shape, chunks):\n",
    "    ranges = [range(0, s, c) for s, c in zip(shape, chunks)]\n",
    "    return [\n",
    "        tuple(slice(i, min(i + c, s)) for i, c, s in zip(start, chunks, shape))\n",
    "        for start in np.ndindex(*map(len, ranges))\n",
    "    ]\n",
    "\n",
    "\n",
    "# Open the ZipStore in read-only mode\n",
    "zip_store = zarr.ZipStore(\"stores/zip_store.zip\", mode=\"r\")\n",
    "\n",
    "# Open the arrays\n",
    "color_image1 = zarr.open_array(store=zip_store, path=\"color_image1\", mode=\"r\")\n",
    "color_image2 = zarr.open_array(store=zip_store, path=\"color_image2\", mode=\"r\")\n",
    "\n",
    "# Get the chunk slices for each array\n",
    "chunk_slices1 = get_chunk_slices(color_image1.shape, color_image1.chunks)\n",
    "chunk_slices2 = get_chunk_slices(color_image2.shape, color_image2.chunks)\n",
    "\n",
    "# Create empty arrays to hold the data in memory\n",
    "color_image1_data = np.empty(color_image1.shape, dtype=color_image1.dtype)\n",
    "color_image2_data = np.empty(color_image2.shape, dtype=color_image2.dtype)\n",
    "\n",
    "# Load data in parallel\n",
    "with ThreadPoolExecutor() as executor:\n",
    "    # Load color_image1\n",
    "    futures1 = [executor.submit(load_chunk, color_image1, cs) for cs in chunk_slices1]\n",
    "    for cs, future in enumerate(futures1):\n",
    "        color_image1_data[chunk_slices1[cs]] = future.result()\n",
    "\n",
    "    # Load color_image2\n",
    "    futures2 = [executor.submit(load_chunk, color_image2, cs) for cs in chunk_slices2]\n",
    "    for cs, future in enumerate(futures2):\n",
    "        color_image2_data[chunk_slices2[cs]] = future.result()\n",
    "\n",
    "# Close the store when done\n",
    "zip_store.close()"
   ]
  },
  {
   "cell_type": "code",
   "execution_count": 8,
   "metadata": {},
   "outputs": [
    {
     "data": {
      "text/plain": [
       "((248613, 224, 224, 3), (248613, 224, 224, 3))"
      ]
     },
     "execution_count": 8,
     "metadata": {},
     "output_type": "execute_result"
    }
   ],
   "source": [
    "np_img1.shape, np_img2.shape"
   ]
  },
  {
   "cell_type": "code",
   "execution_count": 9,
   "metadata": {},
   "outputs": [
    {
     "ename": "KeyboardInterrupt",
     "evalue": "",
     "output_type": "error",
     "traceback": [
      "\u001b[0;31m---------------------------------------------------------------------------\u001b[0m",
      "\u001b[0;31mKeyboardInterrupt\u001b[0m                         Traceback (most recent call last)",
      "Cell \u001b[0;32mIn[9], line 11\u001b[0m\n\u001b[1;32m      7\u001b[0m store \u001b[38;5;241m=\u001b[39m zarr\u001b[38;5;241m.\u001b[39mDirectoryStore(\u001b[38;5;124m\"\u001b[39m\u001b[38;5;124mstores/directory_store_2.zarr\u001b[39m\u001b[38;5;124m\"\u001b[39m)\n\u001b[1;32m      8\u001b[0m \u001b[38;5;66;03m# Or for ZipStore: store = zarr.ZipStore('path/to/zip_store.zip')\u001b[39;00m\n\u001b[1;32m      9\u001b[0m \n\u001b[1;32m     10\u001b[0m \u001b[38;5;66;03m# Create Zarr arrays with the compressor\u001b[39;00m\n\u001b[0;32m---> 11\u001b[0m color_image1 \u001b[38;5;241m=\u001b[39m \u001b[43mzarr\u001b[49m\u001b[38;5;241;43m.\u001b[39;49m\u001b[43marray\u001b[49m\u001b[43m(\u001b[49m\n\u001b[1;32m     12\u001b[0m \u001b[43m    \u001b[49m\u001b[43mnp_img1\u001b[49m\u001b[43m,\u001b[49m\n\u001b[1;32m     13\u001b[0m \u001b[43m    \u001b[49m\u001b[43mchunks\u001b[49m\u001b[38;5;241;43m=\u001b[39;49m\u001b[43mchunk_size\u001b[49m\u001b[43m,\u001b[49m\n\u001b[1;32m     14\u001b[0m \u001b[43m    \u001b[49m\u001b[43mcompressor\u001b[49m\u001b[38;5;241;43m=\u001b[39;49m\u001b[43mcompressor\u001b[49m\u001b[43m,\u001b[49m\n\u001b[1;32m     15\u001b[0m \u001b[43m    \u001b[49m\u001b[43mstore\u001b[49m\u001b[38;5;241;43m=\u001b[39;49m\u001b[43mstore\u001b[49m\u001b[43m,\u001b[49m\n\u001b[1;32m     16\u001b[0m \u001b[43m    \u001b[49m\u001b[43mpath\u001b[49m\u001b[38;5;241;43m=\u001b[39;49m\u001b[38;5;124;43m\"\u001b[39;49m\u001b[38;5;124;43mcolor_image1\u001b[39;49m\u001b[38;5;124;43m\"\u001b[39;49m\u001b[43m,\u001b[49m\n\u001b[1;32m     17\u001b[0m \u001b[43m)\u001b[49m\n\u001b[1;32m     18\u001b[0m color_image2 \u001b[38;5;241m=\u001b[39m zarr\u001b[38;5;241m.\u001b[39marray(\n\u001b[1;32m     19\u001b[0m     np_img1,\n\u001b[1;32m     20\u001b[0m     chunks\u001b[38;5;241m=\u001b[39mchunk_size,\n\u001b[0;32m   (...)\u001b[0m\n\u001b[1;32m     23\u001b[0m     path\u001b[38;5;241m=\u001b[39m\u001b[38;5;124m\"\u001b[39m\u001b[38;5;124mcolor_image2\u001b[39m\u001b[38;5;124m\"\u001b[39m,\n\u001b[1;32m     24\u001b[0m )\n",
      "File \u001b[0;32m/data/scratch/ankile/miniconda3/envs/rlgpu/lib/python3.8/site-packages/zarr/creation.py:439\u001b[0m, in \u001b[0;36marray\u001b[0;34m(data, **kwargs)\u001b[0m\n\u001b[1;32m    436\u001b[0m z \u001b[38;5;241m=\u001b[39m create(\u001b[38;5;241m*\u001b[39m\u001b[38;5;241m*\u001b[39mkwargs)\n\u001b[1;32m    438\u001b[0m \u001b[38;5;66;03m# fill with data\u001b[39;00m\n\u001b[0;32m--> 439\u001b[0m \u001b[43mz\u001b[49m\u001b[43m[\u001b[49m\u001b[38;5;241;43m.\u001b[39;49m\u001b[38;5;241;43m.\u001b[39;49m\u001b[38;5;241;43m.\u001b[39;49m\u001b[43m]\u001b[49m \u001b[38;5;241m=\u001b[39m data\n\u001b[1;32m    441\u001b[0m \u001b[38;5;66;03m# set read_only property afterwards\u001b[39;00m\n\u001b[1;32m    442\u001b[0m z\u001b[38;5;241m.\u001b[39mread_only \u001b[38;5;241m=\u001b[39m read_only\n",
      "File \u001b[0;32m/data/scratch/ankile/miniconda3/envs/rlgpu/lib/python3.8/site-packages/zarr/core.py:1497\u001b[0m, in \u001b[0;36mArray.__setitem__\u001b[0;34m(self, selection, value)\u001b[0m\n\u001b[1;32m   1495\u001b[0m     \u001b[38;5;28mself\u001b[39m\u001b[38;5;241m.\u001b[39mset_orthogonal_selection(pure_selection, value, fields\u001b[38;5;241m=\u001b[39mfields)\n\u001b[1;32m   1496\u001b[0m \u001b[38;5;28;01melse\u001b[39;00m:\n\u001b[0;32m-> 1497\u001b[0m     \u001b[38;5;28;43mself\u001b[39;49m\u001b[38;5;241;43m.\u001b[39;49m\u001b[43mset_basic_selection\u001b[49m\u001b[43m(\u001b[49m\u001b[43mpure_selection\u001b[49m\u001b[43m,\u001b[49m\u001b[43m \u001b[49m\u001b[43mvalue\u001b[49m\u001b[43m,\u001b[49m\u001b[43m \u001b[49m\u001b[43mfields\u001b[49m\u001b[38;5;241;43m=\u001b[39;49m\u001b[43mfields\u001b[49m\u001b[43m)\u001b[49m\n",
      "File \u001b[0;32m/data/scratch/ankile/miniconda3/envs/rlgpu/lib/python3.8/site-packages/zarr/core.py:1593\u001b[0m, in \u001b[0;36mArray.set_basic_selection\u001b[0;34m(self, selection, value, fields)\u001b[0m\n\u001b[1;32m   1591\u001b[0m     \u001b[38;5;28;01mreturn\u001b[39;00m \u001b[38;5;28mself\u001b[39m\u001b[38;5;241m.\u001b[39m_set_basic_selection_zd(selection, value, fields\u001b[38;5;241m=\u001b[39mfields)\n\u001b[1;32m   1592\u001b[0m \u001b[38;5;28;01melse\u001b[39;00m:\n\u001b[0;32m-> 1593\u001b[0m     \u001b[38;5;28;01mreturn\u001b[39;00m \u001b[38;5;28;43mself\u001b[39;49m\u001b[38;5;241;43m.\u001b[39;49m\u001b[43m_set_basic_selection_nd\u001b[49m\u001b[43m(\u001b[49m\u001b[43mselection\u001b[49m\u001b[43m,\u001b[49m\u001b[43m \u001b[49m\u001b[43mvalue\u001b[49m\u001b[43m,\u001b[49m\u001b[43m \u001b[49m\u001b[43mfields\u001b[49m\u001b[38;5;241;43m=\u001b[39;49m\u001b[43mfields\u001b[49m\u001b[43m)\u001b[49m\n",
      "File \u001b[0;32m/data/scratch/ankile/miniconda3/envs/rlgpu/lib/python3.8/site-packages/zarr/core.py:1983\u001b[0m, in \u001b[0;36mArray._set_basic_selection_nd\u001b[0;34m(self, selection, value, fields)\u001b[0m\n\u001b[1;32m   1977\u001b[0m \u001b[38;5;28;01mdef\u001b[39;00m \u001b[38;5;21m_set_basic_selection_nd\u001b[39m(\u001b[38;5;28mself\u001b[39m, selection, value, fields\u001b[38;5;241m=\u001b[39m\u001b[38;5;28;01mNone\u001b[39;00m):\n\u001b[1;32m   1978\u001b[0m     \u001b[38;5;66;03m# implementation of __setitem__ for array with at least one dimension\u001b[39;00m\n\u001b[1;32m   1979\u001b[0m \n\u001b[1;32m   1980\u001b[0m     \u001b[38;5;66;03m# setup indexer\u001b[39;00m\n\u001b[1;32m   1981\u001b[0m     indexer \u001b[38;5;241m=\u001b[39m BasicIndexer(selection, \u001b[38;5;28mself\u001b[39m)\n\u001b[0;32m-> 1983\u001b[0m     \u001b[38;5;28;43mself\u001b[39;49m\u001b[38;5;241;43m.\u001b[39;49m\u001b[43m_set_selection\u001b[49m\u001b[43m(\u001b[49m\u001b[43mindexer\u001b[49m\u001b[43m,\u001b[49m\u001b[43m \u001b[49m\u001b[43mvalue\u001b[49m\u001b[43m,\u001b[49m\u001b[43m \u001b[49m\u001b[43mfields\u001b[49m\u001b[38;5;241;43m=\u001b[39;49m\u001b[43mfields\u001b[49m\u001b[43m)\u001b[49m\n",
      "File \u001b[0;32m/data/scratch/ankile/miniconda3/envs/rlgpu/lib/python3.8/site-packages/zarr/core.py:2038\u001b[0m, in \u001b[0;36mArray._set_selection\u001b[0;34m(self, indexer, value, fields)\u001b[0m\n\u001b[1;32m   2035\u001b[0m                 chunk_value \u001b[38;5;241m=\u001b[39m chunk_value[item]\n\u001b[1;32m   2037\u001b[0m         \u001b[38;5;66;03m# put data\u001b[39;00m\n\u001b[0;32m-> 2038\u001b[0m         \u001b[38;5;28;43mself\u001b[39;49m\u001b[38;5;241;43m.\u001b[39;49m\u001b[43m_chunk_setitem\u001b[49m\u001b[43m(\u001b[49m\u001b[43mchunk_coords\u001b[49m\u001b[43m,\u001b[49m\u001b[43m \u001b[49m\u001b[43mchunk_selection\u001b[49m\u001b[43m,\u001b[49m\u001b[43m \u001b[49m\u001b[43mchunk_value\u001b[49m\u001b[43m,\u001b[49m\u001b[43m \u001b[49m\u001b[43mfields\u001b[49m\u001b[38;5;241;43m=\u001b[39;49m\u001b[43mfields\u001b[49m\u001b[43m)\u001b[49m\n\u001b[1;32m   2039\u001b[0m \u001b[38;5;28;01melse\u001b[39;00m:\n\u001b[1;32m   2040\u001b[0m     lchunk_coords, lchunk_selection, lout_selection \u001b[38;5;241m=\u001b[39m \u001b[38;5;28mzip\u001b[39m(\u001b[38;5;241m*\u001b[39mindexer)\n",
      "File \u001b[0;32m/data/scratch/ankile/miniconda3/envs/rlgpu/lib/python3.8/site-packages/zarr/core.py:2304\u001b[0m, in \u001b[0;36mArray._chunk_setitem\u001b[0;34m(self, chunk_coords, chunk_selection, value, fields)\u001b[0m\n\u001b[1;32m   2301\u001b[0m     lock \u001b[38;5;241m=\u001b[39m \u001b[38;5;28mself\u001b[39m\u001b[38;5;241m.\u001b[39m_synchronizer[ckey]\n\u001b[1;32m   2303\u001b[0m \u001b[38;5;28;01mwith\u001b[39;00m lock:\n\u001b[0;32m-> 2304\u001b[0m     \u001b[38;5;28;43mself\u001b[39;49m\u001b[38;5;241;43m.\u001b[39;49m\u001b[43m_chunk_setitem_nosync\u001b[49m\u001b[43m(\u001b[49m\u001b[43mchunk_coords\u001b[49m\u001b[43m,\u001b[49m\u001b[43m \u001b[49m\u001b[43mchunk_selection\u001b[49m\u001b[43m,\u001b[49m\u001b[43m \u001b[49m\u001b[43mvalue\u001b[49m\u001b[43m,\u001b[49m\u001b[43m \u001b[49m\u001b[43mfields\u001b[49m\u001b[38;5;241;43m=\u001b[39;49m\u001b[43mfields\u001b[49m\u001b[43m)\u001b[49m\n",
      "File \u001b[0;32m/data/scratch/ankile/miniconda3/envs/rlgpu/lib/python3.8/site-packages/zarr/core.py:2314\u001b[0m, in \u001b[0;36mArray._chunk_setitem_nosync\u001b[0;34m(self, chunk_coords, chunk_selection, value, fields)\u001b[0m\n\u001b[1;32m   2312\u001b[0m     \u001b[38;5;28mself\u001b[39m\u001b[38;5;241m.\u001b[39m_chunk_delitem(ckey)\n\u001b[1;32m   2313\u001b[0m \u001b[38;5;28;01melse\u001b[39;00m:\n\u001b[0;32m-> 2314\u001b[0m     \u001b[38;5;28mself\u001b[39m\u001b[38;5;241m.\u001b[39mchunk_store[ckey] \u001b[38;5;241m=\u001b[39m \u001b[38;5;28;43mself\u001b[39;49m\u001b[38;5;241;43m.\u001b[39;49m\u001b[43m_encode_chunk\u001b[49m\u001b[43m(\u001b[49m\u001b[43mcdata\u001b[49m\u001b[43m)\u001b[49m\n",
      "File \u001b[0;32m/data/scratch/ankile/miniconda3/envs/rlgpu/lib/python3.8/site-packages/zarr/core.py:2444\u001b[0m, in \u001b[0;36mArray._encode_chunk\u001b[0;34m(self, chunk)\u001b[0m\n\u001b[1;32m   2442\u001b[0m \u001b[38;5;66;03m# compress\u001b[39;00m\n\u001b[1;32m   2443\u001b[0m \u001b[38;5;28;01mif\u001b[39;00m \u001b[38;5;28mself\u001b[39m\u001b[38;5;241m.\u001b[39m_compressor:\n\u001b[0;32m-> 2444\u001b[0m     cdata \u001b[38;5;241m=\u001b[39m \u001b[38;5;28;43mself\u001b[39;49m\u001b[38;5;241;43m.\u001b[39;49m\u001b[43m_compressor\u001b[49m\u001b[38;5;241;43m.\u001b[39;49m\u001b[43mencode\u001b[49m\u001b[43m(\u001b[49m\u001b[43mchunk\u001b[49m\u001b[43m)\u001b[49m\n\u001b[1;32m   2445\u001b[0m \u001b[38;5;28;01melse\u001b[39;00m:\n\u001b[1;32m   2446\u001b[0m     cdata \u001b[38;5;241m=\u001b[39m chunk\n",
      "File \u001b[0;32mnumcodecs/blosc.pyx:560\u001b[0m, in \u001b[0;36mnumcodecs.blosc.Blosc.encode\u001b[0;34m()\u001b[0m\n",
      "File \u001b[0;32mnumcodecs/blosc.pyx:287\u001b[0m, in \u001b[0;36mnumcodecs.blosc.compress\u001b[0;34m()\u001b[0m\n",
      "File \u001b[0;32m/data/scratch/ankile/miniconda3/envs/rlgpu/lib/python3.8/multiprocessing/synchronize.py:97\u001b[0m, in \u001b[0;36mSemLock.__exit__\u001b[0;34m(self, *args)\u001b[0m\n\u001b[1;32m     94\u001b[0m \u001b[38;5;28;01mdef\u001b[39;00m \u001b[38;5;21m__enter__\u001b[39m(\u001b[38;5;28mself\u001b[39m):\n\u001b[1;32m     95\u001b[0m     \u001b[38;5;28;01mreturn\u001b[39;00m \u001b[38;5;28mself\u001b[39m\u001b[38;5;241m.\u001b[39m_semlock\u001b[38;5;241m.\u001b[39m\u001b[38;5;21m__enter__\u001b[39m()\n\u001b[0;32m---> 97\u001b[0m \u001b[38;5;28;01mdef\u001b[39;00m \u001b[38;5;21m__exit__\u001b[39m(\u001b[38;5;28mself\u001b[39m, \u001b[38;5;241m*\u001b[39margs):\n\u001b[1;32m     98\u001b[0m     \u001b[38;5;28;01mreturn\u001b[39;00m \u001b[38;5;28mself\u001b[39m\u001b[38;5;241m.\u001b[39m_semlock\u001b[38;5;241m.\u001b[39m\u001b[38;5;21m__exit__\u001b[39m(\u001b[38;5;241m*\u001b[39margs)\n\u001b[1;32m    100\u001b[0m \u001b[38;5;28;01mdef\u001b[39;00m \u001b[38;5;21m__getstate__\u001b[39m(\u001b[38;5;28mself\u001b[39m):\n",
      "\u001b[0;31mKeyboardInterrupt\u001b[0m: "
     ]
    }
   ],
   "source": [
    "from numcodecs import Blosc\n",
    "\n",
    "\n",
    "compressor = Blosc(cname=\"zstd\", clevel=9, shuffle=Blosc.BITSHUFFLE)\n",
    "\n",
    "# Create a directory store or ZipStore\n",
    "store = zarr.DirectoryStore(\"stores/directory_store_2.zarr\")\n",
    "# Or for ZipStore: store = zarr.ZipStore('path/to/zip_store.zip')\n",
    "\n",
    "# Create Zarr arrays with the compressor\n",
    "color_image1 = zarr.array(\n",
    "    np_img1,\n",
    "    chunks=chunk_size,\n",
    "    compressor=compressor,\n",
    "    store=store,\n",
    "    path=\"color_image1\",\n",
    ")\n",
    "color_image2 = zarr.array(\n",
    "    np_img1,\n",
    "    chunks=chunk_size,\n",
    "    compressor=compressor,\n",
    "    store=store,\n",
    "    path=\"color_image2\",\n",
    ")"
   ]
  },
  {
   "cell_type": "code",
   "execution_count": 4,
   "metadata": {},
   "outputs": [],
   "source": [
    "# Open the DirectoryStore in read-only mode\n",
    "store = zarr.DirectoryStore(\"stores/directory_store_2.zarr\")\n",
    "\n",
    "# Open the arrays\n",
    "color_image1 = zarr.open_array(store=store, path=\"color_image1\", mode=\"r\")\n",
    "color_image2 = zarr.open_array(store=store, path=\"color_image2\", mode=\"r\")"
   ]
  },
  {
   "cell_type": "code",
   "execution_count": null,
   "metadata": {},
   "outputs": [],
   "source": [
    "color_image1.shape, color_image2.shape"
   ]
  },
  {
   "cell_type": "code",
   "execution_count": 12,
   "metadata": {},
   "outputs": [
    {
     "data": {
      "text/plain": [
       "<matplotlib.image.AxesImage at 0x7f1b22d73700>"
      ]
     },
     "execution_count": 12,
     "metadata": {},
     "output_type": "execute_result"
    },
    {
     "data": {
      "image/png": "[encoded data removed]",
      "text/plain": [
       "<Figure size 2000x1000 with 2 Axes>"
      ]
     },
     "metadata": {},
     "output_type": "display_data"
    }
   ],
   "source": [
    "# Show an image\n",
    "import matplotlib.pyplot as plt\n",
    "\n",
    "img_idx = 190\n",
    "\n",
    "fig, (ax1, ax2) = plt.subplots(1, 2, figsize=(20, 10))\n",
    "\n",
    "ax1.imshow(color_image2[img_idx])\n",
    "ax2.imshow(tmp[\"color_image2\"][img_idx])"
   ]
  },
  {
   "cell_type": "code",
   "execution_count": 13,
   "metadata": {},
   "outputs": [],
   "source": [
    "tmp1 = color_image1[:]\n",
    "tmp2 = color_image2[:]"
   ]
  },
  {
   "cell_type": "code",
   "execution_count": 14,
   "metadata": {},
   "outputs": [
    {
     "data": {
      "text/plain": [
       "((369535, 224, 224, 3), (369535, 224, 224, 3))"
      ]
     },
     "execution_count": 14,
     "metadata": {},
     "output_type": "execute_result"
    }
   ],
   "source": [
    "tmp1.shape, tmp2.shape"
   ]
  },
  {
   "cell_type": "code",
   "execution_count": 17,
   "metadata": {},
   "outputs": [
    {
     "data": {
      "text/plain": [
       "numpy.ndarray"
      ]
     },
     "execution_count": 17,
     "metadata": {},
     "output_type": "execute_result"
    }
   ],
   "source": [
    "type(tmp1)"
   ]
  },
  {
   "cell_type": "code",
   "execution_count": 21,
   "metadata": {},
   "outputs": [
    {
     "name": "stderr",
     "output_type": "stream",
     "text": [
      "100%|██████████| 1000/1000 [00:39<00:00, 25.21it/s]\n"
     ]
    }
   ],
   "source": [
    "for i in tqdm(range(1_000)):\n",
    "    random_idx = random.randint(0, tmp1.shape[0] - 16)\n",
    "    color_image2[i : i + 16]"
   ]
  },
  {
   "cell_type": "code",
   "execution_count": 16,
   "metadata": {},
   "outputs": [],
   "source": [
    "import zarr\n",
    "\n",
    "z = zarr.open(\n",
    "    \"/data/scratch/ankile/furniture-data/processed/sim/image/one_leg/scripted.zarr\",\n",
    "    mode=\"r\",\n",
    ")"
   ]
  },
  {
   "cell_type": "code",
   "execution_count": 6,
   "metadata": {},
   "outputs": [
    {
     "data": {
      "text/plain": [
       "((4005, 224, 224, 3), (4005, 224, 224, 3))"
      ]
     },
     "execution_count": 6,
     "metadata": {},
     "output_type": "execute_result"
    }
   ],
   "source": [
    "z[\"color_image1\"].shape, z[\"color_image2\"].shape"
   ]
  },
  {
   "cell_type": "code",
   "execution_count": 7,
   "metadata": {},
   "outputs": [
    {
     "data": {
      "text/plain": [
       "array([   0,  486,  962, 1453, 1915, 2432, 2911, 3486, 4005], dtype=uint32)"
      ]
     },
     "execution_count": 7,
     "metadata": {},
     "output_type": "execute_result"
    }
   ],
   "source": [
    "z[\"episode_ends\"][:]"
   ]
  },
  {
   "cell_type": "markdown",
   "metadata": {},
   "source": [
    "## Look at MP4 compression rate"
   ]
  },
  {
   "cell_type": "code",
   "execution_count": 12,
   "metadata": {},
   "outputs": [],
   "source": [
    "# Make 1280 by 720 videos of length 1_000\n",
    "vid1280 = np.zeros((1_000, 720, 1280, 3), dtype=np.uint8)\n",
    "vid1280[:, :180, :320, :] = np.random.randint(\n",
    "    0, 255, size=(1_000, 180, 320, 3), dtype=np.uint8\n",
    ")\n",
    "# vid240 = np.random.randint(0, 255, size=(1_000, 240, 240, 3), dtype=np.uint8)"
   ]
  },
  {
   "cell_type": "code",
   "execution_count": 13,
   "metadata": {},
   "outputs": [],
   "source": [
    "with open(\"test_1280.npy\", \"wb\") as f:\n",
    "    pickle.dump(vid1280, f)"
   ]
  },
  {
   "cell_type": "code",
   "execution_count": 9,
   "metadata": {},
   "outputs": [
    {
     "data": {
      "text/plain": [
       "0.1728"
      ]
     },
     "execution_count": 9,
     "metadata": {},
     "output_type": "execute_result"
    }
   ],
   "source": [
    "# 1000 * 720 * 1280 * 3 / 1e9\n",
    "1000 * 240 * 240 * 3 / 1e9"
   ]
  },
  {
   "cell_type": "code",
   "execution_count": 14,
   "metadata": {},
   "outputs": [
    {
     "name": "stdout",
     "output_type": "stream",
     "text": [
      "File saved as test_1280.mp4\n"
     ]
    },
    {
     "data": {
      "text/html": [
       "<video controls src=\"test_1280.mp4\" width=\"640\" height=\"480\"></video>"
      ],
      "text/plain": [
       "<IPython.core.display.HTML object>"
      ]
     },
     "execution_count": 14,
     "metadata": {},
     "output_type": "execute_result"
    }
   ],
   "source": [
    "# Write it as an mp4\n",
    "create_mp4_jupyter(vid1280, \"test_1280.mp4\")"
   ]
  },
  {
   "cell_type": "code",
   "execution_count": 1,
   "metadata": {},
   "outputs": [],
   "source": [
    "import gzip\n",
    "import numpy\n",
    "import bz2\n",
    "import lzma\n",
    "import pickle\n",
    "\n",
    "from src.visualization.render_mp4 import unpickle_data"
   ]
  },
  {
   "cell_type": "code",
   "execution_count": 3,
   "metadata": {},
   "outputs": [],
   "source": [
    "data1 = unpickle_data(\n",
    "    \"/data/scratch/ankile/furniture-data/raw-old/sim/scripted/image/one_leg/low/2023-10-25-17:49:38/2023-10-25-17:49:38.pkl\"\n",
    ")"
   ]
  },
  {
   "cell_type": "code",
   "execution_count": 4,
   "metadata": {},
   "outputs": [
    {
     "name": "stdout",
     "output_type": "stream",
     "text": [
      "1.28 s ± 26.2 ms per loop (mean ± std. dev. of 7 runs, 1 loop each)\n"
     ]
    }
   ],
   "source": [
    "%%timeit\n",
    "with open(\"no_compression.pickle\", \"wb\") as f:\n",
    "    pickle.dump(data1, f)\n"
   ]
  },
  {
   "cell_type": "code",
   "execution_count": 5,
   "metadata": {},
   "outputs": [
    {
     "name": "stdout",
     "output_type": "stream",
     "text": [
      "82 ms ± 8.34 ms per loop (mean ± std. dev. of 7 runs, 1 loop each)\n"
     ]
    }
   ],
   "source": [
    "%%timeit\n",
    "# Read them all back and verify they are the same\n",
    "with open(\"no_compression.pickle\", \"rb\") as f:\n",
    "    data1 = pickle.load(f)"
   ]
  },
  {
   "cell_type": "code",
   "execution_count": 6,
   "metadata": {},
   "outputs": [
    {
     "name": "stdout",
     "output_type": "stream",
     "text": [
      "10 s ± 68.1 ms per loop (mean ± std. dev. of 7 runs, 1 loop each)\n"
     ]
    }
   ],
   "source": [
    "%%timeit\n",
    "with gzip.open(\"gzip_test.gz\", \"wb\") as f:\n",
    "    pickle.dump(data1, f)\n"
   ]
  },
  {
   "cell_type": "code",
   "execution_count": 7,
   "metadata": {},
   "outputs": [
    {
     "name": "stdout",
     "output_type": "stream",
     "text": [
      "305 ms ± 8.53 ms per loop (mean ± std. dev. of 7 runs, 1 loop each)\n"
     ]
    }
   ],
   "source": [
    "%%timeit\n",
    "with gzip.open(\"gzip_test.gz\", \"rb\") as f:\n",
    "    data2 = pickle.load(f)\n"
   ]
  },
  {
   "cell_type": "code",
   "execution_count": 8,
   "metadata": {},
   "outputs": [
    {
     "name": "stdout",
     "output_type": "stream",
     "text": [
      "23.3 s ± 211 ms per loop (mean ± std. dev. of 7 runs, 1 loop each)\n"
     ]
    }
   ],
   "source": [
    "%%timeit\n",
    "with bz2.BZ2File(\"bz2_test.pbz2\", \"wb\") as f:\n",
    "    pickle.dump(data1, f)\n"
   ]
  },
  {
   "cell_type": "code",
   "execution_count": 9,
   "metadata": {},
   "outputs": [
    {
     "name": "stdout",
     "output_type": "stream",
     "text": [
      "1.53 s ± 11.7 ms per loop (mean ± std. dev. of 7 runs, 1 loop each)\n"
     ]
    }
   ],
   "source": [
    "%%timeit\n",
    "with bz2.BZ2File(\"bz2_test.pbz2\", \"rb\") as f:\n",
    "    data3 = pickle.load(f)\n"
   ]
  },
  {
   "cell_type": "code",
   "execution_count": 10,
   "metadata": {},
   "outputs": [
    {
     "name": "stdout",
     "output_type": "stream",
     "text": [
      "19.8 s ± 186 ms per loop (mean ± std. dev. of 7 runs, 1 loop each)\n"
     ]
    }
   ],
   "source": [
    "%%timeit\n",
    "with lzma.open(\"lzma_test.xz\", \"wb\") as f:\n",
    "    pickle.dump(data1, f)"
   ]
  },
  {
   "cell_type": "code",
   "execution_count": 11,
   "metadata": {},
   "outputs": [
    {
     "name": "stdout",
     "output_type": "stream",
     "text": [
      "352 ms ± 3.61 ms per loop (mean ± std. dev. of 7 runs, 1 loop each)\n"
     ]
    }
   ],
   "source": [
    "%%timeit\n",
    "with lzma.open(\"lzma_test.xz\", \"rb\") as f:\n",
    "    data4 = pickle.load(f)\n"
   ]
  },
  {
   "cell_type": "code",
   "execution_count": 19,
   "metadata": {},
   "outputs": [
    {
     "data": {
      "text/plain": [
       "dict_keys(['observations', 'actions', 'rewards', 'skills', 'success', 'furniture', 'error', 'error_description'])"
      ]
     },
     "execution_count": 19,
     "metadata": {},
     "output_type": "execute_result"
    }
   ],
   "source": [
    "data1.keys()  # , data2.keys(), data3.keys(), data4.keys()"
   ]
  },
  {
   "cell_type": "code",
   "execution_count": 22,
   "metadata": {},
   "outputs": [
    {
     "data": {
      "text/plain": [
       "(dict_keys(['color_image1', 'color_image2', 'image_size', 'robot_state']),\n",
       " (224, 224))"
      ]
     },
     "execution_count": 22,
     "metadata": {},
     "output_type": "execute_result"
    }
   ],
   "source": [
    "data1[\"observations\"][0].keys(), data1[\"observations\"][0][\"image_size\"]"
   ]
  },
  {
   "cell_type": "code",
   "execution_count": null,
   "metadata": {},
   "outputs": [
    {
     "data": {
      "text/plain": [
       "(True, True, True)"
      ]
     },
     "execution_count": 29,
     "metadata": {},
     "output_type": "execute_result"
    }
   ],
   "source": [
    "# Check the first frame of the video\n",
    "(\n",
    "    np.all(\n",
    "        data1[\"observations\"][0][\"color_image1\"]\n",
    "        == data2[\"observations\"][0][\"color_image1\"]\n",
    "    ),\n",
    "    np.all(\n",
    "        data1[\"observations\"][0][\"color_image1\"]\n",
    "        == data3[\"observations\"][0][\"color_image1\"]\n",
    "    ),\n",
    "    np.all(\n",
    "        data1[\"observations\"][0][\"color_image1\"]\n",
    "        == data4[\"observations\"][0][\"color_image1\"]\n",
    "    ),\n",
    ")"
   ]
  },
  {
   "cell_type": "markdown",
   "metadata": {},
   "source": [
    "## Inspect the teleop demos that are continued from one_leg scripted"
   ]
  },
  {
   "cell_type": "code",
   "execution_count": 10,
   "metadata": {},
   "outputs": [
    {
     "data": {
      "text/plain": [
       "4"
      ]
     },
     "execution_count": 10,
     "metadata": {},
     "output_type": "execute_result"
    }
   ],
   "source": [
    "demos = list(\n",
    "    Path(\n",
    "        \"/data/scratch-oc40/pulkitag/ankile/furniture-data/raw/sim/square_table/teleop\"\n",
    "    ).rglob(\"**/success/*.pkl\")\n",
    ")\n",
    "\n",
    "len(demos)"
   ]
  },
  {
   "cell_type": "code",
   "execution_count": null,
   "metadata": {},
   "outputs": [],
   "source": [
    "# Look at them\n",
    "for d in demos:\n",
    "    mp4_from_pickle_jupyter(d, tmp_rollout_dir / f\"{d.stem}.mp4\")"
   ]
  }
 ],
 "metadata": {
  "kernelspec": {
   "display_name": "rlgpu",
   "language": "python",
   "name": "python3"
  },
  "language_info": {
   "codemirror_mode": {
    "name": "ipython",
    "version": 3
   },
   "file_extension": ".py",
   "mimetype": "text/x-python",
   "name": "python",
   "nbconvert_exporter": "python",
   "pygments_lexer": "ipython3",
   "version": "3.8.18"
  }
 },
 "nbformat": 4,
 "nbformat_minor": 2
}
