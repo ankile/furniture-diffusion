{
 "cells": [
  {
   "cell_type": "code",
   "execution_count": 1,
   "metadata": {},
   "outputs": [],
   "source": [
    "%load_ext autoreload\n",
    "%autoreload 2"
   ]
  },
  {
   "cell_type": "code",
   "execution_count": 13,
   "metadata": {},
   "outputs": [],
   "source": [
    "import os\n",
    "import pickle\n",
    "import numpy as np\n",
    "from pathlib import Path\n",
    "\n",
    "from src.visualization.render_mp4 import data_to_video, pickle_data, create_mp4_jupyter"
   ]
  },
  {
   "cell_type": "code",
   "execution_count": 3,
   "metadata": {},
   "outputs": [],
   "source": [
    "os.environ[\"DATA_DIR_RAW\"] = \"/data/scratch-oc40/pulkitag/ankile/furniture-data/\""
   ]
  },
  {
   "cell_type": "code",
   "execution_count": 4,
   "metadata": {},
   "outputs": [],
   "source": [
    "teleopdir = Path(os.environ[\"DATA_DIR_RAW\"]) / \"raw\" / \"sim\" / \"teleop\""
   ]
  },
  {
   "cell_type": "code",
   "execution_count": 28,
   "metadata": {},
   "outputs": [
    {
     "data": {
      "text/plain": [
       "61"
      ]
     },
     "execution_count": 28,
     "metadata": {},
     "output_type": "execute_result"
    }
   ],
   "source": [
    "pickles = list(teleopdir.rglob(\"*success.pkl\"))\n",
    "\n",
    "len(pickles)"
   ]
  },
  {
   "cell_type": "code",
   "execution_count": 29,
   "metadata": {},
   "outputs": [],
   "source": [
    "tmp_rollout_dir = Path(\".\") / \"tmp_rollout_dir\"\n",
    "tmp_rollout_dir.mkdir(exist_ok=True)"
   ]
  },
  {
   "cell_type": "code",
   "execution_count": 24,
   "metadata": {},
   "outputs": [
    {
     "name": "stdout",
     "output_type": "stream",
     "text": [
      "File saved as tmp_rollout_dir/video0.mp4\n"
     ]
    },
    {
     "data": {
      "text/html": [
       "<video controls src=\"tmp_rollout_dir/video0.mp4\" width=\"640\" height=\"480\"></video>"
      ],
      "text/plain": [
       "<IPython.core.display.HTML object>"
      ]
     },
     "metadata": {},
     "output_type": "display_data"
    },
    {
     "name": "stdout",
     "output_type": "stream",
     "text": [
      "File saved as tmp_rollout_dir/video1.mp4\n"
     ]
    },
    {
     "data": {
      "text/html": [
       "<video controls src=\"tmp_rollout_dir/video1.mp4\" width=\"640\" height=\"480\"></video>"
      ],
      "text/plain": [
       "<IPython.core.display.HTML object>"
      ]
     },
     "metadata": {},
     "output_type": "display_data"
    },
    {
     "name": "stdout",
     "output_type": "stream",
     "text": [
      "File saved as tmp_rollout_dir/video4.mp4\n"
     ]
    },
    {
     "data": {
      "text/html": [
       "<video controls src=\"tmp_rollout_dir/video4.mp4\" width=\"640\" height=\"480\"></video>"
      ],
      "text/plain": [
       "<IPython.core.display.HTML object>"
      ]
     },
     "metadata": {},
     "output_type": "display_data"
    },
    {
     "name": "stdout",
     "output_type": "stream",
     "text": [
      "File saved as tmp_rollout_dir/video5.mp4\n"
     ]
    },
    {
     "data": {
      "text/html": [
       "<video controls src=\"tmp_rollout_dir/video5.mp4\" width=\"640\" height=\"480\"></video>"
      ],
      "text/plain": [
       "<IPython.core.display.HTML object>"
      ]
     },
     "metadata": {},
     "output_type": "display_data"
    },
    {
     "name": "stdout",
     "output_type": "stream",
     "text": [
      "File saved as tmp_rollout_dir/video6.mp4\n"
     ]
    },
    {
     "data": {
      "text/html": [
       "<video controls src=\"tmp_rollout_dir/video6.mp4\" width=\"640\" height=\"480\"></video>"
      ],
      "text/plain": [
       "<IPython.core.display.HTML object>"
      ]
     },
     "metadata": {},
     "output_type": "display_data"
    },
    {
     "name": "stdout",
     "output_type": "stream",
     "text": [
      "File saved as tmp_rollout_dir/video7.mp4\n"
     ]
    },
    {
     "data": {
      "text/html": [
       "<video controls src=\"tmp_rollout_dir/video7.mp4\" width=\"640\" height=\"480\"></video>"
      ],
      "text/plain": [
       "<IPython.core.display.HTML object>"
      ]
     },
     "metadata": {},
     "output_type": "display_data"
    },
    {
     "name": "stdout",
     "output_type": "stream",
     "text": [
      "File saved as tmp_rollout_dir/video8.mp4\n"
     ]
    },
    {
     "data": {
      "text/html": [
       "<video controls src=\"tmp_rollout_dir/video8.mp4\" width=\"640\" height=\"480\"></video>"
      ],
      "text/plain": [
       "<IPython.core.display.HTML object>"
      ]
     },
     "metadata": {},
     "output_type": "display_data"
    },
    {
     "name": "stdout",
     "output_type": "stream",
     "text": [
      "File saved as tmp_rollout_dir/video9.mp4\n"
     ]
    },
    {
     "data": {
      "text/html": [
       "<video controls src=\"tmp_rollout_dir/video9.mp4\" width=\"640\" height=\"480\"></video>"
      ],
      "text/plain": [
       "<IPython.core.display.HTML object>"
      ]
     },
     "metadata": {},
     "output_type": "display_data"
    },
    {
     "name": "stdout",
     "output_type": "stream",
     "text": [
      "File saved as tmp_rollout_dir/video10.mp4\n"
     ]
    },
    {
     "data": {
      "text/html": [
       "<video controls src=\"tmp_rollout_dir/video10.mp4\" width=\"640\" height=\"480\"></video>"
      ],
      "text/plain": [
       "<IPython.core.display.HTML object>"
      ]
     },
     "metadata": {},
     "output_type": "display_data"
    },
    {
     "name": "stdout",
     "output_type": "stream",
     "text": [
      "File saved as tmp_rollout_dir/video12.mp4\n"
     ]
    },
    {
     "data": {
      "text/html": [
       "<video controls src=\"tmp_rollout_dir/video12.mp4\" width=\"640\" height=\"480\"></video>"
      ],
      "text/plain": [
       "<IPython.core.display.HTML object>"
      ]
     },
     "metadata": {},
     "output_type": "display_data"
    },
    {
     "name": "stdout",
     "output_type": "stream",
     "text": [
      "File saved as tmp_rollout_dir/video13.mp4\n"
     ]
    },
    {
     "data": {
      "text/html": [
       "<video controls src=\"tmp_rollout_dir/video13.mp4\" width=\"640\" height=\"480\"></video>"
      ],
      "text/plain": [
       "<IPython.core.display.HTML object>"
      ]
     },
     "metadata": {},
     "output_type": "display_data"
    },
    {
     "name": "stdout",
     "output_type": "stream",
     "text": [
      "File saved as tmp_rollout_dir/video14.mp4\n"
     ]
    },
    {
     "data": {
      "text/html": [
       "<video controls src=\"tmp_rollout_dir/video14.mp4\" width=\"640\" height=\"480\"></video>"
      ],
      "text/plain": [
       "<IPython.core.display.HTML object>"
      ]
     },
     "metadata": {},
     "output_type": "display_data"
    },
    {
     "name": "stdout",
     "output_type": "stream",
     "text": [
      "File saved as tmp_rollout_dir/video15.mp4\n"
     ]
    },
    {
     "data": {
      "text/html": [
       "<video controls src=\"tmp_rollout_dir/video15.mp4\" width=\"640\" height=\"480\"></video>"
      ],
      "text/plain": [
       "<IPython.core.display.HTML object>"
      ]
     },
     "metadata": {},
     "output_type": "display_data"
    },
    {
     "name": "stdout",
     "output_type": "stream",
     "text": [
      "File saved as tmp_rollout_dir/video16.mp4\n"
     ]
    },
    {
     "data": {
      "text/html": [
       "<video controls src=\"tmp_rollout_dir/video16.mp4\" width=\"640\" height=\"480\"></video>"
      ],
      "text/plain": [
       "<IPython.core.display.HTML object>"
      ]
     },
     "metadata": {},
     "output_type": "display_data"
    },
    {
     "name": "stdout",
     "output_type": "stream",
     "text": [
      "File saved as tmp_rollout_dir/video17.mp4\n"
     ]
    },
    {
     "data": {
      "text/html": [
       "<video controls src=\"tmp_rollout_dir/video17.mp4\" width=\"640\" height=\"480\"></video>"
      ],
      "text/plain": [
       "<IPython.core.display.HTML object>"
      ]
     },
     "metadata": {},
     "output_type": "display_data"
    },
    {
     "name": "stdout",
     "output_type": "stream",
     "text": [
      "File saved as tmp_rollout_dir/video18.mp4\n"
     ]
    },
    {
     "data": {
      "text/html": [
       "<video controls src=\"tmp_rollout_dir/video18.mp4\" width=\"640\" height=\"480\"></video>"
      ],
      "text/plain": [
       "<IPython.core.display.HTML object>"
      ]
     },
     "metadata": {},
     "output_type": "display_data"
    },
    {
     "name": "stdout",
     "output_type": "stream",
     "text": [
      "File saved as tmp_rollout_dir/video19.mp4\n"
     ]
    },
    {
     "data": {
      "text/html": [
       "<video controls src=\"tmp_rollout_dir/video19.mp4\" width=\"640\" height=\"480\"></video>"
      ],
      "text/plain": [
       "<IPython.core.display.HTML object>"
      ]
     },
     "metadata": {},
     "output_type": "display_data"
    },
    {
     "name": "stdout",
     "output_type": "stream",
     "text": [
      "File saved as tmp_rollout_dir/video20.mp4\n"
     ]
    },
    {
     "data": {
      "text/html": [
       "<video controls src=\"tmp_rollout_dir/video20.mp4\" width=\"640\" height=\"480\"></video>"
      ],
      "text/plain": [
       "<IPython.core.display.HTML object>"
      ]
     },
     "metadata": {},
     "output_type": "display_data"
    },
    {
     "name": "stdout",
     "output_type": "stream",
     "text": [
      "File saved as tmp_rollout_dir/video22.mp4\n"
     ]
    },
    {
     "data": {
      "text/html": [
       "<video controls src=\"tmp_rollout_dir/video22.mp4\" width=\"640\" height=\"480\"></video>"
      ],
      "text/plain": [
       "<IPython.core.display.HTML object>"
      ]
     },
     "metadata": {},
     "output_type": "display_data"
    },
    {
     "name": "stdout",
     "output_type": "stream",
     "text": [
      "File saved as tmp_rollout_dir/video23.mp4\n"
     ]
    },
    {
     "data": {
      "text/html": [
       "<video controls src=\"tmp_rollout_dir/video23.mp4\" width=\"640\" height=\"480\"></video>"
      ],
      "text/plain": [
       "<IPython.core.display.HTML object>"
      ]
     },
     "metadata": {},
     "output_type": "display_data"
    },
    {
     "name": "stdout",
     "output_type": "stream",
     "text": [
      "File saved as tmp_rollout_dir/video24.mp4\n"
     ]
    },
    {
     "data": {
      "text/html": [
       "<video controls src=\"tmp_rollout_dir/video24.mp4\" width=\"640\" height=\"480\"></video>"
      ],
      "text/plain": [
       "<IPython.core.display.HTML object>"
      ]
     },
     "metadata": {},
     "output_type": "display_data"
    },
    {
     "name": "stdout",
     "output_type": "stream",
     "text": [
      "File saved as tmp_rollout_dir/video26.mp4\n"
     ]
    },
    {
     "data": {
      "text/html": [
       "<video controls src=\"tmp_rollout_dir/video26.mp4\" width=\"640\" height=\"480\"></video>"
      ],
      "text/plain": [
       "<IPython.core.display.HTML object>"
      ]
     },
     "metadata": {},
     "output_type": "display_data"
    },
    {
     "name": "stdout",
     "output_type": "stream",
     "text": [
      "File saved as tmp_rollout_dir/video27.mp4\n"
     ]
    },
    {
     "data": {
      "text/html": [
       "<video controls src=\"tmp_rollout_dir/video27.mp4\" width=\"640\" height=\"480\"></video>"
      ],
      "text/plain": [
       "<IPython.core.display.HTML object>"
      ]
     },
     "metadata": {},
     "output_type": "display_data"
    },
    {
     "name": "stdout",
     "output_type": "stream",
     "text": [
      "File saved as tmp_rollout_dir/video28.mp4\n"
     ]
    },
    {
     "data": {
      "text/html": [
       "<video controls src=\"tmp_rollout_dir/video28.mp4\" width=\"640\" height=\"480\"></video>"
      ],
      "text/plain": [
       "<IPython.core.display.HTML object>"
      ]
     },
     "metadata": {},
     "output_type": "display_data"
    },
    {
     "name": "stdout",
     "output_type": "stream",
     "text": [
      "File saved as tmp_rollout_dir/video29.mp4\n"
     ]
    },
    {
     "data": {
      "text/html": [
       "<video controls src=\"tmp_rollout_dir/video29.mp4\" width=\"640\" height=\"480\"></video>"
      ],
      "text/plain": [
       "<IPython.core.display.HTML object>"
      ]
     },
     "metadata": {},
     "output_type": "display_data"
    },
    {
     "name": "stdout",
     "output_type": "stream",
     "text": [
      "File saved as tmp_rollout_dir/video30.mp4\n"
     ]
    },
    {
     "data": {
      "text/html": [
       "<video controls src=\"tmp_rollout_dir/video30.mp4\" width=\"640\" height=\"480\"></video>"
      ],
      "text/plain": [
       "<IPython.core.display.HTML object>"
      ]
     },
     "metadata": {},
     "output_type": "display_data"
    },
    {
     "name": "stdout",
     "output_type": "stream",
     "text": [
      "File saved as tmp_rollout_dir/video31.mp4\n"
     ]
    },
    {
     "data": {
      "text/html": [
       "<video controls src=\"tmp_rollout_dir/video31.mp4\" width=\"640\" height=\"480\"></video>"
      ],
      "text/plain": [
       "<IPython.core.display.HTML object>"
      ]
     },
     "metadata": {},
     "output_type": "display_data"
    },
    {
     "name": "stdout",
     "output_type": "stream",
     "text": [
      "File saved as tmp_rollout_dir/video32.mp4\n"
     ]
    },
    {
     "data": {
      "text/html": [
       "<video controls src=\"tmp_rollout_dir/video32.mp4\" width=\"640\" height=\"480\"></video>"
      ],
      "text/plain": [
       "<IPython.core.display.HTML object>"
      ]
     },
     "metadata": {},
     "output_type": "display_data"
    },
    {
     "name": "stdout",
     "output_type": "stream",
     "text": [
      "File saved as tmp_rollout_dir/video33.mp4\n"
     ]
    },
    {
     "data": {
      "text/html": [
       "<video controls src=\"tmp_rollout_dir/video33.mp4\" width=\"640\" height=\"480\"></video>"
      ],
      "text/plain": [
       "<IPython.core.display.HTML object>"
      ]
     },
     "metadata": {},
     "output_type": "display_data"
    },
    {
     "name": "stdout",
     "output_type": "stream",
     "text": [
      "File saved as tmp_rollout_dir/video34.mp4\n"
     ]
    },
    {
     "data": {
      "text/html": [
       "<video controls src=\"tmp_rollout_dir/video34.mp4\" width=\"640\" height=\"480\"></video>"
      ],
      "text/plain": [
       "<IPython.core.display.HTML object>"
      ]
     },
     "metadata": {},
     "output_type": "display_data"
    },
    {
     "name": "stdout",
     "output_type": "stream",
     "text": [
      "File saved as tmp_rollout_dir/video35.mp4\n"
     ]
    },
    {
     "data": {
      "text/html": [
       "<video controls src=\"tmp_rollout_dir/video35.mp4\" width=\"640\" height=\"480\"></video>"
      ],
      "text/plain": [
       "<IPython.core.display.HTML object>"
      ]
     },
     "metadata": {},
     "output_type": "display_data"
    },
    {
     "name": "stdout",
     "output_type": "stream",
     "text": [
      "File saved as tmp_rollout_dir/video36.mp4\n"
     ]
    },
    {
     "data": {
      "text/html": [
       "<video controls src=\"tmp_rollout_dir/video36.mp4\" width=\"640\" height=\"480\"></video>"
      ],
      "text/plain": [
       "<IPython.core.display.HTML object>"
      ]
     },
     "metadata": {},
     "output_type": "display_data"
    },
    {
     "name": "stdout",
     "output_type": "stream",
     "text": [
      "File saved as tmp_rollout_dir/video37.mp4\n"
     ]
    },
    {
     "data": {
      "text/html": [
       "<video controls src=\"tmp_rollout_dir/video37.mp4\" width=\"640\" height=\"480\"></video>"
      ],
      "text/plain": [
       "<IPython.core.display.HTML object>"
      ]
     },
     "metadata": {},
     "output_type": "display_data"
    },
    {
     "name": "stdout",
     "output_type": "stream",
     "text": [
      "File saved as tmp_rollout_dir/video38.mp4\n"
     ]
    },
    {
     "data": {
      "text/html": [
       "<video controls src=\"tmp_rollout_dir/video38.mp4\" width=\"640\" height=\"480\"></video>"
      ],
      "text/plain": [
       "<IPython.core.display.HTML object>"
      ]
     },
     "metadata": {},
     "output_type": "display_data"
    },
    {
     "name": "stdout",
     "output_type": "stream",
     "text": [
      "File saved as tmp_rollout_dir/video39.mp4\n"
     ]
    },
    {
     "data": {
      "text/html": [
       "<video controls src=\"tmp_rollout_dir/video39.mp4\" width=\"640\" height=\"480\"></video>"
      ],
      "text/plain": [
       "<IPython.core.display.HTML object>"
      ]
     },
     "metadata": {},
     "output_type": "display_data"
    },
    {
     "name": "stdout",
     "output_type": "stream",
     "text": [
      "File saved as tmp_rollout_dir/video42.mp4\n"
     ]
    },
    {
     "data": {
      "text/html": [
       "<video controls src=\"tmp_rollout_dir/video42.mp4\" width=\"640\" height=\"480\"></video>"
      ],
      "text/plain": [
       "<IPython.core.display.HTML object>"
      ]
     },
     "metadata": {},
     "output_type": "display_data"
    },
    {
     "name": "stdout",
     "output_type": "stream",
     "text": [
      "File saved as tmp_rollout_dir/video44.mp4\n"
     ]
    },
    {
     "data": {
      "text/html": [
       "<video controls src=\"tmp_rollout_dir/video44.mp4\" width=\"640\" height=\"480\"></video>"
      ],
      "text/plain": [
       "<IPython.core.display.HTML object>"
      ]
     },
     "metadata": {},
     "output_type": "display_data"
    },
    {
     "name": "stdout",
     "output_type": "stream",
     "text": [
      "File saved as tmp_rollout_dir/video46.mp4\n"
     ]
    },
    {
     "data": {
      "text/html": [
       "<video controls src=\"tmp_rollout_dir/video46.mp4\" width=\"640\" height=\"480\"></video>"
      ],
      "text/plain": [
       "<IPython.core.display.HTML object>"
      ]
     },
     "metadata": {},
     "output_type": "display_data"
    },
    {
     "name": "stdout",
     "output_type": "stream",
     "text": [
      "File saved as tmp_rollout_dir/video47.mp4\n"
     ]
    },
    {
     "data": {
      "text/html": [
       "<video controls src=\"tmp_rollout_dir/video47.mp4\" width=\"640\" height=\"480\"></video>"
      ],
      "text/plain": [
       "<IPython.core.display.HTML object>"
      ]
     },
     "metadata": {},
     "output_type": "display_data"
    },
    {
     "name": "stdout",
     "output_type": "stream",
     "text": [
      "File saved as tmp_rollout_dir/video50.mp4\n"
     ]
    },
    {
     "data": {
      "text/html": [
       "<video controls src=\"tmp_rollout_dir/video50.mp4\" width=\"640\" height=\"480\"></video>"
      ],
      "text/plain": [
       "<IPython.core.display.HTML object>"
      ]
     },
     "metadata": {},
     "output_type": "display_data"
    },
    {
     "name": "stdout",
     "output_type": "stream",
     "text": [
      "File saved as tmp_rollout_dir/video52.mp4\n"
     ]
    },
    {
     "data": {
      "text/html": [
       "<video controls src=\"tmp_rollout_dir/video52.mp4\" width=\"640\" height=\"480\"></video>"
      ],
      "text/plain": [
       "<IPython.core.display.HTML object>"
      ]
     },
     "metadata": {},
     "output_type": "display_data"
    },
    {
     "name": "stdout",
     "output_type": "stream",
     "text": [
      "File saved as tmp_rollout_dir/video53.mp4\n"
     ]
    },
    {
     "data": {
      "text/html": [
       "<video controls src=\"tmp_rollout_dir/video53.mp4\" width=\"640\" height=\"480\"></video>"
      ],
      "text/plain": [
       "<IPython.core.display.HTML object>"
      ]
     },
     "metadata": {},
     "output_type": "display_data"
    },
    {
     "name": "stdout",
     "output_type": "stream",
     "text": [
      "File saved as tmp_rollout_dir/video54.mp4\n"
     ]
    },
    {
     "data": {
      "text/html": [
       "<video controls src=\"tmp_rollout_dir/video54.mp4\" width=\"640\" height=\"480\"></video>"
      ],
      "text/plain": [
       "<IPython.core.display.HTML object>"
      ]
     },
     "metadata": {},
     "output_type": "display_data"
    },
    {
     "name": "stdout",
     "output_type": "stream",
     "text": [
      "File saved as tmp_rollout_dir/video55.mp4\n"
     ]
    },
    {
     "data": {
      "text/html": [
       "<video controls src=\"tmp_rollout_dir/video55.mp4\" width=\"640\" height=\"480\"></video>"
      ],
      "text/plain": [
       "<IPython.core.display.HTML object>"
      ]
     },
     "metadata": {},
     "output_type": "display_data"
    },
    {
     "name": "stdout",
     "output_type": "stream",
     "text": [
      "File saved as tmp_rollout_dir/video56.mp4\n"
     ]
    },
    {
     "data": {
      "text/html": [
       "<video controls src=\"tmp_rollout_dir/video56.mp4\" width=\"640\" height=\"480\"></video>"
      ],
      "text/plain": [
       "<IPython.core.display.HTML object>"
      ]
     },
     "metadata": {},
     "output_type": "display_data"
    },
    {
     "name": "stdout",
     "output_type": "stream",
     "text": [
      "File saved as tmp_rollout_dir/video58.mp4\n"
     ]
    },
    {
     "data": {
      "text/html": [
       "<video controls src=\"tmp_rollout_dir/video58.mp4\" width=\"640\" height=\"480\"></video>"
      ],
      "text/plain": [
       "<IPython.core.display.HTML object>"
      ]
     },
     "metadata": {},
     "output_type": "display_data"
    },
    {
     "name": "stdout",
     "output_type": "stream",
     "text": [
      "File saved as tmp_rollout_dir/video59.mp4\n"
     ]
    },
    {
     "data": {
      "text/html": [
       "<video controls src=\"tmp_rollout_dir/video59.mp4\" width=\"640\" height=\"480\"></video>"
      ],
      "text/plain": [
       "<IPython.core.display.HTML object>"
      ]
     },
     "metadata": {},
     "output_type": "display_data"
    },
    {
     "name": "stdout",
     "output_type": "stream",
     "text": [
      "File saved as tmp_rollout_dir/video60.mp4\n"
     ]
    },
    {
     "data": {
      "text/html": [
       "<video controls src=\"tmp_rollout_dir/video60.mp4\" width=\"640\" height=\"480\"></video>"
      ],
      "text/plain": [
       "<IPython.core.display.HTML object>"
      ]
     },
     "metadata": {},
     "output_type": "display_data"
    },
    {
     "name": "stdout",
     "output_type": "stream",
     "text": [
      "File saved as tmp_rollout_dir/video64.mp4\n"
     ]
    },
    {
     "data": {
      "text/html": [
       "<video controls src=\"tmp_rollout_dir/video64.mp4\" width=\"640\" height=\"480\"></video>"
      ],
      "text/plain": [
       "<IPython.core.display.HTML object>"
      ]
     },
     "metadata": {},
     "output_type": "display_data"
    },
    {
     "name": "stdout",
     "output_type": "stream",
     "text": [
      "File saved as tmp_rollout_dir/video65.mp4\n"
     ]
    },
    {
     "data": {
      "text/html": [
       "<video controls src=\"tmp_rollout_dir/video65.mp4\" width=\"640\" height=\"480\"></video>"
      ],
      "text/plain": [
       "<IPython.core.display.HTML object>"
      ]
     },
     "metadata": {},
     "output_type": "display_data"
    },
    {
     "name": "stdout",
     "output_type": "stream",
     "text": [
      "File saved as tmp_rollout_dir/video66.mp4\n"
     ]
    },
    {
     "data": {
      "text/html": [
       "<video controls src=\"tmp_rollout_dir/video66.mp4\" width=\"640\" height=\"480\"></video>"
      ],
      "text/plain": [
       "<IPython.core.display.HTML object>"
      ]
     },
     "metadata": {},
     "output_type": "display_data"
    },
    {
     "name": "stdout",
     "output_type": "stream",
     "text": [
      "File saved as tmp_rollout_dir/video67.mp4\n"
     ]
    },
    {
     "data": {
      "text/html": [
       "<video controls src=\"tmp_rollout_dir/video67.mp4\" width=\"640\" height=\"480\"></video>"
      ],
      "text/plain": [
       "<IPython.core.display.HTML object>"
      ]
     },
     "metadata": {},
     "output_type": "display_data"
    },
    {
     "name": "stdout",
     "output_type": "stream",
     "text": [
      "File saved as tmp_rollout_dir/video68.mp4\n"
     ]
    },
    {
     "data": {
      "text/html": [
       "<video controls src=\"tmp_rollout_dir/video68.mp4\" width=\"640\" height=\"480\"></video>"
      ],
      "text/plain": [
       "<IPython.core.display.HTML object>"
      ]
     },
     "metadata": {},
     "output_type": "display_data"
    },
    {
     "name": "stdout",
     "output_type": "stream",
     "text": [
      "File saved as tmp_rollout_dir/video69.mp4\n"
     ]
    },
    {
     "data": {
      "text/html": [
       "<video controls src=\"tmp_rollout_dir/video69.mp4\" width=\"640\" height=\"480\"></video>"
      ],
      "text/plain": [
       "<IPython.core.display.HTML object>"
      ]
     },
     "metadata": {},
     "output_type": "display_data"
    },
    {
     "name": "stdout",
     "output_type": "stream",
     "text": [
      "Total successes: 54\n"
     ]
    }
   ],
   "source": [
    "total = 0\n",
    "\n",
    "for i, p in enumerate(pickles):\n",
    "    data = pickle_data(p)\n",
    "    if not data[\"success\"]:\n",
    "        continue\n",
    "    ims = data_to_video(data)\n",
    "    video_tag = create_mp4_jupyter(ims, tmp_rollout_dir / f\"video{i}.mp4\")\n",
    "    display(video_tag)\n",
    "    total += 1\n",
    "\n",
    "print(f\"Total successes: {total}\")"
   ]
  },
  {
   "cell_type": "code",
   "execution_count": null,
   "metadata": {},
   "outputs": [],
   "source": []
  }
 ],
 "metadata": {
  "kernelspec": {
   "display_name": "rlgpu",
   "language": "python",
   "name": "python3"
  },
  "language_info": {
   "codemirror_mode": {
    "name": "ipython",
    "version": 3
   },
   "file_extension": ".py",
   "mimetype": "text/x-python",
   "name": "python",
   "nbconvert_exporter": "python",
   "pygments_lexer": "ipython3",
   "version": "3.8.18"
  }
 },
 "nbformat": 4,
 "nbformat_minor": 2
}
