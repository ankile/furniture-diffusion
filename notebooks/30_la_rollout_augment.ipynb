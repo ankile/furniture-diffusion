{
 "cells": [
  {
   "cell_type": "markdown",
   "metadata": {},
   "source": [
    "# Investigate rollouts and resulting datasets"
   ]
  },
  {
   "cell_type": "markdown",
   "metadata": {},
   "source": [
    "## Round table"
   ]
  },
  {
   "cell_type": "markdown",
   "metadata": {},
   "source": [
    "### Visualize rollouts"
   ]
  },
  {
   "cell_type": "code",
   "execution_count": 21,
   "metadata": {},
   "outputs": [],
   "source": [
    "from pathlib import Path\n",
    "from src.visualization.render_mp4 import (\n",
    "    mp4_from_pickle_jupyter,\n",
    "    unpickle_data,\n",
    "    pickle_data,\n",
    ")\n",
    "from src.common.files import get_raw_paths\n",
    "import random\n",
    "from tqdm import tqdm\n",
    "import numpy as np\n",
    "import matplotlib.pyplot as plt"
   ]
  },
  {
   "cell_type": "code",
   "execution_count": 22,
   "metadata": {},
   "outputs": [
    {
     "name": "stdout",
     "output_type": "stream",
     "text": [
      "Found the following paths:\n",
      "    /data/scratch-oc40/pulkitag/ankile/furniture-data/raw/sim/round_table/rollout/low/success/*.pkl*\n"
     ]
    },
    {
     "data": {
      "text/plain": [
       "(197,\n",
       " [PosixPath('/data/scratch-oc40/pulkitag/ankile/furniture-data/raw/sim/round_table/rollout/low/success/2024-02-19T08:14:14.pkl'),\n",
       "  PosixPath('/data/scratch-oc40/pulkitag/ankile/furniture-data/raw/sim/round_table/rollout/low/success/2024-02-19T00:27:40.pkl'),\n",
       "  PosixPath('/data/scratch-oc40/pulkitag/ankile/furniture-data/raw/sim/round_table/rollout/low/success/2024-02-19T03:53:08.pkl')])"
      ]
     },
     "execution_count": 22,
     "metadata": {},
     "output_type": "execute_result"
    }
   ],
   "source": [
    "rollout = get_raw_paths(\n",
    "    environment=\"sim\",\n",
    "    demo_source=\"rollout\",\n",
    "    demo_outcome=\"success\",\n",
    "    task=\"round_table\",\n",
    "    randomness=\"low\",\n",
    ")\n",
    "\n",
    "random.shuffle(rollout)\n",
    "\n",
    "len(rollout), rollout[:3]"
   ]
  },
  {
   "cell_type": "markdown",
   "metadata": {},
   "source": [
    "teleop = get_raw_paths(\n",
    "    environment=\"sim\",\n",
    "    demo_source=\"teleop\",\n",
    "    demo_outcome=\"success\",\n",
    "    task=\"round_table\",\n",
    "    randomness=\"low\",\n",
    ")\n",
    "\n",
    "random.shuffle(teleop)\n",
    "\n",
    "len(teleop), teleop[:3]"
   ]
  }
 ],
 "metadata": {
  "kernelspec": {
   "display_name": "rlgpu",
   "language": "python",
   "name": "python3"
  },
  "language_info": {
   "codemirror_mode": {
    "name": "ipython",
    "version": 3
   },
   "file_extension": ".py",
   "mimetype": "text/x-python",
   "name": "python",
   "nbconvert_exporter": "python",
   "pygments_lexer": "ipython3",
   "version": "3.8.18"
  }
 },
 "nbformat": 4,
 "nbformat_minor": 2
}
