{
 "cells": [
  {
   "cell_type": "markdown",
   "metadata": {},
   "source": [
    "# Investigate rollouts and resulting datasets"
   ]
  },
  {
   "cell_type": "markdown",
   "metadata": {},
   "source": [
    "## Round table"
   ]
  },
  {
   "cell_type": "markdown",
   "metadata": {},
   "source": [
    "### Visualize rollouts"
   ]
  },
  {
   "cell_type": "code",
   "execution_count": 6,
   "metadata": {},
   "outputs": [],
   "source": [
    "from pathlib import Path\n",
    "from src.visualization.render_mp4 import (\n",
    "    mp4_from_pickle_jupyter,\n",
    "    unpickle_data,\n",
    "    pickle_data,\n",
    ")\n",
    "from src.common.files import get_raw_paths\n",
    "import random\n",
    "from tqdm import tqdm"
   ]
  },
  {
   "cell_type": "code",
   "execution_count": 25,
   "metadata": {},
   "outputs": [
    {
     "name": "stdout",
     "output_type": "stream",
     "text": [
      "Found the following paths:\n",
      "    /data/scratch-oc40/pulkitag/ankile/furniture-data/raw/sim/square_table/rollout/low/success/*.pkl*\n"
     ]
    },
    {
     "data": {
      "text/plain": [
       "(1,\n",
       " [PosixPath('/data/scratch-oc40/pulkitag/ankile/furniture-data/raw/sim/square_table/rollout/low/success/2024-02-21T15:41:17.pkl')])"
      ]
     },
     "execution_count": 25,
     "metadata": {},
     "output_type": "execute_result"
    }
   ],
   "source": [
    "paths = get_raw_paths(\n",
    "    environment=\"sim\",\n",
    "    demo_source=\"rollout\",\n",
    "    demo_outcome=\"success\",\n",
    "    task=\"square_table\",\n",
    "    randomness=\"low\",\n",
    ")\n",
    "\n",
    "random.shuffle(paths)\n",
    "\n",
    "len(paths), paths[:3]"
   ]
  },
  {
   "cell_type": "code",
   "execution_count": 26,
   "metadata": {},
   "outputs": [
    {
     "name": "stderr",
     "output_type": "stream",
     "text": [
      "100%|██████████| 1/1 [00:15<00:00, 15.93s/it]\n"
     ]
    }
   ],
   "source": [
    "for p in tqdm(paths):\n",
    "    path = Path(p)\n",
    "    try:\n",
    "        data = unpickle_data(path)\n",
    "    except EOFError:\n",
    "        print(f\"Failed to load {path}\")"
   ]
  },
  {
   "cell_type": "code",
   "execution_count": 27,
   "metadata": {},
   "outputs": [
    {
     "name": "stdout",
     "output_type": "stream",
     "text": [
      "File saved as 2024-02-21T15:41:17.mp4\n"
     ]
    },
    {
     "data": {
      "text/html": [
       "<video controls src=\"2024-02-21T15:41:17.mp4\" width=\"640\" height=\"480\"></video>"
      ],
      "text/plain": [
       "<IPython.core.display.HTML object>"
      ]
     },
     "metadata": {},
     "output_type": "display_data"
    }
   ],
   "source": [
    "for path in paths[:10]:\n",
    "    mp4_from_pickle_jupyter(path, filename=path.stem + \".mp4\", fps=20)"
   ]
  },
  {
   "cell_type": "markdown",
   "metadata": {},
   "source": []
  },
  {
   "cell_type": "code",
   "execution_count": null,
   "metadata": {},
   "outputs": [],
   "source": []
  },
  {
   "cell_type": "code",
   "execution_count": 21,
   "metadata": {},
   "outputs": [
    {
     "name": "stdout",
     "output_type": "stream",
     "text": [
      "Found the following paths:\n",
      "    /data/scratch-oc40/pulkitag/ankile/furniture-data/raw/sim/lamp/rollout/low/success/*.pkl*\n"
     ]
    },
    {
     "data": {
      "text/plain": [
       "(50,\n",
       " [PosixPath('/data/scratch-oc40/pulkitag/ankile/furniture-data/raw/sim/lamp/rollout/low/success/2024-02-21T11:59:31.pkl'),\n",
       "  PosixPath('/data/scratch-oc40/pulkitag/ankile/furniture-data/raw/sim/lamp/rollout/low/success/2024-02-21T12:04:00.pkl'),\n",
       "  PosixPath('/data/scratch-oc40/pulkitag/ankile/furniture-data/raw/sim/lamp/rollout/low/success/2024-02-21T12:12:26.pkl')])"
      ]
     },
     "execution_count": 21,
     "metadata": {},
     "output_type": "execute_result"
    }
   ],
   "source": [
    "paths = get_raw_paths(\n",
    "    environment=\"sim\",\n",
    "    demo_source=\"rollout\",\n",
    "    demo_outcome=\"success\",\n",
    "    task=\"lamp\",\n",
    "    randomness=\"low\",\n",
    ")\n",
    "\n",
    "# random.shuffle(paths)\n",
    "\n",
    "paths = sorted(paths, reverse=False)\n",
    "\n",
    "len(paths), paths[:3]"
   ]
  },
  {
   "cell_type": "code",
   "execution_count": null,
   "metadata": {},
   "outputs": [
    {
     "name": "stderr",
     "output_type": "stream",
     "text": [
      "100%|██████████| 1/1 [00:15<00:00, 15.93s/it]\n"
     ]
    }
   ],
   "source": [
    "for p in tqdm(paths):\n",
    "    path = Path(p)\n",
    "    try:\n",
    "        data = unpickle_data(path)\n",
    "    except EOFError:\n",
    "        print(f\"Failed to load {path}\")"
   ]
  },
  {
   "cell_type": "code",
   "execution_count": 22,
   "metadata": {},
   "outputs": [
    {
     "name": "stdout",
     "output_type": "stream",
     "text": [
      "File saved as 2024-02-21T11:59:31.mp4\n"
     ]
    },
    {
     "data": {
      "text/html": [
       "<video controls src=\"2024-02-21T11:59:31.mp4\" width=\"640\" height=\"480\"></video>"
      ],
      "text/plain": [
       "<IPython.core.display.HTML object>"
      ]
     },
     "metadata": {},
     "output_type": "display_data"
    },
    {
     "name": "stdout",
     "output_type": "stream",
     "text": [
      "File saved as 2024-02-21T12:04:00.mp4\n"
     ]
    },
    {
     "data": {
      "text/html": [
       "<video controls src=\"2024-02-21T12:04:00.mp4\" width=\"640\" height=\"480\"></video>"
      ],
      "text/plain": [
       "<IPython.core.display.HTML object>"
      ]
     },
     "metadata": {},
     "output_type": "display_data"
    },
    {
     "name": "stdout",
     "output_type": "stream",
     "text": [
      "File saved as 2024-02-21T12:12:26.mp4\n"
     ]
    },
    {
     "data": {
      "text/html": [
       "<video controls src=\"2024-02-21T12:12:26.mp4\" width=\"640\" height=\"480\"></video>"
      ],
      "text/plain": [
       "<IPython.core.display.HTML object>"
      ]
     },
     "metadata": {},
     "output_type": "display_data"
    },
    {
     "name": "stdout",
     "output_type": "stream",
     "text": [
      "File saved as 2024-02-21T12:18:28.mp4\n"
     ]
    },
    {
     "data": {
      "text/html": [
       "<video controls src=\"2024-02-21T12:18:28.mp4\" width=\"640\" height=\"480\"></video>"
      ],
      "text/plain": [
       "<IPython.core.display.HTML object>"
      ]
     },
     "metadata": {},
     "output_type": "display_data"
    },
    {
     "name": "stdout",
     "output_type": "stream",
     "text": [
      "File saved as 2024-02-21T12:19:07.mp4\n"
     ]
    },
    {
     "data": {
      "text/html": [
       "<video controls src=\"2024-02-21T12:19:07.mp4\" width=\"640\" height=\"480\"></video>"
      ],
      "text/plain": [
       "<IPython.core.display.HTML object>"
      ]
     },
     "metadata": {},
     "output_type": "display_data"
    },
    {
     "name": "stdout",
     "output_type": "stream",
     "text": [
      "File saved as 2024-02-21T12:24:58.mp4\n"
     ]
    },
    {
     "data": {
      "text/html": [
       "<video controls src=\"2024-02-21T12:24:58.mp4\" width=\"640\" height=\"480\"></video>"
      ],
      "text/plain": [
       "<IPython.core.display.HTML object>"
      ]
     },
     "metadata": {},
     "output_type": "display_data"
    },
    {
     "name": "stdout",
     "output_type": "stream",
     "text": [
      "File saved as 2024-02-21T12:34:12.mp4\n"
     ]
    },
    {
     "data": {
      "text/html": [
       "<video controls src=\"2024-02-21T12:34:12.mp4\" width=\"640\" height=\"480\"></video>"
      ],
      "text/plain": [
       "<IPython.core.display.HTML object>"
      ]
     },
     "metadata": {},
     "output_type": "display_data"
    },
    {
     "name": "stdout",
     "output_type": "stream",
     "text": [
      "File saved as 2024-02-21T12:34:23.mp4\n"
     ]
    },
    {
     "data": {
      "text/html": [
       "<video controls src=\"2024-02-21T12:34:23.mp4\" width=\"640\" height=\"480\"></video>"
      ],
      "text/plain": [
       "<IPython.core.display.HTML object>"
      ]
     },
     "metadata": {},
     "output_type": "display_data"
    },
    {
     "ename": "KeyboardInterrupt",
     "evalue": "",
     "output_type": "error",
     "traceback": [
      "\u001b[0;31m---------------------------------------------------------------------------\u001b[0m",
      "\u001b[0;31mKeyboardInterrupt\u001b[0m                         Traceback (most recent call last)",
      "Cell \u001b[0;32mIn[22], line 2\u001b[0m\n\u001b[1;32m      1\u001b[0m \u001b[38;5;28;01mfor\u001b[39;00m path \u001b[38;5;129;01min\u001b[39;00m paths[:\u001b[38;5;241m10\u001b[39m]:\n\u001b[0;32m----> 2\u001b[0m     \u001b[43mmp4_from_pickle_jupyter\u001b[49m\u001b[43m(\u001b[49m\u001b[43mpath\u001b[49m\u001b[43m,\u001b[49m\u001b[43m \u001b[49m\u001b[43mfilename\u001b[49m\u001b[38;5;241;43m=\u001b[39;49m\u001b[43mpath\u001b[49m\u001b[38;5;241;43m.\u001b[39;49m\u001b[43mstem\u001b[49m\u001b[43m \u001b[49m\u001b[38;5;241;43m+\u001b[39;49m\u001b[43m \u001b[49m\u001b[38;5;124;43m\"\u001b[39;49m\u001b[38;5;124;43m.mp4\u001b[39;49m\u001b[38;5;124;43m\"\u001b[39;49m\u001b[43m,\u001b[49m\u001b[43m \u001b[49m\u001b[43mfps\u001b[49m\u001b[38;5;241;43m=\u001b[39;49m\u001b[38;5;241;43m20\u001b[39;49m\u001b[43m)\u001b[49m\n",
      "File \u001b[0;32m/data/scratch/ankile/furniture-diffusion/src/visualization/render_mp4.py:30\u001b[0m, in \u001b[0;36mmp4_from_pickle_jupyter\u001b[0;34m(pickle_path, filename, fps)\u001b[0m\n\u001b[1;32m     29\u001b[0m \u001b[38;5;28;01mdef\u001b[39;00m \u001b[38;5;21mmp4_from_pickle_jupyter\u001b[39m(pickle_path: Union[\u001b[38;5;28mstr\u001b[39m, Path], filename\u001b[38;5;241m=\u001b[39m\u001b[38;5;28;01mNone\u001b[39;00m, fps\u001b[38;5;241m=\u001b[39m\u001b[38;5;241m10\u001b[39m):\n\u001b[0;32m---> 30\u001b[0m     ims \u001b[38;5;241m=\u001b[39m \u001b[43mextract_numpy_frames\u001b[49m\u001b[43m(\u001b[49m\u001b[43mpickle_path\u001b[49m\u001b[43m)\u001b[49m\n\u001b[1;32m     31\u001b[0m     \u001b[38;5;28;01mreturn\u001b[39;00m create_mp4_jupyter(ims, filename, fps)\n",
      "File \u001b[0;32m/data/scratch/ankile/furniture-diffusion/src/visualization/render_mp4.py:53\u001b[0m, in \u001b[0;36mextract_numpy_frames\u001b[0;34m(pickle_path)\u001b[0m\n\u001b[1;32m     52\u001b[0m \u001b[38;5;28;01mdef\u001b[39;00m \u001b[38;5;21mextract_numpy_frames\u001b[39m(pickle_path: Union[\u001b[38;5;28mstr\u001b[39m, Path]) \u001b[38;5;241m-\u001b[39m\u001b[38;5;241m>\u001b[39m np\u001b[38;5;241m.\u001b[39mndarray:\n\u001b[0;32m---> 53\u001b[0m     data \u001b[38;5;241m=\u001b[39m \u001b[43munpickle_data\u001b[49m\u001b[43m(\u001b[49m\u001b[43mpickle_path\u001b[49m\u001b[43m)\u001b[49m\n\u001b[1;32m     54\u001b[0m     ims \u001b[38;5;241m=\u001b[39m data_to_video(data)\n\u001b[1;32m     56\u001b[0m     \u001b[38;5;28;01mreturn\u001b[39;00m ims\n",
      "File \u001b[0;32m/data/scratch/ankile/furniture-diffusion/src/visualization/render_mp4.py:73\u001b[0m, in \u001b[0;36munpickle_data\u001b[0;34m(pickle_path)\u001b[0m\n\u001b[1;32m     71\u001b[0m \u001b[38;5;28;01melif\u001b[39;00m pickle_path\u001b[38;5;241m.\u001b[39msuffix \u001b[38;5;241m==\u001b[39m \u001b[38;5;124m\"\u001b[39m\u001b[38;5;124m.pkl\u001b[39m\u001b[38;5;124m\"\u001b[39m:\n\u001b[1;32m     72\u001b[0m     \u001b[38;5;28;01mwith\u001b[39;00m \u001b[38;5;28mopen\u001b[39m(pickle_path, \u001b[38;5;124m\"\u001b[39m\u001b[38;5;124mrb\u001b[39m\u001b[38;5;124m\"\u001b[39m) \u001b[38;5;28;01mas\u001b[39;00m f:\n\u001b[0;32m---> 73\u001b[0m         \u001b[38;5;28;01mreturn\u001b[39;00m \u001b[43mpickle\u001b[49m\u001b[38;5;241;43m.\u001b[39;49m\u001b[43mload\u001b[49m\u001b[43m(\u001b[49m\u001b[43mf\u001b[49m\u001b[43m)\u001b[49m\n\u001b[1;32m     74\u001b[0m \u001b[38;5;28;01melif\u001b[39;00m pickle_path\u001b[38;5;241m.\u001b[39msuffix \u001b[38;5;241m==\u001b[39m \u001b[38;5;124m\"\u001b[39m\u001b[38;5;124m.xz\u001b[39m\u001b[38;5;124m\"\u001b[39m:\n\u001b[1;32m     75\u001b[0m     \u001b[38;5;28;01mwith\u001b[39;00m lzma\u001b[38;5;241m.\u001b[39mopen(pickle_path, \u001b[38;5;124m\"\u001b[39m\u001b[38;5;124mrb\u001b[39m\u001b[38;5;124m\"\u001b[39m) \u001b[38;5;28;01mas\u001b[39;00m f:\n",
      "\u001b[0;31mKeyboardInterrupt\u001b[0m: "
     ]
    }
   ],
   "source": [
    "for path in paths[:10]:\n",
    "    mp4_from_pickle_jupyter(path, filename=path.stem + \".mp4\", fps=20)"
   ]
  },
  {
   "cell_type": "markdown",
   "metadata": {},
   "source": [
    "TMP"
   ]
  },
  {
   "cell_type": "code",
   "execution_count": 2,
   "metadata": {},
   "outputs": [],
   "source": [
    "from wandb import Api\n",
    "\n",
    "api = Api()"
   ]
  },
  {
   "cell_type": "code",
   "execution_count": 3,
   "metadata": {},
   "outputs": [
    {
     "data": {
      "text/plain": [
       "[<Run robot-rearrangement/sweeps/5i7sdf47 (finished)>,\n",
       " <Run robot-rearrangement/sweeps/wuk56v2m (finished)>,\n",
       " <Run robot-rearrangement/sweeps/ejwzdvkj (finished)>,\n",
       " <Run robot-rearrangement/sweeps/w3ffcse8 (finished)>,\n",
       " <Run robot-rearrangement/sweeps/ln9ojbe1 (finished)>,\n",
       " <Run robot-rearrangement/sweeps/ss9slx1f (finished)>,\n",
       " <Run robot-rearrangement/sweeps/tuyqtrl9 (finished)>]"
      ]
     },
     "execution_count": 3,
     "metadata": {},
     "output_type": "execute_result"
    }
   ],
   "source": [
    "runs = [\n",
    "    run for run in api.sweep(\"sweeps/sweeps/ikfmvatf\").runs if run.state == \"finished\"\n",
    "]\n",
    "\n",
    "runs"
   ]
  },
  {
   "cell_type": "code",
   "execution_count": 16,
   "metadata": {},
   "outputs": [],
   "source": [
    "for run in runs:\n",
    "    # Set the stats to zero\n",
    "    run.summary[\"success_rate\"] = 0\n",
    "    run.summary[\"average_return\"] = 0\n",
    "    run.summary[\"total_return\"] = 0\n",
    "    run.summary[\"average_reward\"] = 0\n",
    "    run.summary[\"total_reward\"] = 0\n",
    "    run.summary[\"n_rollouts\"] = 0\n",
    "    run.summary[\"n_success\"] = 0\n",
    "    run.summary[\"currently_evaluating\"] = False\n",
    "\n",
    "    # Save the changes\n",
    "    run.update()"
   ]
  },
  {
   "cell_type": "code",
   "execution_count": null,
   "metadata": {},
   "outputs": [],
   "source": []
  }
 ],
 "metadata": {
  "kernelspec": {
   "display_name": "rlgpu",
   "language": "python",
   "name": "python3"
  },
  "language_info": {
   "codemirror_mode": {
    "name": "ipython",
    "version": 3
   },
   "file_extension": ".py",
   "mimetype": "text/x-python",
   "name": "python",
   "nbconvert_exporter": "python",
   "pygments_lexer": "ipython3",
   "version": "3.8.18"
  }
 },
 "nbformat": 4,
 "nbformat_minor": 2
}
