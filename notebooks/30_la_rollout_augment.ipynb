{
    "cells": [
        {
            "cell_type": "markdown",
            "metadata": {},
            "source": [
                "# Investigate rollouts and resulting datasets"
            ]
        },
        {
            "cell_type": "markdown",
            "metadata": {},
            "source": [
                "## Round table"
            ]
        },
        {
            "cell_type": "markdown",
            "metadata": {},
            "source": [
                "### Visualize rollouts"
            ]
        },
        {
            "cell_type": "code",
            "execution_count": null,
            "metadata": {},
            "outputs": [],
            "source": [
                "from pathlib import Path\n",
                "from src.visualization.render_mp4 import (\n",
                "    mp4_from_pickle_jupyter,\n",
                "    unpickle_data,\n",
                "    pickle_data,\n",
                ")\n",
                "from src.common.files import get_raw_paths\n",
                "import random\n",
                "from tqdm import tqdm\n",
                "\n",
                "base_dir = Path(\"tmp\")"
            ]
        },
        {
            "cell_type": "code",
            "execution_count": null,
            "metadata": {},
            "outputs": [],
            "source": [
                "paths = get_raw_paths(\n",
                "    environment=\"sim\",\n",
                "    demo_source=\"rollout\",\n",
                "    demo_outcome=\"success\",\n",
                "    task=\"square_table\",\n",
                "    randomness=\"low\",\n",
                ")\n",
                "\n",
                "random.shuffle(paths)\n",
                "\n",
                "len(paths), paths[:3]"
            ]
        },
        {
            "cell_type": "code",
            "execution_count": null,
            "metadata": {},
            "outputs": [],
            "source": [
                "for path in paths[:1]:\n",
                "    mp4_from_pickle_jupyter(path, filename=(base_dir / path.stem).with_suffix(\".mp4\"), fps=20)"
            ]
        },
        {
            "cell_type": "markdown",
            "metadata": {},
            "source": [
                "### Look at state-space coverage"
            ]
        },
        {
            "cell_type": "markdown",
            "metadata": {},
            "source": [
                "## Lamp"
            ]
        },
        {
            "cell_type": "markdown",
            "metadata": {},
            "source": [
                "### Visualize the rollouts"
            ]
        },
        {
            "cell_type": "code",
            "execution_count": null,
            "metadata": {},
            "outputs": [],
            "source": [
                "from pathlib import Path\n",
                "from src.visualization.render_mp4 import (\n",
                "    mp4_from_pickle_jupyter,\n",
                "    unpickle_data,\n",
                "    pickle_data,\n",
                ")\n",
                "from src.common.files import get_raw_paths\n",
                "import random\n",
                "from tqdm import tqdm\n",
                "\n",
                "base_dir = Path(\"tmp\")"
            ]
        },
        {
            "cell_type": "code",
            "execution_count": null,
            "metadata": {},
            "outputs": [],
            "source": [
                "paths = get_raw_paths(\n",
                "    environment=\"sim\",\n",
                "    demo_source=\"rollout\",\n",
                "    demo_outcome=\"success\",\n",
                "    task=\"lamp\",\n",
                "    randomness=\"low\",\n",
                ")\n",
                "\n",
                "# random.shuffle(paths)\n",
                "\n",
                "paths = sorted(paths, reverse=True)\n",
                "\n",
                "len(paths), paths[:3]"
            ]
        },
        {
            "cell_type": "code",
            "execution_count": null,
            "metadata": {},
            "outputs": [],
            "source": [
                "for i, path in enumerate(paths[:10], start=1):\n",
                "    mp4_from_pickle_jupyter(path, filename=(base_dir / path.stem).with_suffix(\".mp4\"), fps=20)"
            ]
        },
        {
            "cell_type": "markdown",
            "metadata": {},
            "source": [
                "## Round table"
            ]
        },
        {
            "cell_type": "code",
            "execution_count": null,
            "metadata": {},
            "outputs": [],
            "source": [
                "from pathlib import Path\n",
                "from src.visualization.render_mp4 import (\n",
                "    mp4_from_pickle_jupyter,\n",
                "    unpickle_data,\n",
                "    pickle_data,\n",
                ")\n",
                "from src.common.files import get_raw_paths\n",
                "import random\n",
                "from tqdm import tqdm\n",
                "\n",
                "base_dir = Path(\"tmp\")"
            ]
        },
        {
            "cell_type": "code",
            "execution_count": null,
            "metadata": {},
            "outputs": [],
            "source": [
                "paths = get_raw_paths(\n",
                "    environment=\"sim\",\n",
                "    demo_source=\"rollout\",\n",
                "    demo_outcome=\"success\",\n",
                "    task=\"round_table\",\n",
                "    randomness=\"low\",\n",
                ")\n",
                "\n",
                "# random.shuffle(paths)\n",
                "\n",
                "paths = sorted(paths, reverse=False)\n",
                "\n",
                "len(paths), paths[:3]"
            ]
        },
        {
            "cell_type": "code",
            "execution_count": null,
            "metadata": {},
            "outputs": [],
            "source": [
                "for i, path in enumerate(paths[:1], start=1):\n",
                "    mp4_from_pickle_jupyter(path, filename=(base_dir / path.stem).with_suffix(\".mp4\"), fps=20)"
            ]
        },
        {
            "cell_type": "markdown",
            "metadata": {},
            "source": [
                "### Plot coverage of new trajectories"
            ]
        },
        {
            "cell_type": "code",
            "execution_count": null,
            "metadata": {},
            "outputs": [],
            "source": [
                "import zarr\n",
                "import matplotlib.pyplot as plt\n",
                "import numpy as np\n",
                "\n",
                "\n",
                "from src.common.files import get_processed_paths"
            ]
        },
        {
            "cell_type": "code",
            "execution_count": null,
            "metadata": {},
            "outputs": [],
            "source": [
                "rollout_path, teleop_path = sorted(\n",
                "    get_processed_paths(\n",
                "        environment=\"sim\",\n",
                "        demo_source=[\"teleop\", \"rollout\"],\n",
                "        demo_outcome=\"success\",\n",
                "        task=\"round_table\",\n",
                "        randomness=\"low\",\n",
                "    )\n",
                ")\n",
                "\n",
                "rollout_path, teleop_path"
            ]
        },
        {
            "cell_type": "code",
            "execution_count": null,
            "metadata": {},
            "outputs": [],
            "source": [
                "z_rollout = zarr.open(str(rollout_path), mode=\"r\")\n",
                "z_teleop = zarr.open(str(teleop_path), mode=\"r\")\n",
                "\n",
                "ends_rollout = z_rollout[\"episode_ends\"][:]\n",
                "ends_teleop = z_teleop[\"episode_ends\"][:]\n",
                "\n",
                "pos_teleop = z_teleop[\"robot_state\"][:, :3]\n",
                "pos_rollout = z_rollout[\"robot_state\"][:, :3]\n",
                "\n",
                "# Split the data into episodes\n",
                "pos_teleop = np.split(pos_teleop, ends_teleop[:-1])\n",
                "pos_rollout = np.split(pos_rollout, ends_rollout[:-1])\n",
                "\n",
                "# # Concat them together again\n",
                "pos_teleop = np.concatenate(pos_teleop)\n",
                "pos_rollout = np.concatenate(pos_rollout)"
            ]
        },
        {
            "cell_type": "code",
            "execution_count": null,
            "metadata": {},
            "outputs": [],
            "source": [
                "len(ends_teleop), len(pos_teleop), len(ends_rollout), len(pos_rollout)"
            ]
        },
        {
            "cell_type": "markdown",
            "metadata": {},
            "source": [
                "### Plot the state-space coverage in 3D"
            ]
        },
        {
            "cell_type": "code",
            "execution_count": null,
            "metadata": {},
            "outputs": [],
            "source": [
                "fig = plt.figure(figsize=(6, 6))\n",
                "\n",
                "# Add a subplot for teleop data in the left side of the figure\n",
                "ax1 = fig.add_subplot(\n",
                "    111, projection=\"3d\"\n",
                ")  # Changed from 111 to 121 for a 1x2 grid, first position\n",
                "ax1.scatter(*pos_teleop.T, label=f\"Teleop (n={len(ends_teleop)})\", s=0.1)\n",
                "ax1.legend(frameon=False)\n",
                "ax1.set_title(\"Teleop data only\")\n",
                "ax1.set_xlabel(\"x\")\n",
                "ax1.set_ylabel(\"y\")\n",
                "ax1.set_zlabel(\"z\")\n",
                "\n",
                "plt.show()"
            ]
        },
        {
            "cell_type": "code",
            "execution_count": null,
            "metadata": {},
            "outputs": [],
            "source": [
                "fig = plt.figure(figsize=(12, 6))\n",
                "\n",
                "# Add a subplot for teleop data in the left side of the figure\n",
                "ax1 = fig.add_subplot(\n",
                "    121, projection=\"3d\"\n",
                ")  # Changed from 111 to 121 for a 1x2 grid, first position\n",
                "ax1.scatter(*pos_teleop.T, label=f\"Teleop (n={len(ends_teleop)})\", s=0.1)\n",
                "ax1.legend(frameon=False)\n",
                "ax1.set_title(\"Teleop data\")\n",
                "ax1.set_xlabel(\"x\")\n",
                "ax1.set_ylabel(\"y\")\n",
                "ax1.set_zlabel(\"z\")\n",
                "\n",
                "# Add a subplot for Rollout data in the right side of the figure\n",
                "ax2 = fig.add_subplot(\n",
                "    122, projection=\"3d\"\n",
                ")  # Changed from 111 to 122 for a 1x2 grid, second position\n",
                "# ax2.scatter(*pos_teleop.T, label=f\"Teleop (n={len(ends_teleop)})\", s=0.2, alpha=0.2)\n",
                "ax2.scatter(*pos_rollout.T, label=f\"Rollout (n={len(ends_rollout)})\", s=0.2, alpha=0.5)\n",
                "ax2.legend(frameon=False)\n",
                "ax2.set_title(\"Rollout data\")\n",
                "ax2.set_xlabel(\"x\")\n",
                "ax2.set_ylabel(\"y\")\n",
                "ax2.set_zlabel(\"z\")\n",
                "\n",
                "plt.savefig(\"figs/teleop_rollout.png\")\n",
                "\n",
                "plt.show()"
            ]
        },
        {
            "cell_type": "code",
            "execution_count": null,
            "metadata": {},
            "outputs": [],
            "source": [
                "fig = plt.figure(figsize=(6, 6))\n",
                "\n",
                "# Add a subplot for Rollout data in the right side of the figure\n",
                "ax2 = fig.add_subplot(\n",
                "    111, projection=\"3d\"\n",
                ")  # Changed from 111 to 122 for a 1x2 grid, second position\n",
                "# ax2.scatter(*pos_teleop.T, label=f\"Teleop (n={len(ends_teleop)})\", s=0.2, alpha=0.2)\n",
                "ax2.scatter(*pos_rollout.T, label=f\"Rollout (n={len(ends_rollout)})\", s=0.2, alpha=0.5)\n",
                "ax2.legend(frameon=False)\n",
                "ax2.set_title(\"Rollout data\")\n",
                "ax2.set_xlabel(\"x\")\n",
                "ax2.set_ylabel(\"y\")\n",
                "ax2.set_zlabel(\"z\")\n",
                "\n",
                "plt.savefig(\"figs/teleop_rollout.png\")\n",
                "\n",
                "plt.show()"
            ]
        }
    ],
    "metadata": {
        "kernelspec": {
            "display_name": "rlgpu",
            "language": "python",
            "name": "python3"
        },
        "language_info": {
            "codemirror_mode": {
                "name": "ipython",
                "version": 3
            },
            "file_extension": ".py",
            "mimetype": "text/x-python",
            "name": "python",
            "nbconvert_exporter": "python",
            "pygments_lexer": "ipython3",
            "version": "3.8.18"
        }
    },
    "nbformat": 4,
    "nbformat_minor": 2
}
