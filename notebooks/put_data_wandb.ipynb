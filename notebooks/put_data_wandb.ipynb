{
 "cells": [
  {
   "cell_type": "code",
   "execution_count": 5,
   "metadata": {},
   "outputs": [],
   "source": [
    "import os\n",
    "import wandb\n",
    "from glob import glob"
   ]
  },
  {
   "cell_type": "code",
   "execution_count": 2,
   "metadata": {},
   "outputs": [
    {
     "name": "stderr",
     "output_type": "stream",
     "text": [
      "\u001b[34m\u001b[1mwandb\u001b[0m: Currently logged in as: \u001b[33mankile\u001b[0m. Use \u001b[1m`wandb login --relogin`\u001b[0m to force relogin\n"
     ]
    },
    {
     "data": {
      "text/plain": [
       "True"
      ]
     },
     "execution_count": 2,
     "metadata": {},
     "output_type": "execute_result"
    }
   ],
   "source": [
    "os.environ[\"WANDB_NOTEBOOK_NAME\"] = \"put_data_wandb.ipynb\"\n",
    "os.environ[\"WANDB_ENTITY\"] = \"ankile\"\n",
    "os.environ[\"WANDB_PROJECT\"] = \"furniture-diffusion\"\n",
    "wandb.login()"
   ]
  },
  {
   "cell_type": "code",
   "execution_count": 3,
   "metadata": {},
   "outputs": [],
   "source": [
    "import os\n",
    "import shutil\n",
    "\n",
    "# Original base path\n",
    "base_path = \"scripted_sim_demo/one_leg/low\"\n",
    "\n",
    "# New base path\n",
    "new_base_path = \"sim_dataset/one_leg/low\"\n",
    "\n",
    "# Create new base directory if it doesn't exist\n",
    "if not os.path.exists(new_base_path):\n",
    "    os.makedirs(new_base_path)\n",
    "\n",
    "# Iterate through each folder in the original base directory\n",
    "for folder in os.listdir(base_path):\n",
    "    folder_path = os.path.join(base_path, folder)\n",
    "\n",
    "    # Check if it's a directory\n",
    "    if os.path.isdir(folder_path):\n",
    "        # Find the pickle file in the directory\n",
    "        for file in os.listdir(folder_path):\n",
    "            if file.endswith(\".pkl\"):\n",
    "                src = os.path.join(folder_path, file)\n",
    "                dest = os.path.join(new_base_path, file)\n",
    "\n",
    "                # Move the pickle file to the new base directory\n",
    "                shutil.move(src, dest)\n",
    "\n",
    "        # Remove the now-empty folder in the original base directory\n",
    "        os.rmdir(folder_path)"
   ]
  },
  {
   "cell_type": "code",
   "execution_count": 10,
   "metadata": {},
   "outputs": [
    {
     "data": {
      "text/plain": [
       "['sim_dataset/one_leg/low/']"
      ]
     },
     "execution_count": 10,
     "metadata": {},
     "output_type": "execute_result"
    }
   ],
   "source": [
    "glob(\"sim_dataset/*/*/\")"
   ]
  },
  {
   "cell_type": "code",
   "execution_count": 12,
   "metadata": {},
   "outputs": [
    {
     "data": {
      "text/html": [
       "Tracking run with wandb version 0.15.10"
      ],
      "text/plain": [
       "<IPython.core.display.HTML object>"
      ]
     },
     "metadata": {},
     "output_type": "display_data"
    },
    {
     "data": {
      "text/html": [
       "Run data is saved locally in <code>/home/azureuser/furniture-diffusion/wandb/run-20230913_221553-ehixd94b</code>"
      ],
      "text/plain": [
       "<IPython.core.display.HTML object>"
      ]
     },
     "metadata": {},
     "output_type": "display_data"
    },
    {
     "data": {
      "text/html": [
       "Syncing run <strong><a href='https://wandb.ai/ankile/furniture-diffusion/runs/ehixd94b' target=\"_blank\">olive-armadillo-5</a></strong> to <a href='https://wandb.ai/ankile/furniture-diffusion' target=\"_blank\">Weights & Biases</a> (<a href='https://wandb.me/run' target=\"_blank\">docs</a>)<br/>"
      ],
      "text/plain": [
       "<IPython.core.display.HTML object>"
      ]
     },
     "metadata": {},
     "output_type": "display_data"
    },
    {
     "data": {
      "text/html": [
       " View project at <a href='https://wandb.ai/ankile/furniture-diffusion' target=\"_blank\">https://wandb.ai/ankile/furniture-diffusion</a>"
      ],
      "text/plain": [
       "<IPython.core.display.HTML object>"
      ]
     },
     "metadata": {},
     "output_type": "display_data"
    },
    {
     "data": {
      "text/html": [
       " View run at <a href='https://wandb.ai/ankile/furniture-diffusion/runs/ehixd94b' target=\"_blank\">https://wandb.ai/ankile/furniture-diffusion/runs/ehixd94b</a>"
      ],
      "text/plain": [
       "<IPython.core.display.HTML object>"
      ]
     },
     "metadata": {},
     "output_type": "display_data"
    },
    {
     "name": "stderr",
     "output_type": "stream",
     "text": [
      "\u001b[34m\u001b[1mwandb\u001b[0m: Adding directory to artifact (./sim_dataset/one_leg/low)... Done. 56.7s\n"
     ]
    },
    {
     "data": {
      "text/html": [
       "Waiting for W&B process to finish... <strong style=\"color:green\">(success).</strong>"
      ],
      "text/plain": [
       "<IPython.core.display.HTML object>"
      ]
     },
     "metadata": {},
     "output_type": "display_data"
    },
    {
     "data": {
      "text/html": [
       " View run <strong style=\"color:#cdcd00\">olive-armadillo-5</strong> at: <a href='https://wandb.ai/ankile/furniture-diffusion/runs/ehixd94b' target=\"_blank\">https://wandb.ai/ankile/furniture-diffusion/runs/ehixd94b</a><br/> View job at <a href='https://wandb.ai/ankile/furniture-diffusion/jobs/QXJ0aWZhY3RDb2xsZWN0aW9uOjk3MzA4ODk0/version_details/v1' target=\"_blank\">https://wandb.ai/ankile/furniture-diffusion/jobs/QXJ0aWZhY3RDb2xsZWN0aW9uOjk3MzA4ODk0/version_details/v1</a><br/>Synced 6 W&B file(s), 0 media file(s), 47 artifact file(s) and 0 other file(s)"
      ],
      "text/plain": [
       "<IPython.core.display.HTML object>"
      ]
     },
     "metadata": {},
     "output_type": "display_data"
    },
    {
     "data": {
      "text/html": [
       "Find logs at: <code>./wandb/run-20230913_221553-ehixd94b/logs</code>"
      ],
      "text/plain": [
       "<IPython.core.display.HTML object>"
      ]
     },
     "metadata": {},
     "output_type": "display_data"
    }
   ],
   "source": [
    "with wandb.init(job_type=\"put_data\"):\n",
    "    artifact = wandb.Artifact(\n",
    "        name=\"sim_dataset\",\n",
    "        type=\"dataset\",\n",
    "        description=\"Dataset of simulated furniture diffusion\",\n",
    "    )\n",
    "\n",
    "    for folder in glob(\"sim_dataset/*/*/\"):\n",
    "        artifact.add_dir(folder, name=\"/\".join(folder.split(\"/\")[1:]))\n",
    "\n",
    "    # Save the artifact\n",
    "    wandb.log_artifact(artifact)"
   ]
  },
  {
   "cell_type": "code",
   "execution_count": null,
   "metadata": {},
   "outputs": [],
   "source": []
  }
 ],
 "metadata": {
  "kernelspec": {
   "display_name": "Python 3",
   "language": "python",
   "name": "python3"
  },
  "language_info": {
   "codemirror_mode": {
    "name": "ipython",
    "version": 3
   },
   "file_extension": ".py",
   "mimetype": "text/x-python",
   "name": "python",
   "nbconvert_exporter": "python",
   "pygments_lexer": "ipython3",
   "version": "3.8.18"
  },
  "orig_nbformat": 4
 },
 "nbformat": 4,
 "nbformat_minor": 2
}
