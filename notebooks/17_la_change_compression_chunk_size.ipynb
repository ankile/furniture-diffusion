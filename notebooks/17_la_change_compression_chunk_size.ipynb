{
 "cells": [
  {
   "cell_type": "code",
   "execution_count": 1,
   "metadata": {},
   "outputs": [],
   "source": [
    "import numpy as np\n",
    "from tqdm import tqdm\n",
    "import wandb as wb\n",
    "import imageio\n",
    "from io import BytesIO\n",
    "import pickle\n",
    "import zarr\n",
    "from pathlib import Path\n",
    "import os\n",
    "import random\n",
    "\n",
    "from src.codecs.imagecodecs import Jpeg2k, register_codecs"
   ]
  },
  {
   "cell_type": "code",
   "execution_count": 2,
   "metadata": {},
   "outputs": [],
   "source": [
    "data_base_dir = Path(os.environ.get(\"FURNITURE_DATA_DIR\", \"data\"))"
   ]
  },
  {
   "cell_type": "markdown",
   "metadata": {},
   "source": [
    "## Inspect the current image data file we're using"
   ]
  },
  {
   "cell_type": "code",
   "execution_count": 3,
   "metadata": {},
   "outputs": [],
   "source": [
    "datapath = data_base_dir / \"processed/sim/image_small/one_leg/data.zarr\"\n",
    "\n",
    "store = zarr.open(datapath, mode=\"r\")"
   ]
  },
  {
   "cell_type": "code",
   "execution_count": 4,
   "metadata": {},
   "outputs": [
    {
     "data": {
      "text/plain": [
       "((370234, 224, 224, 3), (1, 224, 224, 3))"
      ]
     },
     "execution_count": 4,
     "metadata": {},
     "output_type": "execute_result"
    }
   ],
   "source": [
    "store[\"color_image1\"].shape, store[\"color_image1\"].chunks"
   ]
  },
  {
   "cell_type": "code",
   "execution_count": 5,
   "metadata": {},
   "outputs": [
    {
     "data": {
      "text/plain": [
       "55.730583552"
      ]
     },
     "execution_count": 5,
     "metadata": {},
     "output_type": "execute_result"
    }
   ],
   "source": [
    "# Check the storage size of the dataset in GB\n",
    "store[\"color_image1\"].nbytes / 1e9"
   ]
  },
  {
   "cell_type": "markdown",
   "metadata": {},
   "source": [
    "## Do a one-off conversion of a dataset with chunksize 1 to 32"
   ]
  },
  {
   "cell_type": "code",
   "execution_count": 7,
   "metadata": {},
   "outputs": [],
   "source": [
    "datapath = data_base_dir / \"processed/sim/image_small/one_leg/data_batch_32.zarr\"\n",
    "\n",
    "store = zarr.open(datapath, mode=\"a\")"
   ]
  },
  {
   "cell_type": "code",
   "execution_count": null,
   "metadata": {},
   "outputs": [],
   "source": [
    "# z.create_dataset(\n",
    "#     \"reward\",\n",
    "#     shape=(0,),\n",
    "#     dtype=np.float32,\n",
    "#     chunks=(chunksize,),\n",
    "# )\n",
    "# z.create_dataset(\n",
    "#     \"skill\",\n",
    "#     shape=(0,),\n",
    "#     dtype=np.float32,\n",
    "#     chunks=(chunksize,),\n",
    "# )"
   ]
  },
  {
   "cell_type": "code",
   "execution_count": 8,
   "metadata": {},
   "outputs": [
    {
     "name": "stderr",
     "output_type": "stream",
     "text": [
      "  0%|          | 0/3696 [00:00<?, ?it/s]"
     ]
    },
    {
     "name": "stderr",
     "output_type": "stream",
     "text": [
      "100%|██████████| 3696/3696 [58:34<00:00,  1.05it/s]\n"
     ]
    }
   ],
   "source": [
    "store.create_dataset(\n",
    "    \"reward\",\n",
    "    shape=store[\"reward_old\"].shape,\n",
    "    dtype=np.int8,\n",
    "    chunks=(100,),\n",
    ")\n",
    "\n",
    "# Iterate over the dataset and copy over\n",
    "for i in tqdm(range(0, store[\"reward_old\"].shape[0], 100)):\n",
    "    store[\"reward\"][i : i + 100] = store[\"reward_old\"][i : i + 100]"
   ]
  },
  {
   "cell_type": "code",
   "execution_count": 9,
   "metadata": {},
   "outputs": [
    {
     "name": "stderr",
     "output_type": "stream",
     "text": [
      "100%|██████████| 3696/3696 [52:59<00:00,  1.16it/s]\n"
     ]
    }
   ],
   "source": [
    "store.create_dataset(\n",
    "    \"skill\",\n",
    "    shape=store[\"skill_old\"].shape,\n",
    "    dtype=np.int8,\n",
    "    chunks=(100,),\n",
    ")\n",
    "\n",
    "# Iterate over the dataset and copy over\n",
    "for i in tqdm(range(0, store[\"skill_old\"].shape[0], 100)):\n",
    "    store[\"skill\"][i : i + 100] = store[\"skill_old\"][i : i + 100]"
   ]
  },
  {
   "cell_type": "code",
   "execution_count": null,
   "metadata": {},
   "outputs": [],
   "source": []
  }
 ],
 "metadata": {
  "kernelspec": {
   "display_name": "rlgpu",
   "language": "python",
   "name": "python3"
  },
  "language_info": {
   "codemirror_mode": {
    "name": "ipython",
    "version": 3
   },
   "file_extension": ".py",
   "mimetype": "text/x-python",
   "name": "python",
   "nbconvert_exporter": "python",
   "pygments_lexer": "ipython3",
   "version": "3.8.18"
  }
 },
 "nbformat": 4,
 "nbformat_minor": 2
}
