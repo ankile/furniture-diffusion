{
 "cells": [
  {
   "cell_type": "code",
   "execution_count": 1,
   "metadata": {},
   "outputs": [],
   "source": [
    "from pathlib import Path\n",
    "from src.visualization.render_mp4 import mp4_from_pickle_jupyter\n",
    "from src.common.files import get_raw_paths"
   ]
  },
  {
   "cell_type": "code",
   "execution_count": 2,
   "metadata": {},
   "outputs": [
    {
     "name": "stdout",
     "output_type": "stream",
     "text": [
      "Found the following paths:\n",
      "    /data/scratch-oc40/pulkitag/ankile/furniture-data/raw/sim/one_leg/augmentation/low/success/*.pkl*\n"
     ]
    },
    {
     "data": {
      "text/plain": [
       "[PosixPath('/data/scratch-oc40/pulkitag/ankile/furniture-data/raw/sim/one_leg/augmentation/low/success/2024-02-10T20:06:02.pkl.xz'),\n",
       " PosixPath('/data/scratch-oc40/pulkitag/ankile/furniture-data/raw/sim/one_leg/augmentation/low/success/2024-02-10T21:22:52.pkl.xz'),\n",
       " PosixPath('/data/scratch-oc40/pulkitag/ankile/furniture-data/raw/sim/one_leg/augmentation/low/success/2024-02-10T20:35:48.pkl.xz'),\n",
       " PosixPath('/data/scratch-oc40/pulkitag/ankile/furniture-data/raw/sim/one_leg/augmentation/low/success/2024-02-10T20:11:43.pkl.xz'),\n",
       " PosixPath('/data/scratch-oc40/pulkitag/ankile/furniture-data/raw/sim/one_leg/augmentation/low/success/2024-02-10T20:30:51.pkl.xz'),\n",
       " PosixPath('/data/scratch-oc40/pulkitag/ankile/furniture-data/raw/sim/one_leg/augmentation/low/success/2024-02-10T20:59:19.pkl.xz'),\n",
       " PosixPath('/data/scratch-oc40/pulkitag/ankile/furniture-data/raw/sim/one_leg/augmentation/low/success/2024-02-10T20:37:24.pkl.xz'),\n",
       " PosixPath('/data/scratch-oc40/pulkitag/ankile/furniture-data/raw/sim/one_leg/augmentation/low/success/2024-02-10T19:45:09.pkl.xz'),\n",
       " PosixPath('/data/scratch-oc40/pulkitag/ankile/furniture-data/raw/sim/one_leg/augmentation/low/success/2024-02-10T20:42:13.pkl.xz'),\n",
       " PosixPath('/data/scratch-oc40/pulkitag/ankile/furniture-data/raw/sim/one_leg/augmentation/low/success/2024-02-10T20:48:41.pkl.xz'),\n",
       " PosixPath('/data/scratch-oc40/pulkitag/ankile/furniture-data/raw/sim/one_leg/augmentation/low/success/2024-02-10T20:20:04.pkl.xz'),\n",
       " PosixPath('/data/scratch-oc40/pulkitag/ankile/furniture-data/raw/sim/one_leg/augmentation/low/success/2024-02-10T20:30:26.pkl.xz'),\n",
       " PosixPath('/data/scratch-oc40/pulkitag/ankile/furniture-data/raw/sim/one_leg/augmentation/low/success/2024-02-10T20:20:44.pkl.xz'),\n",
       " PosixPath('/data/scratch-oc40/pulkitag/ankile/furniture-data/raw/sim/one_leg/augmentation/low/success/2024-02-10T20:43:24.pkl.xz'),\n",
       " PosixPath('/data/scratch-oc40/pulkitag/ankile/furniture-data/raw/sim/one_leg/augmentation/low/success/2024-02-10T19:45:33.pkl.xz'),\n",
       " PosixPath('/data/scratch-oc40/pulkitag/ankile/furniture-data/raw/sim/one_leg/augmentation/low/success/2024-02-10T20:33:47.pkl.xz'),\n",
       " PosixPath('/data/scratch-oc40/pulkitag/ankile/furniture-data/raw/sim/one_leg/augmentation/low/success/2024-02-10T20:48:17.pkl.xz'),\n",
       " PosixPath('/data/scratch-oc40/pulkitag/ankile/furniture-data/raw/sim/one_leg/augmentation/low/success/2024-02-10T21:30:53.pkl.xz'),\n",
       " PosixPath('/data/scratch-oc40/pulkitag/ankile/furniture-data/raw/sim/one_leg/augmentation/low/success/2024-02-10T19:34:33.pkl.xz'),\n",
       " PosixPath('/data/scratch-oc40/pulkitag/ankile/furniture-data/raw/sim/one_leg/augmentation/low/success/2024-02-10T21:28:35.pkl.xz'),\n",
       " PosixPath('/data/scratch-oc40/pulkitag/ankile/furniture-data/raw/sim/one_leg/augmentation/low/success/2024-02-10T19:29:01.pkl.xz'),\n",
       " PosixPath('/data/scratch-oc40/pulkitag/ankile/furniture-data/raw/sim/one_leg/augmentation/low/success/2024-02-10T20:10:41.pkl.xz'),\n",
       " PosixPath('/data/scratch-oc40/pulkitag/ankile/furniture-data/raw/sim/one_leg/augmentation/low/success/2024-02-10T20:51:09.pkl.xz'),\n",
       " PosixPath('/data/scratch-oc40/pulkitag/ankile/furniture-data/raw/sim/one_leg/augmentation/low/success/2024-02-10T20:51:49.pkl.xz'),\n",
       " PosixPath('/data/scratch-oc40/pulkitag/ankile/furniture-data/raw/sim/one_leg/augmentation/low/success/2024-02-10T21:16:34.pkl.xz'),\n",
       " PosixPath('/data/scratch-oc40/pulkitag/ankile/furniture-data/raw/sim/one_leg/augmentation/low/success/2024-02-10T19:16:56.pkl.xz'),\n",
       " PosixPath('/data/scratch-oc40/pulkitag/ankile/furniture-data/raw/sim/one_leg/augmentation/low/success/2024-02-10T20:19:08.pkl.xz'),\n",
       " PosixPath('/data/scratch-oc40/pulkitag/ankile/furniture-data/raw/sim/one_leg/augmentation/low/success/2024-02-10T21:02:02.pkl.xz'),\n",
       " PosixPath('/data/scratch-oc40/pulkitag/ankile/furniture-data/raw/sim/one_leg/augmentation/low/success/2024-02-10T20:17:39.pkl.xz'),\n",
       " PosixPath('/data/scratch-oc40/pulkitag/ankile/furniture-data/raw/sim/one_leg/augmentation/low/success/2024-02-10T20:58:56.pkl.xz'),\n",
       " PosixPath('/data/scratch-oc40/pulkitag/ankile/furniture-data/raw/sim/one_leg/augmentation/low/success/2024-02-10T19:25:11.pkl.xz'),\n",
       " PosixPath('/data/scratch-oc40/pulkitag/ankile/furniture-data/raw/sim/one_leg/augmentation/low/success/2024-02-10T20:05:21.pkl.xz'),\n",
       " PosixPath('/data/scratch-oc40/pulkitag/ankile/furniture-data/raw/sim/one_leg/augmentation/low/success/2024-02-10T20:43:47.pkl.xz'),\n",
       " PosixPath('/data/scratch-oc40/pulkitag/ankile/furniture-data/raw/sim/one_leg/augmentation/low/success/2024-02-10T19:41:12.pkl.xz'),\n",
       " PosixPath('/data/scratch-oc40/pulkitag/ankile/furniture-data/raw/sim/one_leg/augmentation/low/success/2024-02-10T19:57:53.pkl.xz'),\n",
       " PosixPath('/data/scratch-oc40/pulkitag/ankile/furniture-data/raw/sim/one_leg/augmentation/low/success/2024-02-10T19:42:49.pkl.xz'),\n",
       " PosixPath('/data/scratch-oc40/pulkitag/ankile/furniture-data/raw/sim/one_leg/augmentation/low/success/2024-02-10T21:20:50.pkl.xz'),\n",
       " PosixPath('/data/scratch-oc40/pulkitag/ankile/furniture-data/raw/sim/one_leg/augmentation/low/success/2024-02-10T20:49:55.pkl.xz'),\n",
       " PosixPath('/data/scratch-oc40/pulkitag/ankile/furniture-data/raw/sim/one_leg/augmentation/low/success/2024-02-10T19:34:09.pkl.xz'),\n",
       " PosixPath('/data/scratch-oc40/pulkitag/ankile/furniture-data/raw/sim/one_leg/augmentation/low/success/2024-02-10T20:31:32.pkl.xz'),\n",
       " PosixPath('/data/scratch-oc40/pulkitag/ankile/furniture-data/raw/sim/one_leg/augmentation/low/success/2024-02-10T20:40:51.pkl.xz'),\n",
       " PosixPath('/data/scratch-oc40/pulkitag/ankile/furniture-data/raw/sim/one_leg/augmentation/low/success/2024-02-10T19:50:07.pkl.xz'),\n",
       " PosixPath('/data/scratch-oc40/pulkitag/ankile/furniture-data/raw/sim/one_leg/augmentation/low/success/2024-02-10T20:36:11.pkl.xz'),\n",
       " PosixPath('/data/scratch-oc40/pulkitag/ankile/furniture-data/raw/sim/one_leg/augmentation/low/success/2024-02-10T20:11:20.pkl.xz'),\n",
       " PosixPath('/data/scratch-oc40/pulkitag/ankile/furniture-data/raw/sim/one_leg/augmentation/low/success/2024-02-10T20:15:22.pkl.xz'),\n",
       " PosixPath('/data/scratch-oc40/pulkitag/ankile/furniture-data/raw/sim/one_leg/augmentation/low/success/2024-02-10T20:24:12.pkl.xz'),\n",
       " PosixPath('/data/scratch-oc40/pulkitag/ankile/furniture-data/raw/sim/one_leg/augmentation/low/success/2024-02-10T19:59:55.pkl.xz'),\n",
       " PosixPath('/data/scratch-oc40/pulkitag/ankile/furniture-data/raw/sim/one_leg/augmentation/low/success/2024-02-10T19:28:20.pkl.xz'),\n",
       " PosixPath('/data/scratch-oc40/pulkitag/ankile/furniture-data/raw/sim/one_leg/augmentation/low/success/2024-02-10T21:04:27.pkl.xz'),\n",
       " PosixPath('/data/scratch-oc40/pulkitag/ankile/furniture-data/raw/sim/one_leg/augmentation/low/success/2024-02-10T19:20:18.pkl.xz'),\n",
       " PosixPath('/data/scratch-oc40/pulkitag/ankile/furniture-data/raw/sim/one_leg/augmentation/low/success/2024-02-10T20:27:02.pkl.xz'),\n",
       " PosixPath('/data/scratch-oc40/pulkitag/ankile/furniture-data/raw/sim/one_leg/augmentation/low/success/2024-02-10T19:13:49.pkl.xz'),\n",
       " PosixPath('/data/scratch-oc40/pulkitag/ankile/furniture-data/raw/sim/one_leg/augmentation/low/success/2024-02-10T20:58:10.pkl.xz'),\n",
       " PosixPath('/data/scratch-oc40/pulkitag/ankile/furniture-data/raw/sim/one_leg/augmentation/low/success/2024-02-10T19:46:21.pkl.xz'),\n",
       " PosixPath('/data/scratch-oc40/pulkitag/ankile/furniture-data/raw/sim/one_leg/augmentation/low/success/2024-02-10T20:02:52.pkl.xz'),\n",
       " PosixPath('/data/scratch-oc40/pulkitag/ankile/furniture-data/raw/sim/one_leg/augmentation/low/success/2024-02-10T20:15:45.pkl.xz'),\n",
       " PosixPath('/data/scratch-oc40/pulkitag/ankile/furniture-data/raw/sim/one_leg/augmentation/low/success/2024-02-10T19:36:02.pkl.xz'),\n",
       " PosixPath('/data/scratch-oc40/pulkitag/ankile/furniture-data/raw/sim/one_leg/augmentation/low/success/2024-02-10T19:45:56.pkl.xz'),\n",
       " PosixPath('/data/scratch-oc40/pulkitag/ankile/furniture-data/raw/sim/one_leg/augmentation/low/success/2024-02-10T20:07:46.pkl.xz'),\n",
       " PosixPath('/data/scratch-oc40/pulkitag/ankile/furniture-data/raw/sim/one_leg/augmentation/low/success/2024-02-10T20:38:51.pkl.xz'),\n",
       " PosixPath('/data/scratch-oc40/pulkitag/ankile/furniture-data/raw/sim/one_leg/augmentation/low/success/2024-02-10T19:35:38.pkl.xz'),\n",
       " PosixPath('/data/scratch-oc40/pulkitag/ankile/furniture-data/raw/sim/one_leg/augmentation/low/success/2024-02-10T20:18:43.pkl.xz'),\n",
       " PosixPath('/data/scratch-oc40/pulkitag/ankile/furniture-data/raw/sim/one_leg/augmentation/low/success/2024-02-10T21:31:34.pkl.xz'),\n",
       " PosixPath('/data/scratch-oc40/pulkitag/ankile/furniture-data/raw/sim/one_leg/augmentation/low/success/2024-02-10T20:00:52.pkl.xz'),\n",
       " PosixPath('/data/scratch-oc40/pulkitag/ankile/furniture-data/raw/sim/one_leg/augmentation/low/success/2024-02-10T21:02:25.pkl.xz'),\n",
       " PosixPath('/data/scratch-oc40/pulkitag/ankile/furniture-data/raw/sim/one_leg/augmentation/low/success/2024-02-10T21:19:34.pkl.xz'),\n",
       " PosixPath('/data/scratch-oc40/pulkitag/ankile/furniture-data/raw/sim/one_leg/augmentation/low/success/2024-02-10T19:22:43.pkl.xz'),\n",
       " PosixPath('/data/scratch-oc40/pulkitag/ankile/furniture-data/raw/sim/one_leg/augmentation/low/success/2024-02-10T20:52:59.pkl.xz'),\n",
       " PosixPath('/data/scratch-oc40/pulkitag/ankile/furniture-data/raw/sim/one_leg/augmentation/low/success/2024-02-10T19:21:39.pkl.xz'),\n",
       " PosixPath('/data/scratch-oc40/pulkitag/ankile/furniture-data/raw/sim/one_leg/augmentation/low/success/2024-02-10T19:55:18.pkl.xz'),\n",
       " PosixPath('/data/scratch-oc40/pulkitag/ankile/furniture-data/raw/sim/one_leg/augmentation/low/success/2024-02-10T20:46:22.pkl.xz'),\n",
       " PosixPath('/data/scratch-oc40/pulkitag/ankile/furniture-data/raw/sim/one_leg/augmentation/low/success/2024-02-10T20:32:36.pkl.xz'),\n",
       " PosixPath('/data/scratch-oc40/pulkitag/ankile/furniture-data/raw/sim/one_leg/augmentation/low/success/2024-02-10T21:10:05.pkl.xz'),\n",
       " PosixPath('/data/scratch-oc40/pulkitag/ankile/furniture-data/raw/sim/one_leg/augmentation/low/success/2024-02-10T21:06:04.pkl.xz'),\n",
       " PosixPath('/data/scratch-oc40/pulkitag/ankile/furniture-data/raw/sim/one_leg/augmentation/low/success/2024-02-10T21:07:49.pkl.xz'),\n",
       " PosixPath('/data/scratch-oc40/pulkitag/ankile/furniture-data/raw/sim/one_leg/augmentation/low/success/2024-02-10T20:21:23.pkl.xz'),\n",
       " PosixPath('/data/scratch-oc40/pulkitag/ankile/furniture-data/raw/sim/one_leg/augmentation/low/success/2024-02-10T19:39:27.pkl.xz'),\n",
       " PosixPath('/data/scratch-oc40/pulkitag/ankile/furniture-data/raw/sim/one_leg/augmentation/low/success/2024-02-10T19:19:38.pkl.xz'),\n",
       " PosixPath('/data/scratch-oc40/pulkitag/ankile/furniture-data/raw/sim/one_leg/augmentation/low/success/2024-02-10T20:13:29.pkl.xz'),\n",
       " PosixPath('/data/scratch-oc40/pulkitag/ankile/furniture-data/raw/sim/one_leg/augmentation/low/success/2024-02-10T21:21:14.pkl.xz'),\n",
       " PosixPath('/data/scratch-oc40/pulkitag/ankile/furniture-data/raw/sim/one_leg/augmentation/low/success/2024-02-10T19:23:57.pkl.xz'),\n",
       " PosixPath('/data/scratch-oc40/pulkitag/ankile/furniture-data/raw/sim/one_leg/augmentation/low/success/2024-02-10T20:18:20.pkl.xz'),\n",
       " PosixPath('/data/scratch-oc40/pulkitag/ankile/furniture-data/raw/sim/one_leg/augmentation/low/success/2024-02-10T19:16:33.pkl.xz'),\n",
       " PosixPath('/data/scratch-oc40/pulkitag/ankile/furniture-data/raw/sim/one_leg/augmentation/low/success/2024-02-10T19:58:51.pkl.xz'),\n",
       " PosixPath('/data/scratch-oc40/pulkitag/ankile/furniture-data/raw/sim/one_leg/augmentation/low/success/2024-02-10T20:06:25.pkl.xz'),\n",
       " PosixPath('/data/scratch-oc40/pulkitag/ankile/furniture-data/raw/sim/one_leg/augmentation/low/success/2024-02-10T19:47:59.pkl.xz'),\n",
       " PosixPath('/data/scratch-oc40/pulkitag/ankile/furniture-data/raw/sim/one_leg/augmentation/low/success/2024-02-10T19:50:55.pkl.xz'),\n",
       " PosixPath('/data/scratch-oc40/pulkitag/ankile/furniture-data/raw/sim/one_leg/augmentation/low/success/2024-02-10T19:53:39.pkl.xz'),\n",
       " PosixPath('/data/scratch-oc40/pulkitag/ankile/furniture-data/raw/sim/one_leg/augmentation/low/success/2024-02-10T21:10:29.pkl.xz'),\n",
       " PosixPath('/data/scratch-oc40/pulkitag/ankile/furniture-data/raw/sim/one_leg/augmentation/low/success/2024-02-10T20:47:36.pkl.xz'),\n",
       " PosixPath('/data/scratch-oc40/pulkitag/ankile/furniture-data/raw/sim/one_leg/augmentation/low/success/2024-02-10T20:53:56.pkl.xz'),\n",
       " PosixPath('/data/scratch-oc40/pulkitag/ankile/furniture-data/raw/sim/one_leg/augmentation/low/success/2024-02-10T21:24:56.pkl.xz'),\n",
       " PosixPath('/data/scratch-oc40/pulkitag/ankile/furniture-data/raw/sim/one_leg/augmentation/low/success/2024-02-10T21:07:26.pkl.xz'),\n",
       " PosixPath('/data/scratch-oc40/pulkitag/ankile/furniture-data/raw/sim/one_leg/augmentation/low/success/2024-02-10T21:01:05.pkl.xz'),\n",
       " PosixPath('/data/scratch-oc40/pulkitag/ankile/furniture-data/raw/sim/one_leg/augmentation/low/success/2024-02-10T19:49:26.pkl.xz'),\n",
       " PosixPath('/data/scratch-oc40/pulkitag/ankile/furniture-data/raw/sim/one_leg/augmentation/low/success/2024-02-10T21:09:41.pkl.xz'),\n",
       " PosixPath('/data/scratch-oc40/pulkitag/ankile/furniture-data/raw/sim/one_leg/augmentation/low/success/2024-02-10T20:26:22.pkl.xz'),\n",
       " PosixPath('/data/scratch-oc40/pulkitag/ankile/furniture-data/raw/sim/one_leg/augmentation/low/success/2024-02-10T20:41:16.pkl.xz'),\n",
       " PosixPath('/data/scratch-oc40/pulkitag/ankile/furniture-data/raw/sim/one_leg/augmentation/low/success/2024-02-10T19:55:42.pkl.xz'),\n",
       " PosixPath('/data/scratch-oc40/pulkitag/ankile/furniture-data/raw/sim/one_leg/augmentation/low/success/2024-02-10T21:00:08.pkl.xz'),\n",
       " PosixPath('/data/scratch-oc40/pulkitag/ankile/furniture-data/raw/sim/one_leg/augmentation/low/success/2024-02-10T21:18:35.pkl.xz'),\n",
       " PosixPath('/data/scratch-oc40/pulkitag/ankile/furniture-data/raw/sim/one_leg/augmentation/low/success/2024-02-10T20:54:20.pkl.xz'),\n",
       " PosixPath('/data/scratch-oc40/pulkitag/ankile/furniture-data/raw/sim/one_leg/augmentation/low/success/2024-02-10T19:22:19.pkl.xz'),\n",
       " PosixPath('/data/scratch-oc40/pulkitag/ankile/furniture-data/raw/sim/one_leg/augmentation/low/success/2024-02-10T20:42:37.pkl.xz'),\n",
       " PosixPath('/data/scratch-oc40/pulkitag/ankile/furniture-data/raw/sim/one_leg/augmentation/low/success/2024-02-10T20:45:19.pkl.xz'),\n",
       " PosixPath('/data/scratch-oc40/pulkitag/ankile/furniture-data/raw/sim/one_leg/augmentation/low/success/2024-02-10T21:12:06.pkl.xz'),\n",
       " PosixPath('/data/scratch-oc40/pulkitag/ankile/furniture-data/raw/sim/one_leg/augmentation/low/success/2024-02-10T20:25:58.pkl.xz'),\n",
       " PosixPath('/data/scratch-oc40/pulkitag/ankile/furniture-data/raw/sim/one_leg/augmentation/low/success/2024-02-10T19:38:05.pkl.xz'),\n",
       " PosixPath('/data/scratch-oc40/pulkitag/ankile/furniture-data/raw/sim/one_leg/augmentation/low/success/2024-02-10T20:45:42.pkl.xz'),\n",
       " PosixPath('/data/scratch-oc40/pulkitag/ankile/furniture-data/raw/sim/one_leg/augmentation/low/success/2024-02-10T20:30:02.pkl.xz'),\n",
       " PosixPath('/data/scratch-oc40/pulkitag/ankile/furniture-data/raw/sim/one_leg/augmentation/low/success/2024-02-10T21:14:49.pkl.xz'),\n",
       " PosixPath('/data/scratch-oc40/pulkitag/ankile/furniture-data/raw/sim/one_leg/augmentation/low/success/2024-02-10T21:14:09.pkl.xz'),\n",
       " PosixPath('/data/scratch-oc40/pulkitag/ankile/furniture-data/raw/sim/one_leg/augmentation/low/success/2024-02-10T21:02:48.pkl.xz'),\n",
       " PosixPath('/data/scratch-oc40/pulkitag/ankile/furniture-data/raw/sim/one_leg/augmentation/low/success/2024-02-10T20:25:34.pkl.xz'),\n",
       " PosixPath('/data/scratch-oc40/pulkitag/ankile/furniture-data/raw/sim/one_leg/augmentation/low/success/2024-02-10T20:33:23.pkl.xz'),\n",
       " PosixPath('/data/scratch-oc40/pulkitag/ankile/furniture-data/raw/sim/one_leg/augmentation/low/success/2024-02-10T20:27:43.pkl.xz'),\n",
       " PosixPath('/data/scratch-oc40/pulkitag/ankile/furniture-data/raw/sim/one_leg/augmentation/low/success/2024-02-10T19:48:47.pkl.xz'),\n",
       " PosixPath('/data/scratch-oc40/pulkitag/ankile/furniture-data/raw/sim/one_leg/augmentation/low/success/2024-02-10T20:23:01.pkl.xz'),\n",
       " PosixPath('/data/scratch-oc40/pulkitag/ankile/furniture-data/raw/sim/one_leg/augmentation/low/success/2024-02-10T19:36:43.pkl.xz'),\n",
       " PosixPath('/data/scratch-oc40/pulkitag/ankile/furniture-data/raw/sim/one_leg/augmentation/low/success/2024-02-10T20:43:00.pkl.xz'),\n",
       " PosixPath('/data/scratch-oc40/pulkitag/ankile/furniture-data/raw/sim/one_leg/augmentation/low/success/2024-02-10T19:20:42.pkl.xz'),\n",
       " PosixPath('/data/scratch-oc40/pulkitag/ankile/furniture-data/raw/sim/one_leg/augmentation/low/success/2024-02-10T19:32:01.pkl.xz'),\n",
       " PosixPath('/data/scratch-oc40/pulkitag/ankile/furniture-data/raw/sim/one_leg/augmentation/low/success/2024-02-10T21:16:10.pkl.xz'),\n",
       " PosixPath('/data/scratch-oc40/pulkitag/ankile/furniture-data/raw/sim/one_leg/augmentation/low/success/2024-02-10T21:09:18.pkl.xz'),\n",
       " PosixPath('/data/scratch-oc40/pulkitag/ankile/furniture-data/raw/sim/one_leg/augmentation/low/success/2024-02-10T19:14:13.pkl.xz'),\n",
       " PosixPath('/data/scratch-oc40/pulkitag/ankile/furniture-data/raw/sim/one_leg/augmentation/low/success/2024-02-10T21:28:11.pkl.xz'),\n",
       " PosixPath('/data/scratch-oc40/pulkitag/ankile/furniture-data/raw/sim/one_leg/augmentation/low/success/2024-02-10T19:34:57.pkl.xz'),\n",
       " PosixPath('/data/scratch-oc40/pulkitag/ankile/furniture-data/raw/sim/one_leg/augmentation/low/success/2024-02-10T20:34:35.pkl.xz'),\n",
       " PosixPath('/data/scratch-oc40/pulkitag/ankile/furniture-data/raw/sim/one_leg/augmentation/low/success/2024-02-10T20:12:49.pkl.xz'),\n",
       " PosixPath('/data/scratch-oc40/pulkitag/ankile/furniture-data/raw/sim/one_leg/augmentation/low/success/2024-02-10T19:19:15.pkl.xz'),\n",
       " PosixPath('/data/scratch-oc40/pulkitag/ankile/furniture-data/raw/sim/one_leg/augmentation/low/success/2024-02-10T19:38:47.pkl.xz'),\n",
       " PosixPath('/data/scratch-oc40/pulkitag/ankile/furniture-data/raw/sim/one_leg/augmentation/low/success/2024-02-10T21:03:30.pkl.xz'),\n",
       " PosixPath('/data/scratch-oc40/pulkitag/ankile/furniture-data/raw/sim/one_leg/augmentation/low/success/2024-02-10T20:38:28.pkl.xz'),\n",
       " PosixPath('/data/scratch-oc40/pulkitag/ankile/furniture-data/raw/sim/one_leg/augmentation/low/success/2024-02-10T20:33:00.pkl.xz'),\n",
       " PosixPath('/data/scratch-oc40/pulkitag/ankile/furniture-data/raw/sim/one_leg/augmentation/low/success/2024-02-10T20:35:23.pkl.xz'),\n",
       " PosixPath('/data/scratch-oc40/pulkitag/ankile/furniture-data/raw/sim/one_leg/augmentation/low/success/2024-02-10T20:58:32.pkl.xz'),\n",
       " PosixPath('/data/scratch-oc40/pulkitag/ankile/furniture-data/raw/sim/one_leg/augmentation/low/success/2024-02-10T19:39:51.pkl.xz'),\n",
       " PosixPath('/data/scratch-oc40/pulkitag/ankile/furniture-data/raw/sim/one_leg/augmentation/low/success/2024-02-10T21:10:52.pkl.xz'),\n",
       " PosixPath('/data/scratch-oc40/pulkitag/ankile/furniture-data/raw/sim/one_leg/augmentation/low/success/2024-02-10T20:34:59.pkl.xz'),\n",
       " PosixPath('/data/scratch-oc40/pulkitag/ankile/furniture-data/raw/sim/one_leg/augmentation/low/success/2024-02-10T20:12:25.pkl.xz'),\n",
       " PosixPath('/data/scratch-oc40/pulkitag/ankile/furniture-data/raw/sim/one_leg/augmentation/low/success/2024-02-10T21:15:46.pkl.xz'),\n",
       " PosixPath('/data/scratch-oc40/pulkitag/ankile/furniture-data/raw/sim/one_leg/augmentation/low/success/2024-02-10T21:05:24.pkl.xz'),\n",
       " PosixPath('/data/scratch-oc40/pulkitag/ankile/furniture-data/raw/sim/one_leg/augmentation/low/success/2024-02-10T21:26:17.pkl.xz'),\n",
       " PosixPath('/data/scratch-oc40/pulkitag/ankile/furniture-data/raw/sim/one_leg/augmentation/low/success/2024-02-10T20:38:04.pkl.xz'),\n",
       " PosixPath('/data/scratch-oc40/pulkitag/ankile/furniture-data/raw/sim/one_leg/augmentation/low/success/2024-02-10T20:07:05.pkl.xz'),\n",
       " PosixPath('/data/scratch-oc40/pulkitag/ankile/furniture-data/raw/sim/one_leg/augmentation/low/success/2024-02-10T20:24:36.pkl.xz'),\n",
       " PosixPath('/data/scratch-oc40/pulkitag/ankile/furniture-data/raw/sim/one_leg/augmentation/low/success/2024-02-10T19:47:34.pkl.xz'),\n",
       " PosixPath('/data/scratch-oc40/pulkitag/ankile/furniture-data/raw/sim/one_leg/augmentation/low/success/2024-02-10T19:59:31.pkl.xz'),\n",
       " PosixPath('/data/scratch-oc40/pulkitag/ankile/furniture-data/raw/sim/one_leg/augmentation/low/success/2024-02-10T21:25:36.pkl.xz'),\n",
       " PosixPath('/data/scratch-oc40/pulkitag/ankile/furniture-data/raw/sim/one_leg/augmentation/low/success/2024-02-10T19:52:42.pkl.xz'),\n",
       " PosixPath('/data/scratch-oc40/pulkitag/ankile/furniture-data/raw/sim/one_leg/augmentation/low/success/2024-02-10T21:06:45.pkl.xz'),\n",
       " PosixPath('/data/scratch-oc40/pulkitag/ankile/furniture-data/raw/sim/one_leg/augmentation/low/success/2024-02-10T20:52:36.pkl.xz'),\n",
       " PosixPath('/data/scratch-oc40/pulkitag/ankile/furniture-data/raw/sim/one_leg/augmentation/low/success/2024-02-10T19:33:29.pkl.xz'),\n",
       " PosixPath('/data/scratch-oc40/pulkitag/ankile/furniture-data/raw/sim/one_leg/augmentation/low/success/2024-02-10T20:57:05.pkl.xz'),\n",
       " PosixPath('/data/scratch-oc40/pulkitag/ankile/furniture-data/raw/sim/one_leg/augmentation/low/success/2024-02-10T19:32:24.pkl.xz'),\n",
       " PosixPath('/data/scratch-oc40/pulkitag/ankile/furniture-data/raw/sim/one_leg/augmentation/low/success/2024-02-10T21:27:30.pkl.xz'),\n",
       " PosixPath('/data/scratch-oc40/pulkitag/ankile/furniture-data/raw/sim/one_leg/augmentation/low/success/2024-02-10T20:23:24.pkl.xz'),\n",
       " PosixPath('/data/scratch-oc40/pulkitag/ankile/furniture-data/raw/sim/one_leg/augmentation/low/success/2024-02-10T19:48:22.pkl.xz'),\n",
       " PosixPath('/data/scratch-oc40/pulkitag/ankile/furniture-data/raw/sim/one_leg/augmentation/low/success/2024-02-10T21:08:13.pkl.xz'),\n",
       " PosixPath('/data/scratch-oc40/pulkitag/ankile/furniture-data/raw/sim/one_leg/augmentation/low/success/2024-02-10T21:08:53.pkl.xz'),\n",
       " PosixPath('/data/scratch-oc40/pulkitag/ankile/furniture-data/raw/sim/one_leg/augmentation/low/success/2024-02-10T20:34:12.pkl.xz'),\n",
       " PosixPath('/data/scratch-oc40/pulkitag/ankile/furniture-data/raw/sim/one_leg/augmentation/low/success/2024-02-10T20:59:43.pkl.xz'),\n",
       " PosixPath('/data/scratch-oc40/pulkitag/ankile/furniture-data/raw/sim/one_leg/augmentation/low/success/2024-02-10T19:26:25.pkl.xz'),\n",
       " PosixPath('/data/scratch-oc40/pulkitag/ankile/furniture-data/raw/sim/one_leg/augmentation/low/success/2024-02-10T20:40:28.pkl.xz'),\n",
       " PosixPath('/data/scratch-oc40/pulkitag/ankile/furniture-data/raw/sim/one_leg/augmentation/low/success/2024-02-10T19:56:06.pkl.xz'),\n",
       " PosixPath('/data/scratch-oc40/pulkitag/ankile/furniture-data/raw/sim/one_leg/augmentation/low/success/2024-02-10T20:57:29.pkl.xz'),\n",
       " PosixPath('/data/scratch-oc40/pulkitag/ankile/furniture-data/raw/sim/one_leg/augmentation/low/success/2024-02-10T19:37:07.pkl.xz'),\n",
       " PosixPath('/data/scratch-oc40/pulkitag/ankile/furniture-data/raw/sim/one_leg/augmentation/low/success/2024-02-10T20:54:45.pkl.xz'),\n",
       " PosixPath('/data/scratch-oc40/pulkitag/ankile/furniture-data/raw/sim/one_leg/augmentation/low/success/2024-02-10T20:39:14.pkl.xz'),\n",
       " PosixPath('/data/scratch-oc40/pulkitag/ankile/furniture-data/raw/sim/one_leg/augmentation/low/success/2024-02-10T19:33:05.pkl.xz'),\n",
       " PosixPath('/data/scratch-oc40/pulkitag/ankile/furniture-data/raw/sim/one_leg/augmentation/low/success/2024-02-10T19:29:42.pkl.xz'),\n",
       " PosixPath('/data/scratch-oc40/pulkitag/ankile/furniture-data/raw/sim/one_leg/augmentation/low/success/2024-02-10T20:23:48.pkl.xz'),\n",
       " PosixPath('/data/scratch-oc40/pulkitag/ankile/furniture-data/raw/sim/one_leg/augmentation/low/success/2024-02-10T20:03:17.pkl.xz'),\n",
       " PosixPath('/data/scratch-oc40/pulkitag/ankile/furniture-data/raw/sim/one_leg/augmentation/low/success/2024-02-10T19:54:04.pkl.xz'),\n",
       " PosixPath('/data/scratch-oc40/pulkitag/ankile/furniture-data/raw/sim/one_leg/augmentation/low/success/2024-02-10T21:28:58.pkl.xz'),\n",
       " PosixPath('/data/scratch-oc40/pulkitag/ankile/furniture-data/raw/sim/one_leg/augmentation/low/success/2024-02-10T20:52:13.pkl.xz'),\n",
       " PosixPath('/data/scratch-oc40/pulkitag/ankile/furniture-data/raw/sim/one_leg/augmentation/low/success/2024-02-10T20:21:47.pkl.xz'),\n",
       " PosixPath('/data/scratch-oc40/pulkitag/ankile/furniture-data/raw/sim/one_leg/augmentation/low/success/2024-02-10T19:17:36.pkl.xz'),\n",
       " PosixPath('/data/scratch-oc40/pulkitag/ankile/furniture-data/raw/sim/one_leg/augmentation/low/success/2024-02-10T19:43:53.pkl.xz'),\n",
       " PosixPath('/data/scratch-oc40/pulkitag/ankile/furniture-data/raw/sim/one_leg/augmentation/low/success/2024-02-10T19:15:17.pkl.xz'),\n",
       " PosixPath('/data/scratch-oc40/pulkitag/ankile/furniture-data/raw/sim/one_leg/augmentation/low/success/2024-02-10T21:17:14.pkl.xz'),\n",
       " PosixPath('/data/scratch-oc40/pulkitag/ankile/furniture-data/raw/sim/one_leg/augmentation/low/success/2024-02-10T20:32:12.pkl.xz'),\n",
       " PosixPath('/data/scratch-oc40/pulkitag/ankile/furniture-data/raw/sim/one_leg/augmentation/low/success/2024-02-10T20:55:26.pkl.xz'),\n",
       " PosixPath('/data/scratch-oc40/pulkitag/ankile/furniture-data/raw/sim/one_leg/augmentation/low/success/2024-02-10T19:42:08.pkl.xz'),\n",
       " PosixPath('/data/scratch-oc40/pulkitag/ankile/furniture-data/raw/sim/one_leg/augmentation/low/success/2024-02-10T20:01:15.pkl.xz'),\n",
       " PosixPath('/data/scratch-oc40/pulkitag/ankile/furniture-data/raw/sim/one_leg/augmentation/low/success/2024-02-10T19:18:51.pkl.xz'),\n",
       " PosixPath('/data/scratch-oc40/pulkitag/ankile/furniture-data/raw/sim/one_leg/augmentation/low/success/2024-02-10T20:16:42.pkl.xz'),\n",
       " PosixPath('/data/scratch-oc40/pulkitag/ankile/furniture-data/raw/sim/one_leg/augmentation/low/success/2024-02-10T19:27:06.pkl.xz'),\n",
       " PosixPath('/data/scratch-oc40/pulkitag/ankile/furniture-data/raw/sim/one_leg/augmentation/low/success/2024-02-10T20:56:07.pkl.xz'),\n",
       " PosixPath('/data/scratch-oc40/pulkitag/ankile/furniture-data/raw/sim/one_leg/augmentation/low/success/2024-02-10T20:28:58.pkl.xz'),\n",
       " PosixPath('/data/scratch-oc40/pulkitag/ankile/furniture-data/raw/sim/one_leg/augmentation/low/success/2024-02-10T20:01:39.pkl.xz'),\n",
       " PosixPath('/data/scratch-oc40/pulkitag/ankile/furniture-data/raw/sim/one_leg/augmentation/low/success/2024-02-10T19:43:29.pkl.xz'),\n",
       " PosixPath('/data/scratch-oc40/pulkitag/ankile/furniture-data/raw/sim/one_leg/augmentation/low/success/2024-02-10T20:29:39.pkl.xz'),\n",
       " PosixPath('/data/scratch-oc40/pulkitag/ankile/furniture-data/raw/sim/one_leg/augmentation/low/success/2024-02-10T19:40:48.pkl.xz'),\n",
       " PosixPath('/data/scratch-oc40/pulkitag/ankile/furniture-data/raw/sim/one_leg/augmentation/low/success/2024-02-10T21:29:39.pkl.xz'),\n",
       " PosixPath('/data/scratch-oc40/pulkitag/ankile/furniture-data/raw/sim/one_leg/augmentation/low/success/2024-02-10T21:22:11.pkl.xz'),\n",
       " PosixPath('/data/scratch-oc40/pulkitag/ankile/furniture-data/raw/sim/one_leg/augmentation/low/success/2024-02-10T19:14:36.pkl.xz'),\n",
       " PosixPath('/data/scratch-oc40/pulkitag/ankile/furniture-data/raw/sim/one_leg/augmentation/low/success/2024-02-10T21:18:12.pkl.xz'),\n",
       " PosixPath('/data/scratch-oc40/pulkitag/ankile/furniture-data/raw/sim/one_leg/augmentation/low/success/2024-02-10T19:50:31.pkl.xz'),\n",
       " PosixPath('/data/scratch-oc40/pulkitag/ankile/furniture-data/raw/sim/one_leg/augmentation/low/success/2024-02-10T20:14:42.pkl.xz')]"
      ]
     },
     "execution_count": 2,
     "metadata": {},
     "output_type": "execute_result"
    }
   ],
   "source": [
    "paths = get_raw_paths(\n",
    "    environment=\"sim\",\n",
    "    demo_source=\"augmentation\",\n",
    "    demo_outcome=\"success\",\n",
    "    task=\"one_leg\",\n",
    "    randomness=\"low\",\n",
    ")\n",
    "\n",
    "paths"
   ]
  },
  {
   "cell_type": "code",
   "execution_count": 3,
   "metadata": {},
   "outputs": [
    {
     "name": "stdout",
     "output_type": "stream",
     "text": [
      "File saved as 2024-02-10T20:06:02.pkl.mp4\n"
     ]
    },
    {
     "data": {
      "text/html": [
       "<video controls src=\"2024-02-10T20:06:02.pkl.mp4\" width=\"640\" height=\"480\"></video>"
      ],
      "text/plain": [
       "<IPython.core.display.HTML object>"
      ]
     },
     "metadata": {},
     "output_type": "display_data"
    },
    {
     "name": "stdout",
     "output_type": "stream",
     "text": [
      "File saved as 2024-02-10T21:22:52.pkl.mp4\n"
     ]
    },
    {
     "data": {
      "text/html": [
       "<video controls src=\"2024-02-10T21:22:52.pkl.mp4\" width=\"640\" height=\"480\"></video>"
      ],
      "text/plain": [
       "<IPython.core.display.HTML object>"
      ]
     },
     "metadata": {},
     "output_type": "display_data"
    },
    {
     "name": "stdout",
     "output_type": "stream",
     "text": [
      "File saved as 2024-02-10T20:35:48.pkl.mp4\n"
     ]
    },
    {
     "data": {
      "text/html": [
       "<video controls src=\"2024-02-10T20:35:48.pkl.mp4\" width=\"640\" height=\"480\"></video>"
      ],
      "text/plain": [
       "<IPython.core.display.HTML object>"
      ]
     },
     "metadata": {},
     "output_type": "display_data"
    },
    {
     "name": "stdout",
     "output_type": "stream",
     "text": [
      "File saved as 2024-02-10T20:11:43.pkl.mp4\n"
     ]
    },
    {
     "data": {
      "text/html": [
       "<video controls src=\"2024-02-10T20:11:43.pkl.mp4\" width=\"640\" height=\"480\"></video>"
      ],
      "text/plain": [
       "<IPython.core.display.HTML object>"
      ]
     },
     "metadata": {},
     "output_type": "display_data"
    },
    {
     "name": "stdout",
     "output_type": "stream",
     "text": [
      "File saved as 2024-02-10T20:30:51.pkl.mp4\n"
     ]
    },
    {
     "data": {
      "text/html": [
       "<video controls src=\"2024-02-10T20:30:51.pkl.mp4\" width=\"640\" height=\"480\"></video>"
      ],
      "text/plain": [
       "<IPython.core.display.HTML object>"
      ]
     },
     "metadata": {},
     "output_type": "display_data"
    },
    {
     "name": "stdout",
     "output_type": "stream",
     "text": [
      "File saved as 2024-02-10T20:59:19.pkl.mp4\n"
     ]
    },
    {
     "data": {
      "text/html": [
       "<video controls src=\"2024-02-10T20:59:19.pkl.mp4\" width=\"640\" height=\"480\"></video>"
      ],
      "text/plain": [
       "<IPython.core.display.HTML object>"
      ]
     },
     "metadata": {},
     "output_type": "display_data"
    },
    {
     "name": "stdout",
     "output_type": "stream",
     "text": [
      "File saved as 2024-02-10T20:37:24.pkl.mp4\n"
     ]
    },
    {
     "data": {
      "text/html": [
       "<video controls src=\"2024-02-10T20:37:24.pkl.mp4\" width=\"640\" height=\"480\"></video>"
      ],
      "text/plain": [
       "<IPython.core.display.HTML object>"
      ]
     },
     "metadata": {},
     "output_type": "display_data"
    },
    {
     "name": "stdout",
     "output_type": "stream",
     "text": [
      "File saved as 2024-02-10T19:45:09.pkl.mp4\n"
     ]
    },
    {
     "data": {
      "text/html": [
       "<video controls src=\"2024-02-10T19:45:09.pkl.mp4\" width=\"640\" height=\"480\"></video>"
      ],
      "text/plain": [
       "<IPython.core.display.HTML object>"
      ]
     },
     "metadata": {},
     "output_type": "display_data"
    },
    {
     "name": "stdout",
     "output_type": "stream",
     "text": [
      "File saved as 2024-02-10T20:42:13.pkl.mp4\n"
     ]
    },
    {
     "data": {
      "text/html": [
       "<video controls src=\"2024-02-10T20:42:13.pkl.mp4\" width=\"640\" height=\"480\"></video>"
      ],
      "text/plain": [
       "<IPython.core.display.HTML object>"
      ]
     },
     "metadata": {},
     "output_type": "display_data"
    },
    {
     "name": "stdout",
     "output_type": "stream",
     "text": [
      "File saved as 2024-02-10T20:48:41.pkl.mp4\n"
     ]
    },
    {
     "data": {
      "text/html": [
       "<video controls src=\"2024-02-10T20:48:41.pkl.mp4\" width=\"640\" height=\"480\"></video>"
      ],
      "text/plain": [
       "<IPython.core.display.HTML object>"
      ]
     },
     "metadata": {},
     "output_type": "display_data"
    },
    {
     "name": "stdout",
     "output_type": "stream",
     "text": [
      "File saved as 2024-02-10T20:20:04.pkl.mp4\n"
     ]
    },
    {
     "data": {
      "text/html": [
       "<video controls src=\"2024-02-10T20:20:04.pkl.mp4\" width=\"640\" height=\"480\"></video>"
      ],
      "text/plain": [
       "<IPython.core.display.HTML object>"
      ]
     },
     "metadata": {},
     "output_type": "display_data"
    },
    {
     "name": "stdout",
     "output_type": "stream",
     "text": [
      "File saved as 2024-02-10T20:30:26.pkl.mp4\n"
     ]
    },
    {
     "data": {
      "text/html": [
       "<video controls src=\"2024-02-10T20:30:26.pkl.mp4\" width=\"640\" height=\"480\"></video>"
      ],
      "text/plain": [
       "<IPython.core.display.HTML object>"
      ]
     },
     "metadata": {},
     "output_type": "display_data"
    },
    {
     "name": "stdout",
     "output_type": "stream",
     "text": [
      "File saved as 2024-02-10T20:20:44.pkl.mp4\n"
     ]
    },
    {
     "data": {
      "text/html": [
       "<video controls src=\"2024-02-10T20:20:44.pkl.mp4\" width=\"640\" height=\"480\"></video>"
      ],
      "text/plain": [
       "<IPython.core.display.HTML object>"
      ]
     },
     "metadata": {},
     "output_type": "display_data"
    },
    {
     "name": "stdout",
     "output_type": "stream",
     "text": [
      "File saved as 2024-02-10T20:43:24.pkl.mp4\n"
     ]
    },
    {
     "data": {
      "text/html": [
       "<video controls src=\"2024-02-10T20:43:24.pkl.mp4\" width=\"640\" height=\"480\"></video>"
      ],
      "text/plain": [
       "<IPython.core.display.HTML object>"
      ]
     },
     "metadata": {},
     "output_type": "display_data"
    },
    {
     "name": "stdout",
     "output_type": "stream",
     "text": [
      "File saved as 2024-02-10T19:45:33.pkl.mp4\n"
     ]
    },
    {
     "data": {
      "text/html": [
       "<video controls src=\"2024-02-10T19:45:33.pkl.mp4\" width=\"640\" height=\"480\"></video>"
      ],
      "text/plain": [
       "<IPython.core.display.HTML object>"
      ]
     },
     "metadata": {},
     "output_type": "display_data"
    },
    {
     "name": "stdout",
     "output_type": "stream",
     "text": [
      "File saved as 2024-02-10T20:33:47.pkl.mp4\n"
     ]
    },
    {
     "data": {
      "text/html": [
       "<video controls src=\"2024-02-10T20:33:47.pkl.mp4\" width=\"640\" height=\"480\"></video>"
      ],
      "text/plain": [
       "<IPython.core.display.HTML object>"
      ]
     },
     "metadata": {},
     "output_type": "display_data"
    },
    {
     "name": "stdout",
     "output_type": "stream",
     "text": [
      "File saved as 2024-02-10T20:48:17.pkl.mp4\n"
     ]
    },
    {
     "data": {
      "text/html": [
       "<video controls src=\"2024-02-10T20:48:17.pkl.mp4\" width=\"640\" height=\"480\"></video>"
      ],
      "text/plain": [
       "<IPython.core.display.HTML object>"
      ]
     },
     "metadata": {},
     "output_type": "display_data"
    },
    {
     "name": "stdout",
     "output_type": "stream",
     "text": [
      "File saved as 2024-02-10T21:30:53.pkl.mp4\n"
     ]
    },
    {
     "data": {
      "text/html": [
       "<video controls src=\"2024-02-10T21:30:53.pkl.mp4\" width=\"640\" height=\"480\"></video>"
      ],
      "text/plain": [
       "<IPython.core.display.HTML object>"
      ]
     },
     "metadata": {},
     "output_type": "display_data"
    },
    {
     "name": "stdout",
     "output_type": "stream",
     "text": [
      "File saved as 2024-02-10T19:34:33.pkl.mp4\n"
     ]
    },
    {
     "data": {
      "text/html": [
       "<video controls src=\"2024-02-10T19:34:33.pkl.mp4\" width=\"640\" height=\"480\"></video>"
      ],
      "text/plain": [
       "<IPython.core.display.HTML object>"
      ]
     },
     "metadata": {},
     "output_type": "display_data"
    },
    {
     "name": "stdout",
     "output_type": "stream",
     "text": [
      "File saved as 2024-02-10T21:28:35.pkl.mp4\n"
     ]
    },
    {
     "data": {
      "text/html": [
       "<video controls src=\"2024-02-10T21:28:35.pkl.mp4\" width=\"640\" height=\"480\"></video>"
      ],
      "text/plain": [
       "<IPython.core.display.HTML object>"
      ]
     },
     "metadata": {},
     "output_type": "display_data"
    },
    {
     "name": "stdout",
     "output_type": "stream",
     "text": [
      "File saved as 2024-02-10T19:29:01.pkl.mp4\n"
     ]
    },
    {
     "data": {
      "text/html": [
       "<video controls src=\"2024-02-10T19:29:01.pkl.mp4\" width=\"640\" height=\"480\"></video>"
      ],
      "text/plain": [
       "<IPython.core.display.HTML object>"
      ]
     },
     "metadata": {},
     "output_type": "display_data"
    },
    {
     "name": "stdout",
     "output_type": "stream",
     "text": [
      "File saved as 2024-02-10T20:10:41.pkl.mp4\n"
     ]
    },
    {
     "data": {
      "text/html": [
       "<video controls src=\"2024-02-10T20:10:41.pkl.mp4\" width=\"640\" height=\"480\"></video>"
      ],
      "text/plain": [
       "<IPython.core.display.HTML object>"
      ]
     },
     "metadata": {},
     "output_type": "display_data"
    },
    {
     "name": "stdout",
     "output_type": "stream",
     "text": [
      "File saved as 2024-02-10T20:51:09.pkl.mp4\n"
     ]
    },
    {
     "data": {
      "text/html": [
       "<video controls src=\"2024-02-10T20:51:09.pkl.mp4\" width=\"640\" height=\"480\"></video>"
      ],
      "text/plain": [
       "<IPython.core.display.HTML object>"
      ]
     },
     "metadata": {},
     "output_type": "display_data"
    },
    {
     "name": "stdout",
     "output_type": "stream",
     "text": [
      "File saved as 2024-02-10T20:51:49.pkl.mp4\n"
     ]
    },
    {
     "data": {
      "text/html": [
       "<video controls src=\"2024-02-10T20:51:49.pkl.mp4\" width=\"640\" height=\"480\"></video>"
      ],
      "text/plain": [
       "<IPython.core.display.HTML object>"
      ]
     },
     "metadata": {},
     "output_type": "display_data"
    },
    {
     "name": "stdout",
     "output_type": "stream",
     "text": [
      "File saved as 2024-02-10T21:16:34.pkl.mp4\n"
     ]
    },
    {
     "data": {
      "text/html": [
       "<video controls src=\"2024-02-10T21:16:34.pkl.mp4\" width=\"640\" height=\"480\"></video>"
      ],
      "text/plain": [
       "<IPython.core.display.HTML object>"
      ]
     },
     "metadata": {},
     "output_type": "display_data"
    },
    {
     "name": "stdout",
     "output_type": "stream",
     "text": [
      "File saved as 2024-02-10T19:16:56.pkl.mp4\n"
     ]
    },
    {
     "data": {
      "text/html": [
       "<video controls src=\"2024-02-10T19:16:56.pkl.mp4\" width=\"640\" height=\"480\"></video>"
      ],
      "text/plain": [
       "<IPython.core.display.HTML object>"
      ]
     },
     "metadata": {},
     "output_type": "display_data"
    },
    {
     "name": "stdout",
     "output_type": "stream",
     "text": [
      "File saved as 2024-02-10T20:19:08.pkl.mp4\n"
     ]
    },
    {
     "data": {
      "text/html": [
       "<video controls src=\"2024-02-10T20:19:08.pkl.mp4\" width=\"640\" height=\"480\"></video>"
      ],
      "text/plain": [
       "<IPython.core.display.HTML object>"
      ]
     },
     "metadata": {},
     "output_type": "display_data"
    },
    {
     "name": "stdout",
     "output_type": "stream",
     "text": [
      "File saved as 2024-02-10T21:02:02.pkl.mp4\n"
     ]
    },
    {
     "data": {
      "text/html": [
       "<video controls src=\"2024-02-10T21:02:02.pkl.mp4\" width=\"640\" height=\"480\"></video>"
      ],
      "text/plain": [
       "<IPython.core.display.HTML object>"
      ]
     },
     "metadata": {},
     "output_type": "display_data"
    },
    {
     "name": "stdout",
     "output_type": "stream",
     "text": [
      "File saved as 2024-02-10T20:17:39.pkl.mp4\n"
     ]
    },
    {
     "data": {
      "text/html": [
       "<video controls src=\"2024-02-10T20:17:39.pkl.mp4\" width=\"640\" height=\"480\"></video>"
      ],
      "text/plain": [
       "<IPython.core.display.HTML object>"
      ]
     },
     "metadata": {},
     "output_type": "display_data"
    },
    {
     "name": "stdout",
     "output_type": "stream",
     "text": [
      "File saved as 2024-02-10T20:58:56.pkl.mp4\n"
     ]
    },
    {
     "data": {
      "text/html": [
       "<video controls src=\"2024-02-10T20:58:56.pkl.mp4\" width=\"640\" height=\"480\"></video>"
      ],
      "text/plain": [
       "<IPython.core.display.HTML object>"
      ]
     },
     "metadata": {},
     "output_type": "display_data"
    },
    {
     "name": "stdout",
     "output_type": "stream",
     "text": [
      "File saved as 2024-02-10T19:25:11.pkl.mp4\n"
     ]
    },
    {
     "data": {
      "text/html": [
       "<video controls src=\"2024-02-10T19:25:11.pkl.mp4\" width=\"640\" height=\"480\"></video>"
      ],
      "text/plain": [
       "<IPython.core.display.HTML object>"
      ]
     },
     "metadata": {},
     "output_type": "display_data"
    },
    {
     "name": "stdout",
     "output_type": "stream",
     "text": [
      "File saved as 2024-02-10T20:05:21.pkl.mp4\n"
     ]
    },
    {
     "data": {
      "text/html": [
       "<video controls src=\"2024-02-10T20:05:21.pkl.mp4\" width=\"640\" height=\"480\"></video>"
      ],
      "text/plain": [
       "<IPython.core.display.HTML object>"
      ]
     },
     "metadata": {},
     "output_type": "display_data"
    },
    {
     "name": "stdout",
     "output_type": "stream",
     "text": [
      "File saved as 2024-02-10T20:43:47.pkl.mp4\n"
     ]
    },
    {
     "data": {
      "text/html": [
       "<video controls src=\"2024-02-10T20:43:47.pkl.mp4\" width=\"640\" height=\"480\"></video>"
      ],
      "text/plain": [
       "<IPython.core.display.HTML object>"
      ]
     },
     "metadata": {},
     "output_type": "display_data"
    },
    {
     "name": "stdout",
     "output_type": "stream",
     "text": [
      "File saved as 2024-02-10T19:41:12.pkl.mp4\n"
     ]
    },
    {
     "data": {
      "text/html": [
       "<video controls src=\"2024-02-10T19:41:12.pkl.mp4\" width=\"640\" height=\"480\"></video>"
      ],
      "text/plain": [
       "<IPython.core.display.HTML object>"
      ]
     },
     "metadata": {},
     "output_type": "display_data"
    },
    {
     "name": "stdout",
     "output_type": "stream",
     "text": [
      "File saved as 2024-02-10T19:57:53.pkl.mp4\n"
     ]
    },
    {
     "data": {
      "text/html": [
       "<video controls src=\"2024-02-10T19:57:53.pkl.mp4\" width=\"640\" height=\"480\"></video>"
      ],
      "text/plain": [
       "<IPython.core.display.HTML object>"
      ]
     },
     "metadata": {},
     "output_type": "display_data"
    },
    {
     "name": "stdout",
     "output_type": "stream",
     "text": [
      "File saved as 2024-02-10T19:42:49.pkl.mp4\n"
     ]
    },
    {
     "data": {
      "text/html": [
       "<video controls src=\"2024-02-10T19:42:49.pkl.mp4\" width=\"640\" height=\"480\"></video>"
      ],
      "text/plain": [
       "<IPython.core.display.HTML object>"
      ]
     },
     "metadata": {},
     "output_type": "display_data"
    },
    {
     "name": "stdout",
     "output_type": "stream",
     "text": [
      "File saved as 2024-02-10T21:20:50.pkl.mp4\n"
     ]
    },
    {
     "data": {
      "text/html": [
       "<video controls src=\"2024-02-10T21:20:50.pkl.mp4\" width=\"640\" height=\"480\"></video>"
      ],
      "text/plain": [
       "<IPython.core.display.HTML object>"
      ]
     },
     "metadata": {},
     "output_type": "display_data"
    },
    {
     "name": "stdout",
     "output_type": "stream",
     "text": [
      "File saved as 2024-02-10T20:49:55.pkl.mp4\n"
     ]
    },
    {
     "data": {
      "text/html": [
       "<video controls src=\"2024-02-10T20:49:55.pkl.mp4\" width=\"640\" height=\"480\"></video>"
      ],
      "text/plain": [
       "<IPython.core.display.HTML object>"
      ]
     },
     "metadata": {},
     "output_type": "display_data"
    },
    {
     "name": "stdout",
     "output_type": "stream",
     "text": [
      "File saved as 2024-02-10T19:34:09.pkl.mp4\n"
     ]
    },
    {
     "data": {
      "text/html": [
       "<video controls src=\"2024-02-10T19:34:09.pkl.mp4\" width=\"640\" height=\"480\"></video>"
      ],
      "text/plain": [
       "<IPython.core.display.HTML object>"
      ]
     },
     "metadata": {},
     "output_type": "display_data"
    },
    {
     "name": "stdout",
     "output_type": "stream",
     "text": [
      "File saved as 2024-02-10T20:31:32.pkl.mp4\n"
     ]
    },
    {
     "data": {
      "text/html": [
       "<video controls src=\"2024-02-10T20:31:32.pkl.mp4\" width=\"640\" height=\"480\"></video>"
      ],
      "text/plain": [
       "<IPython.core.display.HTML object>"
      ]
     },
     "metadata": {},
     "output_type": "display_data"
    },
    {
     "name": "stdout",
     "output_type": "stream",
     "text": [
      "File saved as 2024-02-10T20:40:51.pkl.mp4\n"
     ]
    },
    {
     "data": {
      "text/html": [
       "<video controls src=\"2024-02-10T20:40:51.pkl.mp4\" width=\"640\" height=\"480\"></video>"
      ],
      "text/plain": [
       "<IPython.core.display.HTML object>"
      ]
     },
     "metadata": {},
     "output_type": "display_data"
    },
    {
     "name": "stdout",
     "output_type": "stream",
     "text": [
      "File saved as 2024-02-10T19:50:07.pkl.mp4\n"
     ]
    },
    {
     "data": {
      "text/html": [
       "<video controls src=\"2024-02-10T19:50:07.pkl.mp4\" width=\"640\" height=\"480\"></video>"
      ],
      "text/plain": [
       "<IPython.core.display.HTML object>"
      ]
     },
     "metadata": {},
     "output_type": "display_data"
    },
    {
     "name": "stdout",
     "output_type": "stream",
     "text": [
      "File saved as 2024-02-10T20:36:11.pkl.mp4\n"
     ]
    },
    {
     "data": {
      "text/html": [
       "<video controls src=\"2024-02-10T20:36:11.pkl.mp4\" width=\"640\" height=\"480\"></video>"
      ],
      "text/plain": [
       "<IPython.core.display.HTML object>"
      ]
     },
     "metadata": {},
     "output_type": "display_data"
    },
    {
     "name": "stdout",
     "output_type": "stream",
     "text": [
      "File saved as 2024-02-10T20:11:20.pkl.mp4\n"
     ]
    },
    {
     "data": {
      "text/html": [
       "<video controls src=\"2024-02-10T20:11:20.pkl.mp4\" width=\"640\" height=\"480\"></video>"
      ],
      "text/plain": [
       "<IPython.core.display.HTML object>"
      ]
     },
     "metadata": {},
     "output_type": "display_data"
    },
    {
     "name": "stdout",
     "output_type": "stream",
     "text": [
      "File saved as 2024-02-10T20:15:22.pkl.mp4\n"
     ]
    },
    {
     "data": {
      "text/html": [
       "<video controls src=\"2024-02-10T20:15:22.pkl.mp4\" width=\"640\" height=\"480\"></video>"
      ],
      "text/plain": [
       "<IPython.core.display.HTML object>"
      ]
     },
     "metadata": {},
     "output_type": "display_data"
    },
    {
     "name": "stdout",
     "output_type": "stream",
     "text": [
      "File saved as 2024-02-10T20:24:12.pkl.mp4\n"
     ]
    },
    {
     "data": {
      "text/html": [
       "<video controls src=\"2024-02-10T20:24:12.pkl.mp4\" width=\"640\" height=\"480\"></video>"
      ],
      "text/plain": [
       "<IPython.core.display.HTML object>"
      ]
     },
     "metadata": {},
     "output_type": "display_data"
    },
    {
     "name": "stdout",
     "output_type": "stream",
     "text": [
      "File saved as 2024-02-10T19:59:55.pkl.mp4\n"
     ]
    },
    {
     "data": {
      "text/html": [
       "<video controls src=\"2024-02-10T19:59:55.pkl.mp4\" width=\"640\" height=\"480\"></video>"
      ],
      "text/plain": [
       "<IPython.core.display.HTML object>"
      ]
     },
     "metadata": {},
     "output_type": "display_data"
    },
    {
     "name": "stdout",
     "output_type": "stream",
     "text": [
      "File saved as 2024-02-10T19:28:20.pkl.mp4\n"
     ]
    },
    {
     "data": {
      "text/html": [
       "<video controls src=\"2024-02-10T19:28:20.pkl.mp4\" width=\"640\" height=\"480\"></video>"
      ],
      "text/plain": [
       "<IPython.core.display.HTML object>"
      ]
     },
     "metadata": {},
     "output_type": "display_data"
    },
    {
     "name": "stdout",
     "output_type": "stream",
     "text": [
      "File saved as 2024-02-10T21:04:27.pkl.mp4\n"
     ]
    },
    {
     "data": {
      "text/html": [
       "<video controls src=\"2024-02-10T21:04:27.pkl.mp4\" width=\"640\" height=\"480\"></video>"
      ],
      "text/plain": [
       "<IPython.core.display.HTML object>"
      ]
     },
     "metadata": {},
     "output_type": "display_data"
    },
    {
     "name": "stdout",
     "output_type": "stream",
     "text": [
      "File saved as 2024-02-10T19:20:18.pkl.mp4\n"
     ]
    },
    {
     "data": {
      "text/html": [
       "<video controls src=\"2024-02-10T19:20:18.pkl.mp4\" width=\"640\" height=\"480\"></video>"
      ],
      "text/plain": [
       "<IPython.core.display.HTML object>"
      ]
     },
     "metadata": {},
     "output_type": "display_data"
    },
    {
     "name": "stdout",
     "output_type": "stream",
     "text": [
      "File saved as 2024-02-10T20:27:02.pkl.mp4\n"
     ]
    },
    {
     "data": {
      "text/html": [
       "<video controls src=\"2024-02-10T20:27:02.pkl.mp4\" width=\"640\" height=\"480\"></video>"
      ],
      "text/plain": [
       "<IPython.core.display.HTML object>"
      ]
     },
     "metadata": {},
     "output_type": "display_data"
    },
    {
     "name": "stdout",
     "output_type": "stream",
     "text": [
      "File saved as 2024-02-10T19:13:49.pkl.mp4\n"
     ]
    },
    {
     "data": {
      "text/html": [
       "<video controls src=\"2024-02-10T19:13:49.pkl.mp4\" width=\"640\" height=\"480\"></video>"
      ],
      "text/plain": [
       "<IPython.core.display.HTML object>"
      ]
     },
     "metadata": {},
     "output_type": "display_data"
    },
    {
     "name": "stdout",
     "output_type": "stream",
     "text": [
      "File saved as 2024-02-10T20:58:10.pkl.mp4\n"
     ]
    },
    {
     "data": {
      "text/html": [
       "<video controls src=\"2024-02-10T20:58:10.pkl.mp4\" width=\"640\" height=\"480\"></video>"
      ],
      "text/plain": [
       "<IPython.core.display.HTML object>"
      ]
     },
     "metadata": {},
     "output_type": "display_data"
    },
    {
     "name": "stdout",
     "output_type": "stream",
     "text": [
      "File saved as 2024-02-10T19:46:21.pkl.mp4\n"
     ]
    },
    {
     "data": {
      "text/html": [
       "<video controls src=\"2024-02-10T19:46:21.pkl.mp4\" width=\"640\" height=\"480\"></video>"
      ],
      "text/plain": [
       "<IPython.core.display.HTML object>"
      ]
     },
     "metadata": {},
     "output_type": "display_data"
    },
    {
     "name": "stdout",
     "output_type": "stream",
     "text": [
      "File saved as 2024-02-10T20:02:52.pkl.mp4\n"
     ]
    },
    {
     "data": {
      "text/html": [
       "<video controls src=\"2024-02-10T20:02:52.pkl.mp4\" width=\"640\" height=\"480\"></video>"
      ],
      "text/plain": [
       "<IPython.core.display.HTML object>"
      ]
     },
     "metadata": {},
     "output_type": "display_data"
    },
    {
     "name": "stdout",
     "output_type": "stream",
     "text": [
      "File saved as 2024-02-10T20:15:45.pkl.mp4\n"
     ]
    },
    {
     "data": {
      "text/html": [
       "<video controls src=\"2024-02-10T20:15:45.pkl.mp4\" width=\"640\" height=\"480\"></video>"
      ],
      "text/plain": [
       "<IPython.core.display.HTML object>"
      ]
     },
     "metadata": {},
     "output_type": "display_data"
    },
    {
     "name": "stdout",
     "output_type": "stream",
     "text": [
      "File saved as 2024-02-10T19:36:02.pkl.mp4\n"
     ]
    },
    {
     "data": {
      "text/html": [
       "<video controls src=\"2024-02-10T19:36:02.pkl.mp4\" width=\"640\" height=\"480\"></video>"
      ],
      "text/plain": [
       "<IPython.core.display.HTML object>"
      ]
     },
     "metadata": {},
     "output_type": "display_data"
    },
    {
     "name": "stdout",
     "output_type": "stream",
     "text": [
      "File saved as 2024-02-10T19:45:56.pkl.mp4\n"
     ]
    },
    {
     "data": {
      "text/html": [
       "<video controls src=\"2024-02-10T19:45:56.pkl.mp4\" width=\"640\" height=\"480\"></video>"
      ],
      "text/plain": [
       "<IPython.core.display.HTML object>"
      ]
     },
     "metadata": {},
     "output_type": "display_data"
    },
    {
     "name": "stdout",
     "output_type": "stream",
     "text": [
      "File saved as 2024-02-10T20:07:46.pkl.mp4\n"
     ]
    },
    {
     "data": {
      "text/html": [
       "<video controls src=\"2024-02-10T20:07:46.pkl.mp4\" width=\"640\" height=\"480\"></video>"
      ],
      "text/plain": [
       "<IPython.core.display.HTML object>"
      ]
     },
     "metadata": {},
     "output_type": "display_data"
    },
    {
     "name": "stdout",
     "output_type": "stream",
     "text": [
      "File saved as 2024-02-10T20:38:51.pkl.mp4\n"
     ]
    },
    {
     "data": {
      "text/html": [
       "<video controls src=\"2024-02-10T20:38:51.pkl.mp4\" width=\"640\" height=\"480\"></video>"
      ],
      "text/plain": [
       "<IPython.core.display.HTML object>"
      ]
     },
     "metadata": {},
     "output_type": "display_data"
    },
    {
     "name": "stdout",
     "output_type": "stream",
     "text": [
      "File saved as 2024-02-10T19:35:38.pkl.mp4\n"
     ]
    },
    {
     "data": {
      "text/html": [
       "<video controls src=\"2024-02-10T19:35:38.pkl.mp4\" width=\"640\" height=\"480\"></video>"
      ],
      "text/plain": [
       "<IPython.core.display.HTML object>"
      ]
     },
     "metadata": {},
     "output_type": "display_data"
    },
    {
     "name": "stdout",
     "output_type": "stream",
     "text": [
      "File saved as 2024-02-10T20:18:43.pkl.mp4\n"
     ]
    },
    {
     "data": {
      "text/html": [
       "<video controls src=\"2024-02-10T20:18:43.pkl.mp4\" width=\"640\" height=\"480\"></video>"
      ],
      "text/plain": [
       "<IPython.core.display.HTML object>"
      ]
     },
     "metadata": {},
     "output_type": "display_data"
    },
    {
     "name": "stdout",
     "output_type": "stream",
     "text": [
      "File saved as 2024-02-10T21:31:34.pkl.mp4\n"
     ]
    },
    {
     "data": {
      "text/html": [
       "<video controls src=\"2024-02-10T21:31:34.pkl.mp4\" width=\"640\" height=\"480\"></video>"
      ],
      "text/plain": [
       "<IPython.core.display.HTML object>"
      ]
     },
     "metadata": {},
     "output_type": "display_data"
    },
    {
     "name": "stdout",
     "output_type": "stream",
     "text": [
      "File saved as 2024-02-10T20:00:52.pkl.mp4\n"
     ]
    },
    {
     "data": {
      "text/html": [
       "<video controls src=\"2024-02-10T20:00:52.pkl.mp4\" width=\"640\" height=\"480\"></video>"
      ],
      "text/plain": [
       "<IPython.core.display.HTML object>"
      ]
     },
     "metadata": {},
     "output_type": "display_data"
    },
    {
     "name": "stdout",
     "output_type": "stream",
     "text": [
      "File saved as 2024-02-10T21:02:25.pkl.mp4\n"
     ]
    },
    {
     "data": {
      "text/html": [
       "<video controls src=\"2024-02-10T21:02:25.pkl.mp4\" width=\"640\" height=\"480\"></video>"
      ],
      "text/plain": [
       "<IPython.core.display.HTML object>"
      ]
     },
     "metadata": {},
     "output_type": "display_data"
    },
    {
     "name": "stdout",
     "output_type": "stream",
     "text": [
      "File saved as 2024-02-10T21:19:34.pkl.mp4\n"
     ]
    },
    {
     "data": {
      "text/html": [
       "<video controls src=\"2024-02-10T21:19:34.pkl.mp4\" width=\"640\" height=\"480\"></video>"
      ],
      "text/plain": [
       "<IPython.core.display.HTML object>"
      ]
     },
     "metadata": {},
     "output_type": "display_data"
    },
    {
     "name": "stdout",
     "output_type": "stream",
     "text": [
      "File saved as 2024-02-10T19:22:43.pkl.mp4\n"
     ]
    },
    {
     "data": {
      "text/html": [
       "<video controls src=\"2024-02-10T19:22:43.pkl.mp4\" width=\"640\" height=\"480\"></video>"
      ],
      "text/plain": [
       "<IPython.core.display.HTML object>"
      ]
     },
     "metadata": {},
     "output_type": "display_data"
    },
    {
     "name": "stdout",
     "output_type": "stream",
     "text": [
      "File saved as 2024-02-10T20:52:59.pkl.mp4\n"
     ]
    },
    {
     "data": {
      "text/html": [
       "<video controls src=\"2024-02-10T20:52:59.pkl.mp4\" width=\"640\" height=\"480\"></video>"
      ],
      "text/plain": [
       "<IPython.core.display.HTML object>"
      ]
     },
     "metadata": {},
     "output_type": "display_data"
    },
    {
     "name": "stdout",
     "output_type": "stream",
     "text": [
      "File saved as 2024-02-10T19:21:39.pkl.mp4\n"
     ]
    },
    {
     "data": {
      "text/html": [
       "<video controls src=\"2024-02-10T19:21:39.pkl.mp4\" width=\"640\" height=\"480\"></video>"
      ],
      "text/plain": [
       "<IPython.core.display.HTML object>"
      ]
     },
     "metadata": {},
     "output_type": "display_data"
    },
    {
     "name": "stdout",
     "output_type": "stream",
     "text": [
      "File saved as 2024-02-10T19:55:18.pkl.mp4\n"
     ]
    },
    {
     "data": {
      "text/html": [
       "<video controls src=\"2024-02-10T19:55:18.pkl.mp4\" width=\"640\" height=\"480\"></video>"
      ],
      "text/plain": [
       "<IPython.core.display.HTML object>"
      ]
     },
     "metadata": {},
     "output_type": "display_data"
    },
    {
     "name": "stdout",
     "output_type": "stream",
     "text": [
      "File saved as 2024-02-10T20:46:22.pkl.mp4\n"
     ]
    },
    {
     "data": {
      "text/html": [
       "<video controls src=\"2024-02-10T20:46:22.pkl.mp4\" width=\"640\" height=\"480\"></video>"
      ],
      "text/plain": [
       "<IPython.core.display.HTML object>"
      ]
     },
     "metadata": {},
     "output_type": "display_data"
    },
    {
     "name": "stdout",
     "output_type": "stream",
     "text": [
      "File saved as 2024-02-10T20:32:36.pkl.mp4\n"
     ]
    },
    {
     "data": {
      "text/html": [
       "<video controls src=\"2024-02-10T20:32:36.pkl.mp4\" width=\"640\" height=\"480\"></video>"
      ],
      "text/plain": [
       "<IPython.core.display.HTML object>"
      ]
     },
     "metadata": {},
     "output_type": "display_data"
    },
    {
     "name": "stdout",
     "output_type": "stream",
     "text": [
      "File saved as 2024-02-10T21:10:05.pkl.mp4\n"
     ]
    },
    {
     "data": {
      "text/html": [
       "<video controls src=\"2024-02-10T21:10:05.pkl.mp4\" width=\"640\" height=\"480\"></video>"
      ],
      "text/plain": [
       "<IPython.core.display.HTML object>"
      ]
     },
     "metadata": {},
     "output_type": "display_data"
    },
    {
     "name": "stdout",
     "output_type": "stream",
     "text": [
      "File saved as 2024-02-10T21:06:04.pkl.mp4\n"
     ]
    },
    {
     "data": {
      "text/html": [
       "<video controls src=\"2024-02-10T21:06:04.pkl.mp4\" width=\"640\" height=\"480\"></video>"
      ],
      "text/plain": [
       "<IPython.core.display.HTML object>"
      ]
     },
     "metadata": {},
     "output_type": "display_data"
    },
    {
     "name": "stdout",
     "output_type": "stream",
     "text": [
      "File saved as 2024-02-10T21:07:49.pkl.mp4\n"
     ]
    },
    {
     "data": {
      "text/html": [
       "<video controls src=\"2024-02-10T21:07:49.pkl.mp4\" width=\"640\" height=\"480\"></video>"
      ],
      "text/plain": [
       "<IPython.core.display.HTML object>"
      ]
     },
     "metadata": {},
     "output_type": "display_data"
    },
    {
     "name": "stdout",
     "output_type": "stream",
     "text": [
      "File saved as 2024-02-10T20:21:23.pkl.mp4\n"
     ]
    },
    {
     "data": {
      "text/html": [
       "<video controls src=\"2024-02-10T20:21:23.pkl.mp4\" width=\"640\" height=\"480\"></video>"
      ],
      "text/plain": [
       "<IPython.core.display.HTML object>"
      ]
     },
     "metadata": {},
     "output_type": "display_data"
    },
    {
     "name": "stdout",
     "output_type": "stream",
     "text": [
      "File saved as 2024-02-10T19:39:27.pkl.mp4\n"
     ]
    },
    {
     "data": {
      "text/html": [
       "<video controls src=\"2024-02-10T19:39:27.pkl.mp4\" width=\"640\" height=\"480\"></video>"
      ],
      "text/plain": [
       "<IPython.core.display.HTML object>"
      ]
     },
     "metadata": {},
     "output_type": "display_data"
    },
    {
     "name": "stdout",
     "output_type": "stream",
     "text": [
      "File saved as 2024-02-10T19:19:38.pkl.mp4\n"
     ]
    },
    {
     "data": {
      "text/html": [
       "<video controls src=\"2024-02-10T19:19:38.pkl.mp4\" width=\"640\" height=\"480\"></video>"
      ],
      "text/plain": [
       "<IPython.core.display.HTML object>"
      ]
     },
     "metadata": {},
     "output_type": "display_data"
    },
    {
     "name": "stdout",
     "output_type": "stream",
     "text": [
      "File saved as 2024-02-10T20:13:29.pkl.mp4\n"
     ]
    },
    {
     "data": {
      "text/html": [
       "<video controls src=\"2024-02-10T20:13:29.pkl.mp4\" width=\"640\" height=\"480\"></video>"
      ],
      "text/plain": [
       "<IPython.core.display.HTML object>"
      ]
     },
     "metadata": {},
     "output_type": "display_data"
    },
    {
     "name": "stdout",
     "output_type": "stream",
     "text": [
      "File saved as 2024-02-10T21:21:14.pkl.mp4\n"
     ]
    },
    {
     "data": {
      "text/html": [
       "<video controls src=\"2024-02-10T21:21:14.pkl.mp4\" width=\"640\" height=\"480\"></video>"
      ],
      "text/plain": [
       "<IPython.core.display.HTML object>"
      ]
     },
     "metadata": {},
     "output_type": "display_data"
    },
    {
     "name": "stdout",
     "output_type": "stream",
     "text": [
      "File saved as 2024-02-10T19:23:57.pkl.mp4\n"
     ]
    },
    {
     "data": {
      "text/html": [
       "<video controls src=\"2024-02-10T19:23:57.pkl.mp4\" width=\"640\" height=\"480\"></video>"
      ],
      "text/plain": [
       "<IPython.core.display.HTML object>"
      ]
     },
     "metadata": {},
     "output_type": "display_data"
    },
    {
     "name": "stdout",
     "output_type": "stream",
     "text": [
      "File saved as 2024-02-10T20:18:20.pkl.mp4\n"
     ]
    },
    {
     "data": {
      "text/html": [
       "<video controls src=\"2024-02-10T20:18:20.pkl.mp4\" width=\"640\" height=\"480\"></video>"
      ],
      "text/plain": [
       "<IPython.core.display.HTML object>"
      ]
     },
     "metadata": {},
     "output_type": "display_data"
    },
    {
     "name": "stdout",
     "output_type": "stream",
     "text": [
      "File saved as 2024-02-10T19:16:33.pkl.mp4\n"
     ]
    },
    {
     "data": {
      "text/html": [
       "<video controls src=\"2024-02-10T19:16:33.pkl.mp4\" width=\"640\" height=\"480\"></video>"
      ],
      "text/plain": [
       "<IPython.core.display.HTML object>"
      ]
     },
     "metadata": {},
     "output_type": "display_data"
    },
    {
     "name": "stdout",
     "output_type": "stream",
     "text": [
      "File saved as 2024-02-10T19:58:51.pkl.mp4\n"
     ]
    },
    {
     "data": {
      "text/html": [
       "<video controls src=\"2024-02-10T19:58:51.pkl.mp4\" width=\"640\" height=\"480\"></video>"
      ],
      "text/plain": [
       "<IPython.core.display.HTML object>"
      ]
     },
     "metadata": {},
     "output_type": "display_data"
    },
    {
     "name": "stdout",
     "output_type": "stream",
     "text": [
      "File saved as 2024-02-10T20:06:25.pkl.mp4\n"
     ]
    },
    {
     "data": {
      "text/html": [
       "<video controls src=\"2024-02-10T20:06:25.pkl.mp4\" width=\"640\" height=\"480\"></video>"
      ],
      "text/plain": [
       "<IPython.core.display.HTML object>"
      ]
     },
     "metadata": {},
     "output_type": "display_data"
    },
    {
     "name": "stdout",
     "output_type": "stream",
     "text": [
      "File saved as 2024-02-10T19:47:59.pkl.mp4\n"
     ]
    },
    {
     "data": {
      "text/html": [
       "<video controls src=\"2024-02-10T19:47:59.pkl.mp4\" width=\"640\" height=\"480\"></video>"
      ],
      "text/plain": [
       "<IPython.core.display.HTML object>"
      ]
     },
     "metadata": {},
     "output_type": "display_data"
    },
    {
     "name": "stdout",
     "output_type": "stream",
     "text": [
      "File saved as 2024-02-10T19:50:55.pkl.mp4\n"
     ]
    },
    {
     "data": {
      "text/html": [
       "<video controls src=\"2024-02-10T19:50:55.pkl.mp4\" width=\"640\" height=\"480\"></video>"
      ],
      "text/plain": [
       "<IPython.core.display.HTML object>"
      ]
     },
     "metadata": {},
     "output_type": "display_data"
    },
    {
     "name": "stdout",
     "output_type": "stream",
     "text": [
      "File saved as 2024-02-10T19:53:39.pkl.mp4\n"
     ]
    },
    {
     "data": {
      "text/html": [
       "<video controls src=\"2024-02-10T19:53:39.pkl.mp4\" width=\"640\" height=\"480\"></video>"
      ],
      "text/plain": [
       "<IPython.core.display.HTML object>"
      ]
     },
     "metadata": {},
     "output_type": "display_data"
    },
    {
     "name": "stdout",
     "output_type": "stream",
     "text": [
      "File saved as 2024-02-10T21:10:29.pkl.mp4\n"
     ]
    },
    {
     "data": {
      "text/html": [
       "<video controls src=\"2024-02-10T21:10:29.pkl.mp4\" width=\"640\" height=\"480\"></video>"
      ],
      "text/plain": [
       "<IPython.core.display.HTML object>"
      ]
     },
     "metadata": {},
     "output_type": "display_data"
    },
    {
     "name": "stdout",
     "output_type": "stream",
     "text": [
      "File saved as 2024-02-10T20:47:36.pkl.mp4\n"
     ]
    },
    {
     "data": {
      "text/html": [
       "<video controls src=\"2024-02-10T20:47:36.pkl.mp4\" width=\"640\" height=\"480\"></video>"
      ],
      "text/plain": [
       "<IPython.core.display.HTML object>"
      ]
     },
     "metadata": {},
     "output_type": "display_data"
    },
    {
     "name": "stdout",
     "output_type": "stream",
     "text": [
      "File saved as 2024-02-10T20:53:56.pkl.mp4\n"
     ]
    },
    {
     "data": {
      "text/html": [
       "<video controls src=\"2024-02-10T20:53:56.pkl.mp4\" width=\"640\" height=\"480\"></video>"
      ],
      "text/plain": [
       "<IPython.core.display.HTML object>"
      ]
     },
     "metadata": {},
     "output_type": "display_data"
    },
    {
     "name": "stdout",
     "output_type": "stream",
     "text": [
      "File saved as 2024-02-10T21:24:56.pkl.mp4\n"
     ]
    },
    {
     "data": {
      "text/html": [
       "<video controls src=\"2024-02-10T21:24:56.pkl.mp4\" width=\"640\" height=\"480\"></video>"
      ],
      "text/plain": [
       "<IPython.core.display.HTML object>"
      ]
     },
     "metadata": {},
     "output_type": "display_data"
    },
    {
     "name": "stdout",
     "output_type": "stream",
     "text": [
      "File saved as 2024-02-10T21:07:26.pkl.mp4\n"
     ]
    },
    {
     "data": {
      "text/html": [
       "<video controls src=\"2024-02-10T21:07:26.pkl.mp4\" width=\"640\" height=\"480\"></video>"
      ],
      "text/plain": [
       "<IPython.core.display.HTML object>"
      ]
     },
     "metadata": {},
     "output_type": "display_data"
    },
    {
     "name": "stdout",
     "output_type": "stream",
     "text": [
      "File saved as 2024-02-10T21:01:05.pkl.mp4\n"
     ]
    },
    {
     "data": {
      "text/html": [
       "<video controls src=\"2024-02-10T21:01:05.pkl.mp4\" width=\"640\" height=\"480\"></video>"
      ],
      "text/plain": [
       "<IPython.core.display.HTML object>"
      ]
     },
     "metadata": {},
     "output_type": "display_data"
    },
    {
     "name": "stdout",
     "output_type": "stream",
     "text": [
      "File saved as 2024-02-10T19:49:26.pkl.mp4\n"
     ]
    },
    {
     "data": {
      "text/html": [
       "<video controls src=\"2024-02-10T19:49:26.pkl.mp4\" width=\"640\" height=\"480\"></video>"
      ],
      "text/plain": [
       "<IPython.core.display.HTML object>"
      ]
     },
     "metadata": {},
     "output_type": "display_data"
    },
    {
     "name": "stdout",
     "output_type": "stream",
     "text": [
      "File saved as 2024-02-10T21:09:41.pkl.mp4\n"
     ]
    },
    {
     "data": {
      "text/html": [
       "<video controls src=\"2024-02-10T21:09:41.pkl.mp4\" width=\"640\" height=\"480\"></video>"
      ],
      "text/plain": [
       "<IPython.core.display.HTML object>"
      ]
     },
     "metadata": {},
     "output_type": "display_data"
    },
    {
     "name": "stdout",
     "output_type": "stream",
     "text": [
      "File saved as 2024-02-10T20:26:22.pkl.mp4\n"
     ]
    },
    {
     "data": {
      "text/html": [
       "<video controls src=\"2024-02-10T20:26:22.pkl.mp4\" width=\"640\" height=\"480\"></video>"
      ],
      "text/plain": [
       "<IPython.core.display.HTML object>"
      ]
     },
     "metadata": {},
     "output_type": "display_data"
    },
    {
     "name": "stdout",
     "output_type": "stream",
     "text": [
      "File saved as 2024-02-10T20:41:16.pkl.mp4\n"
     ]
    },
    {
     "data": {
      "text/html": [
       "<video controls src=\"2024-02-10T20:41:16.pkl.mp4\" width=\"640\" height=\"480\"></video>"
      ],
      "text/plain": [
       "<IPython.core.display.HTML object>"
      ]
     },
     "metadata": {},
     "output_type": "display_data"
    },
    {
     "name": "stdout",
     "output_type": "stream",
     "text": [
      "File saved as 2024-02-10T19:55:42.pkl.mp4\n"
     ]
    },
    {
     "data": {
      "text/html": [
       "<video controls src=\"2024-02-10T19:55:42.pkl.mp4\" width=\"640\" height=\"480\"></video>"
      ],
      "text/plain": [
       "<IPython.core.display.HTML object>"
      ]
     },
     "metadata": {},
     "output_type": "display_data"
    },
    {
     "name": "stdout",
     "output_type": "stream",
     "text": [
      "File saved as 2024-02-10T21:00:08.pkl.mp4\n"
     ]
    },
    {
     "data": {
      "text/html": [
       "<video controls src=\"2024-02-10T21:00:08.pkl.mp4\" width=\"640\" height=\"480\"></video>"
      ],
      "text/plain": [
       "<IPython.core.display.HTML object>"
      ]
     },
     "metadata": {},
     "output_type": "display_data"
    },
    {
     "name": "stdout",
     "output_type": "stream",
     "text": [
      "File saved as 2024-02-10T21:18:35.pkl.mp4\n"
     ]
    },
    {
     "data": {
      "text/html": [
       "<video controls src=\"2024-02-10T21:18:35.pkl.mp4\" width=\"640\" height=\"480\"></video>"
      ],
      "text/plain": [
       "<IPython.core.display.HTML object>"
      ]
     },
     "metadata": {},
     "output_type": "display_data"
    },
    {
     "name": "stdout",
     "output_type": "stream",
     "text": [
      "File saved as 2024-02-10T20:54:20.pkl.mp4\n"
     ]
    },
    {
     "data": {
      "text/html": [
       "<video controls src=\"2024-02-10T20:54:20.pkl.mp4\" width=\"640\" height=\"480\"></video>"
      ],
      "text/plain": [
       "<IPython.core.display.HTML object>"
      ]
     },
     "metadata": {},
     "output_type": "display_data"
    },
    {
     "name": "stdout",
     "output_type": "stream",
     "text": [
      "File saved as 2024-02-10T19:22:19.pkl.mp4\n"
     ]
    },
    {
     "data": {
      "text/html": [
       "<video controls src=\"2024-02-10T19:22:19.pkl.mp4\" width=\"640\" height=\"480\"></video>"
      ],
      "text/plain": [
       "<IPython.core.display.HTML object>"
      ]
     },
     "metadata": {},
     "output_type": "display_data"
    },
    {
     "name": "stdout",
     "output_type": "stream",
     "text": [
      "File saved as 2024-02-10T20:42:37.pkl.mp4\n"
     ]
    },
    {
     "data": {
      "text/html": [
       "<video controls src=\"2024-02-10T20:42:37.pkl.mp4\" width=\"640\" height=\"480\"></video>"
      ],
      "text/plain": [
       "<IPython.core.display.HTML object>"
      ]
     },
     "metadata": {},
     "output_type": "display_data"
    },
    {
     "name": "stdout",
     "output_type": "stream",
     "text": [
      "File saved as 2024-02-10T20:45:19.pkl.mp4\n"
     ]
    },
    {
     "data": {
      "text/html": [
       "<video controls src=\"2024-02-10T20:45:19.pkl.mp4\" width=\"640\" height=\"480\"></video>"
      ],
      "text/plain": [
       "<IPython.core.display.HTML object>"
      ]
     },
     "metadata": {},
     "output_type": "display_data"
    },
    {
     "name": "stdout",
     "output_type": "stream",
     "text": [
      "File saved as 2024-02-10T21:12:06.pkl.mp4\n"
     ]
    },
    {
     "data": {
      "text/html": [
       "<video controls src=\"2024-02-10T21:12:06.pkl.mp4\" width=\"640\" height=\"480\"></video>"
      ],
      "text/plain": [
       "<IPython.core.display.HTML object>"
      ]
     },
     "metadata": {},
     "output_type": "display_data"
    },
    {
     "name": "stdout",
     "output_type": "stream",
     "text": [
      "File saved as 2024-02-10T20:25:58.pkl.mp4\n"
     ]
    },
    {
     "data": {
      "text/html": [
       "<video controls src=\"2024-02-10T20:25:58.pkl.mp4\" width=\"640\" height=\"480\"></video>"
      ],
      "text/plain": [
       "<IPython.core.display.HTML object>"
      ]
     },
     "metadata": {},
     "output_type": "display_data"
    },
    {
     "name": "stdout",
     "output_type": "stream",
     "text": [
      "File saved as 2024-02-10T19:38:05.pkl.mp4\n"
     ]
    },
    {
     "data": {
      "text/html": [
       "<video controls src=\"2024-02-10T19:38:05.pkl.mp4\" width=\"640\" height=\"480\"></video>"
      ],
      "text/plain": [
       "<IPython.core.display.HTML object>"
      ]
     },
     "metadata": {},
     "output_type": "display_data"
    },
    {
     "name": "stdout",
     "output_type": "stream",
     "text": [
      "File saved as 2024-02-10T20:45:42.pkl.mp4\n"
     ]
    },
    {
     "data": {
      "text/html": [
       "<video controls src=\"2024-02-10T20:45:42.pkl.mp4\" width=\"640\" height=\"480\"></video>"
      ],
      "text/plain": [
       "<IPython.core.display.HTML object>"
      ]
     },
     "metadata": {},
     "output_type": "display_data"
    },
    {
     "name": "stdout",
     "output_type": "stream",
     "text": [
      "File saved as 2024-02-10T20:30:02.pkl.mp4\n"
     ]
    },
    {
     "data": {
      "text/html": [
       "<video controls src=\"2024-02-10T20:30:02.pkl.mp4\" width=\"640\" height=\"480\"></video>"
      ],
      "text/plain": [
       "<IPython.core.display.HTML object>"
      ]
     },
     "metadata": {},
     "output_type": "display_data"
    },
    {
     "name": "stdout",
     "output_type": "stream",
     "text": [
      "File saved as 2024-02-10T21:14:49.pkl.mp4\n"
     ]
    },
    {
     "data": {
      "text/html": [
       "<video controls src=\"2024-02-10T21:14:49.pkl.mp4\" width=\"640\" height=\"480\"></video>"
      ],
      "text/plain": [
       "<IPython.core.display.HTML object>"
      ]
     },
     "metadata": {},
     "output_type": "display_data"
    },
    {
     "name": "stdout",
     "output_type": "stream",
     "text": [
      "File saved as 2024-02-10T21:14:09.pkl.mp4\n"
     ]
    },
    {
     "data": {
      "text/html": [
       "<video controls src=\"2024-02-10T21:14:09.pkl.mp4\" width=\"640\" height=\"480\"></video>"
      ],
      "text/plain": [
       "<IPython.core.display.HTML object>"
      ]
     },
     "metadata": {},
     "output_type": "display_data"
    },
    {
     "name": "stdout",
     "output_type": "stream",
     "text": [
      "File saved as 2024-02-10T21:02:48.pkl.mp4\n"
     ]
    },
    {
     "data": {
      "text/html": [
       "<video controls src=\"2024-02-10T21:02:48.pkl.mp4\" width=\"640\" height=\"480\"></video>"
      ],
      "text/plain": [
       "<IPython.core.display.HTML object>"
      ]
     },
     "metadata": {},
     "output_type": "display_data"
    },
    {
     "name": "stdout",
     "output_type": "stream",
     "text": [
      "File saved as 2024-02-10T20:25:34.pkl.mp4\n"
     ]
    },
    {
     "data": {
      "text/html": [
       "<video controls src=\"2024-02-10T20:25:34.pkl.mp4\" width=\"640\" height=\"480\"></video>"
      ],
      "text/plain": [
       "<IPython.core.display.HTML object>"
      ]
     },
     "metadata": {},
     "output_type": "display_data"
    },
    {
     "name": "stdout",
     "output_type": "stream",
     "text": [
      "File saved as 2024-02-10T20:33:23.pkl.mp4\n"
     ]
    },
    {
     "data": {
      "text/html": [
       "<video controls src=\"2024-02-10T20:33:23.pkl.mp4\" width=\"640\" height=\"480\"></video>"
      ],
      "text/plain": [
       "<IPython.core.display.HTML object>"
      ]
     },
     "metadata": {},
     "output_type": "display_data"
    },
    {
     "name": "stdout",
     "output_type": "stream",
     "text": [
      "File saved as 2024-02-10T20:27:43.pkl.mp4\n"
     ]
    },
    {
     "data": {
      "text/html": [
       "<video controls src=\"2024-02-10T20:27:43.pkl.mp4\" width=\"640\" height=\"480\"></video>"
      ],
      "text/plain": [
       "<IPython.core.display.HTML object>"
      ]
     },
     "metadata": {},
     "output_type": "display_data"
    },
    {
     "name": "stdout",
     "output_type": "stream",
     "text": [
      "File saved as 2024-02-10T19:48:47.pkl.mp4\n"
     ]
    },
    {
     "data": {
      "text/html": [
       "<video controls src=\"2024-02-10T19:48:47.pkl.mp4\" width=\"640\" height=\"480\"></video>"
      ],
      "text/plain": [
       "<IPython.core.display.HTML object>"
      ]
     },
     "metadata": {},
     "output_type": "display_data"
    },
    {
     "name": "stdout",
     "output_type": "stream",
     "text": [
      "File saved as 2024-02-10T20:23:01.pkl.mp4\n"
     ]
    },
    {
     "data": {
      "text/html": [
       "<video controls src=\"2024-02-10T20:23:01.pkl.mp4\" width=\"640\" height=\"480\"></video>"
      ],
      "text/plain": [
       "<IPython.core.display.HTML object>"
      ]
     },
     "metadata": {},
     "output_type": "display_data"
    },
    {
     "name": "stdout",
     "output_type": "stream",
     "text": [
      "File saved as 2024-02-10T19:36:43.pkl.mp4\n"
     ]
    },
    {
     "data": {
      "text/html": [
       "<video controls src=\"2024-02-10T19:36:43.pkl.mp4\" width=\"640\" height=\"480\"></video>"
      ],
      "text/plain": [
       "<IPython.core.display.HTML object>"
      ]
     },
     "metadata": {},
     "output_type": "display_data"
    },
    {
     "name": "stdout",
     "output_type": "stream",
     "text": [
      "File saved as 2024-02-10T20:43:00.pkl.mp4\n"
     ]
    },
    {
     "data": {
      "text/html": [
       "<video controls src=\"2024-02-10T20:43:00.pkl.mp4\" width=\"640\" height=\"480\"></video>"
      ],
      "text/plain": [
       "<IPython.core.display.HTML object>"
      ]
     },
     "metadata": {},
     "output_type": "display_data"
    },
    {
     "name": "stdout",
     "output_type": "stream",
     "text": [
      "File saved as 2024-02-10T19:20:42.pkl.mp4\n"
     ]
    },
    {
     "data": {
      "text/html": [
       "<video controls src=\"2024-02-10T19:20:42.pkl.mp4\" width=\"640\" height=\"480\"></video>"
      ],
      "text/plain": [
       "<IPython.core.display.HTML object>"
      ]
     },
     "metadata": {},
     "output_type": "display_data"
    },
    {
     "name": "stdout",
     "output_type": "stream",
     "text": [
      "File saved as 2024-02-10T19:32:01.pkl.mp4\n"
     ]
    },
    {
     "data": {
      "text/html": [
       "<video controls src=\"2024-02-10T19:32:01.pkl.mp4\" width=\"640\" height=\"480\"></video>"
      ],
      "text/plain": [
       "<IPython.core.display.HTML object>"
      ]
     },
     "metadata": {},
     "output_type": "display_data"
    },
    {
     "name": "stdout",
     "output_type": "stream",
     "text": [
      "File saved as 2024-02-10T21:16:10.pkl.mp4\n"
     ]
    },
    {
     "data": {
      "text/html": [
       "<video controls src=\"2024-02-10T21:16:10.pkl.mp4\" width=\"640\" height=\"480\"></video>"
      ],
      "text/plain": [
       "<IPython.core.display.HTML object>"
      ]
     },
     "metadata": {},
     "output_type": "display_data"
    },
    {
     "name": "stdout",
     "output_type": "stream",
     "text": [
      "File saved as 2024-02-10T21:09:18.pkl.mp4\n"
     ]
    },
    {
     "data": {
      "text/html": [
       "<video controls src=\"2024-02-10T21:09:18.pkl.mp4\" width=\"640\" height=\"480\"></video>"
      ],
      "text/plain": [
       "<IPython.core.display.HTML object>"
      ]
     },
     "metadata": {},
     "output_type": "display_data"
    },
    {
     "name": "stdout",
     "output_type": "stream",
     "text": [
      "File saved as 2024-02-10T19:14:13.pkl.mp4\n"
     ]
    },
    {
     "data": {
      "text/html": [
       "<video controls src=\"2024-02-10T19:14:13.pkl.mp4\" width=\"640\" height=\"480\"></video>"
      ],
      "text/plain": [
       "<IPython.core.display.HTML object>"
      ]
     },
     "metadata": {},
     "output_type": "display_data"
    },
    {
     "name": "stdout",
     "output_type": "stream",
     "text": [
      "File saved as 2024-02-10T21:28:11.pkl.mp4\n"
     ]
    },
    {
     "data": {
      "text/html": [
       "<video controls src=\"2024-02-10T21:28:11.pkl.mp4\" width=\"640\" height=\"480\"></video>"
      ],
      "text/plain": [
       "<IPython.core.display.HTML object>"
      ]
     },
     "metadata": {},
     "output_type": "display_data"
    },
    {
     "name": "stdout",
     "output_type": "stream",
     "text": [
      "File saved as 2024-02-10T19:34:57.pkl.mp4\n"
     ]
    },
    {
     "data": {
      "text/html": [
       "<video controls src=\"2024-02-10T19:34:57.pkl.mp4\" width=\"640\" height=\"480\"></video>"
      ],
      "text/plain": [
       "<IPython.core.display.HTML object>"
      ]
     },
     "metadata": {},
     "output_type": "display_data"
    },
    {
     "name": "stdout",
     "output_type": "stream",
     "text": [
      "File saved as 2024-02-10T20:34:35.pkl.mp4\n"
     ]
    },
    {
     "data": {
      "text/html": [
       "<video controls src=\"2024-02-10T20:34:35.pkl.mp4\" width=\"640\" height=\"480\"></video>"
      ],
      "text/plain": [
       "<IPython.core.display.HTML object>"
      ]
     },
     "metadata": {},
     "output_type": "display_data"
    },
    {
     "name": "stdout",
     "output_type": "stream",
     "text": [
      "File saved as 2024-02-10T20:12:49.pkl.mp4\n"
     ]
    },
    {
     "data": {
      "text/html": [
       "<video controls src=\"2024-02-10T20:12:49.pkl.mp4\" width=\"640\" height=\"480\"></video>"
      ],
      "text/plain": [
       "<IPython.core.display.HTML object>"
      ]
     },
     "metadata": {},
     "output_type": "display_data"
    },
    {
     "name": "stdout",
     "output_type": "stream",
     "text": [
      "File saved as 2024-02-10T19:19:15.pkl.mp4\n"
     ]
    },
    {
     "data": {
      "text/html": [
       "<video controls src=\"2024-02-10T19:19:15.pkl.mp4\" width=\"640\" height=\"480\"></video>"
      ],
      "text/plain": [
       "<IPython.core.display.HTML object>"
      ]
     },
     "metadata": {},
     "output_type": "display_data"
    },
    {
     "name": "stdout",
     "output_type": "stream",
     "text": [
      "File saved as 2024-02-10T19:38:47.pkl.mp4\n"
     ]
    },
    {
     "data": {
      "text/html": [
       "<video controls src=\"2024-02-10T19:38:47.pkl.mp4\" width=\"640\" height=\"480\"></video>"
      ],
      "text/plain": [
       "<IPython.core.display.HTML object>"
      ]
     },
     "metadata": {},
     "output_type": "display_data"
    },
    {
     "name": "stdout",
     "output_type": "stream",
     "text": [
      "File saved as 2024-02-10T21:03:30.pkl.mp4\n"
     ]
    },
    {
     "data": {
      "text/html": [
       "<video controls src=\"2024-02-10T21:03:30.pkl.mp4\" width=\"640\" height=\"480\"></video>"
      ],
      "text/plain": [
       "<IPython.core.display.HTML object>"
      ]
     },
     "metadata": {},
     "output_type": "display_data"
    },
    {
     "name": "stdout",
     "output_type": "stream",
     "text": [
      "File saved as 2024-02-10T20:38:28.pkl.mp4\n"
     ]
    },
    {
     "data": {
      "text/html": [
       "<video controls src=\"2024-02-10T20:38:28.pkl.mp4\" width=\"640\" height=\"480\"></video>"
      ],
      "text/plain": [
       "<IPython.core.display.HTML object>"
      ]
     },
     "metadata": {},
     "output_type": "display_data"
    },
    {
     "name": "stdout",
     "output_type": "stream",
     "text": [
      "File saved as 2024-02-10T20:33:00.pkl.mp4\n"
     ]
    },
    {
     "data": {
      "text/html": [
       "<video controls src=\"2024-02-10T20:33:00.pkl.mp4\" width=\"640\" height=\"480\"></video>"
      ],
      "text/plain": [
       "<IPython.core.display.HTML object>"
      ]
     },
     "metadata": {},
     "output_type": "display_data"
    },
    {
     "name": "stdout",
     "output_type": "stream",
     "text": [
      "File saved as 2024-02-10T20:35:23.pkl.mp4\n"
     ]
    },
    {
     "data": {
      "text/html": [
       "<video controls src=\"2024-02-10T20:35:23.pkl.mp4\" width=\"640\" height=\"480\"></video>"
      ],
      "text/plain": [
       "<IPython.core.display.HTML object>"
      ]
     },
     "metadata": {},
     "output_type": "display_data"
    },
    {
     "name": "stdout",
     "output_type": "stream",
     "text": [
      "File saved as 2024-02-10T20:58:32.pkl.mp4\n"
     ]
    },
    {
     "data": {
      "text/html": [
       "<video controls src=\"2024-02-10T20:58:32.pkl.mp4\" width=\"640\" height=\"480\"></video>"
      ],
      "text/plain": [
       "<IPython.core.display.HTML object>"
      ]
     },
     "metadata": {},
     "output_type": "display_data"
    },
    {
     "name": "stdout",
     "output_type": "stream",
     "text": [
      "File saved as 2024-02-10T19:39:51.pkl.mp4\n"
     ]
    },
    {
     "data": {
      "text/html": [
       "<video controls src=\"2024-02-10T19:39:51.pkl.mp4\" width=\"640\" height=\"480\"></video>"
      ],
      "text/plain": [
       "<IPython.core.display.HTML object>"
      ]
     },
     "metadata": {},
     "output_type": "display_data"
    },
    {
     "name": "stdout",
     "output_type": "stream",
     "text": [
      "File saved as 2024-02-10T21:10:52.pkl.mp4\n"
     ]
    },
    {
     "data": {
      "text/html": [
       "<video controls src=\"2024-02-10T21:10:52.pkl.mp4\" width=\"640\" height=\"480\"></video>"
      ],
      "text/plain": [
       "<IPython.core.display.HTML object>"
      ]
     },
     "metadata": {},
     "output_type": "display_data"
    },
    {
     "name": "stdout",
     "output_type": "stream",
     "text": [
      "File saved as 2024-02-10T20:34:59.pkl.mp4\n"
     ]
    },
    {
     "data": {
      "text/html": [
       "<video controls src=\"2024-02-10T20:34:59.pkl.mp4\" width=\"640\" height=\"480\"></video>"
      ],
      "text/plain": [
       "<IPython.core.display.HTML object>"
      ]
     },
     "metadata": {},
     "output_type": "display_data"
    },
    {
     "name": "stdout",
     "output_type": "stream",
     "text": [
      "File saved as 2024-02-10T20:12:25.pkl.mp4\n"
     ]
    },
    {
     "data": {
      "text/html": [
       "<video controls src=\"2024-02-10T20:12:25.pkl.mp4\" width=\"640\" height=\"480\"></video>"
      ],
      "text/plain": [
       "<IPython.core.display.HTML object>"
      ]
     },
     "metadata": {},
     "output_type": "display_data"
    },
    {
     "name": "stdout",
     "output_type": "stream",
     "text": [
      "File saved as 2024-02-10T21:15:46.pkl.mp4\n"
     ]
    },
    {
     "data": {
      "text/html": [
       "<video controls src=\"2024-02-10T21:15:46.pkl.mp4\" width=\"640\" height=\"480\"></video>"
      ],
      "text/plain": [
       "<IPython.core.display.HTML object>"
      ]
     },
     "metadata": {},
     "output_type": "display_data"
    },
    {
     "name": "stdout",
     "output_type": "stream",
     "text": [
      "File saved as 2024-02-10T21:05:24.pkl.mp4\n"
     ]
    },
    {
     "data": {
      "text/html": [
       "<video controls src=\"2024-02-10T21:05:24.pkl.mp4\" width=\"640\" height=\"480\"></video>"
      ],
      "text/plain": [
       "<IPython.core.display.HTML object>"
      ]
     },
     "metadata": {},
     "output_type": "display_data"
    },
    {
     "name": "stdout",
     "output_type": "stream",
     "text": [
      "File saved as 2024-02-10T21:26:17.pkl.mp4\n"
     ]
    },
    {
     "data": {
      "text/html": [
       "<video controls src=\"2024-02-10T21:26:17.pkl.mp4\" width=\"640\" height=\"480\"></video>"
      ],
      "text/plain": [
       "<IPython.core.display.HTML object>"
      ]
     },
     "metadata": {},
     "output_type": "display_data"
    },
    {
     "name": "stdout",
     "output_type": "stream",
     "text": [
      "File saved as 2024-02-10T20:38:04.pkl.mp4\n"
     ]
    },
    {
     "data": {
      "text/html": [
       "<video controls src=\"2024-02-10T20:38:04.pkl.mp4\" width=\"640\" height=\"480\"></video>"
      ],
      "text/plain": [
       "<IPython.core.display.HTML object>"
      ]
     },
     "metadata": {},
     "output_type": "display_data"
    },
    {
     "name": "stdout",
     "output_type": "stream",
     "text": [
      "File saved as 2024-02-10T20:07:05.pkl.mp4\n"
     ]
    },
    {
     "data": {
      "text/html": [
       "<video controls src=\"2024-02-10T20:07:05.pkl.mp4\" width=\"640\" height=\"480\"></video>"
      ],
      "text/plain": [
       "<IPython.core.display.HTML object>"
      ]
     },
     "metadata": {},
     "output_type": "display_data"
    },
    {
     "name": "stdout",
     "output_type": "stream",
     "text": [
      "File saved as 2024-02-10T20:24:36.pkl.mp4\n"
     ]
    },
    {
     "data": {
      "text/html": [
       "<video controls src=\"2024-02-10T20:24:36.pkl.mp4\" width=\"640\" height=\"480\"></video>"
      ],
      "text/plain": [
       "<IPython.core.display.HTML object>"
      ]
     },
     "metadata": {},
     "output_type": "display_data"
    },
    {
     "name": "stdout",
     "output_type": "stream",
     "text": [
      "File saved as 2024-02-10T19:47:34.pkl.mp4\n"
     ]
    },
    {
     "data": {
      "text/html": [
       "<video controls src=\"2024-02-10T19:47:34.pkl.mp4\" width=\"640\" height=\"480\"></video>"
      ],
      "text/plain": [
       "<IPython.core.display.HTML object>"
      ]
     },
     "metadata": {},
     "output_type": "display_data"
    },
    {
     "name": "stdout",
     "output_type": "stream",
     "text": [
      "File saved as 2024-02-10T19:59:31.pkl.mp4\n"
     ]
    },
    {
     "data": {
      "text/html": [
       "<video controls src=\"2024-02-10T19:59:31.pkl.mp4\" width=\"640\" height=\"480\"></video>"
      ],
      "text/plain": [
       "<IPython.core.display.HTML object>"
      ]
     },
     "metadata": {},
     "output_type": "display_data"
    },
    {
     "name": "stdout",
     "output_type": "stream",
     "text": [
      "File saved as 2024-02-10T21:25:36.pkl.mp4\n"
     ]
    },
    {
     "data": {
      "text/html": [
       "<video controls src=\"2024-02-10T21:25:36.pkl.mp4\" width=\"640\" height=\"480\"></video>"
      ],
      "text/plain": [
       "<IPython.core.display.HTML object>"
      ]
     },
     "metadata": {},
     "output_type": "display_data"
    },
    {
     "name": "stdout",
     "output_type": "stream",
     "text": [
      "File saved as 2024-02-10T19:52:42.pkl.mp4\n"
     ]
    },
    {
     "data": {
      "text/html": [
       "<video controls src=\"2024-02-10T19:52:42.pkl.mp4\" width=\"640\" height=\"480\"></video>"
      ],
      "text/plain": [
       "<IPython.core.display.HTML object>"
      ]
     },
     "metadata": {},
     "output_type": "display_data"
    },
    {
     "name": "stdout",
     "output_type": "stream",
     "text": [
      "File saved as 2024-02-10T21:06:45.pkl.mp4\n"
     ]
    },
    {
     "data": {
      "text/html": [
       "<video controls src=\"2024-02-10T21:06:45.pkl.mp4\" width=\"640\" height=\"480\"></video>"
      ],
      "text/plain": [
       "<IPython.core.display.HTML object>"
      ]
     },
     "metadata": {},
     "output_type": "display_data"
    },
    {
     "name": "stdout",
     "output_type": "stream",
     "text": [
      "File saved as 2024-02-10T20:52:36.pkl.mp4\n"
     ]
    },
    {
     "data": {
      "text/html": [
       "<video controls src=\"2024-02-10T20:52:36.pkl.mp4\" width=\"640\" height=\"480\"></video>"
      ],
      "text/plain": [
       "<IPython.core.display.HTML object>"
      ]
     },
     "metadata": {},
     "output_type": "display_data"
    },
    {
     "name": "stdout",
     "output_type": "stream",
     "text": [
      "File saved as 2024-02-10T19:33:29.pkl.mp4\n"
     ]
    },
    {
     "data": {
      "text/html": [
       "<video controls src=\"2024-02-10T19:33:29.pkl.mp4\" width=\"640\" height=\"480\"></video>"
      ],
      "text/plain": [
       "<IPython.core.display.HTML object>"
      ]
     },
     "metadata": {},
     "output_type": "display_data"
    },
    {
     "name": "stdout",
     "output_type": "stream",
     "text": [
      "File saved as 2024-02-10T20:57:05.pkl.mp4\n"
     ]
    },
    {
     "data": {
      "text/html": [
       "<video controls src=\"2024-02-10T20:57:05.pkl.mp4\" width=\"640\" height=\"480\"></video>"
      ],
      "text/plain": [
       "<IPython.core.display.HTML object>"
      ]
     },
     "metadata": {},
     "output_type": "display_data"
    },
    {
     "name": "stdout",
     "output_type": "stream",
     "text": [
      "File saved as 2024-02-10T19:32:24.pkl.mp4\n"
     ]
    },
    {
     "data": {
      "text/html": [
       "<video controls src=\"2024-02-10T19:32:24.pkl.mp4\" width=\"640\" height=\"480\"></video>"
      ],
      "text/plain": [
       "<IPython.core.display.HTML object>"
      ]
     },
     "metadata": {},
     "output_type": "display_data"
    },
    {
     "name": "stdout",
     "output_type": "stream",
     "text": [
      "File saved as 2024-02-10T21:27:30.pkl.mp4\n"
     ]
    },
    {
     "data": {
      "text/html": [
       "<video controls src=\"2024-02-10T21:27:30.pkl.mp4\" width=\"640\" height=\"480\"></video>"
      ],
      "text/plain": [
       "<IPython.core.display.HTML object>"
      ]
     },
     "metadata": {},
     "output_type": "display_data"
    },
    {
     "name": "stdout",
     "output_type": "stream",
     "text": [
      "File saved as 2024-02-10T20:23:24.pkl.mp4\n"
     ]
    },
    {
     "data": {
      "text/html": [
       "<video controls src=\"2024-02-10T20:23:24.pkl.mp4\" width=\"640\" height=\"480\"></video>"
      ],
      "text/plain": [
       "<IPython.core.display.HTML object>"
      ]
     },
     "metadata": {},
     "output_type": "display_data"
    },
    {
     "name": "stdout",
     "output_type": "stream",
     "text": [
      "File saved as 2024-02-10T19:48:22.pkl.mp4\n"
     ]
    },
    {
     "data": {
      "text/html": [
       "<video controls src=\"2024-02-10T19:48:22.pkl.mp4\" width=\"640\" height=\"480\"></video>"
      ],
      "text/plain": [
       "<IPython.core.display.HTML object>"
      ]
     },
     "metadata": {},
     "output_type": "display_data"
    },
    {
     "name": "stdout",
     "output_type": "stream",
     "text": [
      "File saved as 2024-02-10T21:08:13.pkl.mp4\n"
     ]
    },
    {
     "data": {
      "text/html": [
       "<video controls src=\"2024-02-10T21:08:13.pkl.mp4\" width=\"640\" height=\"480\"></video>"
      ],
      "text/plain": [
       "<IPython.core.display.HTML object>"
      ]
     },
     "metadata": {},
     "output_type": "display_data"
    },
    {
     "name": "stdout",
     "output_type": "stream",
     "text": [
      "File saved as 2024-02-10T21:08:53.pkl.mp4\n"
     ]
    },
    {
     "data": {
      "text/html": [
       "<video controls src=\"2024-02-10T21:08:53.pkl.mp4\" width=\"640\" height=\"480\"></video>"
      ],
      "text/plain": [
       "<IPython.core.display.HTML object>"
      ]
     },
     "metadata": {},
     "output_type": "display_data"
    },
    {
     "name": "stdout",
     "output_type": "stream",
     "text": [
      "File saved as 2024-02-10T20:34:12.pkl.mp4\n"
     ]
    },
    {
     "data": {
      "text/html": [
       "<video controls src=\"2024-02-10T20:34:12.pkl.mp4\" width=\"640\" height=\"480\"></video>"
      ],
      "text/plain": [
       "<IPython.core.display.HTML object>"
      ]
     },
     "metadata": {},
     "output_type": "display_data"
    },
    {
     "name": "stdout",
     "output_type": "stream",
     "text": [
      "File saved as 2024-02-10T20:59:43.pkl.mp4\n"
     ]
    },
    {
     "data": {
      "text/html": [
       "<video controls src=\"2024-02-10T20:59:43.pkl.mp4\" width=\"640\" height=\"480\"></video>"
      ],
      "text/plain": [
       "<IPython.core.display.HTML object>"
      ]
     },
     "metadata": {},
     "output_type": "display_data"
    },
    {
     "name": "stdout",
     "output_type": "stream",
     "text": [
      "File saved as 2024-02-10T19:26:25.pkl.mp4\n"
     ]
    },
    {
     "data": {
      "text/html": [
       "<video controls src=\"2024-02-10T19:26:25.pkl.mp4\" width=\"640\" height=\"480\"></video>"
      ],
      "text/plain": [
       "<IPython.core.display.HTML object>"
      ]
     },
     "metadata": {},
     "output_type": "display_data"
    },
    {
     "name": "stdout",
     "output_type": "stream",
     "text": [
      "File saved as 2024-02-10T20:40:28.pkl.mp4\n"
     ]
    },
    {
     "data": {
      "text/html": [
       "<video controls src=\"2024-02-10T20:40:28.pkl.mp4\" width=\"640\" height=\"480\"></video>"
      ],
      "text/plain": [
       "<IPython.core.display.HTML object>"
      ]
     },
     "metadata": {},
     "output_type": "display_data"
    },
    {
     "name": "stdout",
     "output_type": "stream",
     "text": [
      "File saved as 2024-02-10T19:56:06.pkl.mp4\n"
     ]
    },
    {
     "data": {
      "text/html": [
       "<video controls src=\"2024-02-10T19:56:06.pkl.mp4\" width=\"640\" height=\"480\"></video>"
      ],
      "text/plain": [
       "<IPython.core.display.HTML object>"
      ]
     },
     "metadata": {},
     "output_type": "display_data"
    },
    {
     "name": "stdout",
     "output_type": "stream",
     "text": [
      "File saved as 2024-02-10T20:57:29.pkl.mp4\n"
     ]
    },
    {
     "data": {
      "text/html": [
       "<video controls src=\"2024-02-10T20:57:29.pkl.mp4\" width=\"640\" height=\"480\"></video>"
      ],
      "text/plain": [
       "<IPython.core.display.HTML object>"
      ]
     },
     "metadata": {},
     "output_type": "display_data"
    },
    {
     "name": "stdout",
     "output_type": "stream",
     "text": [
      "File saved as 2024-02-10T19:37:07.pkl.mp4\n"
     ]
    },
    {
     "data": {
      "text/html": [
       "<video controls src=\"2024-02-10T19:37:07.pkl.mp4\" width=\"640\" height=\"480\"></video>"
      ],
      "text/plain": [
       "<IPython.core.display.HTML object>"
      ]
     },
     "metadata": {},
     "output_type": "display_data"
    },
    {
     "name": "stdout",
     "output_type": "stream",
     "text": [
      "File saved as 2024-02-10T20:54:45.pkl.mp4\n"
     ]
    },
    {
     "data": {
      "text/html": [
       "<video controls src=\"2024-02-10T20:54:45.pkl.mp4\" width=\"640\" height=\"480\"></video>"
      ],
      "text/plain": [
       "<IPython.core.display.HTML object>"
      ]
     },
     "metadata": {},
     "output_type": "display_data"
    },
    {
     "name": "stdout",
     "output_type": "stream",
     "text": [
      "File saved as 2024-02-10T20:39:14.pkl.mp4\n"
     ]
    },
    {
     "data": {
      "text/html": [
       "<video controls src=\"2024-02-10T20:39:14.pkl.mp4\" width=\"640\" height=\"480\"></video>"
      ],
      "text/plain": [
       "<IPython.core.display.HTML object>"
      ]
     },
     "metadata": {},
     "output_type": "display_data"
    },
    {
     "name": "stdout",
     "output_type": "stream",
     "text": [
      "File saved as 2024-02-10T19:33:05.pkl.mp4\n"
     ]
    },
    {
     "data": {
      "text/html": [
       "<video controls src=\"2024-02-10T19:33:05.pkl.mp4\" width=\"640\" height=\"480\"></video>"
      ],
      "text/plain": [
       "<IPython.core.display.HTML object>"
      ]
     },
     "metadata": {},
     "output_type": "display_data"
    },
    {
     "name": "stdout",
     "output_type": "stream",
     "text": [
      "File saved as 2024-02-10T19:29:42.pkl.mp4\n"
     ]
    },
    {
     "data": {
      "text/html": [
       "<video controls src=\"2024-02-10T19:29:42.pkl.mp4\" width=\"640\" height=\"480\"></video>"
      ],
      "text/plain": [
       "<IPython.core.display.HTML object>"
      ]
     },
     "metadata": {},
     "output_type": "display_data"
    },
    {
     "name": "stdout",
     "output_type": "stream",
     "text": [
      "File saved as 2024-02-10T20:23:48.pkl.mp4\n"
     ]
    },
    {
     "data": {
      "text/html": [
       "<video controls src=\"2024-02-10T20:23:48.pkl.mp4\" width=\"640\" height=\"480\"></video>"
      ],
      "text/plain": [
       "<IPython.core.display.HTML object>"
      ]
     },
     "metadata": {},
     "output_type": "display_data"
    },
    {
     "name": "stdout",
     "output_type": "stream",
     "text": [
      "File saved as 2024-02-10T20:03:17.pkl.mp4\n"
     ]
    },
    {
     "data": {
      "text/html": [
       "<video controls src=\"2024-02-10T20:03:17.pkl.mp4\" width=\"640\" height=\"480\"></video>"
      ],
      "text/plain": [
       "<IPython.core.display.HTML object>"
      ]
     },
     "metadata": {},
     "output_type": "display_data"
    },
    {
     "name": "stdout",
     "output_type": "stream",
     "text": [
      "File saved as 2024-02-10T19:54:04.pkl.mp4\n"
     ]
    },
    {
     "data": {
      "text/html": [
       "<video controls src=\"2024-02-10T19:54:04.pkl.mp4\" width=\"640\" height=\"480\"></video>"
      ],
      "text/plain": [
       "<IPython.core.display.HTML object>"
      ]
     },
     "metadata": {},
     "output_type": "display_data"
    },
    {
     "name": "stdout",
     "output_type": "stream",
     "text": [
      "File saved as 2024-02-10T21:28:58.pkl.mp4\n"
     ]
    },
    {
     "data": {
      "text/html": [
       "<video controls src=\"2024-02-10T21:28:58.pkl.mp4\" width=\"640\" height=\"480\"></video>"
      ],
      "text/plain": [
       "<IPython.core.display.HTML object>"
      ]
     },
     "metadata": {},
     "output_type": "display_data"
    },
    {
     "name": "stdout",
     "output_type": "stream",
     "text": [
      "File saved as 2024-02-10T20:52:13.pkl.mp4\n"
     ]
    },
    {
     "data": {
      "text/html": [
       "<video controls src=\"2024-02-10T20:52:13.pkl.mp4\" width=\"640\" height=\"480\"></video>"
      ],
      "text/plain": [
       "<IPython.core.display.HTML object>"
      ]
     },
     "metadata": {},
     "output_type": "display_data"
    },
    {
     "name": "stdout",
     "output_type": "stream",
     "text": [
      "File saved as 2024-02-10T20:21:47.pkl.mp4\n"
     ]
    },
    {
     "data": {
      "text/html": [
       "<video controls src=\"2024-02-10T20:21:47.pkl.mp4\" width=\"640\" height=\"480\"></video>"
      ],
      "text/plain": [
       "<IPython.core.display.HTML object>"
      ]
     },
     "metadata": {},
     "output_type": "display_data"
    },
    {
     "name": "stdout",
     "output_type": "stream",
     "text": [
      "File saved as 2024-02-10T19:17:36.pkl.mp4\n"
     ]
    },
    {
     "data": {
      "text/html": [
       "<video controls src=\"2024-02-10T19:17:36.pkl.mp4\" width=\"640\" height=\"480\"></video>"
      ],
      "text/plain": [
       "<IPython.core.display.HTML object>"
      ]
     },
     "metadata": {},
     "output_type": "display_data"
    },
    {
     "name": "stdout",
     "output_type": "stream",
     "text": [
      "File saved as 2024-02-10T19:43:53.pkl.mp4\n"
     ]
    },
    {
     "data": {
      "text/html": [
       "<video controls src=\"2024-02-10T19:43:53.pkl.mp4\" width=\"640\" height=\"480\"></video>"
      ],
      "text/plain": [
       "<IPython.core.display.HTML object>"
      ]
     },
     "metadata": {},
     "output_type": "display_data"
    },
    {
     "name": "stdout",
     "output_type": "stream",
     "text": [
      "File saved as 2024-02-10T19:15:17.pkl.mp4\n"
     ]
    },
    {
     "data": {
      "text/html": [
       "<video controls src=\"2024-02-10T19:15:17.pkl.mp4\" width=\"640\" height=\"480\"></video>"
      ],
      "text/plain": [
       "<IPython.core.display.HTML object>"
      ]
     },
     "metadata": {},
     "output_type": "display_data"
    },
    {
     "name": "stdout",
     "output_type": "stream",
     "text": [
      "File saved as 2024-02-10T21:17:14.pkl.mp4\n"
     ]
    },
    {
     "data": {
      "text/html": [
       "<video controls src=\"2024-02-10T21:17:14.pkl.mp4\" width=\"640\" height=\"480\"></video>"
      ],
      "text/plain": [
       "<IPython.core.display.HTML object>"
      ]
     },
     "metadata": {},
     "output_type": "display_data"
    },
    {
     "name": "stdout",
     "output_type": "stream",
     "text": [
      "File saved as 2024-02-10T20:32:12.pkl.mp4\n"
     ]
    },
    {
     "data": {
      "text/html": [
       "<video controls src=\"2024-02-10T20:32:12.pkl.mp4\" width=\"640\" height=\"480\"></video>"
      ],
      "text/plain": [
       "<IPython.core.display.HTML object>"
      ]
     },
     "metadata": {},
     "output_type": "display_data"
    },
    {
     "name": "stdout",
     "output_type": "stream",
     "text": [
      "File saved as 2024-02-10T20:55:26.pkl.mp4\n"
     ]
    },
    {
     "data": {
      "text/html": [
       "<video controls src=\"2024-02-10T20:55:26.pkl.mp4\" width=\"640\" height=\"480\"></video>"
      ],
      "text/plain": [
       "<IPython.core.display.HTML object>"
      ]
     },
     "metadata": {},
     "output_type": "display_data"
    },
    {
     "name": "stdout",
     "output_type": "stream",
     "text": [
      "File saved as 2024-02-10T19:42:08.pkl.mp4\n"
     ]
    },
    {
     "data": {
      "text/html": [
       "<video controls src=\"2024-02-10T19:42:08.pkl.mp4\" width=\"640\" height=\"480\"></video>"
      ],
      "text/plain": [
       "<IPython.core.display.HTML object>"
      ]
     },
     "metadata": {},
     "output_type": "display_data"
    },
    {
     "name": "stdout",
     "output_type": "stream",
     "text": [
      "File saved as 2024-02-10T20:01:15.pkl.mp4\n"
     ]
    },
    {
     "data": {
      "text/html": [
       "<video controls src=\"2024-02-10T20:01:15.pkl.mp4\" width=\"640\" height=\"480\"></video>"
      ],
      "text/plain": [
       "<IPython.core.display.HTML object>"
      ]
     },
     "metadata": {},
     "output_type": "display_data"
    },
    {
     "name": "stdout",
     "output_type": "stream",
     "text": [
      "File saved as 2024-02-10T19:18:51.pkl.mp4\n"
     ]
    },
    {
     "data": {
      "text/html": [
       "<video controls src=\"2024-02-10T19:18:51.pkl.mp4\" width=\"640\" height=\"480\"></video>"
      ],
      "text/plain": [
       "<IPython.core.display.HTML object>"
      ]
     },
     "metadata": {},
     "output_type": "display_data"
    },
    {
     "name": "stdout",
     "output_type": "stream",
     "text": [
      "File saved as 2024-02-10T20:16:42.pkl.mp4\n"
     ]
    },
    {
     "data": {
      "text/html": [
       "<video controls src=\"2024-02-10T20:16:42.pkl.mp4\" width=\"640\" height=\"480\"></video>"
      ],
      "text/plain": [
       "<IPython.core.display.HTML object>"
      ]
     },
     "metadata": {},
     "output_type": "display_data"
    },
    {
     "name": "stdout",
     "output_type": "stream",
     "text": [
      "File saved as 2024-02-10T19:27:06.pkl.mp4\n"
     ]
    },
    {
     "data": {
      "text/html": [
       "<video controls src=\"2024-02-10T19:27:06.pkl.mp4\" width=\"640\" height=\"480\"></video>"
      ],
      "text/plain": [
       "<IPython.core.display.HTML object>"
      ]
     },
     "metadata": {},
     "output_type": "display_data"
    },
    {
     "name": "stdout",
     "output_type": "stream",
     "text": [
      "File saved as 2024-02-10T20:56:07.pkl.mp4\n"
     ]
    },
    {
     "data": {
      "text/html": [
       "<video controls src=\"2024-02-10T20:56:07.pkl.mp4\" width=\"640\" height=\"480\"></video>"
      ],
      "text/plain": [
       "<IPython.core.display.HTML object>"
      ]
     },
     "metadata": {},
     "output_type": "display_data"
    },
    {
     "name": "stdout",
     "output_type": "stream",
     "text": [
      "File saved as 2024-02-10T20:28:58.pkl.mp4\n"
     ]
    },
    {
     "data": {
      "text/html": [
       "<video controls src=\"2024-02-10T20:28:58.pkl.mp4\" width=\"640\" height=\"480\"></video>"
      ],
      "text/plain": [
       "<IPython.core.display.HTML object>"
      ]
     },
     "metadata": {},
     "output_type": "display_data"
    },
    {
     "name": "stdout",
     "output_type": "stream",
     "text": [
      "File saved as 2024-02-10T20:01:39.pkl.mp4\n"
     ]
    },
    {
     "data": {
      "text/html": [
       "<video controls src=\"2024-02-10T20:01:39.pkl.mp4\" width=\"640\" height=\"480\"></video>"
      ],
      "text/plain": [
       "<IPython.core.display.HTML object>"
      ]
     },
     "metadata": {},
     "output_type": "display_data"
    },
    {
     "name": "stdout",
     "output_type": "stream",
     "text": [
      "File saved as 2024-02-10T19:43:29.pkl.mp4\n"
     ]
    },
    {
     "data": {
      "text/html": [
       "<video controls src=\"2024-02-10T19:43:29.pkl.mp4\" width=\"640\" height=\"480\"></video>"
      ],
      "text/plain": [
       "<IPython.core.display.HTML object>"
      ]
     },
     "metadata": {},
     "output_type": "display_data"
    },
    {
     "name": "stdout",
     "output_type": "stream",
     "text": [
      "File saved as 2024-02-10T20:29:39.pkl.mp4\n"
     ]
    },
    {
     "data": {
      "text/html": [
       "<video controls src=\"2024-02-10T20:29:39.pkl.mp4\" width=\"640\" height=\"480\"></video>"
      ],
      "text/plain": [
       "<IPython.core.display.HTML object>"
      ]
     },
     "metadata": {},
     "output_type": "display_data"
    },
    {
     "name": "stdout",
     "output_type": "stream",
     "text": [
      "File saved as 2024-02-10T19:40:48.pkl.mp4\n"
     ]
    },
    {
     "data": {
      "text/html": [
       "<video controls src=\"2024-02-10T19:40:48.pkl.mp4\" width=\"640\" height=\"480\"></video>"
      ],
      "text/plain": [
       "<IPython.core.display.HTML object>"
      ]
     },
     "metadata": {},
     "output_type": "display_data"
    },
    {
     "name": "stdout",
     "output_type": "stream",
     "text": [
      "File saved as 2024-02-10T21:29:39.pkl.mp4\n"
     ]
    },
    {
     "data": {
      "text/html": [
       "<video controls src=\"2024-02-10T21:29:39.pkl.mp4\" width=\"640\" height=\"480\"></video>"
      ],
      "text/plain": [
       "<IPython.core.display.HTML object>"
      ]
     },
     "metadata": {},
     "output_type": "display_data"
    },
    {
     "name": "stdout",
     "output_type": "stream",
     "text": [
      "File saved as 2024-02-10T21:22:11.pkl.mp4\n"
     ]
    },
    {
     "data": {
      "text/html": [
       "<video controls src=\"2024-02-10T21:22:11.pkl.mp4\" width=\"640\" height=\"480\"></video>"
      ],
      "text/plain": [
       "<IPython.core.display.HTML object>"
      ]
     },
     "metadata": {},
     "output_type": "display_data"
    },
    {
     "name": "stdout",
     "output_type": "stream",
     "text": [
      "File saved as 2024-02-10T19:14:36.pkl.mp4\n"
     ]
    },
    {
     "data": {
      "text/html": [
       "<video controls src=\"2024-02-10T19:14:36.pkl.mp4\" width=\"640\" height=\"480\"></video>"
      ],
      "text/plain": [
       "<IPython.core.display.HTML object>"
      ]
     },
     "metadata": {},
     "output_type": "display_data"
    },
    {
     "name": "stdout",
     "output_type": "stream",
     "text": [
      "File saved as 2024-02-10T21:18:12.pkl.mp4\n"
     ]
    },
    {
     "data": {
      "text/html": [
       "<video controls src=\"2024-02-10T21:18:12.pkl.mp4\" width=\"640\" height=\"480\"></video>"
      ],
      "text/plain": [
       "<IPython.core.display.HTML object>"
      ]
     },
     "metadata": {},
     "output_type": "display_data"
    },
    {
     "name": "stdout",
     "output_type": "stream",
     "text": [
      "File saved as 2024-02-10T19:50:31.pkl.mp4\n"
     ]
    },
    {
     "data": {
      "text/html": [
       "<video controls src=\"2024-02-10T19:50:31.pkl.mp4\" width=\"640\" height=\"480\"></video>"
      ],
      "text/plain": [
       "<IPython.core.display.HTML object>"
      ]
     },
     "metadata": {},
     "output_type": "display_data"
    },
    {
     "name": "stdout",
     "output_type": "stream",
     "text": [
      "File saved as 2024-02-10T20:14:42.pkl.mp4\n"
     ]
    },
    {
     "data": {
      "text/html": [
       "<video controls src=\"2024-02-10T20:14:42.pkl.mp4\" width=\"640\" height=\"480\"></video>"
      ],
      "text/plain": [
       "<IPython.core.display.HTML object>"
      ]
     },
     "metadata": {},
     "output_type": "display_data"
    }
   ],
   "source": [
    "for path in paths:\n",
    "    mp4_from_pickle_jupyter(path, filename=path.stem + \".mp4\", fps=20)"
   ]
  },
  {
   "cell_type": "code",
   "execution_count": null,
   "metadata": {},
   "outputs": [],
   "source": []
  }
 ],
 "metadata": {
  "kernelspec": {
   "display_name": "rlgpu",
   "language": "python",
   "name": "python3"
  },
  "language_info": {
   "codemirror_mode": {
    "name": "ipython",
    "version": 3
   },
   "file_extension": ".py",
   "mimetype": "text/x-python",
   "name": "python",
   "nbconvert_exporter": "python",
   "pygments_lexer": "ipython3",
   "version": "3.8.18"
  }
 },
 "nbformat": 4,
 "nbformat_minor": 2
}
