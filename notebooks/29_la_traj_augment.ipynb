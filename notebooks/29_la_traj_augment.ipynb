{
 "cells": [
  {
   "cell_type": "markdown",
   "metadata": {},
   "source": [
    "# Investigate the augmented trajectories"
   ]
  },
  {
   "cell_type": "markdown",
   "metadata": {},
   "source": [
    "## Analyze the `round_table` augmentation"
   ]
  },
  {
   "cell_type": "markdown",
   "metadata": {},
   "source": [
    "### Qualitatively analyze trajectories"
   ]
  },
  {
   "cell_type": "code",
   "execution_count": null,
   "metadata": {},
   "outputs": [],
   "source": [
    "from pathlib import Path\n",
    "from src.visualization.render_mp4 import (\n",
    "    mp4_from_pickle_jupyter,\n",
    "    unpickle_data,\n",
    "    pickle_data,\n",
    ")\n",
    "from src.common.files import get_raw_paths\n",
    "import random\n",
    "from tqdm import tqdm\n",
    "\n",
    "base_dir = Path(\"tmp\")"
   ]
  },
  {
   "cell_type": "code",
   "execution_count": null,
   "metadata": {},
   "outputs": [],
   "source": [
    "paths = get_raw_paths(\n",
    "    environment=\"sim\",\n",
    "    demo_source=\"augmentation\",\n",
    "    demo_outcome=\"success\",\n",
    "    task=\"round_table\",\n",
    "    randomness=\"low\",\n",
    ")\n",
    "\n",
    "random.shuffle(paths)\n",
    "\n",
    "len(paths), paths[:3]"
   ]
  },
  {
   "cell_type": "code",
   "execution_count": null,
   "metadata": {},
   "outputs": [],
   "source": [
    "# Loop over and see that I can read them all\n",
    "for path in tqdm(paths):\n",
    "    try:\n",
    "        data = unpickle_data(path)\n",
    "    except Exception as e:\n",
    "        print(f\"Failed to read {path}\")\n",
    "        print(e)"
   ]
  },
  {
   "cell_type": "code",
   "execution_count": null,
   "metadata": {},
   "outputs": [],
   "source": [
    "for path in paths[:20]:\n",
    "    mp4_from_pickle_jupyter(\n",
    "        path, filename=(base_dir / path.stem).with_suffix(\".mp4\"), fps=20\n",
    "    )"
   ]
  },
  {
   "cell_type": "markdown",
   "metadata": {},
   "source": [
    "### Plot coverage of new trajectories"
   ]
  },
  {
   "cell_type": "code",
   "execution_count": null,
   "metadata": {},
   "outputs": [],
   "source": [
    "import zarr\n",
    "import matplotlib.pyplot as plt\n",
    "import numpy as np\n",
    "\n",
    "\n",
    "from src.common.files import get_processed_paths"
   ]
  },
  {
   "cell_type": "code",
   "execution_count": null,
   "metadata": {},
   "outputs": [],
   "source": [
    "aug_path, teleop_path = sorted(\n",
    "    get_processed_paths(\n",
    "        environment=\"sim\",\n",
    "        demo_source=[\"teleop\", \"augmentation\"],\n",
    "        demo_outcome=\"success\",\n",
    "        task=\"round_table\",\n",
    "        randomness=\"low\",\n",
    "    )\n",
    ")\n",
    "\n",
    "aug_path, teleop_path"
   ]
  },
  {
   "cell_type": "code",
   "execution_count": null,
   "metadata": {},
   "outputs": [],
   "source": [
    "z_aug = zarr.open(str(aug_path), mode=\"r\")\n",
    "z_teleop = zarr.open(str(teleop_path), mode=\"r\")\n",
    "\n",
    "ends_aug = z_aug[\"episode_ends\"][:]\n",
    "ends_teleop = z_teleop[\"episode_ends\"][:]\n",
    "\n",
    "pos_teleop = z_teleop[\"robot_state\"][:, :3]\n",
    "pos_aug = z_aug[\"robot_state\"][:, :3]\n",
    "\n",
    "# Split the data into episodes\n",
    "pos_teleop = np.split(pos_teleop, ends_teleop[:-1])\n",
    "pos_aug = np.split(pos_aug, ends_aug[:-1])\n",
    "\n",
    "# # Concat them together again\n",
    "pos_teleop = np.concatenate(pos_teleop)\n",
    "pos_aug = np.concatenate(pos_aug)"
   ]
  },
  {
   "cell_type": "code",
   "execution_count": null,
   "metadata": {},
   "outputs": [],
   "source": [
    "len(ends_teleop), len(pos_teleop), len(ends_aug), len(pos_aug)"
   ]
  },
  {
   "cell_type": "markdown",
   "metadata": {},
   "source": [
    "### Plot the state-space coverage in 3D"
   ]
  },
  {
   "cell_type": "code",
   "execution_count": null,
   "metadata": {},
   "outputs": [],
   "source": [
    "fig = plt.figure(figsize=(6, 6))\n",
    "\n",
    "# Add a subplot for teleop data in the left side of the figure\n",
    "ax1 = fig.add_subplot(\n",
    "    111, projection=\"3d\"\n",
    ")  # Changed from 111 to 121 for a 1x2 grid, first position\n",
    "ax1.scatter(*pos_teleop.T, label=f\"Teleop (n={len(ends_teleop)})\", s=0.1)\n",
    "ax1.legend(frameon=False)\n",
    "ax1.set_title(\"Teleop data only\")\n",
    "ax1.set_xlabel(\"x\")\n",
    "ax1.set_ylabel(\"y\")\n",
    "ax1.set_zlabel(\"z\")\n",
    "\n",
    "plt.show()"
   ]
  },
  {
   "cell_type": "code",
   "execution_count": null,
   "metadata": {},
   "outputs": [],
   "source": [
    "fig = plt.figure(figsize=(6, 6))\n",
    "\n",
    "# Add a subplot for augmentation data in the right side of the figure\n",
    "ax2 = fig.add_subplot(\n",
    "    111, projection=\"3d\"\n",
    ")  # Changed from 111 to 122 for a 1x2 grid, second position\n",
    "ax2.scatter(*pos_teleop.T, label=f\"Teleop (n={len(ends_teleop)})\", s=0.2, alpha=0.5)\n",
    "ax2.scatter(*pos_aug.T, label=f\"Augmentation (n={len(ends_aug)})\", s=0.2, alpha=0.5)\n",
    "ax2.legend(frameon=False)\n",
    "ax2.set_title(\"Teleop and augmentation data\")\n",
    "ax2.set_xlabel(\"x\")\n",
    "ax2.set_ylabel(\"y\")\n",
    "ax2.set_zlabel(\"z\")\n",
    "\n",
    "plt.savefig(\"figs/teleop_augmentation.png\")\n",
    "\n",
    "plt.show()"
   ]
  },
  {
   "cell_type": "markdown",
   "metadata": {},
   "source": [
    "## Analyze the `lamp` augmentation"
   ]
  },
  {
   "cell_type": "markdown",
   "metadata": {},
   "source": [
    "### Qualitatively analyze trajectories"
   ]
  },
  {
   "cell_type": "code",
   "execution_count": null,
   "metadata": {},
   "outputs": [],
   "source": [
    "from pathlib import Path\n",
    "from src.visualization.render_mp4 import (\n",
    "    mp4_from_pickle_jupyter,\n",
    "    unpickle_data,\n",
    "    pickle_data,\n",
    ")\n",
    "from src.common.files import get_raw_paths\n",
    "import random\n",
    "from tqdm import tqdm\n",
    "\n",
    "base_dir = Path(\"tmp\")"
   ]
  },
  {
   "cell_type": "code",
   "execution_count": null,
   "metadata": {},
   "outputs": [],
   "source": [
    "paths = get_raw_paths(\n",
    "    environment=\"sim\",\n",
    "    demo_source=\"augmentation\",\n",
    "    demo_outcome=\"success\",\n",
    "    task=\"lamp\",\n",
    "    randomness=\"low\",\n",
    ")\n",
    "\n",
    "# random.shuffle(paths)\n",
    "\n",
    "paths = sorted(paths, reverse=True)\n",
    "\n",
    "len(paths), paths[:3]"
   ]
  },
  {
   "cell_type": "code",
   "execution_count": null,
   "metadata": {},
   "outputs": [],
   "source": [
    "for path in tqdm(paths):\n",
    "    data = unpickle_data(path)\n",
    "    if True or data.get(\"critical_state\", -1) == 1:\n",
    "        mp4_from_pickle_jupyter(\n",
    "            path, filename=(base_dir / path.stem).with_suffix(\".mp4\"), fps=20\n",
    "        )"
   ]
  },
  {
   "cell_type": "markdown",
   "metadata": {},
   "source": [
    "### Plot coverage of new trajectories"
   ]
  },
  {
   "cell_type": "code",
   "execution_count": null,
   "metadata": {},
   "outputs": [],
   "source": [
    "import zarr\n",
    "import matplotlib.pyplot as plt\n",
    "import numpy as np\n",
    "\n",
    "\n",
    "from src.common.files import get_processed_paths"
   ]
  },
  {
   "cell_type": "code",
   "execution_count": null,
   "metadata": {},
   "outputs": [],
   "source": [
    "aug_path, teleop_path = sorted(\n",
    "    get_processed_paths(\n",
    "        environment=\"sim\",\n",
    "        demo_source=[\"teleop\", \"augmentation\"],\n",
    "        demo_outcome=\"success\",\n",
    "        task=\"lamp\",\n",
    "        randomness=\"low\",\n",
    "    )\n",
    ")\n",
    "\n",
    "aug_path, teleop_path"
   ]
  },
  {
   "cell_type": "code",
   "execution_count": null,
   "metadata": {},
   "outputs": [],
   "source": [
    "z_aug = zarr.open(str(aug_path), mode=\"r\")\n",
    "z_teleop = zarr.open(str(teleop_path), mode=\"r\")\n",
    "\n",
    "ends_aug = z_aug[\"episode_ends\"][:]\n",
    "ends_teleop = z_teleop[\"episode_ends\"][:]\n",
    "\n",
    "pos_teleop = z_teleop[\"robot_state\"][:, :3]\n",
    "pos_aug = z_aug[\"robot_state\"][:, :3]\n",
    "\n",
    "# Split the data into episodes\n",
    "pos_teleop = np.split(pos_teleop, ends_teleop[:-1])\n",
    "pos_aug = np.split(pos_aug, ends_aug[:-1])\n",
    "\n",
    "# # Get the skill labels for the teleop data and split them into episodes\n",
    "# skill_teleop = z_teleop[\"critical\"][:]\n",
    "# skill_teleop = np.split(skill_teleop, ends_teleop[:-1])\n",
    "\n",
    "# # For the teleop data, we slice off the data after the insertion\n",
    "# pos_teleop = [\n",
    "#     ep[: np.where(skill == 1)[0][3] + 1] for ep, skill in zip(pos_teleop, skill_teleop)\n",
    "# ]\n",
    "\n",
    "# # Concat them together again\n",
    "pos_teleop = np.concatenate(pos_teleop)\n",
    "pos_aug = np.concatenate(pos_aug)"
   ]
  },
  {
   "cell_type": "code",
   "execution_count": null,
   "metadata": {},
   "outputs": [],
   "source": [
    "len(ends_teleop), len(pos_teleop), len(ends_aug), len(pos_aug)"
   ]
  },
  {
   "cell_type": "markdown",
   "metadata": {},
   "source": [
    "### Plot the state-space coverage in 3D"
   ]
  },
  {
   "cell_type": "code",
   "execution_count": null,
   "metadata": {},
   "outputs": [],
   "source": [
    "fig = plt.figure(figsize=(6, 6))\n",
    "\n",
    "# Add a subplot for teleop data in the left side of the figure\n",
    "ax1 = fig.add_subplot(111, projection=\"3d\")\n",
    "\n",
    "ax1.scatter(*pos_teleop.T, label=f\"Teleop (n={len(ends_teleop)})\", s=0.1)\n",
    "\n",
    "ax1.legend(frameon=False)\n",
    "ax1.set_title(\"Teleop data only\")\n",
    "ax1.set_xlabel(\"x\")\n",
    "ax1.set_ylabel(\"y\")\n",
    "ax1.set_zlabel(\"z\")\n",
    "\n",
    "plt.show()"
   ]
  },
  {
   "cell_type": "code",
   "execution_count": null,
   "metadata": {},
   "outputs": [],
   "source": [
    "fig = plt.figure(figsize=(6, 6))\n",
    "\n",
    "# Add a subplot for augmentation data in the right side of the figure\n",
    "ax2 = fig.add_subplot(\n",
    "    111, projection=\"3d\"\n",
    ")  # Changed from 111 to 122 for a 1x2 grid, second position\n",
    "ax2.scatter(*pos_teleop.T, label=f\"Teleop (n={len(ends_teleop)})\", s=0.2, alpha=0.5)\n",
    "ax2.scatter(*pos_aug.T, label=f\"Augmentation (n={len(ends_aug)})\", s=0.2, alpha=0.5)\n",
    "ax2.legend(frameon=False)\n",
    "ax2.set_title(\"Teleop and augmentation data\")\n",
    "ax2.set_xlabel(\"x\")\n",
    "ax2.set_ylabel(\"y\")\n",
    "ax2.set_zlabel(\"z\")\n",
    "\n",
    "plt.savefig(\"teleop_augmentation.pdf\")\n",
    "\n",
    "plt.show()"
   ]
  },
  {
   "cell_type": "markdown",
   "metadata": {},
   "source": [
    "## Analyze the `square_table` augmentation"
   ]
  },
  {
   "cell_type": "code",
   "execution_count": null,
   "metadata": {},
   "outputs": [],
   "source": [
    "from pathlib import Path\n",
    "from src.visualization.render_mp4 import (\n",
    "    mp4_from_pickle_jupyter,\n",
    "    unpickle_data,\n",
    "    pickle_data,\n",
    ")\n",
    "from src.common.files import get_raw_paths\n",
    "import random\n",
    "from tqdm import tqdm"
   ]
  },
  {
   "cell_type": "code",
   "execution_count": null,
   "metadata": {},
   "outputs": [],
   "source": [
    "paths = get_raw_paths(\n",
    "    environment=\"sim\",\n",
    "    demo_source=\"augmentation\",\n",
    "    demo_outcome=\"success\",\n",
    "    task=\"square_table\",\n",
    "    randomness=\"low\",\n",
    ")\n",
    "\n",
    "random.shuffle(paths)\n",
    "\n",
    "len(paths), paths[:3]"
   ]
  },
  {
   "cell_type": "code",
   "execution_count": null,
   "metadata": {},
   "outputs": [],
   "source": [
    "for path in paths[:5]:\n",
    "    mp4_from_pickle_jupyter(path, filename=path.stem + \".mp4\", fps=20)"
   ]
  },
  {
   "cell_type": "markdown",
   "metadata": {},
   "source": [
    "### Plot coverage of new trajectories"
   ]
  },
  {
   "cell_type": "code",
   "execution_count": null,
   "metadata": {},
   "outputs": [],
   "source": [
    "import zarr\n",
    "import matplotlib.pyplot as plt\n",
    "import numpy as np\n",
    "\n",
    "\n",
    "from src.common.files import get_processed_paths"
   ]
  },
  {
   "cell_type": "code",
   "execution_count": null,
   "metadata": {},
   "outputs": [],
   "source": [
    "aug_path, teleop_path = sorted(\n",
    "    get_processed_paths(\n",
    "        environment=\"sim\",\n",
    "        demo_source=[\"teleop\", \"augmentation\"],\n",
    "        demo_outcome=\"success\",\n",
    "        task=\"square_table\",\n",
    "        randomness=\"low\",\n",
    "    )\n",
    ")\n",
    "\n",
    "aug_path, teleop_path"
   ]
  },
  {
   "cell_type": "code",
   "execution_count": null,
   "metadata": {},
   "outputs": [],
   "source": [
    "z_aug = zarr.open(str(aug_path), mode=\"r\")\n",
    "z_teleop = zarr.open(str(teleop_path), mode=\"r\")\n",
    "\n",
    "ends_aug = z_aug[\"episode_ends\"][:]\n",
    "ends_teleop = z_teleop[\"episode_ends\"][:]\n",
    "\n",
    "pos_teleop = z_teleop[\"robot_state\"][:, :3]\n",
    "pos_aug = z_aug[\"robot_state\"][:, :3]\n",
    "\n",
    "# Split the data into episodes\n",
    "pos_teleop = np.split(pos_teleop, ends_teleop[:-1])\n",
    "pos_aug = np.split(pos_aug, ends_aug[:-1])\n",
    "\n",
    "# # Get the skill labels for the teleop data and split them into episodes\n",
    "# skill_teleop = z_teleop[\"critical\"][:]\n",
    "# skill_teleop = np.split(skill_teleop, ends_teleop[:-1])\n",
    "\n",
    "# # For the teleop data, we slice off the data after the insertion\n",
    "# pos_teleop = [\n",
    "#     ep[: np.where(skill == 1)[0][3] + 1] for ep, skill in zip(pos_teleop, skill_teleop)\n",
    "# ]\n",
    "\n",
    "# # Concat them together again\n",
    "pos_teleop = np.concatenate(pos_teleop)\n",
    "pos_aug = np.concatenate(pos_aug)"
   ]
  },
  {
   "cell_type": "code",
   "execution_count": null,
   "metadata": {},
   "outputs": [],
   "source": [
    "len(ends_teleop), len(pos_teleop), len(ends_aug), len(pos_aug)"
   ]
  },
  {
   "cell_type": "code",
   "execution_count": null,
   "metadata": {},
   "outputs": [],
   "source": [
    "# Sample a subset of the data\n",
    "idx = np.random.choice(len(pos_teleop), size=53584, replace=False)\n",
    "pos_teleop = pos_teleop[idx]"
   ]
  },
  {
   "cell_type": "markdown",
   "metadata": {},
   "source": [
    "### Plot the state-space coverage in 3D"
   ]
  },
  {
   "cell_type": "code",
   "execution_count": null,
   "metadata": {},
   "outputs": [],
   "source": [
    "fig = plt.figure(figsize=(6, 6))\n",
    "\n",
    "# Add a subplot for teleop data in the left side of the figure\n",
    "ax1 = fig.add_subplot(111, projection=\"3d\")\n",
    "\n",
    "ax1.scatter(*pos_teleop.T, label=f\"Teleop (n={len(ends_teleop)})\", s=0.1)\n",
    "\n",
    "ax1.legend(frameon=False)\n",
    "ax1.set_title(\"Teleop data only\")\n",
    "ax1.set_xlabel(\"x\")\n",
    "ax1.set_ylabel(\"y\")\n",
    "ax1.set_zlabel(\"z\")\n",
    "\n",
    "plt.show()"
   ]
  },
  {
   "cell_type": "code",
   "execution_count": null,
   "metadata": {},
   "outputs": [],
   "source": [
    "fig = plt.figure(figsize=(6, 6))\n",
    "\n",
    "# Add a subplot for augmentation data in the right side of the figure\n",
    "ax2 = fig.add_subplot(\n",
    "    111, projection=\"3d\"\n",
    ")  # Changed from 111 to 122 for a 1x2 grid, second position\n",
    "ax2.scatter(*pos_teleop.T, label=f\"Teleop (n={len(ends_teleop)})\", s=0.2, alpha=0.5)\n",
    "ax2.scatter(*pos_aug.T, label=f\"Augmentation (n={len(ends_aug)})\", s=0.2, alpha=0.5)\n",
    "ax2.legend(frameon=False)\n",
    "ax2.set_title(\"Teleop and augmentation data\")\n",
    "ax2.set_xlabel(\"x\")\n",
    "ax2.set_ylabel(\"y\")\n",
    "ax2.set_zlabel(\"z\")\n",
    "\n",
    "plt.savefig(\"teleop_augmentation.pdf\")\n",
    "\n",
    "plt.show()"
   ]
  },
  {
   "cell_type": "markdown",
   "metadata": {},
   "source": [
    "## Analyze the `one_leg` augmentation"
   ]
  },
  {
   "cell_type": "code",
   "execution_count": 1,
   "metadata": {},
   "outputs": [],
   "source": [
    "from pathlib import Path\n",
    "from src.visualization.render_mp4 import (\n",
    "    mp4_from_pickle_jupyter,\n",
    "    unpickle_data,\n",
    "    pickle_data,\n",
    ")\n",
    "from src.common.files import get_raw_paths\n",
    "import random\n",
    "from tqdm import tqdm\n",
    "\n",
    "base_dir = Path(\"tmp\")"
   ]
  },
  {
   "cell_type": "code",
   "execution_count": 11,
   "metadata": {},
   "outputs": [
    {
     "name": "stdout",
     "output_type": "stream",
     "text": [
      "Found the following paths:\n",
      "    /data/scratch-oc40/pulkitag/ankile/furniture-data/raw/sim/one_leg/augmentation/low/success/*.pkl*\n"
     ]
    },
    {
     "data": {
      "text/plain": [
       "(1053,\n",
       " [PosixPath('/data/scratch-oc40/pulkitag/ankile/furniture-data/raw/sim/one_leg/augmentation/low/success/2024-02-12T15:04:48.pkl.xz'),\n",
       "  PosixPath('/data/scratch-oc40/pulkitag/ankile/furniture-data/raw/sim/one_leg/augmentation/low/success/2024-02-12T15:05:05.pkl.xz'),\n",
       "  PosixPath('/data/scratch-oc40/pulkitag/ankile/furniture-data/raw/sim/one_leg/augmentation/low/success/2024-02-12T15:05:22.pkl.xz')])"
      ]
     },
     "execution_count": 11,
     "metadata": {},
     "output_type": "execute_result"
    }
   ],
   "source": [
    "paths = get_raw_paths(\n",
    "    environment=\"sim\",\n",
    "    demo_source=\"augmentation\",\n",
    "    demo_outcome=\"success\",\n",
    "    task=\"one_leg\",\n",
    "    randomness=\"low\",\n",
    ")\n",
    "\n",
    "paths = sorted(paths, reverse=False)\n",
    "# random.shuffle(paths)\n",
    "\n",
    "len(paths), paths[:3]"
   ]
  },
  {
   "cell_type": "code",
   "execution_count": 13,
   "metadata": {},
   "outputs": [
    {
     "name": "stdout",
     "output_type": "stream",
     "text": [
      "68\n",
      "File saved as tmp/2024-02-12T15:04:48.mp4\n"
     ]
    },
    {
     "data": {
      "text/html": [
       "<video controls src=\"tmp/2024-02-12T15:04:48.mp4\" width=\"640\" height=\"480\"></video>"
      ],
      "text/plain": [
       "<IPython.core.display.HTML object>"
      ]
     },
     "metadata": {},
     "output_type": "display_data"
    },
    {
     "name": "stdout",
     "output_type": "stream",
     "text": [
      "70\n",
      "File saved as tmp/2024-02-12T15:05:05.mp4\n"
     ]
    },
    {
     "data": {
      "text/html": [
       "<video controls src=\"tmp/2024-02-12T15:05:05.mp4\" width=\"640\" height=\"480\"></video>"
      ],
      "text/plain": [
       "<IPython.core.display.HTML object>"
      ]
     },
     "metadata": {},
     "output_type": "display_data"
    },
    {
     "name": "stdout",
     "output_type": "stream",
     "text": [
      "70\n",
      "File saved as tmp/2024-02-12T15:05:22.mp4\n"
     ]
    },
    {
     "data": {
      "text/html": [
       "<video controls src=\"tmp/2024-02-12T15:05:22.mp4\" width=\"640\" height=\"480\"></video>"
      ],
      "text/plain": [
       "<IPython.core.display.HTML object>"
      ]
     },
     "metadata": {},
     "output_type": "display_data"
    },
    {
     "name": "stdout",
     "output_type": "stream",
     "text": [
      "70\n",
      "File saved as tmp/2024-02-12T15:05:39.mp4\n"
     ]
    },
    {
     "data": {
      "text/html": [
       "<video controls src=\"tmp/2024-02-12T15:05:39.mp4\" width=\"640\" height=\"480\"></video>"
      ],
      "text/plain": [
       "<IPython.core.display.HTML object>"
      ]
     },
     "metadata": {},
     "output_type": "display_data"
    },
    {
     "name": "stdout",
     "output_type": "stream",
     "text": [
      "69\n",
      "File saved as tmp/2024-02-12T15:06:10.mp4\n"
     ]
    },
    {
     "data": {
      "text/html": [
       "<video controls src=\"tmp/2024-02-12T15:06:10.mp4\" width=\"640\" height=\"480\"></video>"
      ],
      "text/plain": [
       "<IPython.core.display.HTML object>"
      ]
     },
     "metadata": {},
     "output_type": "display_data"
    },
    {
     "name": "stdout",
     "output_type": "stream",
     "text": [
      "69\n",
      "File saved as tmp/2024-02-12T15:06:48.mp4\n"
     ]
    },
    {
     "data": {
      "text/html": [
       "<video controls src=\"tmp/2024-02-12T15:06:48.mp4\" width=\"640\" height=\"480\"></video>"
      ],
      "text/plain": [
       "<IPython.core.display.HTML object>"
      ]
     },
     "metadata": {},
     "output_type": "display_data"
    },
    {
     "name": "stdout",
     "output_type": "stream",
     "text": [
      "69\n",
      "File saved as tmp/2024-02-12T15:07:05.mp4\n"
     ]
    },
    {
     "data": {
      "text/html": [
       "<video controls src=\"tmp/2024-02-12T15:07:05.mp4\" width=\"640\" height=\"480\"></video>"
      ],
      "text/plain": [
       "<IPython.core.display.HTML object>"
      ]
     },
     "metadata": {},
     "output_type": "display_data"
    },
    {
     "name": "stdout",
     "output_type": "stream",
     "text": [
      "69\n",
      "File saved as tmp/2024-02-12T15:09:00.mp4\n"
     ]
    },
    {
     "data": {
      "text/html": [
       "<video controls src=\"tmp/2024-02-12T15:09:00.mp4\" width=\"640\" height=\"480\"></video>"
      ],
      "text/plain": [
       "<IPython.core.display.HTML object>"
      ]
     },
     "metadata": {},
     "output_type": "display_data"
    },
    {
     "name": "stdout",
     "output_type": "stream",
     "text": [
      "69\n",
      "File saved as tmp/2024-02-12T15:09:16.mp4\n"
     ]
    },
    {
     "data": {
      "text/html": [
       "<video controls src=\"tmp/2024-02-12T15:09:16.mp4\" width=\"640\" height=\"480\"></video>"
      ],
      "text/plain": [
       "<IPython.core.display.HTML object>"
      ]
     },
     "metadata": {},
     "output_type": "display_data"
    },
    {
     "name": "stdout",
     "output_type": "stream",
     "text": [
      "69\n",
      "File saved as tmp/2024-02-12T15:09:32.mp4\n"
     ]
    },
    {
     "data": {
      "text/html": [
       "<video controls src=\"tmp/2024-02-12T15:09:32.mp4\" width=\"640\" height=\"480\"></video>"
      ],
      "text/plain": [
       "<IPython.core.display.HTML object>"
      ]
     },
     "metadata": {},
     "output_type": "display_data"
    },
    {
     "name": "stdout",
     "output_type": "stream",
     "text": [
      "69\n",
      "File saved as tmp/2024-02-12T15:09:58.mp4\n"
     ]
    },
    {
     "data": {
      "text/html": [
       "<video controls src=\"tmp/2024-02-12T15:09:58.mp4\" width=\"640\" height=\"480\"></video>"
      ],
      "text/plain": [
       "<IPython.core.display.HTML object>"
      ]
     },
     "metadata": {},
     "output_type": "display_data"
    },
    {
     "name": "stdout",
     "output_type": "stream",
     "text": [
      "69\n",
      "File saved as tmp/2024-02-12T15:10:14.mp4\n"
     ]
    },
    {
     "data": {
      "text/html": [
       "<video controls src=\"tmp/2024-02-12T15:10:14.mp4\" width=\"640\" height=\"480\"></video>"
      ],
      "text/plain": [
       "<IPython.core.display.HTML object>"
      ]
     },
     "metadata": {},
     "output_type": "display_data"
    },
    {
     "name": "stdout",
     "output_type": "stream",
     "text": [
      "69\n",
      "File saved as tmp/2024-02-12T15:10:50.mp4\n"
     ]
    },
    {
     "data": {
      "text/html": [
       "<video controls src=\"tmp/2024-02-12T15:10:50.mp4\" width=\"640\" height=\"480\"></video>"
      ],
      "text/plain": [
       "<IPython.core.display.HTML object>"
      ]
     },
     "metadata": {},
     "output_type": "display_data"
    },
    {
     "name": "stdout",
     "output_type": "stream",
     "text": [
      "69\n",
      "File saved as tmp/2024-02-12T15:11:06.mp4\n"
     ]
    },
    {
     "data": {
      "text/html": [
       "<video controls src=\"tmp/2024-02-12T15:11:06.mp4\" width=\"640\" height=\"480\"></video>"
      ],
      "text/plain": [
       "<IPython.core.display.HTML object>"
      ]
     },
     "metadata": {},
     "output_type": "display_data"
    },
    {
     "name": "stdout",
     "output_type": "stream",
     "text": [
      "69\n",
      "File saved as tmp/2024-02-12T15:11:22.mp4\n"
     ]
    },
    {
     "data": {
      "text/html": [
       "<video controls src=\"tmp/2024-02-12T15:11:22.mp4\" width=\"640\" height=\"480\"></video>"
      ],
      "text/plain": [
       "<IPython.core.display.HTML object>"
      ]
     },
     "metadata": {},
     "output_type": "display_data"
    },
    {
     "name": "stdout",
     "output_type": "stream",
     "text": [
      "69\n",
      "File saved as tmp/2024-02-12T15:12:04.mp4\n"
     ]
    },
    {
     "data": {
      "text/html": [
       "<video controls src=\"tmp/2024-02-12T15:12:04.mp4\" width=\"640\" height=\"480\"></video>"
      ],
      "text/plain": [
       "<IPython.core.display.HTML object>"
      ]
     },
     "metadata": {},
     "output_type": "display_data"
    },
    {
     "name": "stdout",
     "output_type": "stream",
     "text": [
      "69\n",
      "File saved as tmp/2024-02-12T15:12:20.mp4\n"
     ]
    },
    {
     "data": {
      "text/html": [
       "<video controls src=\"tmp/2024-02-12T15:12:20.mp4\" width=\"640\" height=\"480\"></video>"
      ],
      "text/plain": [
       "<IPython.core.display.HTML object>"
      ]
     },
     "metadata": {},
     "output_type": "display_data"
    },
    {
     "name": "stdout",
     "output_type": "stream",
     "text": [
      "67\n",
      "File saved as tmp/2024-02-12T15:12:36.mp4\n"
     ]
    },
    {
     "data": {
      "text/html": [
       "<video controls src=\"tmp/2024-02-12T15:12:36.mp4\" width=\"640\" height=\"480\"></video>"
      ],
      "text/plain": [
       "<IPython.core.display.HTML object>"
      ]
     },
     "metadata": {},
     "output_type": "display_data"
    },
    {
     "name": "stdout",
     "output_type": "stream",
     "text": [
      "69\n",
      "File saved as tmp/2024-02-12T15:13:33.mp4\n"
     ]
    },
    {
     "data": {
      "text/html": [
       "<video controls src=\"tmp/2024-02-12T15:13:33.mp4\" width=\"640\" height=\"480\"></video>"
      ],
      "text/plain": [
       "<IPython.core.display.HTML object>"
      ]
     },
     "metadata": {},
     "output_type": "display_data"
    },
    {
     "name": "stdout",
     "output_type": "stream",
     "text": [
      "70\n",
      "File saved as tmp/2024-02-12T15:13:49.mp4\n"
     ]
    },
    {
     "data": {
      "text/html": [
       "<video controls src=\"tmp/2024-02-12T15:13:49.mp4\" width=\"640\" height=\"480\"></video>"
      ],
      "text/plain": [
       "<IPython.core.display.HTML object>"
      ]
     },
     "metadata": {},
     "output_type": "display_data"
    },
    {
     "name": "stdout",
     "output_type": "stream",
     "text": [
      "68\n",
      "File saved as tmp/2024-02-12T15:14:05.mp4\n"
     ]
    },
    {
     "data": {
      "text/html": [
       "<video controls src=\"tmp/2024-02-12T15:14:05.mp4\" width=\"640\" height=\"480\"></video>"
      ],
      "text/plain": [
       "<IPython.core.display.HTML object>"
      ]
     },
     "metadata": {},
     "output_type": "display_data"
    },
    {
     "name": "stdout",
     "output_type": "stream",
     "text": [
      "68\n",
      "File saved as tmp/2024-02-12T15:14:31.mp4\n"
     ]
    },
    {
     "data": {
      "text/html": [
       "<video controls src=\"tmp/2024-02-12T15:14:31.mp4\" width=\"640\" height=\"480\"></video>"
      ],
      "text/plain": [
       "<IPython.core.display.HTML object>"
      ]
     },
     "metadata": {},
     "output_type": "display_data"
    },
    {
     "name": "stdout",
     "output_type": "stream",
     "text": [
      "68\n",
      "File saved as tmp/2024-02-12T15:14:57.mp4\n"
     ]
    },
    {
     "data": {
      "text/html": [
       "<video controls src=\"tmp/2024-02-12T15:14:57.mp4\" width=\"640\" height=\"480\"></video>"
      ],
      "text/plain": [
       "<IPython.core.display.HTML object>"
      ]
     },
     "metadata": {},
     "output_type": "display_data"
    },
    {
     "name": "stdout",
     "output_type": "stream",
     "text": [
      "69\n",
      "File saved as tmp/2024-02-12T15:15:24.mp4\n"
     ]
    },
    {
     "data": {
      "text/html": [
       "<video controls src=\"tmp/2024-02-12T15:15:24.mp4\" width=\"640\" height=\"480\"></video>"
      ],
      "text/plain": [
       "<IPython.core.display.HTML object>"
      ]
     },
     "metadata": {},
     "output_type": "display_data"
    },
    {
     "name": "stdout",
     "output_type": "stream",
     "text": [
      "69\n",
      "File saved as tmp/2024-02-12T15:16:18.mp4\n"
     ]
    },
    {
     "data": {
      "text/html": [
       "<video controls src=\"tmp/2024-02-12T15:16:18.mp4\" width=\"640\" height=\"480\"></video>"
      ],
      "text/plain": [
       "<IPython.core.display.HTML object>"
      ]
     },
     "metadata": {},
     "output_type": "display_data"
    },
    {
     "name": "stdout",
     "output_type": "stream",
     "text": [
      "69\n",
      "File saved as tmp/2024-02-12T15:16:33.mp4\n"
     ]
    },
    {
     "data": {
      "text/html": [
       "<video controls src=\"tmp/2024-02-12T15:16:33.mp4\" width=\"640\" height=\"480\"></video>"
      ],
      "text/plain": [
       "<IPython.core.display.HTML object>"
      ]
     },
     "metadata": {},
     "output_type": "display_data"
    },
    {
     "name": "stdout",
     "output_type": "stream",
     "text": [
      "68\n",
      "File saved as tmp/2024-02-12T15:16:48.mp4\n"
     ]
    },
    {
     "data": {
      "text/html": [
       "<video controls src=\"tmp/2024-02-12T15:16:48.mp4\" width=\"640\" height=\"480\"></video>"
      ],
      "text/plain": [
       "<IPython.core.display.HTML object>"
      ]
     },
     "metadata": {},
     "output_type": "display_data"
    },
    {
     "name": "stdout",
     "output_type": "stream",
     "text": [
      "69\n",
      "File saved as tmp/2024-02-12T15:17:14.mp4\n"
     ]
    },
    {
     "data": {
      "text/html": [
       "<video controls src=\"tmp/2024-02-12T15:17:14.mp4\" width=\"640\" height=\"480\"></video>"
      ],
      "text/plain": [
       "<IPython.core.display.HTML object>"
      ]
     },
     "metadata": {},
     "output_type": "display_data"
    },
    {
     "name": "stdout",
     "output_type": "stream",
     "text": [
      "68\n",
      "File saved as tmp/2024-02-12T15:18:43.mp4\n"
     ]
    },
    {
     "data": {
      "text/html": [
       "<video controls src=\"tmp/2024-02-12T15:18:43.mp4\" width=\"640\" height=\"480\"></video>"
      ],
      "text/plain": [
       "<IPython.core.display.HTML object>"
      ]
     },
     "metadata": {},
     "output_type": "display_data"
    },
    {
     "name": "stdout",
     "output_type": "stream",
     "text": [
      "68\n",
      "File saved as tmp/2024-02-12T15:19:09.mp4\n"
     ]
    },
    {
     "data": {
      "text/html": [
       "<video controls src=\"tmp/2024-02-12T15:19:09.mp4\" width=\"640\" height=\"480\"></video>"
      ],
      "text/plain": [
       "<IPython.core.display.HTML object>"
      ]
     },
     "metadata": {},
     "output_type": "display_data"
    },
    {
     "name": "stdout",
     "output_type": "stream",
     "text": [
      "68\n",
      "File saved as tmp/2024-02-12T15:19:24.mp4\n"
     ]
    },
    {
     "data": {
      "text/html": [
       "<video controls src=\"tmp/2024-02-12T15:19:24.mp4\" width=\"640\" height=\"480\"></video>"
      ],
      "text/plain": [
       "<IPython.core.display.HTML object>"
      ]
     },
     "metadata": {},
     "output_type": "display_data"
    },
    {
     "name": "stdout",
     "output_type": "stream",
     "text": [
      "68\n",
      "File saved as tmp/2024-02-12T15:19:50.mp4\n"
     ]
    },
    {
     "data": {
      "text/html": [
       "<video controls src=\"tmp/2024-02-12T15:19:50.mp4\" width=\"640\" height=\"480\"></video>"
      ],
      "text/plain": [
       "<IPython.core.display.HTML object>"
      ]
     },
     "metadata": {},
     "output_type": "display_data"
    },
    {
     "name": "stdout",
     "output_type": "stream",
     "text": [
      "67\n",
      "File saved as tmp/2024-02-12T15:20:05.mp4\n"
     ]
    },
    {
     "data": {
      "text/html": [
       "<video controls src=\"tmp/2024-02-12T15:20:05.mp4\" width=\"640\" height=\"480\"></video>"
      ],
      "text/plain": [
       "<IPython.core.display.HTML object>"
      ]
     },
     "metadata": {},
     "output_type": "display_data"
    },
    {
     "name": "stdout",
     "output_type": "stream",
     "text": [
      "68\n",
      "File saved as tmp/2024-02-12T15:20:41.mp4\n"
     ]
    },
    {
     "data": {
      "text/html": [
       "<video controls src=\"tmp/2024-02-12T15:20:41.mp4\" width=\"640\" height=\"480\"></video>"
      ],
      "text/plain": [
       "<IPython.core.display.HTML object>"
      ]
     },
     "metadata": {},
     "output_type": "display_data"
    },
    {
     "name": "stdout",
     "output_type": "stream",
     "text": [
      "69\n",
      "File saved as tmp/2024-02-12T15:20:57.mp4\n"
     ]
    },
    {
     "data": {
      "text/html": [
       "<video controls src=\"tmp/2024-02-12T15:20:57.mp4\" width=\"640\" height=\"480\"></video>"
      ],
      "text/plain": [
       "<IPython.core.display.HTML object>"
      ]
     },
     "metadata": {},
     "output_type": "display_data"
    },
    {
     "name": "stdout",
     "output_type": "stream",
     "text": [
      "68\n",
      "File saved as tmp/2024-02-12T15:21:24.mp4\n"
     ]
    },
    {
     "data": {
      "text/html": [
       "<video controls src=\"tmp/2024-02-12T15:21:24.mp4\" width=\"640\" height=\"480\"></video>"
      ],
      "text/plain": [
       "<IPython.core.display.HTML object>"
      ]
     },
     "metadata": {},
     "output_type": "display_data"
    },
    {
     "name": "stdout",
     "output_type": "stream",
     "text": [
      "69\n",
      "File saved as tmp/2024-02-12T15:22:35.mp4\n"
     ]
    },
    {
     "data": {
      "text/html": [
       "<video controls src=\"tmp/2024-02-12T15:22:35.mp4\" width=\"640\" height=\"480\"></video>"
      ],
      "text/plain": [
       "<IPython.core.display.HTML object>"
      ]
     },
     "metadata": {},
     "output_type": "display_data"
    },
    {
     "name": "stdout",
     "output_type": "stream",
     "text": [
      "69\n",
      "File saved as tmp/2024-02-12T15:22:50.mp4\n"
     ]
    },
    {
     "data": {
      "text/html": [
       "<video controls src=\"tmp/2024-02-12T15:22:50.mp4\" width=\"640\" height=\"480\"></video>"
      ],
      "text/plain": [
       "<IPython.core.display.HTML object>"
      ]
     },
     "metadata": {},
     "output_type": "display_data"
    },
    {
     "name": "stdout",
     "output_type": "stream",
     "text": [
      "69\n",
      "File saved as tmp/2024-02-12T15:23:06.mp4\n"
     ]
    },
    {
     "data": {
      "text/html": [
       "<video controls src=\"tmp/2024-02-12T15:23:06.mp4\" width=\"640\" height=\"480\"></video>"
      ],
      "text/plain": [
       "<IPython.core.display.HTML object>"
      ]
     },
     "metadata": {},
     "output_type": "display_data"
    },
    {
     "name": "stdout",
     "output_type": "stream",
     "text": [
      "69\n",
      "File saved as tmp/2024-02-12T15:23:55.mp4\n"
     ]
    },
    {
     "data": {
      "text/html": [
       "<video controls src=\"tmp/2024-02-12T15:23:55.mp4\" width=\"640\" height=\"480\"></video>"
      ],
      "text/plain": [
       "<IPython.core.display.HTML object>"
      ]
     },
     "metadata": {},
     "output_type": "display_data"
    },
    {
     "name": "stdout",
     "output_type": "stream",
     "text": [
      "70\n",
      "File saved as tmp/2024-02-12T15:25:09.mp4\n"
     ]
    },
    {
     "data": {
      "text/html": [
       "<video controls src=\"tmp/2024-02-12T15:25:09.mp4\" width=\"640\" height=\"480\"></video>"
      ],
      "text/plain": [
       "<IPython.core.display.HTML object>"
      ]
     },
     "metadata": {},
     "output_type": "display_data"
    },
    {
     "name": "stdout",
     "output_type": "stream",
     "text": [
      "68\n",
      "File saved as tmp/2024-02-12T15:25:25.mp4\n"
     ]
    },
    {
     "data": {
      "text/html": [
       "<video controls src=\"tmp/2024-02-12T15:25:25.mp4\" width=\"640\" height=\"480\"></video>"
      ],
      "text/plain": [
       "<IPython.core.display.HTML object>"
      ]
     },
     "metadata": {},
     "output_type": "display_data"
    },
    {
     "name": "stdout",
     "output_type": "stream",
     "text": [
      "69\n",
      "File saved as tmp/2024-02-12T15:25:41.mp4\n"
     ]
    },
    {
     "data": {
      "text/html": [
       "<video controls src=\"tmp/2024-02-12T15:25:41.mp4\" width=\"640\" height=\"480\"></video>"
      ],
      "text/plain": [
       "<IPython.core.display.HTML object>"
      ]
     },
     "metadata": {},
     "output_type": "display_data"
    },
    {
     "name": "stdout",
     "output_type": "stream",
     "text": [
      "69\n",
      "File saved as tmp/2024-02-12T15:25:57.mp4\n"
     ]
    },
    {
     "data": {
      "text/html": [
       "<video controls src=\"tmp/2024-02-12T15:25:57.mp4\" width=\"640\" height=\"480\"></video>"
      ],
      "text/plain": [
       "<IPython.core.display.HTML object>"
      ]
     },
     "metadata": {},
     "output_type": "display_data"
    },
    {
     "name": "stdout",
     "output_type": "stream",
     "text": [
      "69\n",
      "File saved as tmp/2024-02-12T15:26:55.mp4\n"
     ]
    },
    {
     "data": {
      "text/html": [
       "<video controls src=\"tmp/2024-02-12T15:26:55.mp4\" width=\"640\" height=\"480\"></video>"
      ],
      "text/plain": [
       "<IPython.core.display.HTML object>"
      ]
     },
     "metadata": {},
     "output_type": "display_data"
    },
    {
     "name": "stdout",
     "output_type": "stream",
     "text": [
      "69\n",
      "File saved as tmp/2024-02-12T15:27:20.mp4\n"
     ]
    },
    {
     "data": {
      "text/html": [
       "<video controls src=\"tmp/2024-02-12T15:27:20.mp4\" width=\"640\" height=\"480\"></video>"
      ],
      "text/plain": [
       "<IPython.core.display.HTML object>"
      ]
     },
     "metadata": {},
     "output_type": "display_data"
    },
    {
     "name": "stdout",
     "output_type": "stream",
     "text": [
      "70\n",
      "File saved as tmp/2024-02-12T15:27:38.mp4\n"
     ]
    },
    {
     "data": {
      "text/html": [
       "<video controls src=\"tmp/2024-02-12T15:27:38.mp4\" width=\"640\" height=\"480\"></video>"
      ],
      "text/plain": [
       "<IPython.core.display.HTML object>"
      ]
     },
     "metadata": {},
     "output_type": "display_data"
    },
    {
     "name": "stdout",
     "output_type": "stream",
     "text": [
      "68\n",
      "File saved as tmp/2024-02-12T15:28:25.mp4\n"
     ]
    },
    {
     "data": {
      "text/html": [
       "<video controls src=\"tmp/2024-02-12T15:28:25.mp4\" width=\"640\" height=\"480\"></video>"
      ],
      "text/plain": [
       "<IPython.core.display.HTML object>"
      ]
     },
     "metadata": {},
     "output_type": "display_data"
    },
    {
     "name": "stdout",
     "output_type": "stream",
     "text": [
      "68\n",
      "File saved as tmp/2024-02-12T15:28:41.mp4\n"
     ]
    },
    {
     "data": {
      "text/html": [
       "<video controls src=\"tmp/2024-02-12T15:28:41.mp4\" width=\"640\" height=\"480\"></video>"
      ],
      "text/plain": [
       "<IPython.core.display.HTML object>"
      ]
     },
     "metadata": {},
     "output_type": "display_data"
    },
    {
     "name": "stdout",
     "output_type": "stream",
     "text": [
      "69\n",
      "File saved as tmp/2024-02-12T15:29:18.mp4\n"
     ]
    },
    {
     "data": {
      "text/html": [
       "<video controls src=\"tmp/2024-02-12T15:29:18.mp4\" width=\"640\" height=\"480\"></video>"
      ],
      "text/plain": [
       "<IPython.core.display.HTML object>"
      ]
     },
     "metadata": {},
     "output_type": "display_data"
    }
   ],
   "source": [
    "for path in paths[:50]:\n",
    "    data = unpickle_data(path)\n",
    "    print(len(data[\"observations\"]))\n",
    "    mp4_from_pickle_jupyter(\n",
    "        path, filename=(base_dir / path.stem).with_suffix(\".mp4\"), fps=20\n",
    "    )"
   ]
  },
  {
   "cell_type": "markdown",
   "metadata": {},
   "source": [
    "### Plot coverage of new trajectories"
   ]
  },
  {
   "cell_type": "code",
   "execution_count": 2,
   "metadata": {},
   "outputs": [],
   "source": [
    "import zarr\n",
    "import matplotlib.pyplot as plt\n",
    "import numpy as np\n",
    "\n",
    "\n",
    "from src.common.files import get_processed_paths"
   ]
  },
  {
   "cell_type": "code",
   "execution_count": 4,
   "metadata": {},
   "outputs": [
    {
     "name": "stdout",
     "output_type": "stream",
     "text": [
      "Found the following paths:\n",
      "    /data/scratch/ankile/furniture-data/processed/sim/one_leg/teleop/low/success.zarr\n",
      "    /data/scratch/ankile/furniture-data/processed/sim/one_leg/augmentation/low/success.zarr\n"
     ]
    },
    {
     "data": {
      "text/plain": [
       "(PosixPath('/data/scratch/ankile/furniture-data/processed/sim/one_leg/augmentation/low/success.zarr'),\n",
       " PosixPath('/data/scratch/ankile/furniture-data/processed/sim/one_leg/teleop/low/success.zarr'))"
      ]
     },
     "execution_count": 4,
     "metadata": {},
     "output_type": "execute_result"
    }
   ],
   "source": [
    "aug_path, teleop_path = sorted(\n",
    "    get_processed_paths(\n",
    "        environment=\"sim\",\n",
    "        demo_source=[\"teleop\", \"augmentation\"],\n",
    "        demo_outcome=\"success\",\n",
    "        task=\"one_leg\",\n",
    "        randomness=\"low\",\n",
    "    )\n",
    ")\n",
    "\n",
    "aug_path, teleop_path"
   ]
  },
  {
   "cell_type": "code",
   "execution_count": 5,
   "metadata": {},
   "outputs": [],
   "source": [
    "z_aug = zarr.open(str(aug_path), mode=\"r\")\n",
    "z_teleop = zarr.open(str(teleop_path), mode=\"r\")\n",
    "\n",
    "ends_aug = z_aug[\"episode_ends\"][:]\n",
    "ends_teleop = z_teleop[\"episode_ends\"][:]\n",
    "\n",
    "pos_teleop = z_teleop[\"robot_state\"][:, :3]\n",
    "pos_aug = z_aug[\"robot_state\"][:, :3]\n",
    "\n",
    "# Split the data into episodes\n",
    "pos_teleop = np.split(pos_teleop, ends_teleop[:-1])\n",
    "pos_aug = np.split(pos_aug, ends_aug[:-1])\n",
    "\n",
    "# # Get the skill labels for the teleop data and split them into episodes\n",
    "# skill_teleop = z_teleop[\"critical\"][:]\n",
    "# skill_teleop = np.split(skill_teleop, ends_teleop[:-1])\n",
    "\n",
    "# # For the teleop data, we slice off the data after the insertion\n",
    "# pos_teleop = [\n",
    "#     ep[: np.where(skill == 1)[0][3] + 1] for ep, skill in zip(pos_teleop, skill_teleop)\n",
    "# ]\n",
    "\n",
    "# # Concat them together again\n",
    "pos_teleop = np.concatenate(pos_teleop)\n",
    "pos_aug = np.concatenate(pos_aug)"
   ]
  },
  {
   "cell_type": "code",
   "execution_count": 6,
   "metadata": {},
   "outputs": [
    {
     "data": {
      "text/plain": [
       "(50, 29020, 1040, 58324)"
      ]
     },
     "execution_count": 6,
     "metadata": {},
     "output_type": "execute_result"
    }
   ],
   "source": [
    "len(ends_teleop), len(pos_teleop), len(ends_aug), len(pos_aug)"
   ]
  },
  {
   "cell_type": "code",
   "execution_count": 12,
   "metadata": {},
   "outputs": [],
   "source": [
    "n_teleop = len(pos_teleop)\n",
    "mean_len_aug = np.diff(ends_aug).mean()"
   ]
  },
  {
   "cell_type": "code",
   "execution_count": 24,
   "metadata": {},
   "outputs": [
    {
     "name": "stdout",
     "output_type": "stream",
     "text": [
      "10% of teleop data: 2902 timesteps, i.e., 52 augmented trajectories\n",
      "20% of teleop data: 5804 timesteps, i.e., 103 augmented trajectories\n",
      "30% of teleop data: 8706 timesteps, i.e., 155 augmented trajectories\n",
      "50% of teleop data: 14510 timesteps, i.e., 259 augmented trajectories\n",
      "\n",
      "50 augmented trajectories: 2804 timesteps, i.e., 10% of teleop data\n",
      "100 augmented trajectories: 5608 timesteps, i.e., 19% of teleop data\n",
      "150 augmented trajectories: 8412 timesteps, i.e., 29% of teleop data\n",
      "250 augmented trajectories: 14020 timesteps, i.e., 48% of teleop data\n"
     ]
    }
   ],
   "source": [
    "for p in [10, 20, 30, 50]:\n",
    "    # Format as percent with no decimal places\n",
    "    print(\n",
    "        f\"{p/100:.0%} of teleop data: {n_teleop*p/100:.0f} timesteps, i.e., {n_teleop*p/100 /mean_len_aug:.0f} augmented trajectories\"\n",
    "    )\n",
    "\n",
    "print()\n",
    "for n in [50, 100, 150, 250]:\n",
    "    print(\n",
    "        f\"{n} augmented trajectories: {n*mean_len_aug:.0f} timesteps, i.e., {n*mean_len_aug/n_teleop:.0%} of teleop data\"\n",
    "    )"
   ]
  },
  {
   "cell_type": "code",
   "execution_count": 8,
   "metadata": {},
   "outputs": [
    {
     "data": {
      "text/plain": [
       "(array([ 12.,  30.,  86., 149., 385., 176.,  99.,  84.,   8.,  10.]),\n",
       " array([32. , 37.1, 42.2, 47.3, 52.4, 57.5, 62.6, 67.7, 72.8, 77.9, 83. ]),\n",
       " <BarContainer object of 10 artists>)"
      ]
     },
     "execution_count": 8,
     "metadata": {},
     "output_type": "execute_result"
    },
    {
     "data": {
      "image/png": "[encoded data removed]",
      "text/plain": [
       "<Figure size 640x480 with 1 Axes>"
      ]
     },
     "metadata": {},
     "output_type": "display_data"
    }
   ],
   "source": [
    "plt.hist(np.diff(ends_aug))"
   ]
  },
  {
   "cell_type": "code",
   "execution_count": null,
   "metadata": {},
   "outputs": [],
   "source": [
    "# Sample a subset of the data\n",
    "idx = np.random.choice(len(pos_teleop), size=53584, replace=False)\n",
    "pos_teleop = pos_teleop[idx]"
   ]
  },
  {
   "cell_type": "markdown",
   "metadata": {},
   "source": [
    "### Plot the state-space coverage in 3D"
   ]
  },
  {
   "cell_type": "code",
   "execution_count": null,
   "metadata": {},
   "outputs": [],
   "source": [
    "fig = plt.figure(figsize=(6, 6))\n",
    "\n",
    "# Add a subplot for teleop data in the left side of the figure\n",
    "ax1 = fig.add_subplot(111, projection=\"3d\")\n",
    "\n",
    "ax1.scatter(*pos_teleop.T, label=f\"Teleop (n={len(ends_teleop)})\", s=0.1)\n",
    "\n",
    "ax1.legend(frameon=False)\n",
    "ax1.set_title(\"Teleop data only\")\n",
    "ax1.set_xlabel(\"x\")\n",
    "ax1.set_ylabel(\"y\")\n",
    "ax1.set_zlabel(\"z\")\n",
    "\n",
    "plt.show()"
   ]
  },
  {
   "cell_type": "code",
   "execution_count": null,
   "metadata": {},
   "outputs": [],
   "source": [
    "fig = plt.figure(figsize=(6, 6))\n",
    "\n",
    "# Add a subplot for augmentation data in the right side of the figure\n",
    "ax2 = fig.add_subplot(\n",
    "    111, projection=\"3d\"\n",
    ")  # Changed from 111 to 122 for a 1x2 grid, second position\n",
    "ax2.scatter(*pos_teleop.T, label=f\"Teleop (n={len(ends_teleop)})\", s=0.2, alpha=0.5)\n",
    "ax2.scatter(*pos_aug.T, label=f\"Augmentation (n={len(ends_aug)})\", s=0.2, alpha=0.5)\n",
    "ax2.legend(frameon=False)\n",
    "ax2.set_title(\"Teleop and augmentation data\")\n",
    "ax2.set_xlabel(\"x\")\n",
    "ax2.set_ylabel(\"y\")\n",
    "ax2.set_zlabel(\"z\")\n",
    "\n",
    "plt.savefig(\"teleop_augmentation.pdf\")\n",
    "\n",
    "plt.show()"
   ]
  },
  {
   "cell_type": "code",
   "execution_count": 14,
   "metadata": {},
   "outputs": [],
   "source": [
    "from src.models.unet import ConditionalUnet1D"
   ]
  },
  {
   "cell_type": "code",
   "execution_count": 16,
   "metadata": {},
   "outputs": [],
   "source": [
    "net = ConditionalUnet1D(10, 272)"
   ]
  },
  {
   "cell_type": "code",
   "execution_count": 17,
   "metadata": {},
   "outputs": [
    {
     "name": "stdout",
     "output_type": "stream",
     "text": [
      "mid_modules.0.blocks.0.block.0.weight 5242880\n",
      "mid_modules.0.blocks.0.block.0.bias 1024\n",
      "mid_modules.0.blocks.0.block.1.weight 1024\n",
      "mid_modules.0.blocks.0.block.1.bias 1024\n",
      "mid_modules.0.blocks.1.block.0.weight 5242880\n",
      "mid_modules.0.blocks.1.block.0.bias 1024\n",
      "mid_modules.0.blocks.1.block.1.weight 1024\n",
      "mid_modules.0.blocks.1.block.1.bias 1024\n",
      "mid_modules.0.cond_encoder.1.weight 1081344\n",
      "mid_modules.0.cond_encoder.1.bias 2048\n",
      "mid_modules.1.blocks.0.block.0.weight 5242880\n",
      "mid_modules.1.blocks.0.block.0.bias 1024\n",
      "mid_modules.1.blocks.0.block.1.weight 1024\n",
      "mid_modules.1.blocks.0.block.1.bias 1024\n",
      "mid_modules.1.blocks.1.block.0.weight 5242880\n",
      "mid_modules.1.blocks.1.block.0.bias 1024\n",
      "mid_modules.1.blocks.1.block.1.weight 1024\n",
      "mid_modules.1.blocks.1.block.1.bias 1024\n",
      "mid_modules.1.cond_encoder.1.weight 1081344\n",
      "mid_modules.1.cond_encoder.1.bias 2048\n",
      "diffusion_step_encoder.1.weight 262144\n",
      "diffusion_step_encoder.1.bias 1024\n",
      "diffusion_step_encoder.3.weight 262144\n",
      "diffusion_step_encoder.3.bias 256\n",
      "up_modules.0.0.blocks.0.block.0.weight 5242880\n",
      "up_modules.0.0.blocks.0.block.0.bias 512\n",
      "up_modules.0.0.blocks.0.block.1.weight 512\n",
      "up_modules.0.0.blocks.0.block.1.bias 512\n",
      "up_modules.0.0.blocks.1.block.0.weight 1310720\n",
      "up_modules.0.0.blocks.1.block.0.bias 512\n",
      "up_modules.0.0.blocks.1.block.1.weight 512\n",
      "up_modules.0.0.blocks.1.block.1.bias 512\n",
      "up_modules.0.0.cond_encoder.1.weight 540672\n",
      "up_modules.0.0.cond_encoder.1.bias 1024\n",
      "up_modules.0.0.residual_conv.weight 1048576\n",
      "up_modules.0.0.residual_conv.bias 512\n",
      "up_modules.0.1.blocks.0.block.0.weight 1310720\n",
      "up_modules.0.1.blocks.0.block.0.bias 512\n",
      "up_modules.0.1.blocks.0.block.1.weight 512\n",
      "up_modules.0.1.blocks.0.block.1.bias 512\n",
      "up_modules.0.1.blocks.1.block.0.weight 1310720\n",
      "up_modules.0.1.blocks.1.block.0.bias 512\n",
      "up_modules.0.1.blocks.1.block.1.weight 512\n",
      "up_modules.0.1.blocks.1.block.1.bias 512\n",
      "up_modules.0.1.cond_encoder.1.weight 540672\n",
      "up_modules.0.1.cond_encoder.1.bias 1024\n",
      "up_modules.0.2.conv.weight 1048576\n",
      "up_modules.0.2.conv.bias 512\n",
      "up_modules.1.0.blocks.0.block.0.weight 1310720\n",
      "up_modules.1.0.blocks.0.block.0.bias 256\n",
      "up_modules.1.0.blocks.0.block.1.weight 256\n",
      "up_modules.1.0.blocks.0.block.1.bias 256\n",
      "up_modules.1.0.blocks.1.block.0.weight 327680\n",
      "up_modules.1.0.blocks.1.block.0.bias 256\n",
      "up_modules.1.0.blocks.1.block.1.weight 256\n",
      "up_modules.1.0.blocks.1.block.1.bias 256\n",
      "up_modules.1.0.cond_encoder.1.weight 270336\n",
      "up_modules.1.0.cond_encoder.1.bias 512\n",
      "up_modules.1.0.residual_conv.weight 262144\n",
      "up_modules.1.0.residual_conv.bias 256\n",
      "up_modules.1.1.blocks.0.block.0.weight 327680\n",
      "up_modules.1.1.blocks.0.block.0.bias 256\n",
      "up_modules.1.1.blocks.0.block.1.weight 256\n",
      "up_modules.1.1.blocks.0.block.1.bias 256\n",
      "up_modules.1.1.blocks.1.block.0.weight 327680\n",
      "up_modules.1.1.blocks.1.block.0.bias 256\n",
      "up_modules.1.1.blocks.1.block.1.weight 256\n",
      "up_modules.1.1.blocks.1.block.1.bias 256\n",
      "up_modules.1.1.cond_encoder.1.weight 270336\n",
      "up_modules.1.1.cond_encoder.1.bias 512\n",
      "up_modules.1.2.conv.weight 262144\n",
      "up_modules.1.2.conv.bias 256\n",
      "down_modules.0.0.blocks.0.block.0.weight 12800\n",
      "down_modules.0.0.blocks.0.block.0.bias 256\n",
      "down_modules.0.0.blocks.0.block.1.weight 256\n",
      "down_modules.0.0.blocks.0.block.1.bias 256\n",
      "down_modules.0.0.blocks.1.block.0.weight 327680\n",
      "down_modules.0.0.blocks.1.block.0.bias 256\n",
      "down_modules.0.0.blocks.1.block.1.weight 256\n",
      "down_modules.0.0.blocks.1.block.1.bias 256\n",
      "down_modules.0.0.cond_encoder.1.weight 270336\n",
      "down_modules.0.0.cond_encoder.1.bias 512\n",
      "down_modules.0.0.residual_conv.weight 2560\n",
      "down_modules.0.0.residual_conv.bias 256\n",
      "down_modules.0.1.blocks.0.block.0.weight 327680\n",
      "down_modules.0.1.blocks.0.block.0.bias 256\n",
      "down_modules.0.1.blocks.0.block.1.weight 256\n",
      "down_modules.0.1.blocks.0.block.1.bias 256\n",
      "down_modules.0.1.blocks.1.block.0.weight 327680\n",
      "down_modules.0.1.blocks.1.block.0.bias 256\n",
      "down_modules.0.1.blocks.1.block.1.weight 256\n",
      "down_modules.0.1.blocks.1.block.1.bias 256\n",
      "down_modules.0.1.cond_encoder.1.weight 270336\n",
      "down_modules.0.1.cond_encoder.1.bias 512\n",
      "down_modules.0.2.conv.weight 196608\n",
      "down_modules.0.2.conv.bias 256\n",
      "down_modules.1.0.blocks.0.block.0.weight 655360\n",
      "down_modules.1.0.blocks.0.block.0.bias 512\n",
      "down_modules.1.0.blocks.0.block.1.weight 512\n",
      "down_modules.1.0.blocks.0.block.1.bias 512\n",
      "down_modules.1.0.blocks.1.block.0.weight 1310720\n",
      "down_modules.1.0.blocks.1.block.0.bias 512\n",
      "down_modules.1.0.blocks.1.block.1.weight 512\n",
      "down_modules.1.0.blocks.1.block.1.bias 512\n",
      "down_modules.1.0.cond_encoder.1.weight 540672\n",
      "down_modules.1.0.cond_encoder.1.bias 1024\n",
      "down_modules.1.0.residual_conv.weight 131072\n",
      "down_modules.1.0.residual_conv.bias 512\n",
      "down_modules.1.1.blocks.0.block.0.weight 1310720\n",
      "down_modules.1.1.blocks.0.block.0.bias 512\n",
      "down_modules.1.1.blocks.0.block.1.weight 512\n",
      "down_modules.1.1.blocks.0.block.1.bias 512\n",
      "down_modules.1.1.blocks.1.block.0.weight 1310720\n",
      "down_modules.1.1.blocks.1.block.0.bias 512\n",
      "down_modules.1.1.blocks.1.block.1.weight 512\n",
      "down_modules.1.1.blocks.1.block.1.bias 512\n",
      "down_modules.1.1.cond_encoder.1.weight 540672\n",
      "down_modules.1.1.cond_encoder.1.bias 1024\n",
      "down_modules.1.2.conv.weight 786432\n",
      "down_modules.1.2.conv.bias 512\n",
      "down_modules.2.0.blocks.0.block.0.weight 2621440\n",
      "down_modules.2.0.blocks.0.block.0.bias 1024\n",
      "down_modules.2.0.blocks.0.block.1.weight 1024\n",
      "down_modules.2.0.blocks.0.block.1.bias 1024\n",
      "down_modules.2.0.blocks.1.block.0.weight 5242880\n",
      "down_modules.2.0.blocks.1.block.0.bias 1024\n",
      "down_modules.2.0.blocks.1.block.1.weight 1024\n",
      "down_modules.2.0.blocks.1.block.1.bias 1024\n",
      "down_modules.2.0.cond_encoder.1.weight 1081344\n",
      "down_modules.2.0.cond_encoder.1.bias 2048\n",
      "down_modules.2.0.residual_conv.weight 524288\n",
      "down_modules.2.0.residual_conv.bias 1024\n",
      "down_modules.2.1.blocks.0.block.0.weight 5242880\n",
      "down_modules.2.1.blocks.0.block.0.bias 1024\n",
      "down_modules.2.1.blocks.0.block.1.weight 1024\n",
      "down_modules.2.1.blocks.0.block.1.bias 1024\n",
      "down_modules.2.1.blocks.1.block.0.weight 5242880\n",
      "down_modules.2.1.blocks.1.block.0.bias 1024\n",
      "down_modules.2.1.blocks.1.block.1.weight 1024\n",
      "down_modules.2.1.blocks.1.block.1.bias 1024\n",
      "down_modules.2.1.cond_encoder.1.weight 1081344\n",
      "down_modules.2.1.cond_encoder.1.bias 2048\n",
      "final_conv.0.block.0.weight 327680\n",
      "final_conv.0.block.0.bias 256\n",
      "final_conv.0.block.1.weight 256\n",
      "final_conv.0.block.1.bias 256\n",
      "final_conv.1.weight 2560\n",
      "final_conv.1.bias 10\n"
     ]
    }
   ],
   "source": [
    "# Print the total number of parameters and parameters in each submodule\n",
    "for name, param in net.named_parameters():\n",
    "    print(name, param.numel())"
   ]
  },
  {
   "cell_type": "code",
   "execution_count": null,
   "metadata": {},
   "outputs": [],
   "source": []
  }
 ],
 "metadata": {
  "kernelspec": {
   "display_name": "rlgpu",
   "language": "python",
   "name": "python3"
  },
  "language_info": {
   "codemirror_mode": {
    "name": "ipython",
    "version": 3
   },
   "file_extension": ".py",
   "mimetype": "text/x-python",
   "name": "python",
   "nbconvert_exporter": "python",
   "pygments_lexer": "ipython3",
   "version": "3.8.18"
  }
 },
 "nbformat": 4,
 "nbformat_minor": 2
}
