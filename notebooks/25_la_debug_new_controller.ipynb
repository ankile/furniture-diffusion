{
 "cells": [
  {
   "cell_type": "code",
   "execution_count": 1,
   "metadata": {},
   "outputs": [],
   "source": [
    "%load_ext autoreload\n",
    "%autoreload 2"
   ]
  },
  {
   "cell_type": "code",
   "execution_count": 2,
   "metadata": {},
   "outputs": [
    {
     "name": "stdout",
     "output_type": "stream",
     "text": [
      "Importing module 'gym_38' (/data/scratch/ankile/isaacgym/python/isaacgym/_bindings/linux-x86_64/gym_38.so)\n",
      "Setting GYM_USD_PLUG_INFO_PATH to /data/scratch/ankile/isaacgym/python/isaacgym/_bindings/linux-x86_64/usd/plugInfo.json\n",
      "PyTorch version 2.0.1+cu117\n",
      "Device count 1\n",
      "/data/scratch/ankile/isaacgym/python/isaacgym/_bindings/src/gymtorch\n"
     ]
    },
    {
     "name": "stderr",
     "output_type": "stream",
     "text": [
      "Using /data/scratch/ankile/.cache as PyTorch extensions root...\n",
      "Emitting ninja build file /data/scratch/ankile/.cache/gymtorch/build.ninja...\n",
      "Building extension module gymtorch...\n",
      "Allowing ninja to set a default number of workers... (overridable by setting the environment variable MAX_JOBS=N)\n"
     ]
    },
    {
     "name": "stdout",
     "output_type": "stream",
     "text": [
      "ninja: no work to do.\n"
     ]
    },
    {
     "name": "stderr",
     "output_type": "stream",
     "text": [
      "Loading extension module gymtorch...\n"
     ]
    }
   ],
   "source": [
    "import furniture_bench\n",
    "from furniture_bench.envs.furniture_sim_env import FurnitureSimEnv\n",
    "import os\n",
    "from pathlib import Path\n",
    "\n",
    "import torch\n",
    "\n",
    "import numpy as np\n",
    "import matplotlib.pyplot as plt\n",
    "\n",
    "from src.visualization.render_mp4 import (\n",
    "    mp4_from_pickle_jupyter,\n",
    "    unpickle_data,\n",
    "    mp4_from_data_dict_jupyter,\n",
    "    create_mp4_jupyter,\n",
    ")\n",
    "from src.common.geometry import action_to_6d_rotation\n",
    "from src.data_processing.utils import resize, resize_crop\n",
    "\n",
    "from tqdm import trange\n",
    "\n",
    "\n",
    "from src.gym import get_env"
   ]
  },
  {
   "cell_type": "code",
   "execution_count": 3,
   "metadata": {},
   "outputs": [],
   "source": [
    "env: FurnitureSimEnv = get_env(\n",
    "    furniture=\"one_leg\",\n",
    "    num_envs=1,\n",
    "    gpu_id=0,\n",
    "    act_rot_repr=\"rot_6d\",\n",
    "    ctrl_mode=\"osc\",\n",
    "    randomness=\"low\",\n",
    "    resize_img=False,\n",
    ")"
   ]
  },
  {
   "cell_type": "code",
   "execution_count": 4,
   "metadata": {},
   "outputs": [],
   "source": [
    "tmp_dir = Path(\"tmp_rollout_dir\")"
   ]
  },
  {
   "cell_type": "code",
   "execution_count": 5,
   "metadata": {},
   "outputs": [
    {
     "data": {
      "text/plain": [
       "250"
      ]
     },
     "execution_count": 5,
     "metadata": {},
     "output_type": "execute_result"
    }
   ],
   "source": [
    "scripted_dir = (\n",
    "    Path(os.environ[\"DATA_DIR_RAW\"])\n",
    "    / \"raw\"\n",
    "    / \"sim\"\n",
    "    / \"one_leg\"\n",
    "    / \"scripted\"\n",
    "    / \"low\"\n",
    "    / \"success\"\n",
    ")\n",
    "\n",
    "scripted_pickles = list(scripted_dir.glob(\"*.pkl*\"))\n",
    "\n",
    "len(scripted_pickles)"
   ]
  },
  {
   "cell_type": "code",
   "execution_count": 6,
   "metadata": {},
   "outputs": [],
   "source": [
    "scripted_data = [unpickle_data(p) for p in scripted_pickles[:10]]"
   ]
  },
  {
   "cell_type": "code",
   "execution_count": 9,
   "metadata": {},
   "outputs": [
    {
     "name": "stderr",
     "output_type": "stream",
     "text": [
      "INFO: Found collision-free init pose\n",
      "100%|██████████| 614/614 [00:28<00:00, 21.23it/s]\n"
     ]
    },
    {
     "name": "stdout",
     "output_type": "stream",
     "text": [
      "(614, 240, 320, 3) (614, 240, 320, 3)\n",
      "File saved as tmp_rollout_dir/scripted_replay613.mp4\n"
     ]
    },
    {
     "data": {
      "text/html": [
       "<video controls src=\"tmp_rollout_dir/scripted_replay613.mp4\" width=\"640\" height=\"480\"></video>"
      ],
      "text/plain": [
       "<IPython.core.display.HTML object>"
      ]
     },
     "metadata": {},
     "output_type": "display_data"
    },
    {
     "name": "stderr",
     "output_type": "stream",
     "text": [
      "INFO: Found collision-free init pose\n",
      "100%|██████████| 656/656 [00:28<00:00, 23.34it/s]\n"
     ]
    },
    {
     "name": "stdout",
     "output_type": "stream",
     "text": [
      "(656, 240, 320, 3) (656, 240, 320, 3)\n",
      "File saved as tmp_rollout_dir/scripted_replay655.mp4\n"
     ]
    },
    {
     "data": {
      "text/html": [
       "<video controls src=\"tmp_rollout_dir/scripted_replay655.mp4\" width=\"640\" height=\"480\"></video>"
      ],
      "text/plain": [
       "<IPython.core.display.HTML object>"
      ]
     },
     "metadata": {},
     "output_type": "display_data"
    },
    {
     "name": "stderr",
     "output_type": "stream",
     "text": [
      "INFO: Found collision-free init pose\n",
      "100%|██████████| 654/654 [00:27<00:00, 24.01it/s]\n"
     ]
    },
    {
     "name": "stdout",
     "output_type": "stream",
     "text": [
      "(654, 240, 320, 3) (654, 240, 320, 3)\n",
      "File saved as tmp_rollout_dir/scripted_replay653.mp4\n"
     ]
    },
    {
     "data": {
      "text/html": [
       "<video controls src=\"tmp_rollout_dir/scripted_replay653.mp4\" width=\"640\" height=\"480\"></video>"
      ],
      "text/plain": [
       "<IPython.core.display.HTML object>"
      ]
     },
     "metadata": {},
     "output_type": "display_data"
    },
    {
     "name": "stderr",
     "output_type": "stream",
     "text": [
      "INFO: Found collision-free init pose\n",
      "100%|██████████| 605/605 [00:27<00:00, 21.93it/s]\n"
     ]
    },
    {
     "name": "stdout",
     "output_type": "stream",
     "text": [
      "(605, 240, 320, 3) (605, 240, 320, 3)\n",
      "File saved as tmp_rollout_dir/scripted_replay604.mp4\n"
     ]
    },
    {
     "data": {
      "text/html": [
       "<video controls src=\"tmp_rollout_dir/scripted_replay604.mp4\" width=\"640\" height=\"480\"></video>"
      ],
      "text/plain": [
       "<IPython.core.display.HTML object>"
      ]
     },
     "metadata": {},
     "output_type": "display_data"
    },
    {
     "name": "stderr",
     "output_type": "stream",
     "text": [
      "INFO: Found collision-free init pose\n",
      "100%|██████████| 609/609 [00:27<00:00, 22.53it/s]\n"
     ]
    },
    {
     "name": "stdout",
     "output_type": "stream",
     "text": [
      "(609, 240, 320, 3) (609, 240, 320, 3)\n",
      "File saved as tmp_rollout_dir/scripted_replay608.mp4\n"
     ]
    },
    {
     "data": {
      "text/html": [
       "<video controls src=\"tmp_rollout_dir/scripted_replay608.mp4\" width=\"640\" height=\"480\"></video>"
      ],
      "text/plain": [
       "<IPython.core.display.HTML object>"
      ]
     },
     "metadata": {},
     "output_type": "display_data"
    }
   ],
   "source": [
    "# Play them back in the simulator\n",
    "for i, data in enumerate(scripted_data[:5]):\n",
    "    # Reset the env\n",
    "    env.reset()\n",
    "\n",
    "    # Set the initial state\n",
    "    env.reset_env_to(env_idx=0, state=data[\"observations\"][0])\n",
    "\n",
    "    # Play back the actions in the trajectory\n",
    "    imgs1 = []\n",
    "    imgs2 = []\n",
    "\n",
    "    actions = np.array(data[\"actions\"])\n",
    "    action = action_to_6d_rotation(torch.tensor(actions).cuda())\n",
    "\n",
    "    for i in trange(len(actions)):\n",
    "        obs, reward, done, info = env.step(action[i : i + 1])\n",
    "        imgs1.append(resize(obs[\"color_image1\"]).squeeze().cpu().numpy())\n",
    "        imgs2.append(resize_crop(obs[\"color_image2\"]).squeeze().cpu().numpy())\n",
    "\n",
    "    # See the scripted and the replay side-by-side\n",
    "    ims2_s = np.array([o[\"color_image2\"] for o in data[\"observations\"]])[:-1]\n",
    "    ims2_r = np.array(imgs2)\n",
    "\n",
    "    print(ims2_s.shape, ims2_r.shape)\n",
    "\n",
    "    ims_sbs = np.concatenate([ims2_s, ims2_r], axis=2)\n",
    "\n",
    "    create_mp4_jupyter(ims_sbs, tmp_dir / f\"scripted_replay{i}.mp4\")"
   ]
  },
  {
   "cell_type": "code",
   "execution_count": null,
   "metadata": {},
   "outputs": [],
   "source": [
    "del env"
   ]
  },
  {
   "cell_type": "code",
   "execution_count": null,
   "metadata": {},
   "outputs": [
    {
     "name": "stderr",
     "output_type": "stream",
     "text": [
      "INFO: Making new env: FurnitureSim-v0 ({'furniture': 'one_leg', 'num_envs': 1, 'resize_img': False, 'concat_robot_state': True, 'headless': True, 'obs_keys': ['robot_state/ee_pos', 'robot_state/ee_quat', 'robot_state/ee_pos_vel', 'robot_state/ee_ori_vel', 'robot_state/gripper_width', 'color_image1', 'color_image2', 'parts_poses'], 'compute_device_id': 0, 'graphics_device_id': 0, 'init_assembled': False, 'np_step_out': False, 'channel_first': False, 'randomness': 'low', 'high_random_idx': -1, 'save_camera_input': False, 'record': False, 'max_env_steps': 3000, 'act_rot_repr': 'quat', 'ctrl_mode': 'osc', 'verbose': False})\n"
     ]
    }
   ],
   "source": [
    "env: FurnitureSimEnv = get_env(\n",
    "    furniture=\"one_leg\",\n",
    "    num_envs=1,\n",
    "    gpu_id=0,\n",
    "    act_rot_repr=\"quat\",\n",
    "    ctrl_mode=\"osc\",\n",
    "    randomness=\"low\",\n",
    "    resize_img=False,\n",
    ")"
   ]
  },
  {
   "cell_type": "code",
   "execution_count": null,
   "metadata": {},
   "outputs": [
    {
     "name": "stderr",
     "output_type": "stream",
     "text": [
      "INFO: Found collision-free init pose\n",
      "100%|██████████| 614/614 [00:25<00:00, 23.98it/s]\n"
     ]
    },
    {
     "name": "stdout",
     "output_type": "stream",
     "text": [
      "(614, 240, 320, 3) (614, 240, 320, 3)\n",
      "File saved as tmp_rollout_dir/scripted_replay613.mp4\n"
     ]
    },
    {
     "data": {
      "text/html": [
       "<video controls src=\"tmp_rollout_dir/scripted_replay613.mp4\" width=\"640\" height=\"480\"></video>"
      ],
      "text/plain": [
       "<IPython.core.display.HTML object>"
      ]
     },
     "metadata": {},
     "output_type": "display_data"
    },
    {
     "name": "stderr",
     "output_type": "stream",
     "text": [
      "INFO: Found collision-free init pose\n",
      "100%|██████████| 656/656 [00:27<00:00, 23.59it/s]\n"
     ]
    },
    {
     "name": "stdout",
     "output_type": "stream",
     "text": [
      "(656, 240, 320, 3) (656, 240, 320, 3)\n",
      "File saved as tmp_rollout_dir/scripted_replay655.mp4\n"
     ]
    },
    {
     "data": {
      "text/html": [
       "<video controls src=\"tmp_rollout_dir/scripted_replay655.mp4\" width=\"640\" height=\"480\"></video>"
      ],
      "text/plain": [
       "<IPython.core.display.HTML object>"
      ]
     },
     "metadata": {},
     "output_type": "display_data"
    },
    {
     "name": "stderr",
     "output_type": "stream",
     "text": [
      "INFO: Found collision-free init pose\n",
      "100%|██████████| 654/654 [00:26<00:00, 24.33it/s]\n"
     ]
    },
    {
     "name": "stdout",
     "output_type": "stream",
     "text": [
      "(654, 240, 320, 3) (654, 240, 320, 3)\n",
      "File saved as tmp_rollout_dir/scripted_replay653.mp4\n"
     ]
    },
    {
     "data": {
      "text/html": [
       "<video controls src=\"tmp_rollout_dir/scripted_replay653.mp4\" width=\"640\" height=\"480\"></video>"
      ],
      "text/plain": [
       "<IPython.core.display.HTML object>"
      ]
     },
     "metadata": {},
     "output_type": "display_data"
    },
    {
     "name": "stderr",
     "output_type": "stream",
     "text": [
      "INFO: Found collision-free init pose\n",
      "100%|██████████| 605/605 [00:25<00:00, 23.28it/s]\n"
     ]
    },
    {
     "name": "stdout",
     "output_type": "stream",
     "text": [
      "(605, 240, 320, 3) (605, 240, 320, 3)\n",
      "File saved as tmp_rollout_dir/scripted_replay604.mp4\n"
     ]
    },
    {
     "data": {
      "text/html": [
       "<video controls src=\"tmp_rollout_dir/scripted_replay604.mp4\" width=\"640\" height=\"480\"></video>"
      ],
      "text/plain": [
       "<IPython.core.display.HTML object>"
      ]
     },
     "metadata": {},
     "output_type": "display_data"
    },
    {
     "name": "stderr",
     "output_type": "stream",
     "text": [
      "INFO: Found collision-free init pose\n",
      "100%|██████████| 609/609 [00:25<00:00, 23.48it/s]\n"
     ]
    },
    {
     "name": "stdout",
     "output_type": "stream",
     "text": [
      "(609, 240, 320, 3) (609, 240, 320, 3)\n",
      "File saved as tmp_rollout_dir/scripted_replay608.mp4\n"
     ]
    },
    {
     "data": {
      "text/html": [
       "<video controls src=\"tmp_rollout_dir/scripted_replay608.mp4\" width=\"640\" height=\"480\"></video>"
      ],
      "text/plain": [
       "<IPython.core.display.HTML object>"
      ]
     },
     "metadata": {},
     "output_type": "display_data"
    }
   ],
   "source": [
    "# Play them back in the simulator\n",
    "for i, data in enumerate(scripted_data[:5]):\n",
    "    # Reset the env\n",
    "    env.reset()\n",
    "\n",
    "    # Set the initial state\n",
    "    env.reset_env_to(env_idx=0, state=data[\"observations\"][0])\n",
    "\n",
    "    # Play back the actions in the trajectory\n",
    "    imgs1 = []\n",
    "    imgs2 = []\n",
    "\n",
    "    actions = np.array(data[\"actions\"])\n",
    "    # action = action_to_6d_rotation(torch.tensor(actions).cuda())\n",
    "    action = torch.tensor(actions).cuda()\n",
    "\n",
    "    for i in trange(len(actions)):\n",
    "        obs, reward, done, info = env.step(action[i : i + 1])\n",
    "        imgs1.append(resize(obs[\"color_image1\"]).squeeze().cpu().numpy())\n",
    "        imgs2.append(resize_crop(obs[\"color_image2\"]).squeeze().cpu().numpy())\n",
    "\n",
    "    # See the scripted and the replay side-by-side\n",
    "    ims2_s = np.array([o[\"color_image2\"] for o in data[\"observations\"]])[:-1]\n",
    "    ims2_r = np.array(imgs2)\n",
    "\n",
    "    print(ims2_s.shape, ims2_r.shape)\n",
    "\n",
    "    ims_sbs = np.concatenate([ims2_s, ims2_r], axis=2)\n",
    "\n",
    "    create_mp4_jupyter(ims_sbs, tmp_dir / f\"scripted_replay{i}.mp4\")"
   ]
  },
  {
   "cell_type": "code",
   "execution_count": null,
   "metadata": {},
   "outputs": [],
   "source": []
  }
 ],
 "metadata": {
  "kernelspec": {
   "display_name": "rlgpu",
   "language": "python",
   "name": "python3"
  },
  "language_info": {
   "codemirror_mode": {
    "name": "ipython",
    "version": 3
   },
   "file_extension": ".py",
   "mimetype": "text/x-python",
   "name": "python",
   "nbconvert_exporter": "python",
   "pygments_lexer": "ipython3",
   "version": "3.8.18"
  }
 },
 "nbformat": 4,
 "nbformat_minor": 2
}
