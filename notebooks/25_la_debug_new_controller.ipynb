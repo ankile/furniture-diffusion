{
 "cells": [
  {
   "cell_type": "code",
   "execution_count": 1,
   "metadata": {},
   "outputs": [],
   "source": [
    "%load_ext autoreload\n",
    "%autoreload 2"
   ]
  },
  {
   "cell_type": "code",
   "execution_count": 2,
   "metadata": {},
   "outputs": [
    {
     "name": "stdout",
     "output_type": "stream",
     "text": [
      "Importing module 'gym_38' (/data/scratch/ankile/isaacgym/python/isaacgym/_bindings/linux-x86_64/gym_38.so)\n",
      "Setting GYM_USD_PLUG_INFO_PATH to /data/scratch/ankile/isaacgym/python/isaacgym/_bindings/linux-x86_64/usd/plugInfo.json\n",
      "PyTorch version 2.0.1+cu117\n",
      "Device count 1\n",
      "/data/scratch/ankile/isaacgym/python/isaacgym/_bindings/src/gymtorch\n"
     ]
    },
    {
     "name": "stderr",
     "output_type": "stream",
     "text": [
      "Using /data/scratch/ankile/.cache as PyTorch extensions root...\n",
      "Emitting ninja build file /data/scratch/ankile/.cache/gymtorch/build.ninja...\n",
      "Building extension module gymtorch...\n",
      "Allowing ninja to set a default number of workers... (overridable by setting the environment variable MAX_JOBS=N)\n"
     ]
    },
    {
     "name": "stdout",
     "output_type": "stream",
     "text": [
      "ninja: no work to do.\n"
     ]
    },
    {
     "name": "stderr",
     "output_type": "stream",
     "text": [
      "Loading extension module gymtorch...\n"
     ]
    }
   ],
   "source": [
    "import furniture_bench\n",
    "from furniture_bench.envs.furniture_sim_env import FurnitureSimEnv\n",
    "import os\n",
    "from pathlib import Path\n",
    "\n",
    "import torch\n",
    "\n",
    "import numpy as np\n",
    "import matplotlib.pyplot as plt\n",
    "\n",
    "from src.visualization.render_mp4 import (\n",
    "    mp4_from_pickle_jupyter,\n",
    "    unpickle_data,\n",
    "    mp4_from_data_dict_jupyter,\n",
    "    create_mp4_jupyter,\n",
    ")\n",
    "from src.common.geometry import action_to_6d_rotation\n",
    "from src.data_processing.utils import resize, resize_crop\n",
    "\n",
    "from tqdm import trange, tqdm\n",
    "\n",
    "from src.gym import get_env"
   ]
  },
  {
   "cell_type": "code",
   "execution_count": 3,
   "metadata": {},
   "outputs": [],
   "source": [
    "env: FurnitureSimEnv = get_env(\n",
    "    furniture=\"one_leg\",\n",
    "    num_envs=1,\n",
    "    gpu_id=0,\n",
    "    act_rot_repr=\"rot_6d\",\n",
    "    ctrl_mode=\"osc\",\n",
    "    randomness=\"low\",\n",
    "    resize_img=False,\n",
    ")"
   ]
  },
  {
   "cell_type": "code",
   "execution_count": 4,
   "metadata": {},
   "outputs": [],
   "source": [
    "tmp_dir = Path(\"tmp_rollout_dir\")"
   ]
  },
  {
   "cell_type": "code",
   "execution_count": 5,
   "metadata": {},
   "outputs": [
    {
     "name": "stdout",
     "output_type": "stream",
     "text": [
      "Found  250\n"
     ]
    }
   ],
   "source": [
    "scripted_dir = (\n",
    "    Path(os.environ[\"DATA_DIR_RAW\"])\n",
    "    / \"raw\"\n",
    "    / \"sim\"\n",
    "    / \"one_leg\"\n",
    "    / \"scripted\"\n",
    "    / \"low\"\n",
    "    / \"success\"\n",
    ")\n",
    "\n",
    "scripted_pickles = list(scripted_dir.glob(\"*.pkl*\"))\n",
    "\n",
    "print(\"Found \", len(scripted_pickles))\n",
    "\n",
    "scripted_data = [unpickle_data(p) for p in scripted_pickles[:5]]"
   ]
  },
  {
   "cell_type": "code",
   "execution_count": null,
   "metadata": {},
   "outputs": [],
   "source": [
    "def env_replay(env, data, max_len=1_000):\n",
    "    # Play them back in the simulator\n",
    "    for i, data in enumerate(data[:5]):\n",
    "        # Reset the env\n",
    "        env.reset()\n",
    "\n",
    "        # Cut of the trajectory at max_len\n",
    "        actions = np.array(data[\"actions\"][:max_len])\n",
    "        max_len = (\n",
    "            actions.shape[0] if max_len is None else min(max_len, actions.shape[0])\n",
    "        )\n",
    "        observations = data[\"observations\"][:max_len]\n",
    "\n",
    "        # Set the initial state\n",
    "        env.reset_env_to(env_idx=0, state=observations[0])\n",
    "\n",
    "        # Play back the actions in the trajectory\n",
    "        imgs1 = []\n",
    "        imgs2 = []\n",
    "\n",
    "        action = action_to_6d_rotation(torch.tensor(actions).cuda())\n",
    "\n",
    "        for i in trange(len(actions)):\n",
    "            obs, reward, done, info = env.step(action[i : i + 1])\n",
    "            imgs1.append(resize(obs[\"color_image1\"]).squeeze().cpu().numpy())\n",
    "            imgs2.append(resize_crop(obs[\"color_image2\"]).squeeze().cpu().numpy())\n",
    "\n",
    "        # See the scripted and the replay side-by-side\n",
    "        ims2_s = np.array([o[\"color_image2\"] for o in observations])\n",
    "        ims2_r = np.array(imgs2)\n",
    "\n",
    "        print(ims2_s.shape, ims2_r.shape)\n",
    "\n",
    "        ims_sbs = np.concatenate([ims2_s, ims2_r], axis=2)\n",
    "\n",
    "        create_mp4_jupyter(ims_sbs, tmp_dir / f\"replay{i}.mp4\")"
   ]
  },
  {
   "cell_type": "markdown",
   "metadata": {},
   "source": [
    "### Look at teleop data"
   ]
  },
  {
   "cell_type": "code",
   "execution_count": null,
   "metadata": {},
   "outputs": [
    {
     "name": "stdout",
     "output_type": "stream",
     "text": [
      "Found  1\n"
     ]
    },
    {
     "name": "stderr",
     "output_type": "stream",
     "text": [
      "100%|██████████| 1/1 [00:00<00:00,  7.82it/s]\n"
     ]
    }
   ],
   "source": [
    "teleop_dir = (\n",
    "    Path(os.environ[\"DATA_DIR_RAW\"])\n",
    "    / \"raw\"\n",
    "    / \"sim\"\n",
    "    / \"square_table\"\n",
    "    / \"teleop\"\n",
    "    / \"low\"\n",
    "    / \"success\"\n",
    ")\n",
    "\n",
    "teleop_pickles = list(teleop_dir.glob(\"*.pkl*\"))\n",
    "\n",
    "print(\"Found \", len(teleop_pickles))\n",
    "\n",
    "teleop_data = [unpickle_data(p) for p in tqdm(teleop_pickles[:10])]"
   ]
  },
  {
   "cell_type": "code",
   "execution_count": 8,
   "metadata": {},
   "outputs": [
    {
     "name": "stderr",
     "output_type": "stream",
     "text": [
      "INFO: Found collision-free init pose\n",
      "  0%|          | 1/600 [00:00<01:00,  9.92it/s]"
     ]
    },
    {
     "name": "stdout",
     "output_type": "stream",
     "text": [
      "square_table_top (id: 0), square_table_leg4 (id: 4) are assembled.\n",
      "Assembled Set\n",
      "[square_table_top (id: 0), square_table_leg4 (id: 4)] \n"
     ]
    },
    {
     "name": "stderr",
     "output_type": "stream",
     "text": [
      "100%|██████████| 600/600 [00:29<00:00, 20.31it/s]\n"
     ]
    },
    {
     "name": "stdout",
     "output_type": "stream",
     "text": [
      "(600, 240, 320, 3) (600, 240, 320, 3)\n",
      "File saved as tmp_rollout_dir/replay599.mp4\n"
     ]
    },
    {
     "data": {
      "text/html": [
       "<video controls src=\"tmp_rollout_dir/replay599.mp4\" width=\"640\" height=\"480\"></video>"
      ],
      "text/plain": [
       "<IPython.core.display.HTML object>"
      ]
     },
     "metadata": {},
     "output_type": "display_data"
    }
   ],
   "source": [
    "env_replay(env, teleop_data[:5], max_len=600)"
   ]
  },
  {
   "cell_type": "code",
   "execution_count": null,
   "metadata": {},
   "outputs": [],
   "source": [
    "# import pca and plot\n",
    "from sklearn.decomposition import PCA\n",
    "import matplotlib.pyplot as plt"
   ]
  },
  {
   "cell_type": "code",
   "execution_count": null,
   "metadata": {},
   "outputs": [
    {
     "data": {
      "text/plain": [
       "((3138, 8), (668, 8))"
      ]
     },
     "execution_count": 9,
     "metadata": {},
     "output_type": "execute_result"
    }
   ],
   "source": [
    "actions_scripted = np.concatenate([d[\"actions\"] for d in scripted_data])\n",
    "actions_teleop = np.concatenate([d[\"actions\"] for d in teleop_data])\n",
    "actions = np.concatenate([actions_scripted, actions_teleop])\n",
    "\n",
    "labels = np.concatenate([np.zeros(len(actions_scripted)), np.ones(len(actions_teleop))])\n",
    "\n",
    "actions_scripted.shape, actions_teleop.shape"
   ]
  },
  {
   "cell_type": "code",
   "execution_count": null,
   "metadata": {},
   "outputs": [],
   "source": [
    "# PCA\n",
    "pca_xyz = PCA(n_components=2)\n",
    "xyz_components = pca_xyz.fit_transform(actions[:, :3])\n",
    "\n",
    "# plot\n",
    "\n",
    "\n",
    "fig, ax = plt.subplots(1, 1, figsize=(6, 6))\n",
    "\n",
    "ax.scatter(\n",
    "    xyz_components[:, 0],\n",
    "    xyz_components[:, 1],\n",
    "    c=labels,\n",
    "    alpha=0.5,\n",
    ")"
   ]
  },
  {
   "cell_type": "code",
   "execution_count": null,
   "metadata": {},
   "outputs": [
    {
     "data": {
      "text/plain": [
       "Text(0.5, 0, 'Z')"
      ]
     },
     "execution_count": 26,
     "metadata": {},
     "output_type": "execute_result"
    }
   ],
   "source": [
    "# Make interactive 3D plot of xyz actions\n",
    "from mpl_toolkits.mplot3d import Axes3D\n",
    "\n",
    "fig = plt.figure(figsize=(6, 6))\n",
    "\n",
    "ax = fig.add_subplot(111, projection=\"3d\")\n",
    "\n",
    "ax.scatter(\n",
    "    actions[:, 0],\n",
    "    actions[:, 1],\n",
    "    actions[:, 2],\n",
    "    c=labels,\n",
    "    alpha=0.5,\n",
    ")\n",
    "\n",
    "ax.set_xlabel(\"X\")\n",
    "ax.set_ylabel(\"Y\")\n",
    "ax.set_zlabel(\"Z\")"
   ]
  },
  {
   "cell_type": "code",
   "execution_count": null,
   "metadata": {},
   "outputs": [],
   "source": []
  }
 ],
 "metadata": {
  "kernelspec": {
   "display_name": "rlgpu",
   "language": "python",
   "name": "python3"
  },
  "language_info": {
   "codemirror_mode": {
    "name": "ipython",
    "version": 3
   },
   "file_extension": ".py",
   "mimetype": "text/x-python",
   "name": "python",
   "nbconvert_exporter": "python",
   "pygments_lexer": "ipython3",
   "version": "3.8.18"
  }
 },
 "nbformat": 4,
 "nbformat_minor": 2
}
