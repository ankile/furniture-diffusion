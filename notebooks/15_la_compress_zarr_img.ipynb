{
 "cells": [
  {
   "cell_type": "code",
   "execution_count": 1,
   "metadata": {},
   "outputs": [],
   "source": [
    "import numpy as np\n",
    "from tqdm import tqdm\n",
    "import wandb as wb\n",
    "import imageio\n",
    "from io import BytesIO\n",
    "import pickle\n",
    "import zarr\n",
    "\n",
    "from src.codecs.imagecodecs import Jpeg2k, register_codecs"
   ]
  },
  {
   "cell_type": "code",
   "execution_count": 2,
   "metadata": {},
   "outputs": [],
   "source": [
    "register_codecs()"
   ]
  },
  {
   "cell_type": "code",
   "execution_count": 3,
   "metadata": {},
   "outputs": [],
   "source": [
    "def create_gif_or_mp4(np_images, filename, fps=10):\n",
    "    # duration = 1000 / fps\n",
    "    with imageio.get_writer(filename, fps=fps) as writer:\n",
    "        for img in tqdm(np_images):\n",
    "            writer.append_data(img)\n",
    "    print(f\"File saved as {filename}\")"
   ]
  },
  {
   "cell_type": "code",
   "execution_count": 4,
   "metadata": {},
   "outputs": [],
   "source": [
    "old_zarr = zarr.open(\n",
    "    \"/data/scratch/ankile/furniture-data-old/data/processed/sim/image_small/one_leg/data.zarr\",\n",
    "    mode=\"r\",\n",
    ")"
   ]
  },
  {
   "cell_type": "code",
   "execution_count": 5,
   "metadata": {},
   "outputs": [
    {
     "data": {
      "text/plain": [
       "(224, 224, 3)"
      ]
     },
     "execution_count": 5,
     "metadata": {},
     "output_type": "execute_result"
    }
   ],
   "source": [
    "old_zarr[\"color_image1\"][0].shape"
   ]
  },
  {
   "cell_type": "code",
   "execution_count": 11,
   "metadata": {},
   "outputs": [
    {
     "data": {
      "text/plain": [
       "(370234, 224, 224, 3)"
      ]
     },
     "execution_count": 11,
     "metadata": {},
     "output_type": "execute_result"
    }
   ],
   "source": [
    "old_zarr[\"color_image1\"].shape"
   ]
  },
  {
   "cell_type": "code",
   "execution_count": 6,
   "metadata": {},
   "outputs": [],
   "source": [
    "image_compressor = Jpeg2k(level=75)"
   ]
  },
  {
   "cell_type": "code",
   "execution_count": 17,
   "metadata": {},
   "outputs": [],
   "source": [
    "output_store = zarr.open(\n",
    "    \"/data/scratch/ankile/furniture-data-old/data/processed/sim/image_small/one_leg/data_compressed.zarr\",\n",
    "    mode=\"w\",\n",
    ")"
   ]
  },
  {
   "cell_type": "code",
   "execution_count": 18,
   "metadata": {},
   "outputs": [
    {
     "ename": "ValueError",
     "evalue": "invalid data shape or dtype",
     "output_type": "error",
     "traceback": [
      "\u001b[0;31m---------------------------------------------------------------------------\u001b[0m",
      "\u001b[0;31mValueError\u001b[0m                                Traceback (most recent call last)",
      "\u001b[1;32m/data/scratch/ankile/furniture-diffusion/notebooks/15_la_compress_zarr_img.ipynb Cell 9\u001b[0m line \u001b[0;36m1\n\u001b[1;32m      <a href='vscode-notebook-cell://ssh-remote%2Bimprobablex007.csail.mit.edu/data/scratch/ankile/furniture-diffusion/notebooks/15_la_compress_zarr_img.ipynb#X11sdnNjb2RlLXJlbW90ZQ%3D%3D?line=0'>1</a>\u001b[0m _ \u001b[39m=\u001b[39m output_store\u001b[39m.\u001b[39mrequire_dataset(\n\u001b[1;32m      <a href='vscode-notebook-cell://ssh-remote%2Bimprobablex007.csail.mit.edu/data/scratch/ankile/furniture-diffusion/notebooks/15_la_compress_zarr_img.ipynb#X11sdnNjb2RlLXJlbW90ZQ%3D%3D?line=1'>2</a>\u001b[0m     name\u001b[39m=\u001b[39m\u001b[39m\"\u001b[39m\u001b[39mcolor_image1\u001b[39m\u001b[39m\"\u001b[39m,\n\u001b[1;32m      <a href='vscode-notebook-cell://ssh-remote%2Bimprobablex007.csail.mit.edu/data/scratch/ankile/furniture-diffusion/notebooks/15_la_compress_zarr_img.ipynb#X11sdnNjb2RlLXJlbW90ZQ%3D%3D?line=2'>3</a>\u001b[0m     shape\u001b[39m=\u001b[39m(\u001b[39m10_000\u001b[39m,) \u001b[39m+\u001b[39m old_zarr[\u001b[39m\"\u001b[39m\u001b[39mcolor_image1\u001b[39m\u001b[39m\"\u001b[39m]\u001b[39m.\u001b[39mshape[\u001b[39m1\u001b[39m:],\n\u001b[0;32m   (...)\u001b[0m\n\u001b[1;32m      <a href='vscode-notebook-cell://ssh-remote%2Bimprobablex007.csail.mit.edu/data/scratch/ankile/furniture-diffusion/notebooks/15_la_compress_zarr_img.ipynb#X11sdnNjb2RlLXJlbW90ZQ%3D%3D?line=5'>6</a>\u001b[0m     dtype\u001b[39m=\u001b[39mnp\u001b[39m.\u001b[39muint8,\n\u001b[1;32m      <a href='vscode-notebook-cell://ssh-remote%2Bimprobablex007.csail.mit.edu/data/scratch/ankile/furniture-diffusion/notebooks/15_la_compress_zarr_img.ipynb#X11sdnNjb2RlLXJlbW90ZQ%3D%3D?line=6'>7</a>\u001b[0m )\n\u001b[1;32m      <a href='vscode-notebook-cell://ssh-remote%2Bimprobablex007.csail.mit.edu/data/scratch/ankile/furniture-diffusion/notebooks/15_la_compress_zarr_img.ipynb#X11sdnNjb2RlLXJlbW90ZQ%3D%3D?line=8'>9</a>\u001b[0m \u001b[39m# for i in tqdm(range(len(old_zarr[\"color_image1\"]))):\u001b[39;00m\n\u001b[0;32m---> <a href='vscode-notebook-cell://ssh-remote%2Bimprobablex007.csail.mit.edu/data/scratch/ankile/furniture-diffusion/notebooks/15_la_compress_zarr_img.ipynb#X11sdnNjb2RlLXJlbW90ZQ%3D%3D?line=9'>10</a>\u001b[0m output_store[\u001b[39m\"\u001b[39;49m\u001b[39mcolor_image1\u001b[39;49m\u001b[39m\"\u001b[39;49m][:] \u001b[39m=\u001b[39m old_zarr[\u001b[39m\"\u001b[39m\u001b[39mcolor_image1\u001b[39m\u001b[39m\"\u001b[39m][:\u001b[39m10_000\u001b[39m]\n",
      "File \u001b[0;32m/data/scratch/ankile/miniconda3/envs/rlgpu/lib/python3.8/site-packages/zarr/core.py:1497\u001b[0m, in \u001b[0;36mArray.__setitem__\u001b[0;34m(self, selection, value)\u001b[0m\n\u001b[1;32m   1495\u001b[0m     \u001b[39mself\u001b[39m\u001b[39m.\u001b[39mset_orthogonal_selection(pure_selection, value, fields\u001b[39m=\u001b[39mfields)\n\u001b[1;32m   1496\u001b[0m \u001b[39melse\u001b[39;00m:\n\u001b[0;32m-> 1497\u001b[0m     \u001b[39mself\u001b[39;49m\u001b[39m.\u001b[39;49mset_basic_selection(pure_selection, value, fields\u001b[39m=\u001b[39;49mfields)\n",
      "File \u001b[0;32m/data/scratch/ankile/miniconda3/envs/rlgpu/lib/python3.8/site-packages/zarr/core.py:1593\u001b[0m, in \u001b[0;36mArray.set_basic_selection\u001b[0;34m(self, selection, value, fields)\u001b[0m\n\u001b[1;32m   1591\u001b[0m     \u001b[39mreturn\u001b[39;00m \u001b[39mself\u001b[39m\u001b[39m.\u001b[39m_set_basic_selection_zd(selection, value, fields\u001b[39m=\u001b[39mfields)\n\u001b[1;32m   1592\u001b[0m \u001b[39melse\u001b[39;00m:\n\u001b[0;32m-> 1593\u001b[0m     \u001b[39mreturn\u001b[39;00m \u001b[39mself\u001b[39;49m\u001b[39m.\u001b[39;49m_set_basic_selection_nd(selection, value, fields\u001b[39m=\u001b[39;49mfields)\n",
      "File \u001b[0;32m/data/scratch/ankile/miniconda3/envs/rlgpu/lib/python3.8/site-packages/zarr/core.py:1983\u001b[0m, in \u001b[0;36mArray._set_basic_selection_nd\u001b[0;34m(self, selection, value, fields)\u001b[0m\n\u001b[1;32m   1977\u001b[0m \u001b[39mdef\u001b[39;00m \u001b[39m_set_basic_selection_nd\u001b[39m(\u001b[39mself\u001b[39m, selection, value, fields\u001b[39m=\u001b[39m\u001b[39mNone\u001b[39;00m):\n\u001b[1;32m   1978\u001b[0m     \u001b[39m# implementation of __setitem__ for array with at least one dimension\u001b[39;00m\n\u001b[1;32m   1979\u001b[0m \n\u001b[1;32m   1980\u001b[0m     \u001b[39m# setup indexer\u001b[39;00m\n\u001b[1;32m   1981\u001b[0m     indexer \u001b[39m=\u001b[39m BasicIndexer(selection, \u001b[39mself\u001b[39m)\n\u001b[0;32m-> 1983\u001b[0m     \u001b[39mself\u001b[39;49m\u001b[39m.\u001b[39;49m_set_selection(indexer, value, fields\u001b[39m=\u001b[39;49mfields)\n",
      "File \u001b[0;32m/data/scratch/ankile/miniconda3/envs/rlgpu/lib/python3.8/site-packages/zarr/core.py:2038\u001b[0m, in \u001b[0;36mArray._set_selection\u001b[0;34m(self, indexer, value, fields)\u001b[0m\n\u001b[1;32m   2035\u001b[0m                 chunk_value \u001b[39m=\u001b[39m chunk_value[item]\n\u001b[1;32m   2037\u001b[0m         \u001b[39m# put data\u001b[39;00m\n\u001b[0;32m-> 2038\u001b[0m         \u001b[39mself\u001b[39;49m\u001b[39m.\u001b[39;49m_chunk_setitem(chunk_coords, chunk_selection, chunk_value, fields\u001b[39m=\u001b[39;49mfields)\n\u001b[1;32m   2039\u001b[0m \u001b[39melse\u001b[39;00m:\n\u001b[1;32m   2040\u001b[0m     lchunk_coords, lchunk_selection, lout_selection \u001b[39m=\u001b[39m \u001b[39mzip\u001b[39m(\u001b[39m*\u001b[39mindexer)\n",
      "File \u001b[0;32m/data/scratch/ankile/miniconda3/envs/rlgpu/lib/python3.8/site-packages/zarr/core.py:2304\u001b[0m, in \u001b[0;36mArray._chunk_setitem\u001b[0;34m(self, chunk_coords, chunk_selection, value, fields)\u001b[0m\n\u001b[1;32m   2301\u001b[0m     lock \u001b[39m=\u001b[39m \u001b[39mself\u001b[39m\u001b[39m.\u001b[39m_synchronizer[ckey]\n\u001b[1;32m   2303\u001b[0m \u001b[39mwith\u001b[39;00m lock:\n\u001b[0;32m-> 2304\u001b[0m     \u001b[39mself\u001b[39;49m\u001b[39m.\u001b[39;49m_chunk_setitem_nosync(chunk_coords, chunk_selection, value, fields\u001b[39m=\u001b[39;49mfields)\n",
      "File \u001b[0;32m/data/scratch/ankile/miniconda3/envs/rlgpu/lib/python3.8/site-packages/zarr/core.py:2314\u001b[0m, in \u001b[0;36mArray._chunk_setitem_nosync\u001b[0;34m(self, chunk_coords, chunk_selection, value, fields)\u001b[0m\n\u001b[1;32m   2312\u001b[0m     \u001b[39mself\u001b[39m\u001b[39m.\u001b[39m_chunk_delitem(ckey)\n\u001b[1;32m   2313\u001b[0m \u001b[39melse\u001b[39;00m:\n\u001b[0;32m-> 2314\u001b[0m     \u001b[39mself\u001b[39m\u001b[39m.\u001b[39mchunk_store[ckey] \u001b[39m=\u001b[39m \u001b[39mself\u001b[39;49m\u001b[39m.\u001b[39;49m_encode_chunk(cdata)\n",
      "File \u001b[0;32m/data/scratch/ankile/miniconda3/envs/rlgpu/lib/python3.8/site-packages/zarr/core.py:2444\u001b[0m, in \u001b[0;36mArray._encode_chunk\u001b[0;34m(self, chunk)\u001b[0m\n\u001b[1;32m   2442\u001b[0m \u001b[39m# compress\u001b[39;00m\n\u001b[1;32m   2443\u001b[0m \u001b[39mif\u001b[39;00m \u001b[39mself\u001b[39m\u001b[39m.\u001b[39m_compressor:\n\u001b[0;32m-> 2444\u001b[0m     cdata \u001b[39m=\u001b[39m \u001b[39mself\u001b[39;49m\u001b[39m.\u001b[39;49m_compressor\u001b[39m.\u001b[39;49mencode(chunk)\n\u001b[1;32m   2445\u001b[0m \u001b[39melse\u001b[39;00m:\n\u001b[1;32m   2446\u001b[0m     cdata \u001b[39m=\u001b[39m chunk\n",
      "File \u001b[0;32m/data/scratch/ankile/furniture-diffusion/src/codecs/imagecodecs.py:652\u001b[0m, in \u001b[0;36mJpeg2k.encode\u001b[0;34m(self, buf)\u001b[0m\n\u001b[1;32m    650\u001b[0m \u001b[39mdef\u001b[39;00m \u001b[39mencode\u001b[39m(\u001b[39mself\u001b[39m, buf):\n\u001b[1;32m    651\u001b[0m     buf \u001b[39m=\u001b[39m protective_squeeze(numpy\u001b[39m.\u001b[39masarray(buf))\n\u001b[0;32m--> 652\u001b[0m     \u001b[39mreturn\u001b[39;00m imagecodecs\u001b[39m.\u001b[39;49mjpeg2k_encode(\n\u001b[1;32m    653\u001b[0m         buf,\n\u001b[1;32m    654\u001b[0m         level\u001b[39m=\u001b[39;49m\u001b[39mself\u001b[39;49m\u001b[39m.\u001b[39;49mlevel,\n\u001b[1;32m    655\u001b[0m         codecformat\u001b[39m=\u001b[39;49m\u001b[39mself\u001b[39;49m\u001b[39m.\u001b[39;49mcodecformat,\n\u001b[1;32m    656\u001b[0m         colorspace\u001b[39m=\u001b[39;49m\u001b[39mself\u001b[39;49m\u001b[39m.\u001b[39;49mcolorspace,\n\u001b[1;32m    657\u001b[0m         tile\u001b[39m=\u001b[39;49m\u001b[39mself\u001b[39;49m\u001b[39m.\u001b[39;49mtile,\n\u001b[1;32m    658\u001b[0m         reversible\u001b[39m=\u001b[39;49m\u001b[39mself\u001b[39;49m\u001b[39m.\u001b[39;49mreversible,\n\u001b[1;32m    659\u001b[0m         bitspersample\u001b[39m=\u001b[39;49m\u001b[39mself\u001b[39;49m\u001b[39m.\u001b[39;49mbitspersample,\n\u001b[1;32m    660\u001b[0m         resolutions\u001b[39m=\u001b[39;49m\u001b[39mself\u001b[39;49m\u001b[39m.\u001b[39;49mresolutions,\n\u001b[1;32m    661\u001b[0m         numthreads\u001b[39m=\u001b[39;49m\u001b[39mself\u001b[39;49m\u001b[39m.\u001b[39;49mnumthreads,\n\u001b[1;32m    662\u001b[0m         verbose\u001b[39m=\u001b[39;49m\u001b[39mself\u001b[39;49m\u001b[39m.\u001b[39;49mverbose,\n\u001b[1;32m    663\u001b[0m     )\n",
      "File \u001b[0;32mimagecodecs\\_jpeg2k.pyx:142\u001b[0m, in \u001b[0;36mimagecodecs._jpeg2k.jpeg2k_encode\u001b[0;34m()\u001b[0m\n",
      "\u001b[0;31mValueError\u001b[0m: invalid data shape or dtype"
     ]
    }
   ],
   "source": [
    "_ = output_store.require_dataset(\n",
    "    name=\"color_image1\",\n",
    "    shape=(10_000,) + old_zarr[\"color_image1\"].shape[1:],\n",
    "    chunks=(224, 224, 3),\n",
    "    compressor=image_compressor,\n",
    "    dtype=np.uint8,\n",
    ")\n",
    "\n",
    "# for i in tqdm(range(len(old_zarr[\"color_image1\"]))):\n",
    "output_store[\"color_image1\"][:] = old_zarr[\"color_image1\"][:10_000]"
   ]
  },
  {
   "cell_type": "markdown",
   "metadata": {},
   "source": [
    "## Have a look at the compressed data to verify that it looks alright"
   ]
  },
  {
   "cell_type": "code",
   "execution_count": 9,
   "metadata": {},
   "outputs": [],
   "source": [
    "store = zarr.open(\n",
    "    \"/data/scratch/ankile/furniture-data-old/data/processed/sim/image_small/one_leg/data_compressed.zarr\",\n",
    ")"
   ]
  },
  {
   "cell_type": "code",
   "execution_count": 16,
   "metadata": {},
   "outputs": [
    {
     "data": {
      "text/plain": [
       "224.0"
      ]
     },
     "execution_count": 16,
     "metadata": {},
     "output_type": "execute_result"
    }
   ],
   "source": [
    "(store[\"color_image1\"].shape[0] - 224) / 10_000"
   ]
  },
  {
   "cell_type": "code",
   "execution_count": null,
   "metadata": {},
   "outputs": [],
   "source": []
  }
 ],
 "metadata": {
  "kernelspec": {
   "display_name": "rlgpu",
   "language": "python",
   "name": "python3"
  },
  "language_info": {
   "codemirror_mode": {
    "name": "ipython",
    "version": 3
   },
   "file_extension": ".py",
   "mimetype": "text/x-python",
   "name": "python",
   "nbconvert_exporter": "python",
   "pygments_lexer": "ipython3",
   "version": "3.8.18"
  }
 },
 "nbformat": 4,
 "nbformat_minor": 2
}
