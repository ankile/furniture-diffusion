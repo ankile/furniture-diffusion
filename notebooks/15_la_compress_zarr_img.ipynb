{
 "cells": [
  {
   "cell_type": "code",
   "execution_count": 10,
   "metadata": {},
   "outputs": [],
   "source": [
    "import numpy as np\n",
    "from tqdm import tqdm\n",
    "import wandb as wb\n",
    "import imageio\n",
    "from io import BytesIO\n",
    "import pickle\n",
    "import zarr\n",
    "\n",
    "from src.codecs.imagecodecs import Jpeg2k, register_codecs"
   ]
  },
  {
   "cell_type": "code",
   "execution_count": 11,
   "metadata": {},
   "outputs": [
    {
     "name": "stderr",
     "output_type": "stream",
     "text": [
      "numcodec 'imagecodecs_aec' already registered\n",
      "numcodec 'imagecodecs_apng' already registered\n",
      "numcodec 'imagecodecs_avif' already registered\n",
      "numcodec 'imagecodecs_bitorder' already registered\n",
      "numcodec 'imagecodecs_bitshuffle' already registered\n",
      "numcodec 'imagecodecs_blosc' already registered\n",
      "numcodec 'imagecodecs_blosc2' already registered\n",
      "numcodec 'imagecodecs_brotli' already registered\n",
      "numcodec 'imagecodecs_byteshuffle' already registered\n",
      "numcodec 'imagecodecs_bz2' already registered\n",
      "numcodec 'imagecodecs_cms' already registered\n",
      "numcodec 'imagecodecs_deflate' already registered\n",
      "numcodec 'imagecodecs_delta' already registered\n",
      "numcodec 'imagecodecs_float24' already registered\n",
      "numcodec 'imagecodecs_floatpred' already registered\n",
      "numcodec 'imagecodecs_gif' already registered\n",
      "numcodec 'imagecodecs_heif' already registered\n",
      "numcodec 'imagecodecs_jetraw' already registered\n",
      "numcodec 'imagecodecs_jpeg' already registered\n",
      "numcodec 'imagecodecs_jpeg2k' already registered\n",
      "numcodec 'imagecodecs_jpegls' already registered\n",
      "numcodec 'imagecodecs_jpegxl' already registered\n",
      "numcodec 'imagecodecs_jpegxr' already registered\n",
      "numcodec 'imagecodecs_lerc' already registered\n",
      "numcodec 'imagecodecs_ljpeg' already registered\n",
      "numcodec 'imagecodecs_lz4' already registered\n",
      "numcodec 'imagecodecs_lz4f' already registered\n",
      "numcodec 'imagecodecs_lzf' already registered\n",
      "numcodec 'imagecodecs_lzma' already registered\n",
      "numcodec 'imagecodecs_lzw' already registered\n",
      "numcodec 'imagecodecs_packbits' already registered\n",
      "numcodec 'imagecodecs_pglz' already registered\n",
      "numcodec 'imagecodecs_png' already registered\n",
      "numcodec 'imagecodecs_qoi' already registered\n",
      "numcodec 'imagecodecs_rcomp' already registered\n",
      "numcodec 'imagecodecs_snappy' already registered\n",
      "numcodec 'imagecodecs_spng' already registered\n",
      "numcodec 'imagecodecs_tiff' already registered\n",
      "numcodec 'imagecodecs_webp' already registered\n",
      "numcodec 'imagecodecs_xor' already registered\n",
      "numcodec 'imagecodecs_zfp' already registered\n",
      "numcodec 'imagecodecs_zlib' already registered\n",
      "numcodec 'imagecodecs_zlibng' already registered\n",
      "numcodec 'imagecodecs_zopfli' already registered\n",
      "numcodec 'imagecodecs_zstd' already registered\n"
     ]
    }
   ],
   "source": [
    "register_codecs()"
   ]
  },
  {
   "cell_type": "code",
   "execution_count": 12,
   "metadata": {},
   "outputs": [],
   "source": [
    "def create_gif_or_mp4(np_images, filename, fps=10):\n",
    "    # duration = 1000 / fps\n",
    "    with imageio.get_writer(filename, fps=fps) as writer:\n",
    "        for img in tqdm(np_images):\n",
    "            writer.append_data(img)\n",
    "    print(f\"File saved as {filename}\")"
   ]
  },
  {
   "cell_type": "code",
   "execution_count": 13,
   "metadata": {},
   "outputs": [],
   "source": [
    "old_zarr = zarr.open(\n",
    "    \"/data/scratch/ankile/furniture-data-old/data/processed/sim/image_small/one_leg/data.zarr\",\n",
    "    mode=\"r\",\n",
    ")"
   ]
  },
  {
   "cell_type": "code",
   "execution_count": 14,
   "metadata": {},
   "outputs": [
    {
     "data": {
      "text/plain": [
       "(224, 224, 3)"
      ]
     },
     "execution_count": 14,
     "metadata": {},
     "output_type": "execute_result"
    }
   ],
   "source": [
    "old_zarr[\"color_image1\"][0].shape"
   ]
  },
  {
   "cell_type": "code",
   "execution_count": 15,
   "metadata": {},
   "outputs": [
    {
     "name": "stderr",
     "output_type": "stream",
     "text": [
      "  2%|▏         | 8295/370234 [01:59<1:21:43, 73.82it/s]"
     ]
    }
   ],
   "source": [
    "output_store = zarr.open(\n",
    "    \"/data/scratch/ankile/furniture-data-old/data/processed/sim/image_small/one_leg/data_compressed.zarr\",\n",
    "    mode=\"w\",\n",
    ")\n",
    "image_compressor = Jpeg2k(level=50)\n",
    "\n",
    "_ = output_store.require_dataset(\n",
    "    name=\"color_image1\",\n",
    "    shape=old_zarr[\"color_image1\"].shape[1:],\n",
    "    chunks=(224, 224, 3),\n",
    "    compressor=image_compressor,\n",
    "    dtype=np.uint8,\n",
    ")\n",
    "\n",
    "for i in tqdm(range(len(old_zarr[\"color_image1\"]))):\n",
    "    output_store[\"color_image1\"].append(old_zarr[\"color_image1\"][i])"
   ]
  },
  {
   "cell_type": "code",
   "execution_count": null,
   "metadata": {},
   "outputs": [],
   "source": []
  }
 ],
 "metadata": {
  "kernelspec": {
   "display_name": "rlgpu",
   "language": "python",
   "name": "python3"
  },
  "language_info": {
   "codemirror_mode": {
    "name": "ipython",
    "version": 3
   },
   "file_extension": ".py",
   "mimetype": "text/x-python",
   "name": "python",
   "nbconvert_exporter": "python",
   "pygments_lexer": "ipython3",
   "version": "3.8.18"
  }
 },
 "nbformat": 4,
 "nbformat_minor": 2
}
