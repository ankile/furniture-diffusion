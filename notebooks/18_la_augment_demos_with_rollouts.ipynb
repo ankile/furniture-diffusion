{
 "cells": [
  {
   "cell_type": "code",
   "execution_count": 33,
   "metadata": {},
   "outputs": [
    {
     "name": "stderr",
     "output_type": "stream",
     "text": [
      "/data/scratch/ankile/miniconda3/envs/rlgpu/lib/python3.8/site-packages/tqdm/auto.py:21: TqdmWarning: IProgress not found. Please update jupyter and ipywidgets. See https://ipywidgets.readthedocs.io/en/stable/user_install.html\n",
      "  from .autonotebook import tqdm as notebook_tqdm\n"
     ]
    }
   ],
   "source": [
    "import pickle\n",
    "from glob import glob\n",
    "from pathlib import Path\n",
    "import os\n",
    "from tqdm import tqdm\n",
    "import pandas as pd\n",
    "import zarr\n",
    "\n",
    "from src.models.vision import get_encoder\n",
    "from src.data.process_demos import encode_demo"
   ]
  },
  {
   "cell_type": "code",
   "execution_count": 2,
   "metadata": {},
   "outputs": [],
   "source": [
    "base_dir = Path(os.environ[\"FURNITURE_DATA_DIR\"])\n",
    "\n",
    "rollout_dir = base_dir / \"raw\" / \"sim_rollouts\""
   ]
  },
  {
   "cell_type": "markdown",
   "metadata": {},
   "source": [
    "## Index the raw rollout data\n",
    "\n",
    "Now done in a standalone script `src.data.index_rollouts`"
   ]
  },
  {
   "cell_type": "code",
   "execution_count": 11,
   "metadata": {},
   "outputs": [],
   "source": [
    "paths = glob(str(rollout_dir / \"**/*.pkl\"), recursive=True)"
   ]
  },
  {
   "cell_type": "code",
   "execution_count": 12,
   "metadata": {},
   "outputs": [
    {
     "name": "stdout",
     "output_type": "stream",
     "text": [
      "Index file already exists, exiting\n"
     ]
    }
   ],
   "source": [
    "# Make a new index file in this directory specifying which rollouts were successful and for which task\n",
    "file_path = rollout_dir / \"index.csv\"\n",
    "\n",
    "# Check if the file already exists\n",
    "if file_path.exists():\n",
    "    print(\"Index file already exists, exiting\")\n",
    "else:\n",
    "    print(\"Creating index file\")\n",
    "    # Create the index file\n",
    "    with open(file_path, \"w\") as f:\n",
    "        f.write(\"path,furniture,success\\n\")"
   ]
  },
  {
   "cell_type": "code",
   "execution_count": 13,
   "metadata": {},
   "outputs": [
    {
     "data": {
      "text/plain": [
       "(272, 6728)"
      ]
     },
     "execution_count": 13,
     "metadata": {},
     "output_type": "execute_result"
    }
   ],
   "source": [
    "# Get a set of all the paths that are already in the index file\n",
    "read_idxs = set(pd.read_csv(file_path)[\"path\"])\n",
    "remaining_paths = [p for p in paths if p not in read_idxs]\n",
    "len(read_idxs), len(remaining_paths)"
   ]
  },
  {
   "cell_type": "code",
   "execution_count": 10,
   "metadata": {},
   "outputs": [
    {
     "name": "stderr",
     "output_type": "stream",
     "text": [
      "  4%|▍         | 272/7000 [13:00<5:21:37,  2.87s/it]\n"
     ]
    },
    {
     "ename": "KeyboardInterrupt",
     "evalue": "",
     "output_type": "error",
     "traceback": [
      "\u001b[0;31m---------------------------------------------------------------------------\u001b[0m",
      "\u001b[0;31mKeyboardInterrupt\u001b[0m                         Traceback (most recent call last)",
      "Cell \u001b[0;32mIn[10], line 4\u001b[0m\n\u001b[1;32m      2\u001b[0m \u001b[38;5;28;01mfor\u001b[39;00m path \u001b[38;5;129;01min\u001b[39;00m tqdm(remaining_paths):\n\u001b[1;32m      3\u001b[0m     \u001b[38;5;28;01mwith\u001b[39;00m \u001b[38;5;28mopen\u001b[39m(path, \u001b[38;5;124m\"\u001b[39m\u001b[38;5;124mrb\u001b[39m\u001b[38;5;124m\"\u001b[39m) \u001b[38;5;28;01mas\u001b[39;00m f:\n\u001b[0;32m----> 4\u001b[0m         rollout \u001b[38;5;241m=\u001b[39m \u001b[43mpickle\u001b[49m\u001b[38;5;241;43m.\u001b[39;49m\u001b[43mload\u001b[49m\u001b[43m(\u001b[49m\u001b[43mf\u001b[49m\u001b[43m)\u001b[49m\n\u001b[1;32m      6\u001b[0m     \u001b[38;5;66;03m# Check if the rollout was successful\u001b[39;00m\n\u001b[1;32m      7\u001b[0m     success \u001b[38;5;241m=\u001b[39m rollout[\u001b[38;5;124m\"\u001b[39m\u001b[38;5;124msuccess\u001b[39m\u001b[38;5;124m\"\u001b[39m]\n",
      "\u001b[0;31mKeyboardInterrupt\u001b[0m: "
     ]
    }
   ],
   "source": [
    "# Process all the rollouts not already in the index file\n",
    "for path in tqdm(remaining_paths):\n",
    "    with open(path, \"rb\") as f:\n",
    "        rollout = pickle.load(f)\n",
    "\n",
    "    # Check if the rollout was successful\n",
    "    success = rollout[\"success\"]\n",
    "\n",
    "    # Get the furniture name\n",
    "    furniture = rollout[\"furniture\"]\n",
    "\n",
    "    # Append the path to the index file\n",
    "    with open(file_path, \"a\") as f:\n",
    "        f.write(f\"{path},{furniture},{success}\\n\")"
   ]
  },
  {
   "cell_type": "markdown",
   "metadata": {},
   "source": [
    "## Augment an existing Zarr array with new data from the index"
   ]
  },
  {
   "cell_type": "code",
   "execution_count": 26,
   "metadata": {},
   "outputs": [],
   "source": [
    "base_dir = Path(\"/data/scratch/ankile/furniture-data/data\")"
   ]
  },
  {
   "cell_type": "code",
   "execution_count": 27,
   "metadata": {},
   "outputs": [],
   "source": [
    "zarr_path = (\n",
    "    base_dir\n",
    "    / \"processed\"\n",
    "    / \"sim\"\n",
    "    / \"feature_separate_small\"\n",
    "    / \"vip\"\n",
    "    / \"one_leg\"\n",
    "    / \"data_aug.zarr\"\n",
    ")\n",
    "\n",
    "store = zarr.open(str(zarr_path), mode=\"a\")"
   ]
  },
  {
   "cell_type": "code",
   "execution_count": 29,
   "metadata": {},
   "outputs": [],
   "source": [
    "if \"rollout_paths\" not in store:\n",
    "    store.create_dataset(\"rollout_paths\", shape=(0,), dtype=str)"
   ]
  },
  {
   "cell_type": "code",
   "execution_count": 36,
   "metadata": {},
   "outputs": [
    {
     "data": {
      "text/plain": [
       "62"
      ]
     },
     "execution_count": 36,
     "metadata": {},
     "output_type": "execute_result"
    }
   ],
   "source": [
    "# Read in the index file as a dataframe\n",
    "index = pd.read_csv(file_path)\n",
    "\n",
    "index = index[index[\"success\"] == True]\n",
    "\n",
    "# Get the paths to all the successful rollouts\n",
    "paths = index[\"path\"].values\n",
    "\n",
    "# Compare with the paths already in the zarr file\n",
    "zarr_paths = store[\"rollout_paths\"][:]\n",
    "paths = [p for p in paths if p not in zarr_paths]\n",
    "\n",
    "len(paths)"
   ]
  },
  {
   "cell_type": "code",
   "execution_count": 37,
   "metadata": {},
   "outputs": [
    {
     "name": "stderr",
     "output_type": "stream",
     "text": [
      "/data/scratch/ankile/miniconda3/envs/rlgpu/lib/python3.8/site-packages/torch/nn/_reduction.py:42: UserWarning: size_average and reduce args will be deprecated, please use reduction='none' instead.\n",
      "  warnings.warn(warning.format(ret))\n",
      "/data/scratch/ankile/miniconda3/envs/rlgpu/lib/python3.8/site-packages/torchvision/models/_utils.py:208: UserWarning: The parameter 'pretrained' is deprecated since 0.13 and may be removed in the future, please use 'weights' instead.\n",
      "  warnings.warn(\n",
      "/data/scratch/ankile/miniconda3/envs/rlgpu/lib/python3.8/site-packages/torchvision/models/_utils.py:223: UserWarning: Arguments other than a weight enum or `None` for 'weights' are deprecated since 0.13 and may be removed in the future. The current behavior is equivalent to passing `weights=None`.\n",
      "  warnings.warn(msg)\n"
     ]
    }
   ],
   "source": [
    "# Get an encoder\n",
    "encoder = get_encoder(\"vip\", freeze=True, device=\"cuda:0\")\n",
    "batch_size = 1024"
   ]
  },
  {
   "cell_type": "code",
   "execution_count": 39,
   "metadata": {},
   "outputs": [
    {
     "data": {
      "text/plain": [
       "(259179, 8)"
      ]
     },
     "execution_count": 39,
     "metadata": {},
     "output_type": "execute_result"
    }
   ],
   "source": [
    "# Check length of actions before\n",
    "store[\"action\"].shape"
   ]
  },
  {
   "cell_type": "code",
   "execution_count": 55,
   "metadata": {},
   "outputs": [],
   "source": [
    "store[\"episode_ends\"] = list(store[\"episode_ends\"]) + [1]"
   ]
  },
  {
   "cell_type": "code",
   "execution_count": null,
   "metadata": {},
   "outputs": [],
   "source": [
    "store[\"episode_ends\"]"
   ]
  },
  {
   "cell_type": "code",
   "execution_count": 53,
   "metadata": {},
   "outputs": [
    {
     "name": "stderr",
     "output_type": "stream",
     "text": [
      "  0%|          | 0/1 [00:00<?, ?it/s]"
     ]
    },
    {
     "name": "stdout",
     "output_type": "stream",
     "text": [
      "600\n",
      "(511,)\n"
     ]
    },
    {
     "name": "stderr",
     "output_type": "stream",
     "text": [
      "\n"
     ]
    },
    {
     "ename": "IndexError",
     "evalue": "tuple index out of range",
     "output_type": "error",
     "traceback": [
      "\u001b[0;31m---------------------------------------------------------------------------\u001b[0m",
      "\u001b[0;31mIndexError\u001b[0m                                Traceback (most recent call last)",
      "Cell \u001b[0;32mIn[53], line 17\u001b[0m\n\u001b[1;32m     15\u001b[0m \u001b[38;5;28mprint\u001b[39m(end_index \u001b[38;5;241m+\u001b[39m \u001b[38;5;28mlen\u001b[39m(data[\u001b[38;5;124m\"\u001b[39m\u001b[38;5;124mactions\u001b[39m\u001b[38;5;124m\"\u001b[39m]))\n\u001b[1;32m     16\u001b[0m \u001b[38;5;28mprint\u001b[39m(store[\u001b[38;5;124m\"\u001b[39m\u001b[38;5;124mepisode_ends\u001b[39m\u001b[38;5;124m\"\u001b[39m]\u001b[38;5;241m.\u001b[39mshape)\n\u001b[0;32m---> 17\u001b[0m \u001b[38;5;28mprint\u001b[39m(\u001b[43mstore\u001b[49m\u001b[43m[\u001b[49m\u001b[38;5;124;43m\"\u001b[39;49m\u001b[38;5;124;43mepisode_ends\u001b[39;49m\u001b[38;5;124;43m\"\u001b[39;49m\u001b[43m]\u001b[49m\u001b[38;5;241;43m.\u001b[39;49m\u001b[43mappend\u001b[49m\u001b[43m(\u001b[49m\u001b[43mend_index\u001b[49m\u001b[43m \u001b[49m\u001b[38;5;241;43m+\u001b[39;49m\u001b[43m \u001b[49m\u001b[38;5;28;43mlen\u001b[39;49m\u001b[43m(\u001b[49m\u001b[43mdata\u001b[49m\u001b[43m[\u001b[49m\u001b[38;5;124;43m\"\u001b[39;49m\u001b[38;5;124;43mactions\u001b[39;49m\u001b[38;5;124;43m\"\u001b[39;49m\u001b[43m]\u001b[49m\u001b[43m)\u001b[49m\u001b[43m)\u001b[49m)\n\u001b[1;32m     20\u001b[0m \u001b[38;5;28;01mbreak\u001b[39;00m\n\u001b[1;32m     21\u001b[0m store[\u001b[38;5;124m\"\u001b[39m\u001b[38;5;124mepisode_ends\u001b[39m\u001b[38;5;124m\"\u001b[39m]\u001b[38;5;241m.\u001b[39mappend(end_index \u001b[38;5;241m:=\u001b[39m end_index \u001b[38;5;241m+\u001b[39m \u001b[38;5;28mlen\u001b[39m(data[\u001b[38;5;124m\"\u001b[39m\u001b[38;5;124mactions\u001b[39m\u001b[38;5;124m\"\u001b[39m]))\n",
      "File \u001b[0;32m/data/scratch/ankile/miniconda3/envs/rlgpu/lib/python3.8/site-packages/zarr/core.py:2755\u001b[0m, in \u001b[0;36mArray.append\u001b[0;34m(self, data, axis)\u001b[0m\n\u001b[1;32m   2720\u001b[0m \u001b[38;5;28;01mdef\u001b[39;00m \u001b[38;5;21mappend\u001b[39m(\u001b[38;5;28mself\u001b[39m, data, axis\u001b[38;5;241m=\u001b[39m\u001b[38;5;241m0\u001b[39m):\n\u001b[1;32m   2721\u001b[0m \u001b[38;5;250m    \u001b[39m\u001b[38;5;124;03m\"\"\"Append `data` to `axis`.\u001b[39;00m\n\u001b[1;32m   2722\u001b[0m \n\u001b[1;32m   2723\u001b[0m \u001b[38;5;124;03m    Parameters\u001b[39;00m\n\u001b[0;32m   (...)\u001b[0m\n\u001b[1;32m   2753\u001b[0m \n\u001b[1;32m   2754\u001b[0m \u001b[38;5;124;03m    \"\"\"\u001b[39;00m\n\u001b[0;32m-> 2755\u001b[0m     \u001b[38;5;28;01mreturn\u001b[39;00m \u001b[38;5;28;43mself\u001b[39;49m\u001b[38;5;241;43m.\u001b[39;49m\u001b[43m_write_op\u001b[49m\u001b[43m(\u001b[49m\u001b[38;5;28;43mself\u001b[39;49m\u001b[38;5;241;43m.\u001b[39;49m\u001b[43m_append_nosync\u001b[49m\u001b[43m,\u001b[49m\u001b[43m \u001b[49m\u001b[43mdata\u001b[49m\u001b[43m,\u001b[49m\u001b[43m \u001b[49m\u001b[43maxis\u001b[49m\u001b[38;5;241;43m=\u001b[39;49m\u001b[43maxis\u001b[49m\u001b[43m)\u001b[49m\n",
      "File \u001b[0;32m/data/scratch/ankile/miniconda3/envs/rlgpu/lib/python3.8/site-packages/zarr/core.py:2644\u001b[0m, in \u001b[0;36mArray._write_op\u001b[0;34m(self, f, *args, **kwargs)\u001b[0m\n\u001b[1;32m   2641\u001b[0m \u001b[38;5;28;01mif\u001b[39;00m \u001b[38;5;28mself\u001b[39m\u001b[38;5;241m.\u001b[39m_read_only:\n\u001b[1;32m   2642\u001b[0m     \u001b[38;5;28;01mraise\u001b[39;00m ReadOnlyError()\n\u001b[0;32m-> 2644\u001b[0m \u001b[38;5;28;01mreturn\u001b[39;00m \u001b[38;5;28;43mself\u001b[39;49m\u001b[38;5;241;43m.\u001b[39;49m\u001b[43m_synchronized_op\u001b[49m\u001b[43m(\u001b[49m\u001b[43mf\u001b[49m\u001b[43m,\u001b[49m\u001b[43m \u001b[49m\u001b[38;5;241;43m*\u001b[39;49m\u001b[43margs\u001b[49m\u001b[43m,\u001b[49m\u001b[43m \u001b[49m\u001b[38;5;241;43m*\u001b[39;49m\u001b[38;5;241;43m*\u001b[39;49m\u001b[43mkwargs\u001b[49m\u001b[43m)\u001b[49m\n",
      "File \u001b[0;32m/data/scratch/ankile/miniconda3/envs/rlgpu/lib/python3.8/site-packages/zarr/core.py:2634\u001b[0m, in \u001b[0;36mArray._synchronized_op\u001b[0;34m(self, f, *args, **kwargs)\u001b[0m\n\u001b[1;32m   2632\u001b[0m \u001b[38;5;28;01mwith\u001b[39;00m lock:\n\u001b[1;32m   2633\u001b[0m     \u001b[38;5;28mself\u001b[39m\u001b[38;5;241m.\u001b[39m_refresh_metadata_nosync()\n\u001b[0;32m-> 2634\u001b[0m     result \u001b[38;5;241m=\u001b[39m \u001b[43mf\u001b[49m\u001b[43m(\u001b[49m\u001b[38;5;241;43m*\u001b[39;49m\u001b[43margs\u001b[49m\u001b[43m,\u001b[49m\u001b[43m \u001b[49m\u001b[38;5;241;43m*\u001b[39;49m\u001b[38;5;241;43m*\u001b[39;49m\u001b[43mkwargs\u001b[49m\u001b[43m)\u001b[49m\n\u001b[1;32m   2636\u001b[0m \u001b[38;5;28;01mreturn\u001b[39;00m result\n",
      "File \u001b[0;32m/data/scratch/ankile/miniconda3/envs/rlgpu/lib/python3.8/site-packages/zarr/core.py:2777\u001b[0m, in \u001b[0;36mArray._append_nosync\u001b[0;34m(self, data, axis)\u001b[0m\n\u001b[1;32m   2774\u001b[0m old_shape \u001b[38;5;241m=\u001b[39m \u001b[38;5;28mself\u001b[39m\u001b[38;5;241m.\u001b[39m_shape\n\u001b[1;32m   2776\u001b[0m \u001b[38;5;66;03m# determine new shape\u001b[39;00m\n\u001b[0;32m-> 2777\u001b[0m new_shape \u001b[38;5;241m=\u001b[39m \u001b[38;5;28;43mtuple\u001b[39;49m\u001b[43m(\u001b[49m\n\u001b[1;32m   2778\u001b[0m \u001b[43m    \u001b[49m\u001b[38;5;28;43mself\u001b[39;49m\u001b[38;5;241;43m.\u001b[39;49m\u001b[43m_shape\u001b[49m\u001b[43m[\u001b[49m\u001b[43mi\u001b[49m\u001b[43m]\u001b[49m\u001b[43m \u001b[49m\u001b[38;5;28;43;01mif\u001b[39;49;00m\u001b[43m \u001b[49m\u001b[43mi\u001b[49m\u001b[43m \u001b[49m\u001b[38;5;241;43m!=\u001b[39;49m\u001b[43m \u001b[49m\u001b[43maxis\u001b[49m\u001b[43m \u001b[49m\u001b[38;5;28;43;01melse\u001b[39;49;00m\u001b[43m \u001b[49m\u001b[38;5;28;43mself\u001b[39;49m\u001b[38;5;241;43m.\u001b[39;49m\u001b[43m_shape\u001b[49m\u001b[43m[\u001b[49m\u001b[43mi\u001b[49m\u001b[43m]\u001b[49m\u001b[43m \u001b[49m\u001b[38;5;241;43m+\u001b[39;49m\u001b[43m \u001b[49m\u001b[43mdata\u001b[49m\u001b[38;5;241;43m.\u001b[39;49m\u001b[43mshape\u001b[49m\u001b[43m[\u001b[49m\u001b[43mi\u001b[49m\u001b[43m]\u001b[49m\n\u001b[1;32m   2779\u001b[0m \u001b[43m    \u001b[49m\u001b[38;5;28;43;01mfor\u001b[39;49;00m\u001b[43m \u001b[49m\u001b[43mi\u001b[49m\u001b[43m \u001b[49m\u001b[38;5;129;43;01min\u001b[39;49;00m\u001b[43m \u001b[49m\u001b[38;5;28;43mrange\u001b[39;49m\u001b[43m(\u001b[49m\u001b[38;5;28;43mlen\u001b[39;49m\u001b[43m(\u001b[49m\u001b[38;5;28;43mself\u001b[39;49m\u001b[38;5;241;43m.\u001b[39;49m\u001b[43m_shape\u001b[49m\u001b[43m)\u001b[49m\u001b[43m)\u001b[49m\n\u001b[1;32m   2780\u001b[0m \u001b[43m\u001b[49m\u001b[43m)\u001b[49m\n\u001b[1;32m   2782\u001b[0m \u001b[38;5;66;03m# resize\u001b[39;00m\n\u001b[1;32m   2783\u001b[0m \u001b[38;5;28mself\u001b[39m\u001b[38;5;241m.\u001b[39m_resize_nosync(new_shape)\n",
      "File \u001b[0;32m/data/scratch/ankile/miniconda3/envs/rlgpu/lib/python3.8/site-packages/zarr/core.py:2778\u001b[0m, in \u001b[0;36m<genexpr>\u001b[0;34m(.0)\u001b[0m\n\u001b[1;32m   2774\u001b[0m old_shape \u001b[38;5;241m=\u001b[39m \u001b[38;5;28mself\u001b[39m\u001b[38;5;241m.\u001b[39m_shape\n\u001b[1;32m   2776\u001b[0m \u001b[38;5;66;03m# determine new shape\u001b[39;00m\n\u001b[1;32m   2777\u001b[0m new_shape \u001b[38;5;241m=\u001b[39m \u001b[38;5;28mtuple\u001b[39m(\n\u001b[0;32m-> 2778\u001b[0m     \u001b[38;5;28mself\u001b[39m\u001b[38;5;241m.\u001b[39m_shape[i] \u001b[38;5;28;01mif\u001b[39;00m i \u001b[38;5;241m!=\u001b[39m axis \u001b[38;5;28;01melse\u001b[39;00m \u001b[38;5;28mself\u001b[39m\u001b[38;5;241m.\u001b[39m_shape[i] \u001b[38;5;241m+\u001b[39m \u001b[43mdata\u001b[49m\u001b[38;5;241;43m.\u001b[39;49m\u001b[43mshape\u001b[49m\u001b[43m[\u001b[49m\u001b[43mi\u001b[49m\u001b[43m]\u001b[49m\n\u001b[1;32m   2779\u001b[0m     \u001b[38;5;28;01mfor\u001b[39;00m i \u001b[38;5;129;01min\u001b[39;00m \u001b[38;5;28mrange\u001b[39m(\u001b[38;5;28mlen\u001b[39m(\u001b[38;5;28mself\u001b[39m\u001b[38;5;241m.\u001b[39m_shape))\n\u001b[1;32m   2780\u001b[0m )\n\u001b[1;32m   2782\u001b[0m \u001b[38;5;66;03m# resize\u001b[39;00m\n\u001b[1;32m   2783\u001b[0m \u001b[38;5;28mself\u001b[39m\u001b[38;5;241m.\u001b[39m_resize_nosync(new_shape)\n",
      "\u001b[0;31mIndexError\u001b[0m: tuple index out of range"
     ]
    }
   ],
   "source": [
    "# Iterate over the paths and add them to the zarr file\n",
    "end_index = 0\n",
    "\n",
    "for path in tqdm(paths[:1]):\n",
    "    with open(path, \"rb\") as f:\n",
    "        data = pickle.load(f)\n",
    "\n",
    "    # Cut off the last observation because it is not used\n",
    "    # data[\"observations\"] = data[\"observations\"][:-1]\n",
    "    assert len(data[\"actions\"]) == len(data[\"observations\"]), f\"Mismatch in {path}\"\n",
    "\n",
    "    # store[\"action\"].append(data[\"actions\"])\n",
    "    # store[\"rewards\"].append(data[\"rewards\"])\n",
    "    # store[\"skills\"].append(data[\"skills\"])\n",
    "    store[\"episode_ends\"].append(end_index + len(data[\"actions\"]))\n",
    "\n",
    "    break\n",
    "    store[\"episode_ends\"].append(end_index := end_index + len(data[\"actions\"]))\n",
    "    store[\"furniture\"].append(data[\"furniture\"])\n",
    "\n",
    "    obs = data[\"observations\"]\n",
    "    demo_robot_states, demo_features1, demo_features2 = encode_demo(\n",
    "        encoder, batch_size, obs\n",
    "    )\n",
    "    store[\"robot_state\"].append(demo_robot_states)\n",
    "    store[\"features1\"].append(demo_features1)\n",
    "    store[\"features2\"].append(demo_features2)\n",
    "    store[\"rollout_paths\"].append(path)"
   ]
  },
  {
   "cell_type": "code",
   "execution_count": null,
   "metadata": {},
   "outputs": [],
   "source": [
    "# Check length of actions after\n",
    "store[\"action\"].shape"
   ]
  },
  {
   "cell_type": "code",
   "execution_count": null,
   "metadata": {},
   "outputs": [],
   "source": []
  }
 ],
 "metadata": {
  "kernelspec": {
   "display_name": "rlgpu",
   "language": "python",
   "name": "python3"
  },
  "language_info": {
   "codemirror_mode": {
    "name": "ipython",
    "version": 3
   },
   "file_extension": ".py",
   "mimetype": "text/x-python",
   "name": "python",
   "nbconvert_exporter": "python",
   "pygments_lexer": "ipython3",
   "version": "3.8.18"
  }
 },
 "nbformat": 4,
 "nbformat_minor": 2
}
