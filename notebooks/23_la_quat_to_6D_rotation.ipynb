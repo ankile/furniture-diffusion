{
 "cells": [
  {
   "cell_type": "code",
   "execution_count": 1,
   "metadata": {},
   "outputs": [],
   "source": [
    "import pytorch3d.transforms as pt\n",
    "import zarr\n",
    "import numpy as np\n",
    "import torch"
   ]
  },
  {
   "cell_type": "code",
   "execution_count": 2,
   "metadata": {},
   "outputs": [],
   "source": [
    "def numpy_quaternion_to_6d(quaternions_np):\n",
    "    # Convert the numpy array of quaternions to a PyTorch tensor\n",
    "    quaternions = torch.from_numpy(quaternions_np).float()\n",
    "\n",
    "    # Move the real part from the back to the front\n",
    "    quaternions = torch.cat([quaternions[:, -1:], quaternions[:, :-1]], dim=1)\n",
    "\n",
    "    # Convert each quaternion to a rotation matrix\n",
    "    rot_mats = pt.quaternion_to_matrix(quaternions)\n",
    "\n",
    "    # Extract the first two columns of each rotation matrix\n",
    "    six_d_representations = pt.matrix_to_rotation_6d(rot_mats)\n",
    "\n",
    "    # Convert the results back to a numpy array\n",
    "    return six_d_representations.numpy()"
   ]
  },
  {
   "cell_type": "code",
   "execution_count": 3,
   "metadata": {},
   "outputs": [],
   "source": [
    "dataset = zarr.open(\n",
    "    \"/data/scratch/ankile/furniture-data/processed/sim/feature/vip/combined.zarr\",\n",
    "    mode=\"a\",\n",
    ")"
   ]
  },
  {
   "cell_type": "code",
   "execution_count": 4,
   "metadata": {},
   "outputs": [
    {
     "data": {
      "text/plain": [
       "(1128470, 4)"
      ]
     },
     "execution_count": 4,
     "metadata": {},
     "output_type": "execute_result"
    }
   ],
   "source": [
    "rot_quat = dataset[\"action\"][:, 3:7]\n",
    "\n",
    "rot_quat.shape"
   ]
  },
  {
   "cell_type": "code",
   "execution_count": 5,
   "metadata": {},
   "outputs": [
    {
     "data": {
      "text/plain": [
       "(1128470, 6)"
      ]
     },
     "execution_count": 5,
     "metadata": {},
     "output_type": "execute_result"
    }
   ],
   "source": [
    "rot_6d = numpy_quaternion_to_6d(rot_quat)\n",
    "\n",
    "rot_6d.shape"
   ]
  },
  {
   "cell_type": "code",
   "execution_count": 6,
   "metadata": {},
   "outputs": [
    {
     "data": {
      "text/plain": [
       "(1128470, 10)"
      ]
     },
     "execution_count": 6,
     "metadata": {},
     "output_type": "execute_result"
    }
   ],
   "source": [
    "action_6d = np.concatenate(\n",
    "    [dataset[\"action\"][:, :3], rot_6d, dataset[\"action\"][:, 7:]], axis=1\n",
    ")\n",
    "\n",
    "action_6d.shape"
   ]
  },
  {
   "cell_type": "code",
   "execution_count": 7,
   "metadata": {},
   "outputs": [],
   "source": [
    "dataset[\"action_6d\"] = action_6d"
   ]
  },
  {
   "cell_type": "code",
   "execution_count": 8,
   "metadata": {},
   "outputs": [],
   "source": [
    "# Get the stats and store them\n",
    "from src.dataset.normalizer import get_data_stats"
   ]
  },
  {
   "cell_type": "code",
   "execution_count": 10,
   "metadata": {},
   "outputs": [
    {
     "data": {
      "text/plain": [
       "{'min': array([-0.11999829, -0.11999908, -0.08132574, -0.35798502, -0.99999934,\n",
       "        -0.70630395, -0.99999964, -0.28959465, -0.89785737, -1.        ],\n",
       "       dtype=float32),\n",
       " 'max': array([0.11999787, 0.11999953, 0.07999872, 1.        , 0.9999992 ,\n",
       "        0.9999981 , 0.9999772 , 1.        , 0.49280044, 1.        ],\n",
       "       dtype=float32)}"
      ]
     },
     "execution_count": 10,
     "metadata": {},
     "output_type": "execute_result"
    }
   ],
   "source": [
    "stats = get_data_stats(action_6d)\n",
    "\n",
    "stats"
   ]
  },
  {
   "cell_type": "code",
   "execution_count": 9,
   "metadata": {},
   "outputs": [
    {
     "data": {
      "text/plain": [
       "{'min': array([-0.11999926, -0.1199997 , -0.08132574, -0.99995553, -0.9999999 ,\n",
       "        -0.9951642 , -0.99999964, -0.99929166, -0.89785737, -1.        ],\n",
       "       dtype=float32),\n",
       " 'max': array([0.11999996, 0.11999957, 0.09052899, 1.        , 0.9999998 ,\n",
       "        0.9999981 , 0.99999875, 1.        , 0.59187496, 1.        ],\n",
       "       dtype=float32)}"
      ]
     },
     "execution_count": 9,
     "metadata": {},
     "output_type": "execute_result"
    }
   ],
   "source": [
    "stats = get_data_stats(action_6d)\n",
    "\n",
    "stats"
   ]
  },
  {
   "cell_type": "code",
   "execution_count": null,
   "metadata": {},
   "outputs": [],
   "source": []
  }
 ],
 "metadata": {
  "kernelspec": {
   "display_name": "rlgpu",
   "language": "python",
   "name": "python3"
  },
  "language_info": {
   "codemirror_mode": {
    "name": "ipython",
    "version": 3
   },
   "file_extension": ".py",
   "mimetype": "text/x-python",
   "name": "python",
   "nbconvert_exporter": "python",
   "pygments_lexer": "ipython3",
   "version": "3.8.18"
  }
 },
 "nbformat": 4,
 "nbformat_minor": 2
}
